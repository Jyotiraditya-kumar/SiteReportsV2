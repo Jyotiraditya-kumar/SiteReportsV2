{
 "cells": [
  {
   "cell_type": "code",
   "execution_count": 35,
   "id": "8a000a37bf30d9d3",
   "metadata": {
    "collapsed": false,
    "ExecuteTime": {
     "end_time": "2024-02-02T10:09:33.353735507Z",
     "start_time": "2024-02-02T10:09:32.332295744Z"
    }
   },
   "outputs": [],
   "source": [
    "import json\n",
    "import requests\n",
    "import pandas as pd\n",
    "import awswrangler as wr\n",
    "import utils as U\n",
    "\n",
    "\n",
    "class Dashboard:\n",
    "    def __init__(self, report_id, id):\n",
    "        self.report_id = report_id\n",
    "        self.id = id\n",
    "        self.project_info = U.get_project_info(self.report_id, self.id).to_dict(orient='records')[0]\n",
    "        self.data = None\n",
    "        self.data_dict = {}\n",
    "\n",
    "    def update_cft(self):\n",
    "        cft = self.data['data']['cft']['avg_cft']\n",
    "        self.data_dict['avg_cost_for_two'] = cft\n",
    "\n",
    "    def update_affluence(self):\n",
    "        cft = self.data['data']['affluence']['affluence_index']\n",
    "        self.data_dict['affluence'] = cft\n",
    "\n",
    "    def update_location_score_weights_and_grouped_indexes(self):\n",
    "        weights = json.dumps({\n",
    " 'affluence_index': 0.19,\n",
    " 'apartments_index': 0.19,\n",
    "  'fashion_index': 0.19,\n",
    " 'vibrancy': 0.14,\n",
    " 'healthcare_index': 0.10,\n",
    " 'company_index': 0.10,\n",
    " 'malls_index': 0.05,\n",
    " 'supermarket_index': 0.04,\n",
    " })\n",
    "        self.data_dict['location_score_weights'] = weights\n",
    "        indexes = json.dumps({'company_index': 3.89,\n",
    "                              'connectivity_index': 4.62,\n",
    "                              'education_index': 4.58,\n",
    "                              'electronics_index': 4.78,\n",
    "                              'entertainment_index': 5.0,\n",
    "                              'fashion_index': 4.98,\n",
    "                              'grocery_index': 4.98,\n",
    "                              'healthcare_index': 4.82,\n",
    "                              'home_decor_index': 4.56,\n",
    "                              'leisure_index': 2.75,\n",
    "                              'malls_index': 0.0,\n",
    "                              'parks_index': 0.86,\n",
    "                              'religious_index': 4.5,\n",
    "                              'supermarket_index': 3.58,\n",
    "                              'vibrancy': 4.01})\n",
    "        self.data_dict['grouped_indexes'] = indexes\n",
    "\n",
    "    def generate_report_data(self):\n",
    "        eps = [\"cft\", \"population\", \"companies\", \"demand_generator\", \"projects\", \"affluence\", \"income\", \"competition\",\n",
    "               \"category_count\", \"property_price\", \"high_street\",'shopping_mall' ]\n",
    "        all_data = {\"data\": {}}\n",
    "        for ep in eps:\n",
    "            url = f\"http://127.0.0.1:8000/site_report/{self.report_id}/{self.id}/{ep}\"\n",
    "            req = requests.get(url)\n",
    "            try:\n",
    "                resp = req.json()\n",
    "            except Exception as e:\n",
    "                print(url, e)\n",
    "                raise e\n",
    "            data = resp['data']\n",
    "            all_data['data'][ep] = data\n",
    "        self.data = all_data\n",
    "\n",
    "    def populate_single_cells(self):\n",
    "        with open(\"dashboard_copy.json\") as f:\n",
    "            data = json.load(f)\n",
    "        for i in data:\n",
    "            try:\n",
    "                i['values'] = [[self.get_dictionary_value(self.data, i['values'][0][0])]]\n",
    "            except Exception as e:\n",
    "                print(e, i['values'][0][0])\n",
    "        # self.report_worksheet.batch_update(data)\n",
    "\n",
    "    def insert_pois_ranked(self):\n",
    "        a = pd.DataFrame(self.data['data']['category_count']['data'])['top_pois']\n",
    "        from functools import reduce\n",
    "        df = pd.DataFrame(reduce(lambda a, b: a + b, a.values.tolist())).sort_values(by='reviews_per_day',\n",
    "                                                                                     ascending=False)\n",
    "        df_ = df.to_dict(orient='records')[:]\n",
    "        pois = df_\n",
    "        df = df[df['brand_id'] != 'N_A'].to_dict(orient='records')[:]\n",
    "        df = json.dumps(df)\n",
    "        self.data_dict['top_brands'] = df\n",
    "        return pois\n",
    "\n",
    "    def update_category_count(self):\n",
    "        buff = self.data['data']['category_count']\n",
    "        self.data_dict['pois'] = json.dumps(buff)\n",
    "\n",
    "    def update_high_streets(self):\n",
    "        high_streets = self.data['data']['high_street']\n",
    "        high_streets = json.dumps(high_streets)\n",
    "        self.data_dict['high_streets'] = high_streets\n",
    "\n",
    "    def update_competition(self):\n",
    "        comp = self.data['data']['competition']\n",
    "        comp = json.dumps(comp)\n",
    "        self.data_dict['competition'] = comp\n",
    "\n",
    "    def update_malls(self):\n",
    "        comp = self.data['data']['shopping_mall']\n",
    "        comp = json.dumps(comp)\n",
    "        self.data_dict['shopping_malls'] = comp\n",
    "    \n",
    "\n",
    "    def update_household_distribution(self):\n",
    "        comp = self.data['data']['income']\n",
    "        comp = json.dumps(comp)\n",
    "        self.data_dict['household_distribution'] = comp\n",
    "\n",
    "    def update_property_price(self):\n",
    "        # comp = self.data['data']['property_price']['price']\n",
    "        # comp = json.dumps(comp)\n",
    "        # self.data_dict['property_prices'] = comp\n",
    "        comp = self.data['data']['property_price']\n",
    "        comp[0]['top_pois'] = comp[0]['top_pois'][:]\n",
    "        comp = json.dumps(comp)\n",
    "        self.data_dict['apartments'] = comp\n",
    "\n",
    "    def update_projects(self):\n",
    "        p = self.data['data']['projects']\n",
    "        p['projects'] = p['projects'][:]\n",
    "        self.data_dict['projects'] = json.dumps(p)\n",
    "\n",
    "    def update_companies(self):\n",
    "        companies = self.data['data']['companies']\n",
    "        demand_generators = self.data['data']['demand_generator']\n",
    "        demand_generators['companies'] = companies\n",
    "        self.data_dict['demand_generators'] = json.dumps(demand_generators)\n",
    "\n",
    "    def get_revenue_score(self):\n",
    "        self.data_dict['revenue_score'] = 81.95\n",
    "\n",
    "    def population_chart(self):\n",
    "        pop = self.data['data']['population']\n",
    "        pop = json.dumps(pop)\n",
    "        self.data_dict['population'] = pop\n",
    "\n",
    "    @staticmethod\n",
    "    def get_dictionary_value(d, keys):\n",
    "        keys = keys.split(\".\")\n",
    "        for i in keys:\n",
    "            d = d.get(i)\n",
    "        return d\n",
    "\n",
    "    def generate_report(self):\n",
    "        self.generate_report_data()\n",
    "        # self.populate_single_cells()\n",
    "        self.update_cft()\n",
    "        # self.update_location_score_weights_and_grouped_indexes()\n",
    "        self.update_affluence()\n",
    "        self.insert_pois_ranked()\n",
    "        self.update_household_distribution()\n",
    "        self.update_property_price()\n",
    "        self.update_projects()\n",
    "        self.update_malls()\n",
    "        self.population_chart()\n",
    "        self.update_competition()\n",
    "        self.update_category_count()\n",
    "        self.update_high_streets()\n",
    "        # self.get_revenue_score()\n",
    "        self.update_companies()\n"
   ]
  },
  {
   "cell_type": "code",
   "outputs": [],
   "source": [
    "import utils as U\n",
    "import importlib\n",
    "\n",
    "importlib.reload(U)\n",
    "all_reports = U.get_project_info()"
   ],
   "metadata": {
    "collapsed": false,
    "ExecuteTime": {
     "end_time": "2024-02-02T10:09:36.280784935Z",
     "start_time": "2024-02-02T10:09:36.138635181Z"
    }
   },
   "id": "f2f5aa4ce5bbe2a1",
   "execution_count": 36
  },
  {
   "cell_type": "code",
   "outputs": [
    {
     "data": {
      "text/plain": "                               report_id             id  \\\n0   1f78f3ac-d799-470b-9738-2c4da5053cee  130110_775547   \n1   2f78f3ac-d799-470b-9738-2c4da5053cee  130110_775547   \n2   374c8386-5837-43b8-8409-c456849263e7  130009_776325   \n3   2ef72172-e65c-47df-9f06-2a98c9f1fa94  130009_776325   \n4   5fca8372-db67-4e32-9c34-17818bca7c19  130552_777638   \n5   ed374c4c-6dc3-473b-867e-ff707e347939  130552_777638   \n12  178abc17-71da-457e-a908-e5af283279ec  130631_776205   \n13  40b37f44-ff12-481a-b962-7b7b203026e2  130631_776205   \n15  3feae1e7-1e67-4392-a58a-3e0c80285aba  128873_775969   \n16  281cbce7-56d6-4faa-bf18-6ca15a6cc89e  128873_775969   \n\n                                            site_name        lat        lng  \\\n0   Orion Mall - Dr. Rajkumar Road, Rajaji Nagar I...  13.011027  77.554736   \n1   Orion Mall - Dr. Rajkumar Road, Rajaji Nagar I...  13.011027  77.554736   \n2   Orion Avenue - Second Cross N. Thyagaraju Layo...  13.000957  77.632571   \n3   Orion Avenue - Second Cross N. Thyagaraju Layo...  13.000957  77.632571   \n4   Orion Uptown - Old Madras Road, Kattanallur,Sa...  13.055260  77.763894   \n5   Orion Uptown - Old Madras Road, Kattanallur,Sa...  13.055260  77.763894   \n12           Cultfit - Rachenahalli Main Road,Jakkuru  13.063170  77.620569   \n13           Cultfit - Rachenahalli Main Road,Jakkuru  13.063170  77.620569   \n15  Cultfit - Bannerghatta Road, Araka Mico Layout...  12.887373  77.596901   \n16  Cultfit - Bannerghatta Road, Araka Mico Layout...  12.887373  77.596901   \n\n                                             geometry  \\\n0   POLYGON ((77.494736 13.050067, 77.493202 13.05...   \n1   POLYGON ((77.55064773796063 13.010557348159388...   \n2   POLYGON ((77.62847982126846 13.000488913937247...   \n3   POLYGON ((77.644571 13.032047, 77.643571 13.03...   \n4   POLYGON ((77.773894 13.116797, 77.772949 13.11...   \n5   POLYGON ((77.75979674534983 13.05479248128713,...   \n12  POLYGON ((77.606569 13.115077, 77.606492 13.11...   \n13  POLYGON ((77.61647704294562 13.062699625388513...   \n15  POLYGON ((77.600901 12.933643, 77.600373 12.93...   \n16  POLYGON ((77.59281280856402 12.8869084692348, ...   \n\n                                             location catchment_type  \\\n0   Dr. Rajkumar Road, Rajaji Nagar Industrial Sub...        i15mind   \n1   Dr. Rajkumar Road, Rajaji Nagar Industrial Sub...        i500mtb   \n2   Second Cross N. Thyagaraju Layout, Sathya Naga...        i500mtb   \n3   Second Cross N. Thyagaraju Layout, Sathya Naga...        i15mind   \n4      Old Madras Road, Kattanallur,Sannatammanahalli        i15mind   \n5      Old Madras Road, Kattanallur,Sannatammanahalli        i500mtb   \n12                     Rachenahalli Main Road,Jakkuru        i15mind   \n13                     Rachenahalli Main Road,Jakkuru        i500mtb   \n15       Bannerghatta Road, Araka Mico Layout,Arekere        i15mind   \n16       Bannerghatta Road, Araka Mico Layout,Arekere        i500mtb   \n\n                                           top_brands  \\\n0   [{\"id\": \"ChIJe9qj3xs9rjsRDN6CamLC-Co\", \"name\":...   \n1   [{\"id\": \"ChIJe9qj3xs9rjsRDN6CamLC-Co\", \"name\":...   \n2   [{\"id\": \"ChIJAfIetiRpUjoRKDXrDBoNP-0\", \"name\":...   \n3   [{\"id\": \"18767303\", \"name\": \"Imperio Restauran...   \n4   [{\"id\": \"ChIJdUCMjRcPrjsRjZ7tgReBR3M\", \"name\":...   \n5   [{\"id\": \"ChIJu_szAwoPrjsROOxOyHed4WU\", \"name\":...   \n12  [{\"id\": \"18767303\", \"name\": \"Imperio Restauran...   \n13  [{\"id\": \"ChIJmTNfVukZrjsRVpVEffWMvng\", \"name\":...   \n15  [{\"id\": \"54521\", \"name\": \"Swadista Aahar\", \"la...   \n16  [{\"id\": \"ChIJbbebFSkVrjsRVtf4gVLhicw\", \"name\":...   \n\n                                                 pois  ... avg_cost_for_two  \\\n0   {\"count\": 1083, \"avg_number_of_reviews_per_day...  ...       460.911885   \n1   {\"count\": 131, \"avg_number_of_reviews_per_day\"...  ...       838.805970   \n2   {\"count\": 24, \"avg_number_of_reviews_per_day\":...  ...       500.000000   \n3   {\"count\": 674, \"avg_number_of_reviews_per_day\"...  ...       498.559078   \n4   {\"count\": 85, \"avg_number_of_reviews_per_day\":...  ...       535.593220   \n5   {\"count\": 15, \"avg_number_of_reviews_per_day\":...  ...       862.500000   \n12  {\"count\": 577, \"avg_number_of_reviews_per_day\"...  ...       500.103520   \n13  {\"count\": 1, \"avg_number_of_reviews_per_day\": ...  ...         0.000000   \n15  {\"count\": 931, \"avg_number_of_reviews_per_day\"...  ...       451.675127   \n16  {\"count\": 30, \"avg_number_of_reviews_per_day\":...  ...       509.090909   \n\n   revenue_score                                       high_streets  \\\n0      87.916832  [{\"cluster_name\": \"1st Main Club Road Near Foo...   \n1      87.916832  [{\"cluster_name\": \"Dr. Rajkumar Road, Rajaji N...   \n2      82.472917                                                 []   \n3      82.472917  [{\"cluster_name\": \"8th Main 3rd Phase Peenya I...   \n4      40.173626                                                 []   \n5      40.173626                                                 []   \n12     78.047525  [{\"cluster_name\": \"3rd A Main, HRBR Layout,Kal...   \n13     78.047525                                                 []   \n15     88.793684  [{\"cluster_name\": \"4th Cross Road, Phase 7,J P...   \n16     88.793684  [{\"cluster_name\": \"Arekere Mico Layout Main Ro...   \n\n                                       shopping_malls poi_counts  \\\n0   {\"count\": 8, \"pois\": [{\"id\": \"ChIJoRKfACMWrjsR...       None   \n1   {\"count\": 1, \"pois\": [{\"id\": \"ChIJCUMusVM9rjsR...       None   \n2                            {\"count\": 0, \"pois\": []}       None   \n3                            {\"count\": 0, \"pois\": []}       None   \n4   {\"count\": 2, \"pois\": [{\"id\": \"ChIJfU4i1c0PrjsR...       None   \n5                            {\"count\": 0, \"pois\": []}       None   \n12  {\"count\": 6, \"pois\": [{\"id\": \"ChIJxTyv4WgXrjsR...       None   \n13                           {\"count\": 0, \"pois\": []}       None   \n15  {\"count\": 8, \"pois\": [{\"id\": \"ChIJCYgAwiwVrjsR...       None   \n16  {\"count\": 2, \"pois\": [{\"id\": \"ChIJO781iPwVrjsR...       None   \n\n   projects_counts  created_at  \\\n0             None  1706512914   \n1             None  1706512950   \n2             None  1706684037   \n3             None  1706684064   \n4             None  1706691413   \n5             None  1706691490   \n12            None  1706792829   \n13            None  1706792829   \n15            None  1706793074   \n16            None  1706793075   \n\n                               location_score_weights  \\\n0   {\"affluence_index\": 0.19, \"apartments_index\": ...   \n1   {\"affluence_index\": 0.19, \"apartments_index\": ...   \n2   {\"affluence_index\": 0.19, \"apartments_index\": ...   \n3   {\"affluence_index\": 0.19, \"apartments_index\": ...   \n4   {\"affluence_index\": 0.19, \"apartments_index\": ...   \n5   {\"affluence_index\": 0.19, \"apartments_index\": ...   \n12  {\"affluence_index\": 0.19, \"apartments_index\": ...   \n13  {\"affluence_index\": 0.19, \"apartments_index\": ...   \n15  {\"affluence_index\": 0.19, \"apartments_index\": ...   \n16  {\"affluence_index\": 0.19, \"apartments_index\": ...   \n\n                                      grouped_indexes  \\\n0   {\"company_index\": 4.26, \"connectivity_index\": ...   \n1   {\"company_index\": 4.26, \"connectivity_index\": ...   \n2   {\"company_index\": 4.01, \"connectivity_index\": ...   \n3   {\"company_index\": 4.01, \"connectivity_index\": ...   \n4   {\"company_index\": 2.15, \"connectivity_index\": ...   \n5   {\"company_index\": 2.15, \"connectivity_index\": ...   \n12  {\"company_index\": 3.26, \"connectivity_index\": ...   \n13  {\"company_index\": 3.26, \"connectivity_index\": ...   \n15  {\"company_index\": 4.03, \"connectivity_index\": ...   \n16  {\"company_index\": 4.03, \"connectivity_index\": ...   \n\n                                    demand_generators  \n0   {\"clinic\": 2093, \"college\": 413, \"hospital\": 6...  \n1   {\"clinic\": 25, \"college\": 7, \"hospital\": 57, \"...  \n2   {\"clinic\": 27, \"hospital\": 5, \"pharmacy\": 8, \"...  \n3   {\"clinic\": 1313, \"college\": 135, \"hospital\": 3...  \n4   {\"clinic\": 187, \"college\": 67, \"hospital\": 89,...  \n5   {\"clinic\": 5, \"hospital\": 3, \"pharmacy\": 1, \"s...  \n12  {\"clinic\": 878, \"college\": 282, \"hospital\": 32...  \n13  {\"clinic\": 5, \"college\": 2, \"hospital\": 2, \"ph...  \n15  {\"clinic\": 1830, \"college\": 293, \"hospital\": 4...  \n16  {\"clinic\": 29, \"college\": 9, \"hospital\": 5, \"p...  \n\n[10 rows x 27 columns]",
      "text/html": "<div>\n<style scoped>\n    .dataframe tbody tr th:only-of-type {\n        vertical-align: middle;\n    }\n\n    .dataframe tbody tr th {\n        vertical-align: top;\n    }\n\n    .dataframe thead th {\n        text-align: right;\n    }\n</style>\n<table border=\"1\" class=\"dataframe\">\n  <thead>\n    <tr style=\"text-align: right;\">\n      <th></th>\n      <th>report_id</th>\n      <th>id</th>\n      <th>site_name</th>\n      <th>lat</th>\n      <th>lng</th>\n      <th>geometry</th>\n      <th>location</th>\n      <th>catchment_type</th>\n      <th>top_brands</th>\n      <th>pois</th>\n      <th>...</th>\n      <th>avg_cost_for_two</th>\n      <th>revenue_score</th>\n      <th>high_streets</th>\n      <th>shopping_malls</th>\n      <th>poi_counts</th>\n      <th>projects_counts</th>\n      <th>created_at</th>\n      <th>location_score_weights</th>\n      <th>grouped_indexes</th>\n      <th>demand_generators</th>\n    </tr>\n  </thead>\n  <tbody>\n    <tr>\n      <th>0</th>\n      <td>1f78f3ac-d799-470b-9738-2c4da5053cee</td>\n      <td>130110_775547</td>\n      <td>Orion Mall - Dr. Rajkumar Road, Rajaji Nagar I...</td>\n      <td>13.011027</td>\n      <td>77.554736</td>\n      <td>POLYGON ((77.494736 13.050067, 77.493202 13.05...</td>\n      <td>Dr. Rajkumar Road, Rajaji Nagar Industrial Sub...</td>\n      <td>i15mind</td>\n      <td>[{\"id\": \"ChIJe9qj3xs9rjsRDN6CamLC-Co\", \"name\":...</td>\n      <td>{\"count\": 1083, \"avg_number_of_reviews_per_day...</td>\n      <td>...</td>\n      <td>460.911885</td>\n      <td>87.916832</td>\n      <td>[{\"cluster_name\": \"1st Main Club Road Near Foo...</td>\n      <td>{\"count\": 8, \"pois\": [{\"id\": \"ChIJoRKfACMWrjsR...</td>\n      <td>None</td>\n      <td>None</td>\n      <td>1706512914</td>\n      <td>{\"affluence_index\": 0.19, \"apartments_index\": ...</td>\n      <td>{\"company_index\": 4.26, \"connectivity_index\": ...</td>\n      <td>{\"clinic\": 2093, \"college\": 413, \"hospital\": 6...</td>\n    </tr>\n    <tr>\n      <th>1</th>\n      <td>2f78f3ac-d799-470b-9738-2c4da5053cee</td>\n      <td>130110_775547</td>\n      <td>Orion Mall - Dr. Rajkumar Road, Rajaji Nagar I...</td>\n      <td>13.011027</td>\n      <td>77.554736</td>\n      <td>POLYGON ((77.55064773796063 13.010557348159388...</td>\n      <td>Dr. Rajkumar Road, Rajaji Nagar Industrial Sub...</td>\n      <td>i500mtb</td>\n      <td>[{\"id\": \"ChIJe9qj3xs9rjsRDN6CamLC-Co\", \"name\":...</td>\n      <td>{\"count\": 131, \"avg_number_of_reviews_per_day\"...</td>\n      <td>...</td>\n      <td>838.805970</td>\n      <td>87.916832</td>\n      <td>[{\"cluster_name\": \"Dr. Rajkumar Road, Rajaji N...</td>\n      <td>{\"count\": 1, \"pois\": [{\"id\": \"ChIJCUMusVM9rjsR...</td>\n      <td>None</td>\n      <td>None</td>\n      <td>1706512950</td>\n      <td>{\"affluence_index\": 0.19, \"apartments_index\": ...</td>\n      <td>{\"company_index\": 4.26, \"connectivity_index\": ...</td>\n      <td>{\"clinic\": 25, \"college\": 7, \"hospital\": 57, \"...</td>\n    </tr>\n    <tr>\n      <th>2</th>\n      <td>374c8386-5837-43b8-8409-c456849263e7</td>\n      <td>130009_776325</td>\n      <td>Orion Avenue - Second Cross N. Thyagaraju Layo...</td>\n      <td>13.000957</td>\n      <td>77.632571</td>\n      <td>POLYGON ((77.62847982126846 13.000488913937247...</td>\n      <td>Second Cross N. Thyagaraju Layout, Sathya Naga...</td>\n      <td>i500mtb</td>\n      <td>[{\"id\": \"ChIJAfIetiRpUjoRKDXrDBoNP-0\", \"name\":...</td>\n      <td>{\"count\": 24, \"avg_number_of_reviews_per_day\":...</td>\n      <td>...</td>\n      <td>500.000000</td>\n      <td>82.472917</td>\n      <td>[]</td>\n      <td>{\"count\": 0, \"pois\": []}</td>\n      <td>None</td>\n      <td>None</td>\n      <td>1706684037</td>\n      <td>{\"affluence_index\": 0.19, \"apartments_index\": ...</td>\n      <td>{\"company_index\": 4.01, \"connectivity_index\": ...</td>\n      <td>{\"clinic\": 27, \"hospital\": 5, \"pharmacy\": 8, \"...</td>\n    </tr>\n    <tr>\n      <th>3</th>\n      <td>2ef72172-e65c-47df-9f06-2a98c9f1fa94</td>\n      <td>130009_776325</td>\n      <td>Orion Avenue - Second Cross N. Thyagaraju Layo...</td>\n      <td>13.000957</td>\n      <td>77.632571</td>\n      <td>POLYGON ((77.644571 13.032047, 77.643571 13.03...</td>\n      <td>Second Cross N. Thyagaraju Layout, Sathya Naga...</td>\n      <td>i15mind</td>\n      <td>[{\"id\": \"18767303\", \"name\": \"Imperio Restauran...</td>\n      <td>{\"count\": 674, \"avg_number_of_reviews_per_day\"...</td>\n      <td>...</td>\n      <td>498.559078</td>\n      <td>82.472917</td>\n      <td>[{\"cluster_name\": \"8th Main 3rd Phase Peenya I...</td>\n      <td>{\"count\": 0, \"pois\": []}</td>\n      <td>None</td>\n      <td>None</td>\n      <td>1706684064</td>\n      <td>{\"affluence_index\": 0.19, \"apartments_index\": ...</td>\n      <td>{\"company_index\": 4.01, \"connectivity_index\": ...</td>\n      <td>{\"clinic\": 1313, \"college\": 135, \"hospital\": 3...</td>\n    </tr>\n    <tr>\n      <th>4</th>\n      <td>5fca8372-db67-4e32-9c34-17818bca7c19</td>\n      <td>130552_777638</td>\n      <td>Orion Uptown - Old Madras Road, Kattanallur,Sa...</td>\n      <td>13.055260</td>\n      <td>77.763894</td>\n      <td>POLYGON ((77.773894 13.116797, 77.772949 13.11...</td>\n      <td>Old Madras Road, Kattanallur,Sannatammanahalli</td>\n      <td>i15mind</td>\n      <td>[{\"id\": \"ChIJdUCMjRcPrjsRjZ7tgReBR3M\", \"name\":...</td>\n      <td>{\"count\": 85, \"avg_number_of_reviews_per_day\":...</td>\n      <td>...</td>\n      <td>535.593220</td>\n      <td>40.173626</td>\n      <td>[]</td>\n      <td>{\"count\": 2, \"pois\": [{\"id\": \"ChIJfU4i1c0PrjsR...</td>\n      <td>None</td>\n      <td>None</td>\n      <td>1706691413</td>\n      <td>{\"affluence_index\": 0.19, \"apartments_index\": ...</td>\n      <td>{\"company_index\": 2.15, \"connectivity_index\": ...</td>\n      <td>{\"clinic\": 187, \"college\": 67, \"hospital\": 89,...</td>\n    </tr>\n    <tr>\n      <th>5</th>\n      <td>ed374c4c-6dc3-473b-867e-ff707e347939</td>\n      <td>130552_777638</td>\n      <td>Orion Uptown - Old Madras Road, Kattanallur,Sa...</td>\n      <td>13.055260</td>\n      <td>77.763894</td>\n      <td>POLYGON ((77.75979674534983 13.05479248128713,...</td>\n      <td>Old Madras Road, Kattanallur,Sannatammanahalli</td>\n      <td>i500mtb</td>\n      <td>[{\"id\": \"ChIJu_szAwoPrjsROOxOyHed4WU\", \"name\":...</td>\n      <td>{\"count\": 15, \"avg_number_of_reviews_per_day\":...</td>\n      <td>...</td>\n      <td>862.500000</td>\n      <td>40.173626</td>\n      <td>[]</td>\n      <td>{\"count\": 0, \"pois\": []}</td>\n      <td>None</td>\n      <td>None</td>\n      <td>1706691490</td>\n      <td>{\"affluence_index\": 0.19, \"apartments_index\": ...</td>\n      <td>{\"company_index\": 2.15, \"connectivity_index\": ...</td>\n      <td>{\"clinic\": 5, \"hospital\": 3, \"pharmacy\": 1, \"s...</td>\n    </tr>\n    <tr>\n      <th>12</th>\n      <td>178abc17-71da-457e-a908-e5af283279ec</td>\n      <td>130631_776205</td>\n      <td>Cultfit - Rachenahalli Main Road,Jakkuru</td>\n      <td>13.063170</td>\n      <td>77.620569</td>\n      <td>POLYGON ((77.606569 13.115077, 77.606492 13.11...</td>\n      <td>Rachenahalli Main Road,Jakkuru</td>\n      <td>i15mind</td>\n      <td>[{\"id\": \"18767303\", \"name\": \"Imperio Restauran...</td>\n      <td>{\"count\": 577, \"avg_number_of_reviews_per_day\"...</td>\n      <td>...</td>\n      <td>500.103520</td>\n      <td>78.047525</td>\n      <td>[{\"cluster_name\": \"3rd A Main, HRBR Layout,Kal...</td>\n      <td>{\"count\": 6, \"pois\": [{\"id\": \"ChIJxTyv4WgXrjsR...</td>\n      <td>None</td>\n      <td>None</td>\n      <td>1706792829</td>\n      <td>{\"affluence_index\": 0.19, \"apartments_index\": ...</td>\n      <td>{\"company_index\": 3.26, \"connectivity_index\": ...</td>\n      <td>{\"clinic\": 878, \"college\": 282, \"hospital\": 32...</td>\n    </tr>\n    <tr>\n      <th>13</th>\n      <td>40b37f44-ff12-481a-b962-7b7b203026e2</td>\n      <td>130631_776205</td>\n      <td>Cultfit - Rachenahalli Main Road,Jakkuru</td>\n      <td>13.063170</td>\n      <td>77.620569</td>\n      <td>POLYGON ((77.61647704294562 13.062699625388513...</td>\n      <td>Rachenahalli Main Road,Jakkuru</td>\n      <td>i500mtb</td>\n      <td>[{\"id\": \"ChIJmTNfVukZrjsRVpVEffWMvng\", \"name\":...</td>\n      <td>{\"count\": 1, \"avg_number_of_reviews_per_day\": ...</td>\n      <td>...</td>\n      <td>0.000000</td>\n      <td>78.047525</td>\n      <td>[]</td>\n      <td>{\"count\": 0, \"pois\": []}</td>\n      <td>None</td>\n      <td>None</td>\n      <td>1706792829</td>\n      <td>{\"affluence_index\": 0.19, \"apartments_index\": ...</td>\n      <td>{\"company_index\": 3.26, \"connectivity_index\": ...</td>\n      <td>{\"clinic\": 5, \"college\": 2, \"hospital\": 2, \"ph...</td>\n    </tr>\n    <tr>\n      <th>15</th>\n      <td>3feae1e7-1e67-4392-a58a-3e0c80285aba</td>\n      <td>128873_775969</td>\n      <td>Cultfit - Bannerghatta Road, Araka Mico Layout...</td>\n      <td>12.887373</td>\n      <td>77.596901</td>\n      <td>POLYGON ((77.600901 12.933643, 77.600373 12.93...</td>\n      <td>Bannerghatta Road, Araka Mico Layout,Arekere</td>\n      <td>i15mind</td>\n      <td>[{\"id\": \"54521\", \"name\": \"Swadista Aahar\", \"la...</td>\n      <td>{\"count\": 931, \"avg_number_of_reviews_per_day\"...</td>\n      <td>...</td>\n      <td>451.675127</td>\n      <td>88.793684</td>\n      <td>[{\"cluster_name\": \"4th Cross Road, Phase 7,J P...</td>\n      <td>{\"count\": 8, \"pois\": [{\"id\": \"ChIJCYgAwiwVrjsR...</td>\n      <td>None</td>\n      <td>None</td>\n      <td>1706793074</td>\n      <td>{\"affluence_index\": 0.19, \"apartments_index\": ...</td>\n      <td>{\"company_index\": 4.03, \"connectivity_index\": ...</td>\n      <td>{\"clinic\": 1830, \"college\": 293, \"hospital\": 4...</td>\n    </tr>\n    <tr>\n      <th>16</th>\n      <td>281cbce7-56d6-4faa-bf18-6ca15a6cc89e</td>\n      <td>128873_775969</td>\n      <td>Cultfit - Bannerghatta Road, Araka Mico Layout...</td>\n      <td>12.887373</td>\n      <td>77.596901</td>\n      <td>POLYGON ((77.59281280856402 12.8869084692348, ...</td>\n      <td>Bannerghatta Road, Araka Mico Layout,Arekere</td>\n      <td>i500mtb</td>\n      <td>[{\"id\": \"ChIJbbebFSkVrjsRVtf4gVLhicw\", \"name\":...</td>\n      <td>{\"count\": 30, \"avg_number_of_reviews_per_day\":...</td>\n      <td>...</td>\n      <td>509.090909</td>\n      <td>88.793684</td>\n      <td>[{\"cluster_name\": \"Arekere Mico Layout Main Ro...</td>\n      <td>{\"count\": 2, \"pois\": [{\"id\": \"ChIJO781iPwVrjsR...</td>\n      <td>None</td>\n      <td>None</td>\n      <td>1706793075</td>\n      <td>{\"affluence_index\": 0.19, \"apartments_index\": ...</td>\n      <td>{\"company_index\": 4.03, \"connectivity_index\": ...</td>\n      <td>{\"clinic\": 29, \"college\": 9, \"hospital\": 5, \"p...</td>\n    </tr>\n  </tbody>\n</table>\n<p>10 rows × 27 columns</p>\n</div>"
     },
     "execution_count": 37,
     "metadata": {},
     "output_type": "execute_result"
    }
   ],
   "source": [
    "all_reports=all_reports.query('catchment_type!=\"i1000mtb\" and id not in (\"129065_775925\",\"130636_775869\")')#.tail(4)\n",
    "all_reports"
   ],
   "metadata": {
    "collapsed": false,
    "ExecuteTime": {
     "end_time": "2024-02-02T10:09:38.306462772Z",
     "start_time": "2024-02-02T10:09:38.260001340Z"
    }
   },
   "id": "98162caf469e8e81",
   "execution_count": 37
  },
  {
   "cell_type": "code",
   "outputs": [],
   "source": [
    "\n",
    "    "
   ],
   "metadata": {
    "collapsed": false
   },
   "id": "4fd22806c21c1b91"
  },
  {
   "cell_type": "code",
   "outputs": [],
   "source": [
    "query = '''UPDATE ind_site_reports_v2\n",
    "SET\n",
    "    top_brands = :top_brands,\n",
    "    pois = :pois,\n",
    "    projects = :projects,\n",
    "    apartments = :apartments,\n",
    "    household_distribution = :household_distribution,\n",
    "    competition = :competition,\n",
    "    population = :population,\n",
    "    affluence = :affluence,\n",
    "    avg_cost_for_two = :avg_cost_for_two,\n",
    "    high_streets = :high_streets,\n",
    "    shopping_malls = :shopping_malls,\n",
    "    demand_generators = :demand_generators\n",
    "WHERE report_id = :report_id and id=:id;\n",
    "'''"
   ],
   "metadata": {
    "collapsed": false,
    "ExecuteTime": {
     "end_time": "2024-02-02T10:09:56.434816704Z",
     "start_time": "2024-02-02T10:09:56.303561017Z"
    }
   },
   "id": "ed0aa989011d5889",
   "execution_count": 38
  },
  {
   "cell_type": "code",
   "outputs": [],
   "source": [
    "if __name__ == '__main__':\n",
    "    con, cur = U.connect_to_db()\n",
    "\n",
    "    for proj in all_reports.to_dict(orient='records')[:]:\n",
    "        rep = Dashboard(report_id=proj['report_id'], id=proj['id'])\n",
    "        rep.generate_report()\n",
    "        query_params = rep.data_dict\n",
    "        query_params['report_id'] = proj['report_id']\n",
    "        query_params['id'] = proj['id']\n",
    "        cur.execute(query, query_params)\n",
    "        con.commit()\n",
    "    cur.close()\n",
    "    con.close()\n"
   ],
   "metadata": {
    "collapsed": true,
    "ExecuteTime": {
     "end_time": "2024-02-02T10:12:27.509403117Z",
     "start_time": "2024-02-02T10:09:59.680575529Z"
    }
   },
   "id": "initial_id",
   "execution_count": 39
  },
  {
   "cell_type": "code",
   "outputs": [],
   "source": [
    "df = U.get_all_reports()"
   ],
   "metadata": {
    "collapsed": false,
    "ExecuteTime": {
     "end_time": "2024-02-02T10:15:30.991957056Z",
     "start_time": "2024-02-02T10:15:29.971144771Z"
    }
   },
   "id": "dca2a84aba8abc60",
   "execution_count": 40
  },
  {
   "cell_type": "code",
   "outputs": [],
   "source": [
    "df=df.query('catchment_type!=\"i1000mtb\" and id not in (\"129065_775925\",\"130636_775869\")')"
   ],
   "metadata": {
    "collapsed": false,
    "ExecuteTime": {
     "end_time": "2024-02-02T10:15:32.466200758Z",
     "start_time": "2024-02-02T10:15:32.448381244Z"
    }
   },
   "id": "e6781e00b94794e0",
   "execution_count": 41
  },
  {
   "cell_type": "code",
   "outputs": [
    {
     "data": {
      "text/plain": "                               report_id             id  \\\n0   1f78f3ac-d799-470b-9738-2c4da5053cee  130110_775547   \n1   2f78f3ac-d799-470b-9738-2c4da5053cee  130110_775547   \n2   374c8386-5837-43b8-8409-c456849263e7  130009_776325   \n3   2ef72172-e65c-47df-9f06-2a98c9f1fa94  130009_776325   \n4   5fca8372-db67-4e32-9c34-17818bca7c19  130552_777638   \n5   ed374c4c-6dc3-473b-867e-ff707e347939  130552_777638   \n12  178abc17-71da-457e-a908-e5af283279ec  130631_776205   \n13  40b37f44-ff12-481a-b962-7b7b203026e2  130631_776205   \n15  3feae1e7-1e67-4392-a58a-3e0c80285aba  128873_775969   \n16  281cbce7-56d6-4faa-bf18-6ca15a6cc89e  128873_775969   \n\n                                            site_name        lat        lng  \\\n0   Orion Mall - Dr. Rajkumar Road, Rajaji Nagar I...  13.011027  77.554736   \n1   Orion Mall - Dr. Rajkumar Road, Rajaji Nagar I...  13.011027  77.554736   \n2   Orion Avenue - Second Cross N. Thyagaraju Layo...  13.000957  77.632571   \n3   Orion Avenue - Second Cross N. Thyagaraju Layo...  13.000957  77.632571   \n4   Orion Uptown - Old Madras Road, Kattanallur,Sa...  13.055260  77.763894   \n5   Orion Uptown - Old Madras Road, Kattanallur,Sa...  13.055260  77.763894   \n12           Cultfit - Rachenahalli Main Road,Jakkuru  13.063170  77.620569   \n13           Cultfit - Rachenahalli Main Road,Jakkuru  13.063170  77.620569   \n15  Cultfit - Bannerghatta Road, Araka Mico Layout...  12.887373  77.596901   \n16  Cultfit - Bannerghatta Road, Araka Mico Layout...  12.887373  77.596901   \n\n                                             geometry  \\\n0   POLYGON ((77.494736 13.050067, 77.493202 13.05...   \n1   POLYGON ((77.55064773796063 13.010557348159388...   \n2   POLYGON ((77.62847982126846 13.000488913937247...   \n3   POLYGON ((77.644571 13.032047, 77.643571 13.03...   \n4   POLYGON ((77.773894 13.116797, 77.772949 13.11...   \n5   POLYGON ((77.75979674534983 13.05479248128713,...   \n12  POLYGON ((77.606569 13.115077, 77.606492 13.11...   \n13  POLYGON ((77.61647704294562 13.062699625388513...   \n15  POLYGON ((77.600901 12.933643, 77.600373 12.93...   \n16  POLYGON ((77.59281280856402 12.8869084692348, ...   \n\n                                             location catchment_type  \\\n0   Dr. Rajkumar Road, Rajaji Nagar Industrial Sub...        i15mind   \n1   Dr. Rajkumar Road, Rajaji Nagar Industrial Sub...        i500mtb   \n2   Second Cross N. Thyagaraju Layout, Sathya Naga...        i500mtb   \n3   Second Cross N. Thyagaraju Layout, Sathya Naga...        i15mind   \n4      Old Madras Road, Kattanallur,Sannatammanahalli        i15mind   \n5      Old Madras Road, Kattanallur,Sannatammanahalli        i500mtb   \n12                     Rachenahalli Main Road,Jakkuru        i15mind   \n13                     Rachenahalli Main Road,Jakkuru        i500mtb   \n15       Bannerghatta Road, Araka Mico Layout,Arekere        i15mind   \n16       Bannerghatta Road, Araka Mico Layout,Arekere        i500mtb   \n\n                                           top_brands  \\\n0   [{\"id\": \"ChIJe9qj3xs9rjsRDN6CamLC-Co\", \"name\":...   \n1   [{\"id\": \"ChIJe9qj3xs9rjsRDN6CamLC-Co\", \"name\":...   \n2   [{\"id\": \"ChIJAfIetiRpUjoRKDXrDBoNP-0\", \"name\":...   \n3   [{\"id\": \"18767303\", \"name\": \"Imperio Restauran...   \n4   [{\"id\": \"ChIJdUCMjRcPrjsRjZ7tgReBR3M\", \"name\":...   \n5   [{\"id\": \"ChIJu_szAwoPrjsROOxOyHed4WU\", \"name\":...   \n12  [{\"id\": \"18767303\", \"name\": \"Imperio Restauran...   \n13  [{\"id\": \"ChIJmTNfVukZrjsRVpVEffWMvng\", \"name\":...   \n15  [{\"id\": \"ChIJr4Akq1gVrjsRcHPlpNJSyQU\", \"name\":...   \n16  [{\"id\": \"ChIJh93CWv0VrjsRXlkiHnbqMuY\", \"name\":...   \n\n                                                 pois  ...  \\\n0   {\"count\": 1229, \"avg_number_of_reviews_per_day...  ...   \n1   {\"count\": 136, \"avg_number_of_reviews_per_day\"...  ...   \n2   {\"count\": 29, \"avg_number_of_reviews_per_day\":...  ...   \n3   {\"count\": 761, \"avg_number_of_reviews_per_day\"...  ...   \n4   {\"count\": 98, \"avg_number_of_reviews_per_day\":...  ...   \n5   {\"count\": 20, \"avg_number_of_reviews_per_day\":...  ...   \n12  {\"count\": 577, \"avg_number_of_reviews_per_day\"...  ...   \n13  {\"count\": 1, \"avg_number_of_reviews_per_day\": ...  ...   \n15  {\"count\": 931, \"avg_number_of_reviews_per_day\"...  ...   \n16  {\"count\": 30, \"avg_number_of_reviews_per_day\":...  ...   \n\n                                           population affluence  \\\n0   {\"age_0_19\": 278764.7038758153, \"age_20_34\": 2...  3.675222   \n1   {\"age_0_19\": 4275.960897406801, \"age_20_34\": 4...  4.127932   \n2   {\"age_0_19\": 4633.231310760981, \"age_20_34\": 4...  3.616629   \n3   {\"age_0_19\": 164433.15741358572, \"age_20_34\": ...  3.506014   \n4   {\"age_0_19\": 37307.81912734546, \"age_20_34\": 3...  3.134148   \n5   {\"age_0_19\": 2850.8699982573035, \"age_20_34\": ...  3.205579   \n12  {\"age_0_19\": 141602.16307128005, \"age_20_34\": ...  3.433270   \n13  {\"age_0_19\": 2192.2593981751565, \"age_20_34\": ...  3.592190   \n15  {\"age_0_19\": 205496.0256217947, \"age_20_34\": 2...  3.399921   \n16  {\"age_0_19\": 4107.463355525934, \"age_20_34\": 4...  3.240855   \n\n   avg_cost_for_two revenue_score  \\\n0        460.911885     87.916832   \n1        838.805970     87.916832   \n2        500.000000     82.472917   \n3        498.559078     82.472917   \n4        535.593220     40.173626   \n5        862.500000     40.173626   \n12       500.103520     78.047525   \n13         0.000000     78.047525   \n15       451.675127     88.793684   \n16       509.090909     88.793684   \n\n                                         high_streets  \\\n0   [{\"cluster_name\": \"1st Main Club Road Near Foo...   \n1   [{\"cluster_name\": \"Dr. Rajkumar Road, Rajaji N...   \n2                                                  []   \n3   [{\"cluster_name\": \"8th Main 3rd Phase Peenya I...   \n4                                                  []   \n5                                                  []   \n12  [{\"cluster_name\": \"3rd A Main, HRBR Layout,Kal...   \n13                                                 []   \n15  [{\"cluster_name\": \"4th Cross Road, Phase 7,J P...   \n16  [{\"cluster_name\": \"Arekere Mico Layout Main Ro...   \n\n                                       shopping_malls  created_at  \\\n0   {\"count\": 8, \"pois\": [{\"id\": \"ChIJoRKfACMWrjsR...  1706512914   \n1   {\"count\": 1, \"pois\": [{\"id\": \"ChIJCUMusVM9rjsR...  1706512950   \n2                            {\"count\": 0, \"pois\": []}  1706684037   \n3                            {\"count\": 0, \"pois\": []}  1706684064   \n4   {\"count\": 2, \"pois\": [{\"id\": \"ChIJfU4i1c0PrjsR...  1706691413   \n5                            {\"count\": 0, \"pois\": []}  1706691490   \n12  {\"count\": 6, \"pois\": [{\"id\": \"ChIJxTyv4WgXrjsR...  1706792829   \n13                           {\"count\": 0, \"pois\": []}  1706792829   \n15  {\"count\": 8, \"pois\": [{\"id\": \"ChIJCYgAwiwVrjsR...  1706793074   \n16  {\"count\": 2, \"pois\": [{\"id\": \"ChIJO781iPwVrjsR...  1706793075   \n\n                               location_score_weights  \\\n0   {\"affluence_index\": 0.19, \"apartments_index\": ...   \n1   {\"affluence_index\": 0.19, \"apartments_index\": ...   \n2   {\"affluence_index\": 0.19, \"apartments_index\": ...   \n3   {\"affluence_index\": 0.19, \"apartments_index\": ...   \n4   {\"affluence_index\": 0.19, \"apartments_index\": ...   \n5   {\"affluence_index\": 0.19, \"apartments_index\": ...   \n12  {\"affluence_index\": 0.19, \"apartments_index\": ...   \n13  {\"affluence_index\": 0.19, \"apartments_index\": ...   \n15  {\"affluence_index\": 0.19, \"apartments_index\": ...   \n16  {\"affluence_index\": 0.19, \"apartments_index\": ...   \n\n                                      grouped_indexes  \\\n0   {\"company_index\": 4.26, \"connectivity_index\": ...   \n1   {\"company_index\": 4.26, \"connectivity_index\": ...   \n2   {\"company_index\": 4.01, \"connectivity_index\": ...   \n3   {\"company_index\": 4.01, \"connectivity_index\": ...   \n4   {\"company_index\": 2.15, \"connectivity_index\": ...   \n5   {\"company_index\": 2.15, \"connectivity_index\": ...   \n12  {\"company_index\": 3.26, \"connectivity_index\": ...   \n13  {\"company_index\": 3.26, \"connectivity_index\": ...   \n15  {\"company_index\": 4.03, \"connectivity_index\": ...   \n16  {\"company_index\": 4.03, \"connectivity_index\": ...   \n\n                                    demand_generators  \n0   {\"clinic\": 2093, \"college\": 413, \"hospital\": 6...  \n1   {\"clinic\": 25, \"college\": 7, \"hospital\": 57, \"...  \n2   {\"clinic\": 27, \"hospital\": 5, \"pharmacy\": 8, \"...  \n3   {\"clinic\": 1313, \"college\": 135, \"hospital\": 3...  \n4   {\"clinic\": 187, \"college\": 67, \"hospital\": 89,...  \n5   {\"clinic\": 5, \"hospital\": 3, \"pharmacy\": 1, \"s...  \n12  {\"clinic\": 878, \"college\": 282, \"hospital\": 32...  \n13  {\"clinic\": 5, \"college\": 2, \"hospital\": 2, \"ph...  \n15  {\"clinic\": 1830, \"college\": 293, \"hospital\": 4...  \n16  {\"clinic\": 29, \"college\": 9, \"hospital\": 5, \"p...  \n\n[10 rows x 24 columns]",
      "text/html": "<div>\n<style scoped>\n    .dataframe tbody tr th:only-of-type {\n        vertical-align: middle;\n    }\n\n    .dataframe tbody tr th {\n        vertical-align: top;\n    }\n\n    .dataframe thead th {\n        text-align: right;\n    }\n</style>\n<table border=\"1\" class=\"dataframe\">\n  <thead>\n    <tr style=\"text-align: right;\">\n      <th></th>\n      <th>report_id</th>\n      <th>id</th>\n      <th>site_name</th>\n      <th>lat</th>\n      <th>lng</th>\n      <th>geometry</th>\n      <th>location</th>\n      <th>catchment_type</th>\n      <th>top_brands</th>\n      <th>pois</th>\n      <th>...</th>\n      <th>population</th>\n      <th>affluence</th>\n      <th>avg_cost_for_two</th>\n      <th>revenue_score</th>\n      <th>high_streets</th>\n      <th>shopping_malls</th>\n      <th>created_at</th>\n      <th>location_score_weights</th>\n      <th>grouped_indexes</th>\n      <th>demand_generators</th>\n    </tr>\n  </thead>\n  <tbody>\n    <tr>\n      <th>0</th>\n      <td>1f78f3ac-d799-470b-9738-2c4da5053cee</td>\n      <td>130110_775547</td>\n      <td>Orion Mall - Dr. Rajkumar Road, Rajaji Nagar I...</td>\n      <td>13.011027</td>\n      <td>77.554736</td>\n      <td>POLYGON ((77.494736 13.050067, 77.493202 13.05...</td>\n      <td>Dr. Rajkumar Road, Rajaji Nagar Industrial Sub...</td>\n      <td>i15mind</td>\n      <td>[{\"id\": \"ChIJe9qj3xs9rjsRDN6CamLC-Co\", \"name\":...</td>\n      <td>{\"count\": 1229, \"avg_number_of_reviews_per_day...</td>\n      <td>...</td>\n      <td>{\"age_0_19\": 278764.7038758153, \"age_20_34\": 2...</td>\n      <td>3.675222</td>\n      <td>460.911885</td>\n      <td>87.916832</td>\n      <td>[{\"cluster_name\": \"1st Main Club Road Near Foo...</td>\n      <td>{\"count\": 8, \"pois\": [{\"id\": \"ChIJoRKfACMWrjsR...</td>\n      <td>1706512914</td>\n      <td>{\"affluence_index\": 0.19, \"apartments_index\": ...</td>\n      <td>{\"company_index\": 4.26, \"connectivity_index\": ...</td>\n      <td>{\"clinic\": 2093, \"college\": 413, \"hospital\": 6...</td>\n    </tr>\n    <tr>\n      <th>1</th>\n      <td>2f78f3ac-d799-470b-9738-2c4da5053cee</td>\n      <td>130110_775547</td>\n      <td>Orion Mall - Dr. Rajkumar Road, Rajaji Nagar I...</td>\n      <td>13.011027</td>\n      <td>77.554736</td>\n      <td>POLYGON ((77.55064773796063 13.010557348159388...</td>\n      <td>Dr. Rajkumar Road, Rajaji Nagar Industrial Sub...</td>\n      <td>i500mtb</td>\n      <td>[{\"id\": \"ChIJe9qj3xs9rjsRDN6CamLC-Co\", \"name\":...</td>\n      <td>{\"count\": 136, \"avg_number_of_reviews_per_day\"...</td>\n      <td>...</td>\n      <td>{\"age_0_19\": 4275.960897406801, \"age_20_34\": 4...</td>\n      <td>4.127932</td>\n      <td>838.805970</td>\n      <td>87.916832</td>\n      <td>[{\"cluster_name\": \"Dr. Rajkumar Road, Rajaji N...</td>\n      <td>{\"count\": 1, \"pois\": [{\"id\": \"ChIJCUMusVM9rjsR...</td>\n      <td>1706512950</td>\n      <td>{\"affluence_index\": 0.19, \"apartments_index\": ...</td>\n      <td>{\"company_index\": 4.26, \"connectivity_index\": ...</td>\n      <td>{\"clinic\": 25, \"college\": 7, \"hospital\": 57, \"...</td>\n    </tr>\n    <tr>\n      <th>2</th>\n      <td>374c8386-5837-43b8-8409-c456849263e7</td>\n      <td>130009_776325</td>\n      <td>Orion Avenue - Second Cross N. Thyagaraju Layo...</td>\n      <td>13.000957</td>\n      <td>77.632571</td>\n      <td>POLYGON ((77.62847982126846 13.000488913937247...</td>\n      <td>Second Cross N. Thyagaraju Layout, Sathya Naga...</td>\n      <td>i500mtb</td>\n      <td>[{\"id\": \"ChIJAfIetiRpUjoRKDXrDBoNP-0\", \"name\":...</td>\n      <td>{\"count\": 29, \"avg_number_of_reviews_per_day\":...</td>\n      <td>...</td>\n      <td>{\"age_0_19\": 4633.231310760981, \"age_20_34\": 4...</td>\n      <td>3.616629</td>\n      <td>500.000000</td>\n      <td>82.472917</td>\n      <td>[]</td>\n      <td>{\"count\": 0, \"pois\": []}</td>\n      <td>1706684037</td>\n      <td>{\"affluence_index\": 0.19, \"apartments_index\": ...</td>\n      <td>{\"company_index\": 4.01, \"connectivity_index\": ...</td>\n      <td>{\"clinic\": 27, \"hospital\": 5, \"pharmacy\": 8, \"...</td>\n    </tr>\n    <tr>\n      <th>3</th>\n      <td>2ef72172-e65c-47df-9f06-2a98c9f1fa94</td>\n      <td>130009_776325</td>\n      <td>Orion Avenue - Second Cross N. Thyagaraju Layo...</td>\n      <td>13.000957</td>\n      <td>77.632571</td>\n      <td>POLYGON ((77.644571 13.032047, 77.643571 13.03...</td>\n      <td>Second Cross N. Thyagaraju Layout, Sathya Naga...</td>\n      <td>i15mind</td>\n      <td>[{\"id\": \"18767303\", \"name\": \"Imperio Restauran...</td>\n      <td>{\"count\": 761, \"avg_number_of_reviews_per_day\"...</td>\n      <td>...</td>\n      <td>{\"age_0_19\": 164433.15741358572, \"age_20_34\": ...</td>\n      <td>3.506014</td>\n      <td>498.559078</td>\n      <td>82.472917</td>\n      <td>[{\"cluster_name\": \"8th Main 3rd Phase Peenya I...</td>\n      <td>{\"count\": 0, \"pois\": []}</td>\n      <td>1706684064</td>\n      <td>{\"affluence_index\": 0.19, \"apartments_index\": ...</td>\n      <td>{\"company_index\": 4.01, \"connectivity_index\": ...</td>\n      <td>{\"clinic\": 1313, \"college\": 135, \"hospital\": 3...</td>\n    </tr>\n    <tr>\n      <th>4</th>\n      <td>5fca8372-db67-4e32-9c34-17818bca7c19</td>\n      <td>130552_777638</td>\n      <td>Orion Uptown - Old Madras Road, Kattanallur,Sa...</td>\n      <td>13.055260</td>\n      <td>77.763894</td>\n      <td>POLYGON ((77.773894 13.116797, 77.772949 13.11...</td>\n      <td>Old Madras Road, Kattanallur,Sannatammanahalli</td>\n      <td>i15mind</td>\n      <td>[{\"id\": \"ChIJdUCMjRcPrjsRjZ7tgReBR3M\", \"name\":...</td>\n      <td>{\"count\": 98, \"avg_number_of_reviews_per_day\":...</td>\n      <td>...</td>\n      <td>{\"age_0_19\": 37307.81912734546, \"age_20_34\": 3...</td>\n      <td>3.134148</td>\n      <td>535.593220</td>\n      <td>40.173626</td>\n      <td>[]</td>\n      <td>{\"count\": 2, \"pois\": [{\"id\": \"ChIJfU4i1c0PrjsR...</td>\n      <td>1706691413</td>\n      <td>{\"affluence_index\": 0.19, \"apartments_index\": ...</td>\n      <td>{\"company_index\": 2.15, \"connectivity_index\": ...</td>\n      <td>{\"clinic\": 187, \"college\": 67, \"hospital\": 89,...</td>\n    </tr>\n    <tr>\n      <th>5</th>\n      <td>ed374c4c-6dc3-473b-867e-ff707e347939</td>\n      <td>130552_777638</td>\n      <td>Orion Uptown - Old Madras Road, Kattanallur,Sa...</td>\n      <td>13.055260</td>\n      <td>77.763894</td>\n      <td>POLYGON ((77.75979674534983 13.05479248128713,...</td>\n      <td>Old Madras Road, Kattanallur,Sannatammanahalli</td>\n      <td>i500mtb</td>\n      <td>[{\"id\": \"ChIJu_szAwoPrjsROOxOyHed4WU\", \"name\":...</td>\n      <td>{\"count\": 20, \"avg_number_of_reviews_per_day\":...</td>\n      <td>...</td>\n      <td>{\"age_0_19\": 2850.8699982573035, \"age_20_34\": ...</td>\n      <td>3.205579</td>\n      <td>862.500000</td>\n      <td>40.173626</td>\n      <td>[]</td>\n      <td>{\"count\": 0, \"pois\": []}</td>\n      <td>1706691490</td>\n      <td>{\"affluence_index\": 0.19, \"apartments_index\": ...</td>\n      <td>{\"company_index\": 2.15, \"connectivity_index\": ...</td>\n      <td>{\"clinic\": 5, \"hospital\": 3, \"pharmacy\": 1, \"s...</td>\n    </tr>\n    <tr>\n      <th>12</th>\n      <td>178abc17-71da-457e-a908-e5af283279ec</td>\n      <td>130631_776205</td>\n      <td>Cultfit - Rachenahalli Main Road,Jakkuru</td>\n      <td>13.063170</td>\n      <td>77.620569</td>\n      <td>POLYGON ((77.606569 13.115077, 77.606492 13.11...</td>\n      <td>Rachenahalli Main Road,Jakkuru</td>\n      <td>i15mind</td>\n      <td>[{\"id\": \"18767303\", \"name\": \"Imperio Restauran...</td>\n      <td>{\"count\": 577, \"avg_number_of_reviews_per_day\"...</td>\n      <td>...</td>\n      <td>{\"age_0_19\": 141602.16307128005, \"age_20_34\": ...</td>\n      <td>3.433270</td>\n      <td>500.103520</td>\n      <td>78.047525</td>\n      <td>[{\"cluster_name\": \"3rd A Main, HRBR Layout,Kal...</td>\n      <td>{\"count\": 6, \"pois\": [{\"id\": \"ChIJxTyv4WgXrjsR...</td>\n      <td>1706792829</td>\n      <td>{\"affluence_index\": 0.19, \"apartments_index\": ...</td>\n      <td>{\"company_index\": 3.26, \"connectivity_index\": ...</td>\n      <td>{\"clinic\": 878, \"college\": 282, \"hospital\": 32...</td>\n    </tr>\n    <tr>\n      <th>13</th>\n      <td>40b37f44-ff12-481a-b962-7b7b203026e2</td>\n      <td>130631_776205</td>\n      <td>Cultfit - Rachenahalli Main Road,Jakkuru</td>\n      <td>13.063170</td>\n      <td>77.620569</td>\n      <td>POLYGON ((77.61647704294562 13.062699625388513...</td>\n      <td>Rachenahalli Main Road,Jakkuru</td>\n      <td>i500mtb</td>\n      <td>[{\"id\": \"ChIJmTNfVukZrjsRVpVEffWMvng\", \"name\":...</td>\n      <td>{\"count\": 1, \"avg_number_of_reviews_per_day\": ...</td>\n      <td>...</td>\n      <td>{\"age_0_19\": 2192.2593981751565, \"age_20_34\": ...</td>\n      <td>3.592190</td>\n      <td>0.000000</td>\n      <td>78.047525</td>\n      <td>[]</td>\n      <td>{\"count\": 0, \"pois\": []}</td>\n      <td>1706792829</td>\n      <td>{\"affluence_index\": 0.19, \"apartments_index\": ...</td>\n      <td>{\"company_index\": 3.26, \"connectivity_index\": ...</td>\n      <td>{\"clinic\": 5, \"college\": 2, \"hospital\": 2, \"ph...</td>\n    </tr>\n    <tr>\n      <th>15</th>\n      <td>3feae1e7-1e67-4392-a58a-3e0c80285aba</td>\n      <td>128873_775969</td>\n      <td>Cultfit - Bannerghatta Road, Araka Mico Layout...</td>\n      <td>12.887373</td>\n      <td>77.596901</td>\n      <td>POLYGON ((77.600901 12.933643, 77.600373 12.93...</td>\n      <td>Bannerghatta Road, Araka Mico Layout,Arekere</td>\n      <td>i15mind</td>\n      <td>[{\"id\": \"ChIJr4Akq1gVrjsRcHPlpNJSyQU\", \"name\":...</td>\n      <td>{\"count\": 931, \"avg_number_of_reviews_per_day\"...</td>\n      <td>...</td>\n      <td>{\"age_0_19\": 205496.0256217947, \"age_20_34\": 2...</td>\n      <td>3.399921</td>\n      <td>451.675127</td>\n      <td>88.793684</td>\n      <td>[{\"cluster_name\": \"4th Cross Road, Phase 7,J P...</td>\n      <td>{\"count\": 8, \"pois\": [{\"id\": \"ChIJCYgAwiwVrjsR...</td>\n      <td>1706793074</td>\n      <td>{\"affluence_index\": 0.19, \"apartments_index\": ...</td>\n      <td>{\"company_index\": 4.03, \"connectivity_index\": ...</td>\n      <td>{\"clinic\": 1830, \"college\": 293, \"hospital\": 4...</td>\n    </tr>\n    <tr>\n      <th>16</th>\n      <td>281cbce7-56d6-4faa-bf18-6ca15a6cc89e</td>\n      <td>128873_775969</td>\n      <td>Cultfit - Bannerghatta Road, Araka Mico Layout...</td>\n      <td>12.887373</td>\n      <td>77.596901</td>\n      <td>POLYGON ((77.59281280856402 12.8869084692348, ...</td>\n      <td>Bannerghatta Road, Araka Mico Layout,Arekere</td>\n      <td>i500mtb</td>\n      <td>[{\"id\": \"ChIJh93CWv0VrjsRXlkiHnbqMuY\", \"name\":...</td>\n      <td>{\"count\": 30, \"avg_number_of_reviews_per_day\":...</td>\n      <td>...</td>\n      <td>{\"age_0_19\": 4107.463355525934, \"age_20_34\": 4...</td>\n      <td>3.240855</td>\n      <td>509.090909</td>\n      <td>88.793684</td>\n      <td>[{\"cluster_name\": \"Arekere Mico Layout Main Ro...</td>\n      <td>{\"count\": 2, \"pois\": [{\"id\": \"ChIJO781iPwVrjsR...</td>\n      <td>1706793075</td>\n      <td>{\"affluence_index\": 0.19, \"apartments_index\": ...</td>\n      <td>{\"company_index\": 4.03, \"connectivity_index\": ...</td>\n      <td>{\"clinic\": 29, \"college\": 9, \"hospital\": 5, \"p...</td>\n    </tr>\n  </tbody>\n</table>\n<p>10 rows × 24 columns</p>\n</div>"
     },
     "execution_count": 42,
     "metadata": {},
     "output_type": "execute_result"
    }
   ],
   "source": [
    "df = df.drop(columns=['poi_counts', 'projects_counts', 'median_price'])\n",
    "df"
   ],
   "metadata": {
    "collapsed": false,
    "ExecuteTime": {
     "end_time": "2024-02-02T10:15:33.887840298Z",
     "start_time": "2024-02-02T10:15:33.855054676Z"
    }
   },
   "id": "97b1c239d233c603",
   "execution_count": 42
  },
  {
   "cell_type": "code",
   "outputs": [
    {
     "data": {
      "text/plain": "True"
     },
     "execution_count": 50,
     "metadata": {},
     "output_type": "execute_result"
    }
   ],
   "source": [
    "wr.catalog.delete_table_if_exists(database='datasets_prep', table='ind_site_reports_data_v2')"
   ],
   "metadata": {
    "collapsed": false,
    "ExecuteTime": {
     "end_time": "2024-02-01T15:16:58.344073422Z",
     "start_time": "2024-02-01T15:16:56.264498831Z"
    }
   },
   "id": "53f3e959882cbd8e",
   "execution_count": 50
  },
  {
   "cell_type": "code",
   "outputs": [
    {
     "data": {
      "text/plain": "{'paths': ['s3://tuzomldev/site_reports/f6e20b6bcd7541179cb749801fcba323.snappy.parquet'],\n 'partitions_values': {}}"
     },
     "execution_count": 43,
     "metadata": {},
     "output_type": "execute_result"
    }
   ],
   "source": [
    "wr.s3.to_parquet(df, path=\"s3://tuzomldev/site_reports/\", table=\"ind_site_reports_data_v2\", database='datasets_prep',\n",
    "                 dataset=True, mode='overwrite',\n",
    "                 dtype={'report_id': 'string', 'id': 'string', 'site_name': 'string', 'lat': 'double',\n",
    "                        'lng': 'double', 'catchment_type': 'string', 'top_brands': 'string', 'pois': 'string',\n",
    "                        'projects': 'string', 'apartments': 'string', 'median_price': 'string',\n",
    "                        'household_distribution': 'string', 'competition': 'string', 'population': 'string',\n",
    "                        'affluence': 'double', 'avg_cost_for_two': 'double', 'revenue_score': 'double',\n",
    "                        'high_streets': 'string', 'shopping_malls': 'string', 'poi_counts': 'string',\n",
    "                        'projects_counts': 'string', 'created_at': 'bigint', \"companies\": \"string\"})"
   ],
   "metadata": {
    "collapsed": false,
    "ExecuteTime": {
     "end_time": "2024-02-02T10:16:40.087877388Z",
     "start_time": "2024-02-02T10:15:58.762552483Z"
    }
   },
   "id": "c6a0e3dfbc0753e1",
   "execution_count": 43
  },
  {
   "cell_type": "code",
   "outputs": [
    {
     "data": {
      "text/plain": "                               report_id             id  \\\n0   1f78f3ac-d799-470b-9738-2c4da5053cee  130110_775547   \n1   2f78f3ac-d799-470b-9738-2c4da5053cee  130110_775547   \n2   374c8386-5837-43b8-8409-c456849263e7  130009_776325   \n3   2ef72172-e65c-47df-9f06-2a98c9f1fa94  130009_776325   \n4   5fca8372-db67-4e32-9c34-17818bca7c19  130552_777638   \n5   ed374c4c-6dc3-473b-867e-ff707e347939  130552_777638   \n12  178abc17-71da-457e-a908-e5af283279ec  130631_776205   \n13  40b37f44-ff12-481a-b962-7b7b203026e2  130631_776205   \n15  3feae1e7-1e67-4392-a58a-3e0c80285aba  128873_775969   \n16  281cbce7-56d6-4faa-bf18-6ca15a6cc89e  128873_775969   \n\n                                            site_name        lat        lng  \\\n0   Orion Mall - Dr. Rajkumar Road, Rajaji Nagar I...  13.011027  77.554736   \n1   Orion Mall - Dr. Rajkumar Road, Rajaji Nagar I...  13.011027  77.554736   \n2   Orion Avenue - Second Cross N. Thyagaraju Layo...  13.000957  77.632571   \n3   Orion Avenue - Second Cross N. Thyagaraju Layo...  13.000957  77.632571   \n4   Orion Uptown - Old Madras Road, Kattanallur,Sa...  13.055260  77.763894   \n5   Orion Uptown - Old Madras Road, Kattanallur,Sa...  13.055260  77.763894   \n12           Cultfit - Rachenahalli Main Road,Jakkuru  13.063170  77.620569   \n13           Cultfit - Rachenahalli Main Road,Jakkuru  13.063170  77.620569   \n15  Cultfit - Bannerghatta Road, Araka Mico Layout...  12.887373  77.596901   \n16  Cultfit - Bannerghatta Road, Araka Mico Layout...  12.887373  77.596901   \n\n                                             geometry  \\\n0   POLYGON ((77.494736 13.050067, 77.493202 13.05...   \n1   POLYGON ((77.55064773796063 13.010557348159388...   \n2   POLYGON ((77.62847982126846 13.000488913937247...   \n3   POLYGON ((77.644571 13.032047, 77.643571 13.03...   \n4   POLYGON ((77.773894 13.116797, 77.772949 13.11...   \n5   POLYGON ((77.75979674534983 13.05479248128713,...   \n12  POLYGON ((77.606569 13.115077, 77.606492 13.11...   \n13  POLYGON ((77.61647704294562 13.062699625388513...   \n15  POLYGON ((77.600901 12.933643, 77.600373 12.93...   \n16  POLYGON ((77.59281280856402 12.8869084692348, ...   \n\n                                             location catchment_type  \\\n0   Dr. Rajkumar Road, Rajaji Nagar Industrial Sub...        i15mind   \n1   Dr. Rajkumar Road, Rajaji Nagar Industrial Sub...        i500mtb   \n2   Second Cross N. Thyagaraju Layout, Sathya Naga...        i500mtb   \n3   Second Cross N. Thyagaraju Layout, Sathya Naga...        i15mind   \n4      Old Madras Road, Kattanallur,Sannatammanahalli        i15mind   \n5      Old Madras Road, Kattanallur,Sannatammanahalli        i500mtb   \n12                     Rachenahalli Main Road,Jakkuru        i15mind   \n13                     Rachenahalli Main Road,Jakkuru        i500mtb   \n15       Bannerghatta Road, Araka Mico Layout,Arekere        i15mind   \n16       Bannerghatta Road, Araka Mico Layout,Arekere        i500mtb   \n\n                                           top_brands  \\\n0   [{\"id\": \"ChIJe9qj3xs9rjsRDN6CamLC-Co\", \"name\":...   \n1   [{\"id\": \"ChIJe9qj3xs9rjsRDN6CamLC-Co\", \"name\":...   \n2   [{\"id\": \"ChIJAfIetiRpUjoRKDXrDBoNP-0\", \"name\":...   \n3   [{\"id\": \"18767303\", \"name\": \"Imperio Restauran...   \n4   [{\"id\": \"ChIJdUCMjRcPrjsRjZ7tgReBR3M\", \"name\":...   \n5   [{\"id\": \"ChIJu_szAwoPrjsROOxOyHed4WU\", \"name\":...   \n12  [{\"id\": \"18767303\", \"name\": \"Imperio Restauran...   \n13  [{\"id\": \"ChIJmTNfVukZrjsRVpVEffWMvng\", \"name\":...   \n15  [{\"id\": \"54521\", \"name\": \"Swadista Aahar\", \"la...   \n16  [{\"id\": \"ChIJbbebFSkVrjsRVtf4gVLhicw\", \"name\":...   \n\n                                                 pois  ...  \\\n0   {\"count\": 1083, \"avg_number_of_reviews_per_day...  ...   \n1   {\"count\": 131, \"avg_number_of_reviews_per_day\"...  ...   \n2   {\"count\": 24, \"avg_number_of_reviews_per_day\":...  ...   \n3   {\"count\": 674, \"avg_number_of_reviews_per_day\"...  ...   \n4   {\"count\": 85, \"avg_number_of_reviews_per_day\":...  ...   \n5   {\"count\": 15, \"avg_number_of_reviews_per_day\":...  ...   \n12  {\"count\": 577, \"avg_number_of_reviews_per_day\"...  ...   \n13  {\"count\": 1, \"avg_number_of_reviews_per_day\": ...  ...   \n15  {\"count\": 931, \"avg_number_of_reviews_per_day\"...  ...   \n16  {\"count\": 30, \"avg_number_of_reviews_per_day\":...  ...   \n\n                                           population affluence  \\\n0   {\"age_0_19\": 278764.7038758153, \"age_20_34\": 2...  3.675222   \n1   {\"age_0_19\": 4275.960897406801, \"age_20_34\": 4...  4.127932   \n2   {\"age_0_19\": 4633.231310760981, \"age_20_34\": 4...  3.616629   \n3   {\"age_0_19\": 164433.15741358572, \"age_20_34\": ...  3.506014   \n4   {\"age_0_19\": 37307.81912734546, \"age_20_34\": 3...  3.134148   \n5   {\"age_0_19\": 2850.8699982573035, \"age_20_34\": ...  3.205579   \n12  {\"age_0_19\": 141602.16307128005, \"age_20_34\": ...  3.433270   \n13  {\"age_0_19\": 2192.2593981751565, \"age_20_34\": ...  3.592190   \n15  {\"age_0_19\": 205496.0256217947, \"age_20_34\": 2...  3.399921   \n16  {\"age_0_19\": 4107.463355525934, \"age_20_34\": 4...  3.240855   \n\n   avg_cost_for_two revenue_score  \\\n0        460.911885     81.950000   \n1        838.805970     81.950000   \n2        500.000000     82.470000   \n3        498.559078     82.470000   \n4        535.593220     40.173600   \n5        862.500000     40.173600   \n12       500.103520     78.047525   \n13         0.000000           NaN   \n15       451.675127     88.793684   \n16       509.090909           NaN   \n\n                                         high_streets  \\\n0   [{\"cluster_name\": \"1st Main Club Road Near Foo...   \n1   [{\"cluster_name\": \"Dr. Rajkumar Road, Rajaji N...   \n2                                                  []   \n3   [{\"cluster_name\": \"8th Main 3rd Phase Peenya I...   \n4                                                  []   \n5                                                  []   \n12  [{\"cluster_name\": \"3rd A Main, HRBR Layout,Kal...   \n13                                                 []   \n15  [{\"cluster_name\": \"4th Cross Road, Phase 7,J P...   \n16  [{\"cluster_name\": \"Arekere Mico Layout Main Ro...   \n\n                                       shopping_malls  created_at  \\\n0   {\"count\": 8, \"pois\": [{\"id\": \"ChIJoRKfACMWrjsR...  1706512914   \n1   {\"count\": 1, \"pois\": [{\"id\": \"ChIJCUMusVM9rjsR...  1706512950   \n2                            {\"count\": 0, \"pois\": []}  1706684037   \n3                            {\"count\": 0, \"pois\": []}  1706684064   \n4   {\"count\": 2, \"pois\": [{\"id\": \"ChIJfU4i1c0PrjsR...  1706691413   \n5                            {\"count\": 0, \"pois\": []}  1706691490   \n12  {\"count\": 6, \"pois\": [{\"id\": \"ChIJxTyv4WgXrjsR...  1706792829   \n13                           {\"count\": 0, \"pois\": []}  1706792829   \n15  {\"count\": 8, \"pois\": [{\"id\": \"ChIJCYgAwiwVrjsR...  1706793074   \n16  {\"count\": 2, \"pois\": [{\"id\": \"ChIJO781iPwVrjsR...  1706793075   \n\n                               location_score_weights  \\\n0   {\"companies\": 0.11, \"vibrancy\": 0.16, \"transpo...   \n1   {\"companies\": 0.11, \"vibrancy\": 0.16, \"transpo...   \n2   {\"companies\": 0.11, \"vibrancy\": 0.16, \"transpo...   \n3   {\"companies\": 0.11, \"vibrancy\": 0.16, \"transpo...   \n4   {\"companies\": 0.11, \"vibrancy\": 0.16, \"transpo...   \n5   {\"companies\": 0.11, \"vibrancy\": 0.16, \"transpo...   \n12  {\"companies\": 0.11, \"vibrancy\": 0.16, \"transpo...   \n13  {\"companies\": 0.11, \"vibrancy\": 0.16, \"transpo...   \n15  {\"companies\": 0.11, \"vibrancy\": 0.16, \"transpo...   \n16  {\"companies\": 0.11, \"vibrancy\": 0.16, \"transpo...   \n\n                                      grouped_indexes  \\\n0   {\"company_index\": 3.89, \"connectivity_index\": ...   \n1   {\"company_index\": 3.89, \"connectivity_index\": ...   \n2   {'company_index': 4.01, 'connectivity_index': ...   \n3   {'company_index': 4.01, 'connectivity_index': ...   \n4   {'company_index': 2.15, 'connectivity_index': ...   \n5   {'company_index': 2.15, 'connectivity_index': ...   \n12  {\"company_index\": 3.26, \"connectivity_index\": ...   \n13                                                 {}   \n15  {\"company_index\": 4.03, \"connectivity_index\": ...   \n16                                                 {}   \n\n                                    demand_generators  \n0   {\"clinic\": 2093, \"college\": 413, \"hospital\": 6...  \n1   {\"clinic\": 25, \"college\": 7, \"hospital\": 57, \"...  \n2   {\"clinic\": 27, \"hospital\": 5, \"pharmacy\": 8, \"...  \n3   {\"clinic\": 1313, \"college\": 135, \"hospital\": 3...  \n4   {\"clinic\": 187, \"college\": 67, \"hospital\": 89,...  \n5   {\"clinic\": 5, \"hospital\": 3, \"pharmacy\": 1, \"s...  \n12  {\"clinic\": 878, \"college\": 282, \"hospital\": 32...  \n13  {\"clinic\": 5, \"college\": 2, \"hospital\": 2, \"ph...  \n15  {\"clinic\": 1830, \"college\": 293, \"hospital\": 4...  \n16  {\"clinic\": 29, \"college\": 9, \"hospital\": 5, \"p...  \n\n[10 rows x 24 columns]",
      "text/html": "<div>\n<style scoped>\n    .dataframe tbody tr th:only-of-type {\n        vertical-align: middle;\n    }\n\n    .dataframe tbody tr th {\n        vertical-align: top;\n    }\n\n    .dataframe thead th {\n        text-align: right;\n    }\n</style>\n<table border=\"1\" class=\"dataframe\">\n  <thead>\n    <tr style=\"text-align: right;\">\n      <th></th>\n      <th>report_id</th>\n      <th>id</th>\n      <th>site_name</th>\n      <th>lat</th>\n      <th>lng</th>\n      <th>geometry</th>\n      <th>location</th>\n      <th>catchment_type</th>\n      <th>top_brands</th>\n      <th>pois</th>\n      <th>...</th>\n      <th>population</th>\n      <th>affluence</th>\n      <th>avg_cost_for_two</th>\n      <th>revenue_score</th>\n      <th>high_streets</th>\n      <th>shopping_malls</th>\n      <th>created_at</th>\n      <th>location_score_weights</th>\n      <th>grouped_indexes</th>\n      <th>demand_generators</th>\n    </tr>\n  </thead>\n  <tbody>\n    <tr>\n      <th>0</th>\n      <td>1f78f3ac-d799-470b-9738-2c4da5053cee</td>\n      <td>130110_775547</td>\n      <td>Orion Mall - Dr. Rajkumar Road, Rajaji Nagar I...</td>\n      <td>13.011027</td>\n      <td>77.554736</td>\n      <td>POLYGON ((77.494736 13.050067, 77.493202 13.05...</td>\n      <td>Dr. Rajkumar Road, Rajaji Nagar Industrial Sub...</td>\n      <td>i15mind</td>\n      <td>[{\"id\": \"ChIJe9qj3xs9rjsRDN6CamLC-Co\", \"name\":...</td>\n      <td>{\"count\": 1083, \"avg_number_of_reviews_per_day...</td>\n      <td>...</td>\n      <td>{\"age_0_19\": 278764.7038758153, \"age_20_34\": 2...</td>\n      <td>3.675222</td>\n      <td>460.911885</td>\n      <td>81.950000</td>\n      <td>[{\"cluster_name\": \"1st Main Club Road Near Foo...</td>\n      <td>{\"count\": 8, \"pois\": [{\"id\": \"ChIJoRKfACMWrjsR...</td>\n      <td>1706512914</td>\n      <td>{\"companies\": 0.11, \"vibrancy\": 0.16, \"transpo...</td>\n      <td>{\"company_index\": 3.89, \"connectivity_index\": ...</td>\n      <td>{\"clinic\": 2093, \"college\": 413, \"hospital\": 6...</td>\n    </tr>\n    <tr>\n      <th>1</th>\n      <td>2f78f3ac-d799-470b-9738-2c4da5053cee</td>\n      <td>130110_775547</td>\n      <td>Orion Mall - Dr. Rajkumar Road, Rajaji Nagar I...</td>\n      <td>13.011027</td>\n      <td>77.554736</td>\n      <td>POLYGON ((77.55064773796063 13.010557348159388...</td>\n      <td>Dr. Rajkumar Road, Rajaji Nagar Industrial Sub...</td>\n      <td>i500mtb</td>\n      <td>[{\"id\": \"ChIJe9qj3xs9rjsRDN6CamLC-Co\", \"name\":...</td>\n      <td>{\"count\": 131, \"avg_number_of_reviews_per_day\"...</td>\n      <td>...</td>\n      <td>{\"age_0_19\": 4275.960897406801, \"age_20_34\": 4...</td>\n      <td>4.127932</td>\n      <td>838.805970</td>\n      <td>81.950000</td>\n      <td>[{\"cluster_name\": \"Dr. Rajkumar Road, Rajaji N...</td>\n      <td>{\"count\": 1, \"pois\": [{\"id\": \"ChIJCUMusVM9rjsR...</td>\n      <td>1706512950</td>\n      <td>{\"companies\": 0.11, \"vibrancy\": 0.16, \"transpo...</td>\n      <td>{\"company_index\": 3.89, \"connectivity_index\": ...</td>\n      <td>{\"clinic\": 25, \"college\": 7, \"hospital\": 57, \"...</td>\n    </tr>\n    <tr>\n      <th>2</th>\n      <td>374c8386-5837-43b8-8409-c456849263e7</td>\n      <td>130009_776325</td>\n      <td>Orion Avenue - Second Cross N. Thyagaraju Layo...</td>\n      <td>13.000957</td>\n      <td>77.632571</td>\n      <td>POLYGON ((77.62847982126846 13.000488913937247...</td>\n      <td>Second Cross N. Thyagaraju Layout, Sathya Naga...</td>\n      <td>i500mtb</td>\n      <td>[{\"id\": \"ChIJAfIetiRpUjoRKDXrDBoNP-0\", \"name\":...</td>\n      <td>{\"count\": 24, \"avg_number_of_reviews_per_day\":...</td>\n      <td>...</td>\n      <td>{\"age_0_19\": 4633.231310760981, \"age_20_34\": 4...</td>\n      <td>3.616629</td>\n      <td>500.000000</td>\n      <td>82.470000</td>\n      <td>[]</td>\n      <td>{\"count\": 0, \"pois\": []}</td>\n      <td>1706684037</td>\n      <td>{\"companies\": 0.11, \"vibrancy\": 0.16, \"transpo...</td>\n      <td>{'company_index': 4.01, 'connectivity_index': ...</td>\n      <td>{\"clinic\": 27, \"hospital\": 5, \"pharmacy\": 8, \"...</td>\n    </tr>\n    <tr>\n      <th>3</th>\n      <td>2ef72172-e65c-47df-9f06-2a98c9f1fa94</td>\n      <td>130009_776325</td>\n      <td>Orion Avenue - Second Cross N. Thyagaraju Layo...</td>\n      <td>13.000957</td>\n      <td>77.632571</td>\n      <td>POLYGON ((77.644571 13.032047, 77.643571 13.03...</td>\n      <td>Second Cross N. Thyagaraju Layout, Sathya Naga...</td>\n      <td>i15mind</td>\n      <td>[{\"id\": \"18767303\", \"name\": \"Imperio Restauran...</td>\n      <td>{\"count\": 674, \"avg_number_of_reviews_per_day\"...</td>\n      <td>...</td>\n      <td>{\"age_0_19\": 164433.15741358572, \"age_20_34\": ...</td>\n      <td>3.506014</td>\n      <td>498.559078</td>\n      <td>82.470000</td>\n      <td>[{\"cluster_name\": \"8th Main 3rd Phase Peenya I...</td>\n      <td>{\"count\": 0, \"pois\": []}</td>\n      <td>1706684064</td>\n      <td>{\"companies\": 0.11, \"vibrancy\": 0.16, \"transpo...</td>\n      <td>{'company_index': 4.01, 'connectivity_index': ...</td>\n      <td>{\"clinic\": 1313, \"college\": 135, \"hospital\": 3...</td>\n    </tr>\n    <tr>\n      <th>4</th>\n      <td>5fca8372-db67-4e32-9c34-17818bca7c19</td>\n      <td>130552_777638</td>\n      <td>Orion Uptown - Old Madras Road, Kattanallur,Sa...</td>\n      <td>13.055260</td>\n      <td>77.763894</td>\n      <td>POLYGON ((77.773894 13.116797, 77.772949 13.11...</td>\n      <td>Old Madras Road, Kattanallur,Sannatammanahalli</td>\n      <td>i15mind</td>\n      <td>[{\"id\": \"ChIJdUCMjRcPrjsRjZ7tgReBR3M\", \"name\":...</td>\n      <td>{\"count\": 85, \"avg_number_of_reviews_per_day\":...</td>\n      <td>...</td>\n      <td>{\"age_0_19\": 37307.81912734546, \"age_20_34\": 3...</td>\n      <td>3.134148</td>\n      <td>535.593220</td>\n      <td>40.173600</td>\n      <td>[]</td>\n      <td>{\"count\": 2, \"pois\": [{\"id\": \"ChIJfU4i1c0PrjsR...</td>\n      <td>1706691413</td>\n      <td>{\"companies\": 0.11, \"vibrancy\": 0.16, \"transpo...</td>\n      <td>{'company_index': 2.15, 'connectivity_index': ...</td>\n      <td>{\"clinic\": 187, \"college\": 67, \"hospital\": 89,...</td>\n    </tr>\n    <tr>\n      <th>5</th>\n      <td>ed374c4c-6dc3-473b-867e-ff707e347939</td>\n      <td>130552_777638</td>\n      <td>Orion Uptown - Old Madras Road, Kattanallur,Sa...</td>\n      <td>13.055260</td>\n      <td>77.763894</td>\n      <td>POLYGON ((77.75979674534983 13.05479248128713,...</td>\n      <td>Old Madras Road, Kattanallur,Sannatammanahalli</td>\n      <td>i500mtb</td>\n      <td>[{\"id\": \"ChIJu_szAwoPrjsROOxOyHed4WU\", \"name\":...</td>\n      <td>{\"count\": 15, \"avg_number_of_reviews_per_day\":...</td>\n      <td>...</td>\n      <td>{\"age_0_19\": 2850.8699982573035, \"age_20_34\": ...</td>\n      <td>3.205579</td>\n      <td>862.500000</td>\n      <td>40.173600</td>\n      <td>[]</td>\n      <td>{\"count\": 0, \"pois\": []}</td>\n      <td>1706691490</td>\n      <td>{\"companies\": 0.11, \"vibrancy\": 0.16, \"transpo...</td>\n      <td>{'company_index': 2.15, 'connectivity_index': ...</td>\n      <td>{\"clinic\": 5, \"hospital\": 3, \"pharmacy\": 1, \"s...</td>\n    </tr>\n    <tr>\n      <th>12</th>\n      <td>178abc17-71da-457e-a908-e5af283279ec</td>\n      <td>130631_776205</td>\n      <td>Cultfit - Rachenahalli Main Road,Jakkuru</td>\n      <td>13.063170</td>\n      <td>77.620569</td>\n      <td>POLYGON ((77.606569 13.115077, 77.606492 13.11...</td>\n      <td>Rachenahalli Main Road,Jakkuru</td>\n      <td>i15mind</td>\n      <td>[{\"id\": \"18767303\", \"name\": \"Imperio Restauran...</td>\n      <td>{\"count\": 577, \"avg_number_of_reviews_per_day\"...</td>\n      <td>...</td>\n      <td>{\"age_0_19\": 141602.16307128005, \"age_20_34\": ...</td>\n      <td>3.433270</td>\n      <td>500.103520</td>\n      <td>78.047525</td>\n      <td>[{\"cluster_name\": \"3rd A Main, HRBR Layout,Kal...</td>\n      <td>{\"count\": 6, \"pois\": [{\"id\": \"ChIJxTyv4WgXrjsR...</td>\n      <td>1706792829</td>\n      <td>{\"companies\": 0.11, \"vibrancy\": 0.16, \"transpo...</td>\n      <td>{\"company_index\": 3.26, \"connectivity_index\": ...</td>\n      <td>{\"clinic\": 878, \"college\": 282, \"hospital\": 32...</td>\n    </tr>\n    <tr>\n      <th>13</th>\n      <td>40b37f44-ff12-481a-b962-7b7b203026e2</td>\n      <td>130631_776205</td>\n      <td>Cultfit - Rachenahalli Main Road,Jakkuru</td>\n      <td>13.063170</td>\n      <td>77.620569</td>\n      <td>POLYGON ((77.61647704294562 13.062699625388513...</td>\n      <td>Rachenahalli Main Road,Jakkuru</td>\n      <td>i500mtb</td>\n      <td>[{\"id\": \"ChIJmTNfVukZrjsRVpVEffWMvng\", \"name\":...</td>\n      <td>{\"count\": 1, \"avg_number_of_reviews_per_day\": ...</td>\n      <td>...</td>\n      <td>{\"age_0_19\": 2192.2593981751565, \"age_20_34\": ...</td>\n      <td>3.592190</td>\n      <td>0.000000</td>\n      <td>NaN</td>\n      <td>[]</td>\n      <td>{\"count\": 0, \"pois\": []}</td>\n      <td>1706792829</td>\n      <td>{\"companies\": 0.11, \"vibrancy\": 0.16, \"transpo...</td>\n      <td>{}</td>\n      <td>{\"clinic\": 5, \"college\": 2, \"hospital\": 2, \"ph...</td>\n    </tr>\n    <tr>\n      <th>15</th>\n      <td>3feae1e7-1e67-4392-a58a-3e0c80285aba</td>\n      <td>128873_775969</td>\n      <td>Cultfit - Bannerghatta Road, Araka Mico Layout...</td>\n      <td>12.887373</td>\n      <td>77.596901</td>\n      <td>POLYGON ((77.600901 12.933643, 77.600373 12.93...</td>\n      <td>Bannerghatta Road, Araka Mico Layout,Arekere</td>\n      <td>i15mind</td>\n      <td>[{\"id\": \"54521\", \"name\": \"Swadista Aahar\", \"la...</td>\n      <td>{\"count\": 931, \"avg_number_of_reviews_per_day\"...</td>\n      <td>...</td>\n      <td>{\"age_0_19\": 205496.0256217947, \"age_20_34\": 2...</td>\n      <td>3.399921</td>\n      <td>451.675127</td>\n      <td>88.793684</td>\n      <td>[{\"cluster_name\": \"4th Cross Road, Phase 7,J P...</td>\n      <td>{\"count\": 8, \"pois\": [{\"id\": \"ChIJCYgAwiwVrjsR...</td>\n      <td>1706793074</td>\n      <td>{\"companies\": 0.11, \"vibrancy\": 0.16, \"transpo...</td>\n      <td>{\"company_index\": 4.03, \"connectivity_index\": ...</td>\n      <td>{\"clinic\": 1830, \"college\": 293, \"hospital\": 4...</td>\n    </tr>\n    <tr>\n      <th>16</th>\n      <td>281cbce7-56d6-4faa-bf18-6ca15a6cc89e</td>\n      <td>128873_775969</td>\n      <td>Cultfit - Bannerghatta Road, Araka Mico Layout...</td>\n      <td>12.887373</td>\n      <td>77.596901</td>\n      <td>POLYGON ((77.59281280856402 12.8869084692348, ...</td>\n      <td>Bannerghatta Road, Araka Mico Layout,Arekere</td>\n      <td>i500mtb</td>\n      <td>[{\"id\": \"ChIJbbebFSkVrjsRVtf4gVLhicw\", \"name\":...</td>\n      <td>{\"count\": 30, \"avg_number_of_reviews_per_day\":...</td>\n      <td>...</td>\n      <td>{\"age_0_19\": 4107.463355525934, \"age_20_34\": 4...</td>\n      <td>3.240855</td>\n      <td>509.090909</td>\n      <td>NaN</td>\n      <td>[{\"cluster_name\": \"Arekere Mico Layout Main Ro...</td>\n      <td>{\"count\": 2, \"pois\": [{\"id\": \"ChIJO781iPwVrjsR...</td>\n      <td>1706793075</td>\n      <td>{\"companies\": 0.11, \"vibrancy\": 0.16, \"transpo...</td>\n      <td>{}</td>\n      <td>{\"clinic\": 29, \"college\": 9, \"hospital\": 5, \"p...</td>\n    </tr>\n  </tbody>\n</table>\n<p>10 rows × 24 columns</p>\n</div>"
     },
     "execution_count": 12,
     "metadata": {},
     "output_type": "execute_result"
    }
   ],
   "source": [
    "df"
   ],
   "metadata": {
    "collapsed": false,
    "ExecuteTime": {
     "end_time": "2024-02-02T05:34:03.310634879Z",
     "start_time": "2024-02-02T05:34:03.267368011Z"
    }
   },
   "id": "421f4e7cb627e03",
   "execution_count": 12
  },
  {
   "cell_type": "code",
   "outputs": [],
   "source": [
    "def get_dictionary_value(d, keys):\n",
    "    keys = keys.split(\".\")\n",
    "    for i in keys:\n",
    "        d = d.get(i)\n",
    "    return d"
   ],
   "metadata": {
    "collapsed": false,
    "ExecuteTime": {
     "end_time": "2024-02-01T16:01:42.165740639Z",
     "start_time": "2024-02-01T16:01:42.107143105Z"
    }
   },
   "id": "ce6eb8a8b7d8f852",
   "execution_count": 75
  },
  {
   "cell_type": "code",
   "outputs": [],
   "source": [
    "project_info = U.get_project_info(id='130631_776205')\n",
    "project_info = project_info.query(\"catchment_type!='i1000mtb'\").to_dict('records')\n",
    "project_info=[{k:json.loads(v) if \"{\" in str(v) else v for k,v in project.items()} for project in project_info]\n",
    "project_info={project['catchment_type']:project for project in project_info}"
   ],
   "metadata": {
    "collapsed": false,
    "ExecuteTime": {
     "end_time": "2024-02-01T16:01:47.810418864Z",
     "start_time": "2024-02-01T16:01:46.055301524Z"
    }
   },
   "id": "9daf768ae9aecbd2",
   "execution_count": 76
  },
  {
   "cell_type": "code",
   "outputs": [],
   "source": [
    "data=dict(data=project_info)"
   ],
   "metadata": {
    "collapsed": false,
    "ExecuteTime": {
     "end_time": "2024-02-01T16:01:48.580973524Z",
     "start_time": "2024-02-01T16:01:48.560701465Z"
    }
   },
   "id": "d3aa44c193f3a0f3",
   "execution_count": 77
  },
  {
   "cell_type": "code",
   "outputs": [
    {
     "data": {
      "text/plain": "0.0"
     },
     "execution_count": 85,
     "metadata": {},
     "output_type": "execute_result"
    }
   ],
   "source": [
    "data['data']['i500mtb']['avg_cost_for_two']"
   ],
   "metadata": {
    "collapsed": false,
    "ExecuteTime": {
     "end_time": "2024-02-01T16:03:59.130146545Z",
     "start_time": "2024-02-01T16:03:59.071114481Z"
    }
   },
   "id": "119ce9b3cf72a86b",
   "execution_count": 85
  },
  {
   "cell_type": "code",
   "outputs": [],
   "source": [
    "get_dictionary_value(data,'data.i500mtb.average_cost_for_two')"
   ],
   "metadata": {
    "collapsed": false,
    "ExecuteTime": {
     "end_time": "2024-02-01T16:02:18.776589232Z",
     "start_time": "2024-02-01T16:02:18.712817054Z"
    }
   },
   "id": "93d6da2826c43a34",
   "execution_count": 78
  },
  {
   "cell_type": "code",
   "outputs": [
    {
     "data": {
      "text/plain": "{'anchor_competitor': 53, 'secondary_competitor': 141}"
     },
     "execution_count": 108,
     "metadata": {},
     "output_type": "execute_result"
    }
   ],
   "source": [
    "dict(pd.DataFrame(data['data']['i15mind']['competition']['pois']).groupby('type').id.count().reset_index().values.tolist())"
   ],
   "metadata": {
    "collapsed": false,
    "ExecuteTime": {
     "end_time": "2024-02-01T17:12:21.529852533Z",
     "start_time": "2024-02-01T17:12:21.468824663Z"
    }
   },
   "id": "45893e5d3df939d",
   "execution_count": 108
  },
  {
   "cell_type": "code",
   "outputs": [],
   "source": [],
   "metadata": {
    "collapsed": false
   },
   "id": "71510b6ba18fff97"
  },
  {
   "cell_type": "code",
   "outputs": [
    {
     "data": {
      "text/plain": "[{'id': '130110_775547', 'lat': 13.011026921074786, 'lng': 77.55473637957641},\n {'id': '130009_776325', 'lat': 13.0009569, 'lng': 77.6325712},\n {'id': '130552_777638', 'lat': 13.0552603, 'lng': 77.7638939},\n {'id': '130631_776205', 'lat': 13.06317, 'lng': 77.620569},\n {'id': '128873_775969', 'lat': 12.887373, 'lng': 77.596901}]"
     },
     "execution_count": 29,
     "metadata": {},
     "output_type": "execute_result"
    }
   ],
   "source": [
    "all_reports.drop_duplicates(subset=['id'])[['id','lat','lng']].to_dict('records')"
   ],
   "metadata": {
    "collapsed": false,
    "ExecuteTime": {
     "end_time": "2024-02-02T09:56:13.891998275Z",
     "start_time": "2024-02-02T09:56:13.831928448Z"
    }
   },
   "id": "4343cd03ffa0dfe6",
   "execution_count": 29
  },
  {
   "cell_type": "code",
   "outputs": [],
   "source": [
    "from revenue_score import generate_revenue_score"
   ],
   "metadata": {
    "collapsed": false,
    "ExecuteTime": {
     "end_time": "2024-02-02T09:58:20.736389050Z",
     "start_time": "2024-02-02T09:58:20.606890030Z"
    }
   },
   "id": "c2e839d57595924",
   "execution_count": 31
  },
  {
   "cell_type": "code",
   "outputs": [],
   "source": [],
   "metadata": {
    "collapsed": false
   },
   "id": "bf4ea53e2e4bb9d7"
  },
  {
   "cell_type": "code",
   "outputs": [],
   "source": [
    "query = '''UPDATE ind_site_reports_v2\n",
    "SET\n",
    "    revenue_score=:revenue_score,\n",
    "    location_score_weights=:location_score_weights,\n",
    "    grouped_indexes=:grouped_indexes\n",
    "WHERE  id=:id;\n",
    "'''\n",
    "weights=json.dumps({\n",
    " 'affluence_index': 0.19,\n",
    " 'apartments_index': 0.19,\n",
    "  'fashion_index': 0.19,\n",
    " 'vibrancy': 0.14,\n",
    " 'healthcare_index': 0.10,\n",
    " 'company_index': 0.10,\n",
    " 'malls_index': 0.05,\n",
    " 'supermarket_index': 0.04,\n",
    " })\n",
    "if __name__ == '__main__':\n",
    "    con, cur = U.connect_to_db()\n",
    "\n",
    "    for proj in all_reports.drop_duplicates(subset=['id'])[['id','lat','lng']].to_dict('records'):\n",
    "        site_id=proj['id']\n",
    "        lat=proj['lat']\n",
    "        lng=proj['lng']\n",
    "        travel_mode = 'driving'\n",
    "        cost_type = 'time'\n",
    "        cost = 15\n",
    "        revenue_score, grouped_indexs = generate_revenue_score(lat, lng, travel_mode, cost_type, cost)\n",
    "        grouped_indexs=json.dumps(grouped_indexs)\n",
    "        query_params=dict(revenue_score=revenue_score, grouped_indexes=grouped_indexs,location_score_weights=weights,id=site_id)\n",
    "        cur.execute(query, query_params)\n",
    "        con.commit()\n",
    "    cur.close()\n",
    "    con.close()\n"
   ],
   "metadata": {
    "collapsed": false,
    "ExecuteTime": {
     "end_time": "2024-02-02T10:07:28.557993091Z",
     "start_time": "2024-02-02T10:04:39.585411506Z"
    }
   },
   "id": "29cc7cb39056749",
   "execution_count": 34
  }
 ],
 "metadata": {
  "kernelspec": {
   "display_name": "Python 3",
   "language": "python",
   "name": "python3"
  },
  "language_info": {
   "codemirror_mode": {
    "name": "ipython",
    "version": 2
   },
   "file_extension": ".py",
   "mimetype": "text/x-python",
   "name": "python",
   "nbconvert_exporter": "python",
   "pygments_lexer": "ipython2",
   "version": "2.7.6"
  }
 },
 "nbformat": 4,
 "nbformat_minor": 5
}
