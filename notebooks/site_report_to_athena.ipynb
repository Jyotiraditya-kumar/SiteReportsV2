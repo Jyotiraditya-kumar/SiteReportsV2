{
 "cells": [
  {
   "cell_type": "code",
   "execution_count": 1,
   "id": "8a000a37bf30d9d3",
   "metadata": {
    "collapsed": false,
    "ExecuteTime": {
     "end_time": "2024-02-08T08:11:54.106775074Z",
     "start_time": "2024-02-08T08:11:52.610690966Z"
    }
   },
   "outputs": [],
   "source": [
    "import json\n",
    "import re\n",
    "\n",
    "import requests\n",
    "import pandas as pd\n",
    "import awswrangler as wr\n",
    "import utils as U\n",
    "\n",
    "\n",
    "class Dashboard:\n",
    "    def __init__(self, report_id, id):\n",
    "        self.report_id = report_id\n",
    "        self.id = id\n",
    "        self.project_info = U.get_project_info(self.report_id, self.id).to_dict(orient='records')[0]\n",
    "        self.data = None\n",
    "        self.data_dict = {}\n",
    "\n",
    "    def update_cft(self):\n",
    "        cft = self.data['data']['cft']['avg_cft']\n",
    "        self.data_dict['avg_cost_for_two'] = cft\n",
    "\n",
    "    def update_affluence(self):\n",
    "        cft = self.data['data']['affluence']['affluence_index']\n",
    "        self.data_dict['affluence'] = cft\n",
    "\n",
    "    def update_location_score_weights_and_grouped_indexes(self):\n",
    "        weights = json.dumps({\n",
    "            'affluence_index': 0.19,\n",
    "            'apartments_index': 0.19,\n",
    "            'fashion_index': 0.19,\n",
    "            'vibrancy': 0.14,\n",
    "            'healthcare_index': 0.10,\n",
    "            'company_index': 0.10,\n",
    "            'malls_index': 0.05,\n",
    "            'supermarket_index': 0.04,\n",
    "        })\n",
    "        self.data_dict['location_score_weights'] = weights\n",
    "        indexes = json.dumps({'company_index': 3.89,\n",
    "                              'connectivity_index': 4.62,\n",
    "                              'education_index': 4.58,\n",
    "                              'electronics_index': 4.78,\n",
    "                              'entertainment_index': 5.0,\n",
    "                              'fashion_index': 4.98,\n",
    "                              'grocery_index': 4.98,\n",
    "                              'healthcare_index': 4.82,\n",
    "                              'home_decor_index': 4.56,\n",
    "                              'leisure_index': 2.75,\n",
    "                              'malls_index': 0.0,\n",
    "                              'parks_index': 0.86,\n",
    "                              'religious_index': 4.5,\n",
    "                              'supermarket_index': 3.58,\n",
    "                              'vibrancy': 4.01})\n",
    "        self.data_dict['grouped_indexes'] = indexes\n",
    "\n",
    "    def generate_report_data(self):\n",
    "        eps = [\"cft\", \"population\", \"companies\", \"demand_generator\", \"projects\", \"affluence\", \"income\", \"competition\",\n",
    "               \"category_count\", \"property_price\", \"high_street\", 'shopping_mall']\n",
    "        all_data = {\"data\": {}}\n",
    "        for ep in eps:\n",
    "            url = f\"http://127.0.0.1:8000/site_report/{self.report_id}/{self.id}/{ep}\"\n",
    "            req = requests.get(url)\n",
    "            try:\n",
    "                resp = req.json()\n",
    "            except Exception as e:\n",
    "                print(url, e)\n",
    "                raise e\n",
    "            data = resp['data']\n",
    "            all_data['data'][ep] = data\n",
    "        self.data = all_data\n",
    "\n",
    "    def populate_single_cells(self):\n",
    "        with open(\"dashboard_copy.json\") as f:\n",
    "            data = json.load(f)\n",
    "        for i in data:\n",
    "            try:\n",
    "                i['values'] = [[self.get_dictionary_value(self.data, i['values'][0][0])]]\n",
    "            except Exception as e:\n",
    "                print(e, i['values'][0][0])\n",
    "        # self.report_worksheet.batch_update(data)\n",
    "\n",
    "    def insert_pois_ranked(self):\n",
    "        a = pd.DataFrame(self.data['data']['category_count']['data'])['top_pois']\n",
    "        from functools import reduce\n",
    "        df = pd.DataFrame(reduce(lambda a, b: a + b, a.values.tolist())).sort_values(by='reviews_per_day',\n",
    "                                                                                     ascending=False)\n",
    "        df_ = df.to_dict(orient='records')[:]\n",
    "        pois = df_\n",
    "        df = df[df['brand_id'] != 'N_A'].to_dict(orient='records')[:]\n",
    "        df = json.dumps(df)\n",
    "        self.data_dict['top_brands'] = df\n",
    "        return pois\n",
    "\n",
    "    def update_category_count(self):\n",
    "        buff = self.data['data']['category_count']\n",
    "        self.data_dict['pois'] = json.dumps(buff)\n",
    "\n",
    "    def update_high_streets(self):\n",
    "        high_streets = self.data['data']['high_street']\n",
    "        high_streets = json.dumps(high_streets)\n",
    "        self.data_dict['high_streets'] = high_streets\n",
    "\n",
    "    def update_competition(self):\n",
    "        comp = self.data['data']['competition']\n",
    "        comp = json.dumps(comp)\n",
    "        self.data_dict['competition'] = comp\n",
    "\n",
    "    def update_malls(self):\n",
    "        comp = self.data['data']['shopping_mall']\n",
    "        comp = json.dumps(comp)\n",
    "        self.data_dict['shopping_malls'] = comp\n",
    "\n",
    "    def update_household_distribution(self):\n",
    "        comp = self.data['data']['income']\n",
    "        comp = json.dumps(comp)\n",
    "        self.data_dict['household_distribution'] = comp\n",
    "\n",
    "    def update_property_price(self):\n",
    "        # comp = self.data['data']['property_price']['price']\n",
    "        # comp = json.dumps(comp)\n",
    "        # self.data_dict['property_prices'] = comp\n",
    "        comp = self.data['data']['property_price']\n",
    "        # comp[0]['top_pois'] = comp[0]['top_pois'][:]\n",
    "        comp = json.dumps(comp)\n",
    "        self.data_dict['apartments'] = comp\n",
    "\n",
    "    def update_projects(self):\n",
    "        p = self.data['data']['projects']\n",
    "        p['projects'] = p['projects'][:]\n",
    "        self.data_dict['projects'] = json.dumps(p)\n",
    "\n",
    "    def update_companies(self):\n",
    "        companies = self.data['data']['companies']\n",
    "        demand_generators = self.data['data']['demand_generator']\n",
    "        demand_generators['companies'] = companies\n",
    "        self.data_dict['demand_generators'] = json.dumps(demand_generators)\n",
    "\n",
    "    def get_revenue_score(self):\n",
    "        self.data_dict['revenue_score'] = 81.95\n",
    "\n",
    "    def population_chart(self):\n",
    "        pop = self.data['data']['population']\n",
    "        pop = json.dumps(pop)\n",
    "        self.data_dict['population'] = pop\n",
    "\n",
    "    @staticmethod\n",
    "    def get_dictionary_value(d, keys):\n",
    "        keys = keys.split(\".\")\n",
    "        for i in keys:\n",
    "            d = d.get(i)\n",
    "        return d\n",
    "\n",
    "    def generate_report(self):\n",
    "        self.generate_report_data()\n",
    "        # self.populate_single_cells()\n",
    "        self.update_cft()\n",
    "        # self.update_location_score_weights_and_grouped_indexes()\n",
    "        self.update_affluence()\n",
    "        self.insert_pois_ranked()\n",
    "        self.update_household_distribution()\n",
    "        self.update_property_price()\n",
    "        self.update_projects()\n",
    "        self.update_malls()\n",
    "        self.population_chart()\n",
    "        self.update_competition()\n",
    "        self.update_category_count()\n",
    "        self.update_high_streets()\n",
    "        # self.get_revenue_score()\n",
    "        self.update_companies()\n"
   ]
  },
  {
   "cell_type": "code",
   "outputs": [],
   "source": [
    "import utils as U\n",
    "import importlib\n",
    "\n",
    "importlib.reload(U)\n",
    "all_reports = U.get_project_info().tail(4)"
   ],
   "metadata": {
    "collapsed": false,
    "ExecuteTime": {
     "end_time": "2024-02-08T08:28:20.744076814Z",
     "start_time": "2024-02-08T08:28:20.653040084Z"
    }
   },
   "id": "f2f5aa4ce5bbe2a1",
   "execution_count": 11
  },
  {
   "cell_type": "code",
   "outputs": [
    {
     "data": {
      "text/plain": "                               report_id             id  \\\n16  f9b43dc5-f8fe-4cb0-b91a-54cbf23de536  129342_777438   \n17  ba9999e5-b9f2-4eb0-8b71-eec0c9af1930  129342_777438   \n18  59237f70-29b4-463c-a869-8323df9f54ca  128050_776996   \n19  df93c3fa-d9ac-46ad-9b8a-d423fb715ae6  128050_776996   \n\n                                            site_name        lat        lng  \\\n16                        Orion Utopia - Sh35,Varthur  12.934247  77.743869   \n17                        Orion Utopia - Sh35,Varthur  12.934247  77.743869   \n18  Orion Valencia - Hosur Road, Keerthi Layout,Su...  12.805019  77.699684   \n19  Orion Valencia - Hosur Road, Keerthi Layout,Su...  12.805019  77.699684   \n\n                                             geometry  \\\n16  POLYGON ((77.751869 12.98133, 77.749635 12.979...   \n17  POLYGON ((77.745869 12.937926, 77.743614 12.93...   \n18  POLYGON ((77.647684 12.877109, 77.646743 12.87...   \n19  POLYGON ((77.698684 12.808065, 77.697772 12.80...   \n\n                                 location catchment_type  \\\n16                           Sh35,Varthur        i15mind   \n17                           Sh35,Varthur        i500mtd   \n18  Hosur Road, Keerthi Layout,Suryanagar        i15mind   \n19  Hosur Road, Keerthi Layout,Suryanagar        i500mtd   \n\n                                           top_brands  \\\n16  [{\"id\": \"ChIJA7wj8BMSrjsROKK4nf2PcCA\", \"name\":...   \n17  [{\"id\": \"ChIJr8OCGv8TrjsRbG5HtKs6Pm8\", \"name\":...   \n18  [{\"id\": \"ChIJba_U8IxsrjsRK4d0fwEn3KA\", \"name\":...   \n19  [{\"id\": \"ChIJ7VcOZjNsrjsR88oQJA5Q2xc\", \"name\":...   \n\n                                                 pois  ... projects_counts  \\\n16  {\"count\": 376, \"avg_number_of_reviews_per_day\"...  ...            None   \n17  {\"count\": 11, \"avg_number_of_reviews_per_day\":...  ...            None   \n18  {\"count\": 318, \"avg_number_of_reviews_per_day\"...  ...            None   \n19  {\"count\": 7, \"avg_number_of_reviews_per_day\": ...  ...            None   \n\n    created_at                             location_score_weights  \\\n16  1707378645  {\"affluence_index\": 0.237, \"apartments_index\":...   \n17  1707378647  {\"affluence_index\": 0.237, \"apartments_index\":...   \n18  1707378648  {\"affluence_index\": 0.237, \"apartments_index\":...   \n19  1707378649  {\"affluence_index\": 0.237, \"apartments_index\":...   \n\n   grouped_indexes                                  demand_generators  \\\n16            None  {\"clinic\": 406, \"college\": 51, \"hospital\": 147...   \n17            None  {\"clinic\": 14, \"hospital\": 5, \"pharmacy\": 3, \"...   \n18            None  {\"clinic\": 504, \"college\": 137, \"hospital\": 28...   \n19            None  {\"clinic\": 5, \"hospital\": 11, \"pharmacy\": 4, \"...   \n\n     city_lat   city_lng  distance_from_city_center  \\\n16  12.976794  77.590082                        NaN   \n17  12.976794  77.590082                        NaN   \n18  12.976794  77.590082                        NaN   \n19  12.976794  77.590082                        NaN   \n\n    orientation_from_city_center competitors_domains  \n16                            SE                  []  \n17                            SE                  []  \n18                            SE                  []  \n19                            SE                  []  \n\n[4 rows x 32 columns]",
      "text/html": "<div>\n<style scoped>\n    .dataframe tbody tr th:only-of-type {\n        vertical-align: middle;\n    }\n\n    .dataframe tbody tr th {\n        vertical-align: top;\n    }\n\n    .dataframe thead th {\n        text-align: right;\n    }\n</style>\n<table border=\"1\" class=\"dataframe\">\n  <thead>\n    <tr style=\"text-align: right;\">\n      <th></th>\n      <th>report_id</th>\n      <th>id</th>\n      <th>site_name</th>\n      <th>lat</th>\n      <th>lng</th>\n      <th>geometry</th>\n      <th>location</th>\n      <th>catchment_type</th>\n      <th>top_brands</th>\n      <th>pois</th>\n      <th>...</th>\n      <th>projects_counts</th>\n      <th>created_at</th>\n      <th>location_score_weights</th>\n      <th>grouped_indexes</th>\n      <th>demand_generators</th>\n      <th>city_lat</th>\n      <th>city_lng</th>\n      <th>distance_from_city_center</th>\n      <th>orientation_from_city_center</th>\n      <th>competitors_domains</th>\n    </tr>\n  </thead>\n  <tbody>\n    <tr>\n      <th>16</th>\n      <td>f9b43dc5-f8fe-4cb0-b91a-54cbf23de536</td>\n      <td>129342_777438</td>\n      <td>Orion Utopia - Sh35,Varthur</td>\n      <td>12.934247</td>\n      <td>77.743869</td>\n      <td>POLYGON ((77.751869 12.98133, 77.749635 12.979...</td>\n      <td>Sh35,Varthur</td>\n      <td>i15mind</td>\n      <td>[{\"id\": \"ChIJA7wj8BMSrjsROKK4nf2PcCA\", \"name\":...</td>\n      <td>{\"count\": 376, \"avg_number_of_reviews_per_day\"...</td>\n      <td>...</td>\n      <td>None</td>\n      <td>1707378645</td>\n      <td>{\"affluence_index\": 0.237, \"apartments_index\":...</td>\n      <td>None</td>\n      <td>{\"clinic\": 406, \"college\": 51, \"hospital\": 147...</td>\n      <td>12.976794</td>\n      <td>77.590082</td>\n      <td>NaN</td>\n      <td>SE</td>\n      <td>[]</td>\n    </tr>\n    <tr>\n      <th>17</th>\n      <td>ba9999e5-b9f2-4eb0-8b71-eec0c9af1930</td>\n      <td>129342_777438</td>\n      <td>Orion Utopia - Sh35,Varthur</td>\n      <td>12.934247</td>\n      <td>77.743869</td>\n      <td>POLYGON ((77.745869 12.937926, 77.743614 12.93...</td>\n      <td>Sh35,Varthur</td>\n      <td>i500mtd</td>\n      <td>[{\"id\": \"ChIJr8OCGv8TrjsRbG5HtKs6Pm8\", \"name\":...</td>\n      <td>{\"count\": 11, \"avg_number_of_reviews_per_day\":...</td>\n      <td>...</td>\n      <td>None</td>\n      <td>1707378647</td>\n      <td>{\"affluence_index\": 0.237, \"apartments_index\":...</td>\n      <td>None</td>\n      <td>{\"clinic\": 14, \"hospital\": 5, \"pharmacy\": 3, \"...</td>\n      <td>12.976794</td>\n      <td>77.590082</td>\n      <td>NaN</td>\n      <td>SE</td>\n      <td>[]</td>\n    </tr>\n    <tr>\n      <th>18</th>\n      <td>59237f70-29b4-463c-a869-8323df9f54ca</td>\n      <td>128050_776996</td>\n      <td>Orion Valencia - Hosur Road, Keerthi Layout,Su...</td>\n      <td>12.805019</td>\n      <td>77.699684</td>\n      <td>POLYGON ((77.647684 12.877109, 77.646743 12.87...</td>\n      <td>Hosur Road, Keerthi Layout,Suryanagar</td>\n      <td>i15mind</td>\n      <td>[{\"id\": \"ChIJba_U8IxsrjsRK4d0fwEn3KA\", \"name\":...</td>\n      <td>{\"count\": 318, \"avg_number_of_reviews_per_day\"...</td>\n      <td>...</td>\n      <td>None</td>\n      <td>1707378648</td>\n      <td>{\"affluence_index\": 0.237, \"apartments_index\":...</td>\n      <td>None</td>\n      <td>{\"clinic\": 504, \"college\": 137, \"hospital\": 28...</td>\n      <td>12.976794</td>\n      <td>77.590082</td>\n      <td>NaN</td>\n      <td>SE</td>\n      <td>[]</td>\n    </tr>\n    <tr>\n      <th>19</th>\n      <td>df93c3fa-d9ac-46ad-9b8a-d423fb715ae6</td>\n      <td>128050_776996</td>\n      <td>Orion Valencia - Hosur Road, Keerthi Layout,Su...</td>\n      <td>12.805019</td>\n      <td>77.699684</td>\n      <td>POLYGON ((77.698684 12.808065, 77.697772 12.80...</td>\n      <td>Hosur Road, Keerthi Layout,Suryanagar</td>\n      <td>i500mtd</td>\n      <td>[{\"id\": \"ChIJ7VcOZjNsrjsR88oQJA5Q2xc\", \"name\":...</td>\n      <td>{\"count\": 7, \"avg_number_of_reviews_per_day\": ...</td>\n      <td>...</td>\n      <td>None</td>\n      <td>1707378649</td>\n      <td>{\"affluence_index\": 0.237, \"apartments_index\":...</td>\n      <td>None</td>\n      <td>{\"clinic\": 5, \"hospital\": 11, \"pharmacy\": 4, \"...</td>\n      <td>12.976794</td>\n      <td>77.590082</td>\n      <td>NaN</td>\n      <td>SE</td>\n      <td>[]</td>\n    </tr>\n  </tbody>\n</table>\n<p>4 rows × 32 columns</p>\n</div>"
     },
     "execution_count": 12,
     "metadata": {},
     "output_type": "execute_result"
    }
   ],
   "source": [
    "all_reports"
   ],
   "metadata": {
    "collapsed": false,
    "ExecuteTime": {
     "end_time": "2024-02-08T08:28:22.746960312Z",
     "start_time": "2024-02-08T08:28:22.696062712Z"
    }
   },
   "id": "e2d59abf356a2803",
   "execution_count": 12
  },
  {
   "cell_type": "code",
   "outputs": [],
   "source": [
    "all_reports = all_reports.query('catchment_type!=\"i1000mtb\" and id not in (\"129065_775925\",\"130636_775869\")')  #.tail(4)"
   ],
   "metadata": {
    "collapsed": false,
    "ExecuteTime": {
     "end_time": "2024-02-07T13:21:57.879683411Z",
     "start_time": "2024-02-07T13:21:57.876958033Z"
    }
   },
   "id": "98162caf469e8e81",
   "execution_count": 4
  },
  {
   "cell_type": "code",
   "outputs": [],
   "source": [
    "\n",
    "    "
   ],
   "metadata": {
    "collapsed": false
   },
   "id": "4fd22806c21c1b91"
  },
  {
   "cell_type": "code",
   "outputs": [],
   "source": [
    "query = '''UPDATE ind_site_reports_v2\n",
    "SET\n",
    "    top_brands = :top_brands,\n",
    "    pois = :pois,\n",
    "    projects = :projects,\n",
    "    apartments = :apartments,\n",
    "    household_distribution = :household_distribution,\n",
    "    competition = :competition,\n",
    "    population = :population,\n",
    "    affluence = :affluence,\n",
    "    avg_cost_for_two = :avg_cost_for_two,\n",
    "    high_streets = :high_streets,\n",
    "    shopping_malls = :shopping_malls,\n",
    "    demand_generators = :demand_generators\n",
    "WHERE report_id = :report_id and id=:id;\n",
    "'''"
   ],
   "metadata": {
    "collapsed": false,
    "ExecuteTime": {
     "end_time": "2024-02-08T08:12:35.990417124Z",
     "start_time": "2024-02-08T08:12:35.967829413Z"
    }
   },
   "id": "ed0aa989011d5889",
   "execution_count": 4
  },
  {
   "cell_type": "code",
   "outputs": [],
   "source": [
    "if __name__ == '__main__':\n",
    "    con, cur = U.connect_to_db()\n",
    "\n",
    "    for proj in all_reports.to_dict(orient='records')[:]:\n",
    "        rep = Dashboard(report_id=proj['report_id'], id=proj['id'])\n",
    "        rep.generate_report()\n",
    "        query_params = rep.data_dict\n",
    "        query_params['report_id'] = proj['report_id']\n",
    "        query_params['id'] = proj['id']\n",
    "        cur.execute(query, query_params)\n",
    "        con.commit()\n",
    "    cur.close()\n",
    "    con.close()\n"
   ],
   "metadata": {
    "collapsed": true,
    "ExecuteTime": {
     "end_time": "2024-02-08T08:22:02.878094550Z",
     "start_time": "2024-02-08T08:21:01.973524243Z"
    }
   },
   "id": "initial_id",
   "execution_count": 8
  },
  {
   "cell_type": "code",
   "outputs": [
    {
     "data": {
      "text/plain": "                               report_id             id  \\\n16  f9b43dc5-f8fe-4cb0-b91a-54cbf23de536  129342_777438   \n17  ba9999e5-b9f2-4eb0-8b71-eec0c9af1930  129342_777438   \n18  59237f70-29b4-463c-a869-8323df9f54ca  128050_776996   \n19  df93c3fa-d9ac-46ad-9b8a-d423fb715ae6  128050_776996   \n\n                                            site_name        lat        lng  \\\n16                        Orion Utopia - Sh35,Varthur  12.934247  77.743869   \n17                        Orion Utopia - Sh35,Varthur  12.934247  77.743869   \n18  Orion Valencia - Hosur Road, Keerthi Layout,Su...  12.805019  77.699684   \n19  Orion Valencia - Hosur Road, Keerthi Layout,Su...  12.805019  77.699684   \n\n                                             geometry  \\\n16  POLYGON ((77.751869 12.98133, 77.749635 12.979...   \n17  POLYGON ((77.745869 12.937926, 77.743614 12.93...   \n18  POLYGON ((77.647684 12.877109, 77.646743 12.87...   \n19  POLYGON ((77.698684 12.808065, 77.697772 12.80...   \n\n                                 location catchment_type  \\\n16                           Sh35,Varthur        i15mind   \n17                           Sh35,Varthur        i500mtd   \n18  Hosur Road, Keerthi Layout,Suryanagar        i15mind   \n19  Hosur Road, Keerthi Layout,Suryanagar        i500mtd   \n\n                                           top_brands  \\\n16  [{\"id\": \"ChIJA7wj8BMSrjsROKK4nf2PcCA\", \"name\":...   \n17  [{\"id\": \"ChIJr8OCGv8TrjsRbG5HtKs6Pm8\", \"name\":...   \n18  [{\"id\": \"ChIJba_U8IxsrjsRK4d0fwEn3KA\", \"name\":...   \n19  [{\"id\": \"ChIJ7VcOZjNsrjsR88oQJA5Q2xc\", \"name\":...   \n\n                                                 pois  ... projects_counts  \\\n16  {\"count\": 376, \"avg_number_of_reviews_per_day\"...  ...            None   \n17  {\"count\": 11, \"avg_number_of_reviews_per_day\":...  ...            None   \n18  {\"count\": 318, \"avg_number_of_reviews_per_day\"...  ...            None   \n19  {\"count\": 7, \"avg_number_of_reviews_per_day\": ...  ...            None   \n\n    created_at                             location_score_weights  \\\n16  1707378645  {\"affluence_index\": 0.237, \"apartments_index\":...   \n17  1707378647  {\"affluence_index\": 0.237, \"apartments_index\":...   \n18  1707378648  {\"affluence_index\": 0.237, \"apartments_index\":...   \n19  1707378649  {\"affluence_index\": 0.237, \"apartments_index\":...   \n\n                                      grouped_indexes  \\\n16  {\"affluence_index\": 3.39, \"apartments_index\": ...   \n17  {\"affluence_index\": 3.39, \"apartments_index\": ...   \n18  {\"affluence_index\": 2.67, \"apartments_index\": ...   \n19  {\"affluence_index\": 2.67, \"apartments_index\": ...   \n\n                                    demand_generators   city_lat   city_lng  \\\n16  {\"clinic\": 406, \"college\": 51, \"hospital\": 147...  12.976794  77.590082   \n17  {\"clinic\": 14, \"hospital\": 5, \"pharmacy\": 3, \"...  12.976794  77.590082   \n18  {\"clinic\": 504, \"college\": 137, \"hospital\": 28...  12.976794  77.590082   \n19  {\"clinic\": 5, \"hospital\": 11, \"pharmacy\": 4, \"...  12.976794  77.590082   \n\n    distance_from_city_center  orientation_from_city_center  \\\n16                  17.337685                            SE   \n17                  17.337685                            SE   \n18                  22.419331                            SE   \n19                  22.419331                            SE   \n\n   competitors_domains  \n16                  []  \n17                  []  \n18                  []  \n19                  []  \n\n[4 rows x 32 columns]",
      "text/html": "<div>\n<style scoped>\n    .dataframe tbody tr th:only-of-type {\n        vertical-align: middle;\n    }\n\n    .dataframe tbody tr th {\n        vertical-align: top;\n    }\n\n    .dataframe thead th {\n        text-align: right;\n    }\n</style>\n<table border=\"1\" class=\"dataframe\">\n  <thead>\n    <tr style=\"text-align: right;\">\n      <th></th>\n      <th>report_id</th>\n      <th>id</th>\n      <th>site_name</th>\n      <th>lat</th>\n      <th>lng</th>\n      <th>geometry</th>\n      <th>location</th>\n      <th>catchment_type</th>\n      <th>top_brands</th>\n      <th>pois</th>\n      <th>...</th>\n      <th>projects_counts</th>\n      <th>created_at</th>\n      <th>location_score_weights</th>\n      <th>grouped_indexes</th>\n      <th>demand_generators</th>\n      <th>city_lat</th>\n      <th>city_lng</th>\n      <th>distance_from_city_center</th>\n      <th>orientation_from_city_center</th>\n      <th>competitors_domains</th>\n    </tr>\n  </thead>\n  <tbody>\n    <tr>\n      <th>16</th>\n      <td>f9b43dc5-f8fe-4cb0-b91a-54cbf23de536</td>\n      <td>129342_777438</td>\n      <td>Orion Utopia - Sh35,Varthur</td>\n      <td>12.934247</td>\n      <td>77.743869</td>\n      <td>POLYGON ((77.751869 12.98133, 77.749635 12.979...</td>\n      <td>Sh35,Varthur</td>\n      <td>i15mind</td>\n      <td>[{\"id\": \"ChIJA7wj8BMSrjsROKK4nf2PcCA\", \"name\":...</td>\n      <td>{\"count\": 376, \"avg_number_of_reviews_per_day\"...</td>\n      <td>...</td>\n      <td>None</td>\n      <td>1707378645</td>\n      <td>{\"affluence_index\": 0.237, \"apartments_index\":...</td>\n      <td>{\"affluence_index\": 3.39, \"apartments_index\": ...</td>\n      <td>{\"clinic\": 406, \"college\": 51, \"hospital\": 147...</td>\n      <td>12.976794</td>\n      <td>77.590082</td>\n      <td>17.337685</td>\n      <td>SE</td>\n      <td>[]</td>\n    </tr>\n    <tr>\n      <th>17</th>\n      <td>ba9999e5-b9f2-4eb0-8b71-eec0c9af1930</td>\n      <td>129342_777438</td>\n      <td>Orion Utopia - Sh35,Varthur</td>\n      <td>12.934247</td>\n      <td>77.743869</td>\n      <td>POLYGON ((77.745869 12.937926, 77.743614 12.93...</td>\n      <td>Sh35,Varthur</td>\n      <td>i500mtd</td>\n      <td>[{\"id\": \"ChIJr8OCGv8TrjsRbG5HtKs6Pm8\", \"name\":...</td>\n      <td>{\"count\": 11, \"avg_number_of_reviews_per_day\":...</td>\n      <td>...</td>\n      <td>None</td>\n      <td>1707378647</td>\n      <td>{\"affluence_index\": 0.237, \"apartments_index\":...</td>\n      <td>{\"affluence_index\": 3.39, \"apartments_index\": ...</td>\n      <td>{\"clinic\": 14, \"hospital\": 5, \"pharmacy\": 3, \"...</td>\n      <td>12.976794</td>\n      <td>77.590082</td>\n      <td>17.337685</td>\n      <td>SE</td>\n      <td>[]</td>\n    </tr>\n    <tr>\n      <th>18</th>\n      <td>59237f70-29b4-463c-a869-8323df9f54ca</td>\n      <td>128050_776996</td>\n      <td>Orion Valencia - Hosur Road, Keerthi Layout,Su...</td>\n      <td>12.805019</td>\n      <td>77.699684</td>\n      <td>POLYGON ((77.647684 12.877109, 77.646743 12.87...</td>\n      <td>Hosur Road, Keerthi Layout,Suryanagar</td>\n      <td>i15mind</td>\n      <td>[{\"id\": \"ChIJba_U8IxsrjsRK4d0fwEn3KA\", \"name\":...</td>\n      <td>{\"count\": 318, \"avg_number_of_reviews_per_day\"...</td>\n      <td>...</td>\n      <td>None</td>\n      <td>1707378648</td>\n      <td>{\"affluence_index\": 0.237, \"apartments_index\":...</td>\n      <td>{\"affluence_index\": 2.67, \"apartments_index\": ...</td>\n      <td>{\"clinic\": 504, \"college\": 137, \"hospital\": 28...</td>\n      <td>12.976794</td>\n      <td>77.590082</td>\n      <td>22.419331</td>\n      <td>SE</td>\n      <td>[]</td>\n    </tr>\n    <tr>\n      <th>19</th>\n      <td>df93c3fa-d9ac-46ad-9b8a-d423fb715ae6</td>\n      <td>128050_776996</td>\n      <td>Orion Valencia - Hosur Road, Keerthi Layout,Su...</td>\n      <td>12.805019</td>\n      <td>77.699684</td>\n      <td>POLYGON ((77.698684 12.808065, 77.697772 12.80...</td>\n      <td>Hosur Road, Keerthi Layout,Suryanagar</td>\n      <td>i500mtd</td>\n      <td>[{\"id\": \"ChIJ7VcOZjNsrjsR88oQJA5Q2xc\", \"name\":...</td>\n      <td>{\"count\": 7, \"avg_number_of_reviews_per_day\": ...</td>\n      <td>...</td>\n      <td>None</td>\n      <td>1707378649</td>\n      <td>{\"affluence_index\": 0.237, \"apartments_index\":...</td>\n      <td>{\"affluence_index\": 2.67, \"apartments_index\": ...</td>\n      <td>{\"clinic\": 5, \"hospital\": 11, \"pharmacy\": 4, \"...</td>\n      <td>12.976794</td>\n      <td>77.590082</td>\n      <td>22.419331</td>\n      <td>SE</td>\n      <td>[]</td>\n    </tr>\n  </tbody>\n</table>\n<p>4 rows × 32 columns</p>\n</div>"
     },
     "execution_count": 22,
     "metadata": {},
     "output_type": "execute_result"
    }
   ],
   "source": [
    "df = U.get_all_reports().tail(4)\n",
    "df"
   ],
   "metadata": {
    "collapsed": false,
    "ExecuteTime": {
     "end_time": "2024-02-08T09:00:09.546799787Z",
     "start_time": "2024-02-08T09:00:09.456907022Z"
    }
   },
   "id": "dca2a84aba8abc60",
   "execution_count": 22
  },
  {
   "cell_type": "code",
   "outputs": [],
   "source": [
    "df = df.query('catchment_type!=\"i1000mtb\" and id not in (\"129065_775925\",\"130636_775869\")')"
   ],
   "metadata": {
    "collapsed": false,
    "ExecuteTime": {
     "end_time": "2024-02-07T15:41:58.761628124Z",
     "start_time": "2024-02-07T15:41:58.716450854Z"
    }
   },
   "id": "e6781e00b94794e0",
   "execution_count": 34
  },
  {
   "cell_type": "code",
   "outputs": [],
   "source": [
    "df = df.drop(columns=['poi_counts', 'projects_counts', 'median_price'])"
   ],
   "metadata": {
    "collapsed": false,
    "ExecuteTime": {
     "end_time": "2024-02-08T09:00:22.929941605Z",
     "start_time": "2024-02-08T09:00:22.884326855Z"
    }
   },
   "id": "97b1c239d233c603",
   "execution_count": 23
  },
  {
   "cell_type": "code",
   "outputs": [
    {
     "data": {
      "text/plain": "True"
     },
     "execution_count": 50,
     "metadata": {},
     "output_type": "execute_result"
    }
   ],
   "source": [
    "wr.catalog.delete_table_if_exists(database='datasets_prep', table='ind_site_reports_data_v2')"
   ],
   "metadata": {
    "collapsed": false,
    "ExecuteTime": {
     "end_time": "2024-02-01T15:16:58.344073422Z",
     "start_time": "2024-02-01T15:16:56.264498831Z"
    }
   },
   "id": "53f3e959882cbd8e",
   "execution_count": 50
  },
  {
   "cell_type": "code",
   "outputs": [
    {
     "data": {
      "text/plain": "{'paths': ['s3://tuzomldev/site_reports/69f4e773772e4263886c65d8bec6a45d.snappy.parquet'],\n 'partitions_values': {}}"
     },
     "execution_count": 24,
     "metadata": {},
     "output_type": "execute_result"
    }
   ],
   "source": [
    "wr.s3.to_parquet(df, path=\"s3://tuzomldev/site_reports/\", table=\"ind_site_reports_data_v2\", database='datasets_prep',\n",
    "                 dataset=True, mode='append',\n",
    "                 dtype={'report_id': 'string', 'id': 'string', 'site_name': 'string', 'lat': 'double',\n",
    "                        'lng': 'double', 'catchment_type': 'string', 'top_brands': 'string', 'pois': 'string',\n",
    "                        'projects': 'string', 'apartments': 'string', 'median_price': 'string',\n",
    "                        'household_distribution': 'string', 'competition': 'string', 'population': 'string',\n",
    "                        'affluence': 'double', 'avg_cost_for_two': 'double', 'revenue_score': 'double',\n",
    "                        'high_streets': 'string', 'shopping_malls': 'string', 'poi_counts': 'string',\n",
    "                        'projects_counts': 'string', 'created_at': 'bigint', \"companies\": \"string\"})"
   ],
   "metadata": {
    "collapsed": false,
    "ExecuteTime": {
     "end_time": "2024-02-08T09:00:40.734491571Z",
     "start_time": "2024-02-08T09:00:30.783510626Z"
    }
   },
   "id": "c6a0e3dfbc0753e1",
   "execution_count": 24
  },
  {
   "cell_type": "code",
   "outputs": [
    {
     "data": {
      "text/plain": "                               report_id             id  \\\n0   1f78f3ac-d799-470b-9738-2c4da5053cee  130110_775547   \n1   2f78f3ac-d799-470b-9738-2c4da5053cee  130110_775547   \n2   374c8386-5837-43b8-8409-c456849263e7  130009_776325   \n3   2ef72172-e65c-47df-9f06-2a98c9f1fa94  130009_776325   \n4   5fca8372-db67-4e32-9c34-17818bca7c19  130552_777638   \n5   ed374c4c-6dc3-473b-867e-ff707e347939  130552_777638   \n12  178abc17-71da-457e-a908-e5af283279ec  130631_776205   \n13  40b37f44-ff12-481a-b962-7b7b203026e2  130631_776205   \n15  3feae1e7-1e67-4392-a58a-3e0c80285aba  128873_775969   \n16  281cbce7-56d6-4faa-bf18-6ca15a6cc89e  128873_775969   \n\n                                            site_name        lat        lng  \\\n0   Orion Mall - Dr. Rajkumar Road, Rajaji Nagar I...  13.011027  77.554736   \n1   Orion Mall - Dr. Rajkumar Road, Rajaji Nagar I...  13.011027  77.554736   \n2   Orion Avenue - Second Cross N. Thyagaraju Layo...  13.000957  77.632571   \n3   Orion Avenue - Second Cross N. Thyagaraju Layo...  13.000957  77.632571   \n4   Orion Uptown - Old Madras Road, Kattanallur,Sa...  13.055260  77.763894   \n5   Orion Uptown - Old Madras Road, Kattanallur,Sa...  13.055260  77.763894   \n12           Cultfit - Rachenahalli Main Road,Jakkuru  13.063170  77.620569   \n13           Cultfit - Rachenahalli Main Road,Jakkuru  13.063170  77.620569   \n15  Cultfit - Bannerghatta Road, Araka Mico Layout...  12.887373  77.596901   \n16  Cultfit - Bannerghatta Road, Araka Mico Layout...  12.887373  77.596901   \n\n                                             geometry  \\\n0   POLYGON ((77.494736 13.050067, 77.493202 13.05...   \n1   POLYGON ((77.55064773796063 13.010557348159388...   \n2   POLYGON ((77.62847982126846 13.000488913937247...   \n3   POLYGON ((77.644571 13.032047, 77.643571 13.03...   \n4   POLYGON ((77.773894 13.116797, 77.772949 13.11...   \n5   POLYGON ((77.75979674534983 13.05479248128713,...   \n12  POLYGON ((77.606569 13.115077, 77.606492 13.11...   \n13  POLYGON ((77.61647704294562 13.062699625388513...   \n15  POLYGON ((77.600901 12.933643, 77.600373 12.93...   \n16  POLYGON ((77.59281280856402 12.8869084692348, ...   \n\n                                             location catchment_type  \\\n0   Dr. Rajkumar Road, Rajaji Nagar Industrial Sub...        i15mind   \n1   Dr. Rajkumar Road, Rajaji Nagar Industrial Sub...        i500mtb   \n2   Second Cross N. Thyagaraju Layout, Sathya Naga...        i500mtb   \n3   Second Cross N. Thyagaraju Layout, Sathya Naga...        i15mind   \n4      Old Madras Road, Kattanallur,Sannatammanahalli        i15mind   \n5      Old Madras Road, Kattanallur,Sannatammanahalli        i500mtb   \n12                     Rachenahalli Main Road,Jakkuru        i15mind   \n13                     Rachenahalli Main Road,Jakkuru        i500mtb   \n15       Bannerghatta Road, Araka Mico Layout,Arekere        i15mind   \n16       Bannerghatta Road, Araka Mico Layout,Arekere        i500mtb   \n\n                                           top_brands  \\\n0   [{\"id\": \"ChIJe9qj3xs9rjsRDN6CamLC-Co\", \"name\":...   \n1   [{\"id\": \"ChIJe9qj3xs9rjsRDN6CamLC-Co\", \"name\":...   \n2   [{\"id\": \"ChIJAfIetiRpUjoRKDXrDBoNP-0\", \"name\":...   \n3   [{\"id\": \"18767303\", \"name\": \"Imperio Restauran...   \n4   [{\"id\": \"ChIJdUCMjRcPrjsRjZ7tgReBR3M\", \"name\":...   \n5   [{\"id\": \"ChIJu_szAwoPrjsROOxOyHed4WU\", \"name\":...   \n12  [{\"id\": \"18767303\", \"name\": \"Imperio Restauran...   \n13  [{\"id\": \"ChIJmTNfVukZrjsRVpVEffWMvng\", \"name\":...   \n15  [{\"id\": \"54521\", \"name\": \"Swadista Aahar\", \"la...   \n16  [{\"id\": \"ChIJbbebFSkVrjsRVtf4gVLhicw\", \"name\":...   \n\n                                                 pois  ...  \\\n0   {\"count\": 1083, \"avg_number_of_reviews_per_day...  ...   \n1   {\"count\": 131, \"avg_number_of_reviews_per_day\"...  ...   \n2   {\"count\": 24, \"avg_number_of_reviews_per_day\":...  ...   \n3   {\"count\": 674, \"avg_number_of_reviews_per_day\"...  ...   \n4   {\"count\": 85, \"avg_number_of_reviews_per_day\":...  ...   \n5   {\"count\": 15, \"avg_number_of_reviews_per_day\":...  ...   \n12  {\"count\": 577, \"avg_number_of_reviews_per_day\"...  ...   \n13  {\"count\": 1, \"avg_number_of_reviews_per_day\": ...  ...   \n15  {\"count\": 931, \"avg_number_of_reviews_per_day\"...  ...   \n16  {\"count\": 30, \"avg_number_of_reviews_per_day\":...  ...   \n\n                                           population affluence  \\\n0   {\"age_0_19\": 278764.7038758153, \"age_20_34\": 2...  3.675222   \n1   {\"age_0_19\": 4275.960897406801, \"age_20_34\": 4...  4.127932   \n2   {\"age_0_19\": 4633.231310760981, \"age_20_34\": 4...  3.616629   \n3   {\"age_0_19\": 164433.15741358572, \"age_20_34\": ...  3.506014   \n4   {\"age_0_19\": 37307.81912734546, \"age_20_34\": 3...  3.134148   \n5   {\"age_0_19\": 2850.8699982573035, \"age_20_34\": ...  3.205579   \n12  {\"age_0_19\": 141602.16307128005, \"age_20_34\": ...  3.433270   \n13  {\"age_0_19\": 2192.2593981751565, \"age_20_34\": ...  3.592190   \n15  {\"age_0_19\": 205496.0256217947, \"age_20_34\": 2...  3.399921   \n16  {\"age_0_19\": 4107.463355525934, \"age_20_34\": 4...  3.240855   \n\n   avg_cost_for_two revenue_score  \\\n0        460.911885     81.950000   \n1        838.805970     81.950000   \n2        500.000000     82.470000   \n3        498.559078     82.470000   \n4        535.593220     40.173600   \n5        862.500000     40.173600   \n12       500.103520     78.047525   \n13         0.000000           NaN   \n15       451.675127     88.793684   \n16       509.090909           NaN   \n\n                                         high_streets  \\\n0   [{\"cluster_name\": \"1st Main Club Road Near Foo...   \n1   [{\"cluster_name\": \"Dr. Rajkumar Road, Rajaji N...   \n2                                                  []   \n3   [{\"cluster_name\": \"8th Main 3rd Phase Peenya I...   \n4                                                  []   \n5                                                  []   \n12  [{\"cluster_name\": \"3rd A Main, HRBR Layout,Kal...   \n13                                                 []   \n15  [{\"cluster_name\": \"4th Cross Road, Phase 7,J P...   \n16  [{\"cluster_name\": \"Arekere Mico Layout Main Ro...   \n\n                                       shopping_malls  created_at  \\\n0   {\"count\": 8, \"pois\": [{\"id\": \"ChIJoRKfACMWrjsR...  1706512914   \n1   {\"count\": 1, \"pois\": [{\"id\": \"ChIJCUMusVM9rjsR...  1706512950   \n2                            {\"count\": 0, \"pois\": []}  1706684037   \n3                            {\"count\": 0, \"pois\": []}  1706684064   \n4   {\"count\": 2, \"pois\": [{\"id\": \"ChIJfU4i1c0PrjsR...  1706691413   \n5                            {\"count\": 0, \"pois\": []}  1706691490   \n12  {\"count\": 6, \"pois\": [{\"id\": \"ChIJxTyv4WgXrjsR...  1706792829   \n13                           {\"count\": 0, \"pois\": []}  1706792829   \n15  {\"count\": 8, \"pois\": [{\"id\": \"ChIJCYgAwiwVrjsR...  1706793074   \n16  {\"count\": 2, \"pois\": [{\"id\": \"ChIJO781iPwVrjsR...  1706793075   \n\n                               location_score_weights  \\\n0   {\"companies\": 0.11, \"vibrancy\": 0.16, \"transpo...   \n1   {\"companies\": 0.11, \"vibrancy\": 0.16, \"transpo...   \n2   {\"companies\": 0.11, \"vibrancy\": 0.16, \"transpo...   \n3   {\"companies\": 0.11, \"vibrancy\": 0.16, \"transpo...   \n4   {\"companies\": 0.11, \"vibrancy\": 0.16, \"transpo...   \n5   {\"companies\": 0.11, \"vibrancy\": 0.16, \"transpo...   \n12  {\"companies\": 0.11, \"vibrancy\": 0.16, \"transpo...   \n13  {\"companies\": 0.11, \"vibrancy\": 0.16, \"transpo...   \n15  {\"companies\": 0.11, \"vibrancy\": 0.16, \"transpo...   \n16  {\"companies\": 0.11, \"vibrancy\": 0.16, \"transpo...   \n\n                                      grouped_indexes  \\\n0   {\"company_index\": 3.89, \"connectivity_index\": ...   \n1   {\"company_index\": 3.89, \"connectivity_index\": ...   \n2   {'company_index': 4.01, 'connectivity_index': ...   \n3   {'company_index': 4.01, 'connectivity_index': ...   \n4   {'company_index': 2.15, 'connectivity_index': ...   \n5   {'company_index': 2.15, 'connectivity_index': ...   \n12  {\"company_index\": 3.26, \"connectivity_index\": ...   \n13                                                 {}   \n15  {\"company_index\": 4.03, \"connectivity_index\": ...   \n16                                                 {}   \n\n                                    demand_generators  \n0   {\"clinic\": 2093, \"college\": 413, \"hospital\": 6...  \n1   {\"clinic\": 25, \"college\": 7, \"hospital\": 57, \"...  \n2   {\"clinic\": 27, \"hospital\": 5, \"pharmacy\": 8, \"...  \n3   {\"clinic\": 1313, \"college\": 135, \"hospital\": 3...  \n4   {\"clinic\": 187, \"college\": 67, \"hospital\": 89,...  \n5   {\"clinic\": 5, \"hospital\": 3, \"pharmacy\": 1, \"s...  \n12  {\"clinic\": 878, \"college\": 282, \"hospital\": 32...  \n13  {\"clinic\": 5, \"college\": 2, \"hospital\": 2, \"ph...  \n15  {\"clinic\": 1830, \"college\": 293, \"hospital\": 4...  \n16  {\"clinic\": 29, \"college\": 9, \"hospital\": 5, \"p...  \n\n[10 rows x 24 columns]",
      "text/html": "<div>\n<style scoped>\n    .dataframe tbody tr th:only-of-type {\n        vertical-align: middle;\n    }\n\n    .dataframe tbody tr th {\n        vertical-align: top;\n    }\n\n    .dataframe thead th {\n        text-align: right;\n    }\n</style>\n<table border=\"1\" class=\"dataframe\">\n  <thead>\n    <tr style=\"text-align: right;\">\n      <th></th>\n      <th>report_id</th>\n      <th>id</th>\n      <th>site_name</th>\n      <th>lat</th>\n      <th>lng</th>\n      <th>geometry</th>\n      <th>location</th>\n      <th>catchment_type</th>\n      <th>top_brands</th>\n      <th>pois</th>\n      <th>...</th>\n      <th>population</th>\n      <th>affluence</th>\n      <th>avg_cost_for_two</th>\n      <th>revenue_score</th>\n      <th>high_streets</th>\n      <th>shopping_malls</th>\n      <th>created_at</th>\n      <th>location_score_weights</th>\n      <th>grouped_indexes</th>\n      <th>demand_generators</th>\n    </tr>\n  </thead>\n  <tbody>\n    <tr>\n      <th>0</th>\n      <td>1f78f3ac-d799-470b-9738-2c4da5053cee</td>\n      <td>130110_775547</td>\n      <td>Orion Mall - Dr. Rajkumar Road, Rajaji Nagar I...</td>\n      <td>13.011027</td>\n      <td>77.554736</td>\n      <td>POLYGON ((77.494736 13.050067, 77.493202 13.05...</td>\n      <td>Dr. Rajkumar Road, Rajaji Nagar Industrial Sub...</td>\n      <td>i15mind</td>\n      <td>[{\"id\": \"ChIJe9qj3xs9rjsRDN6CamLC-Co\", \"name\":...</td>\n      <td>{\"count\": 1083, \"avg_number_of_reviews_per_day...</td>\n      <td>...</td>\n      <td>{\"age_0_19\": 278764.7038758153, \"age_20_34\": 2...</td>\n      <td>3.675222</td>\n      <td>460.911885</td>\n      <td>81.950000</td>\n      <td>[{\"cluster_name\": \"1st Main Club Road Near Foo...</td>\n      <td>{\"count\": 8, \"pois\": [{\"id\": \"ChIJoRKfACMWrjsR...</td>\n      <td>1706512914</td>\n      <td>{\"companies\": 0.11, \"vibrancy\": 0.16, \"transpo...</td>\n      <td>{\"company_index\": 3.89, \"connectivity_index\": ...</td>\n      <td>{\"clinic\": 2093, \"college\": 413, \"hospital\": 6...</td>\n    </tr>\n    <tr>\n      <th>1</th>\n      <td>2f78f3ac-d799-470b-9738-2c4da5053cee</td>\n      <td>130110_775547</td>\n      <td>Orion Mall - Dr. Rajkumar Road, Rajaji Nagar I...</td>\n      <td>13.011027</td>\n      <td>77.554736</td>\n      <td>POLYGON ((77.55064773796063 13.010557348159388...</td>\n      <td>Dr. Rajkumar Road, Rajaji Nagar Industrial Sub...</td>\n      <td>i500mtb</td>\n      <td>[{\"id\": \"ChIJe9qj3xs9rjsRDN6CamLC-Co\", \"name\":...</td>\n      <td>{\"count\": 131, \"avg_number_of_reviews_per_day\"...</td>\n      <td>...</td>\n      <td>{\"age_0_19\": 4275.960897406801, \"age_20_34\": 4...</td>\n      <td>4.127932</td>\n      <td>838.805970</td>\n      <td>81.950000</td>\n      <td>[{\"cluster_name\": \"Dr. Rajkumar Road, Rajaji N...</td>\n      <td>{\"count\": 1, \"pois\": [{\"id\": \"ChIJCUMusVM9rjsR...</td>\n      <td>1706512950</td>\n      <td>{\"companies\": 0.11, \"vibrancy\": 0.16, \"transpo...</td>\n      <td>{\"company_index\": 3.89, \"connectivity_index\": ...</td>\n      <td>{\"clinic\": 25, \"college\": 7, \"hospital\": 57, \"...</td>\n    </tr>\n    <tr>\n      <th>2</th>\n      <td>374c8386-5837-43b8-8409-c456849263e7</td>\n      <td>130009_776325</td>\n      <td>Orion Avenue - Second Cross N. Thyagaraju Layo...</td>\n      <td>13.000957</td>\n      <td>77.632571</td>\n      <td>POLYGON ((77.62847982126846 13.000488913937247...</td>\n      <td>Second Cross N. Thyagaraju Layout, Sathya Naga...</td>\n      <td>i500mtb</td>\n      <td>[{\"id\": \"ChIJAfIetiRpUjoRKDXrDBoNP-0\", \"name\":...</td>\n      <td>{\"count\": 24, \"avg_number_of_reviews_per_day\":...</td>\n      <td>...</td>\n      <td>{\"age_0_19\": 4633.231310760981, \"age_20_34\": 4...</td>\n      <td>3.616629</td>\n      <td>500.000000</td>\n      <td>82.470000</td>\n      <td>[]</td>\n      <td>{\"count\": 0, \"pois\": []}</td>\n      <td>1706684037</td>\n      <td>{\"companies\": 0.11, \"vibrancy\": 0.16, \"transpo...</td>\n      <td>{'company_index': 4.01, 'connectivity_index': ...</td>\n      <td>{\"clinic\": 27, \"hospital\": 5, \"pharmacy\": 8, \"...</td>\n    </tr>\n    <tr>\n      <th>3</th>\n      <td>2ef72172-e65c-47df-9f06-2a98c9f1fa94</td>\n      <td>130009_776325</td>\n      <td>Orion Avenue - Second Cross N. Thyagaraju Layo...</td>\n      <td>13.000957</td>\n      <td>77.632571</td>\n      <td>POLYGON ((77.644571 13.032047, 77.643571 13.03...</td>\n      <td>Second Cross N. Thyagaraju Layout, Sathya Naga...</td>\n      <td>i15mind</td>\n      <td>[{\"id\": \"18767303\", \"name\": \"Imperio Restauran...</td>\n      <td>{\"count\": 674, \"avg_number_of_reviews_per_day\"...</td>\n      <td>...</td>\n      <td>{\"age_0_19\": 164433.15741358572, \"age_20_34\": ...</td>\n      <td>3.506014</td>\n      <td>498.559078</td>\n      <td>82.470000</td>\n      <td>[{\"cluster_name\": \"8th Main 3rd Phase Peenya I...</td>\n      <td>{\"count\": 0, \"pois\": []}</td>\n      <td>1706684064</td>\n      <td>{\"companies\": 0.11, \"vibrancy\": 0.16, \"transpo...</td>\n      <td>{'company_index': 4.01, 'connectivity_index': ...</td>\n      <td>{\"clinic\": 1313, \"college\": 135, \"hospital\": 3...</td>\n    </tr>\n    <tr>\n      <th>4</th>\n      <td>5fca8372-db67-4e32-9c34-17818bca7c19</td>\n      <td>130552_777638</td>\n      <td>Orion Uptown - Old Madras Road, Kattanallur,Sa...</td>\n      <td>13.055260</td>\n      <td>77.763894</td>\n      <td>POLYGON ((77.773894 13.116797, 77.772949 13.11...</td>\n      <td>Old Madras Road, Kattanallur,Sannatammanahalli</td>\n      <td>i15mind</td>\n      <td>[{\"id\": \"ChIJdUCMjRcPrjsRjZ7tgReBR3M\", \"name\":...</td>\n      <td>{\"count\": 85, \"avg_number_of_reviews_per_day\":...</td>\n      <td>...</td>\n      <td>{\"age_0_19\": 37307.81912734546, \"age_20_34\": 3...</td>\n      <td>3.134148</td>\n      <td>535.593220</td>\n      <td>40.173600</td>\n      <td>[]</td>\n      <td>{\"count\": 2, \"pois\": [{\"id\": \"ChIJfU4i1c0PrjsR...</td>\n      <td>1706691413</td>\n      <td>{\"companies\": 0.11, \"vibrancy\": 0.16, \"transpo...</td>\n      <td>{'company_index': 2.15, 'connectivity_index': ...</td>\n      <td>{\"clinic\": 187, \"college\": 67, \"hospital\": 89,...</td>\n    </tr>\n    <tr>\n      <th>5</th>\n      <td>ed374c4c-6dc3-473b-867e-ff707e347939</td>\n      <td>130552_777638</td>\n      <td>Orion Uptown - Old Madras Road, Kattanallur,Sa...</td>\n      <td>13.055260</td>\n      <td>77.763894</td>\n      <td>POLYGON ((77.75979674534983 13.05479248128713,...</td>\n      <td>Old Madras Road, Kattanallur,Sannatammanahalli</td>\n      <td>i500mtb</td>\n      <td>[{\"id\": \"ChIJu_szAwoPrjsROOxOyHed4WU\", \"name\":...</td>\n      <td>{\"count\": 15, \"avg_number_of_reviews_per_day\":...</td>\n      <td>...</td>\n      <td>{\"age_0_19\": 2850.8699982573035, \"age_20_34\": ...</td>\n      <td>3.205579</td>\n      <td>862.500000</td>\n      <td>40.173600</td>\n      <td>[]</td>\n      <td>{\"count\": 0, \"pois\": []}</td>\n      <td>1706691490</td>\n      <td>{\"companies\": 0.11, \"vibrancy\": 0.16, \"transpo...</td>\n      <td>{'company_index': 2.15, 'connectivity_index': ...</td>\n      <td>{\"clinic\": 5, \"hospital\": 3, \"pharmacy\": 1, \"s...</td>\n    </tr>\n    <tr>\n      <th>12</th>\n      <td>178abc17-71da-457e-a908-e5af283279ec</td>\n      <td>130631_776205</td>\n      <td>Cultfit - Rachenahalli Main Road,Jakkuru</td>\n      <td>13.063170</td>\n      <td>77.620569</td>\n      <td>POLYGON ((77.606569 13.115077, 77.606492 13.11...</td>\n      <td>Rachenahalli Main Road,Jakkuru</td>\n      <td>i15mind</td>\n      <td>[{\"id\": \"18767303\", \"name\": \"Imperio Restauran...</td>\n      <td>{\"count\": 577, \"avg_number_of_reviews_per_day\"...</td>\n      <td>...</td>\n      <td>{\"age_0_19\": 141602.16307128005, \"age_20_34\": ...</td>\n      <td>3.433270</td>\n      <td>500.103520</td>\n      <td>78.047525</td>\n      <td>[{\"cluster_name\": \"3rd A Main, HRBR Layout,Kal...</td>\n      <td>{\"count\": 6, \"pois\": [{\"id\": \"ChIJxTyv4WgXrjsR...</td>\n      <td>1706792829</td>\n      <td>{\"companies\": 0.11, \"vibrancy\": 0.16, \"transpo...</td>\n      <td>{\"company_index\": 3.26, \"connectivity_index\": ...</td>\n      <td>{\"clinic\": 878, \"college\": 282, \"hospital\": 32...</td>\n    </tr>\n    <tr>\n      <th>13</th>\n      <td>40b37f44-ff12-481a-b962-7b7b203026e2</td>\n      <td>130631_776205</td>\n      <td>Cultfit - Rachenahalli Main Road,Jakkuru</td>\n      <td>13.063170</td>\n      <td>77.620569</td>\n      <td>POLYGON ((77.61647704294562 13.062699625388513...</td>\n      <td>Rachenahalli Main Road,Jakkuru</td>\n      <td>i500mtb</td>\n      <td>[{\"id\": \"ChIJmTNfVukZrjsRVpVEffWMvng\", \"name\":...</td>\n      <td>{\"count\": 1, \"avg_number_of_reviews_per_day\": ...</td>\n      <td>...</td>\n      <td>{\"age_0_19\": 2192.2593981751565, \"age_20_34\": ...</td>\n      <td>3.592190</td>\n      <td>0.000000</td>\n      <td>NaN</td>\n      <td>[]</td>\n      <td>{\"count\": 0, \"pois\": []}</td>\n      <td>1706792829</td>\n      <td>{\"companies\": 0.11, \"vibrancy\": 0.16, \"transpo...</td>\n      <td>{}</td>\n      <td>{\"clinic\": 5, \"college\": 2, \"hospital\": 2, \"ph...</td>\n    </tr>\n    <tr>\n      <th>15</th>\n      <td>3feae1e7-1e67-4392-a58a-3e0c80285aba</td>\n      <td>128873_775969</td>\n      <td>Cultfit - Bannerghatta Road, Araka Mico Layout...</td>\n      <td>12.887373</td>\n      <td>77.596901</td>\n      <td>POLYGON ((77.600901 12.933643, 77.600373 12.93...</td>\n      <td>Bannerghatta Road, Araka Mico Layout,Arekere</td>\n      <td>i15mind</td>\n      <td>[{\"id\": \"54521\", \"name\": \"Swadista Aahar\", \"la...</td>\n      <td>{\"count\": 931, \"avg_number_of_reviews_per_day\"...</td>\n      <td>...</td>\n      <td>{\"age_0_19\": 205496.0256217947, \"age_20_34\": 2...</td>\n      <td>3.399921</td>\n      <td>451.675127</td>\n      <td>88.793684</td>\n      <td>[{\"cluster_name\": \"4th Cross Road, Phase 7,J P...</td>\n      <td>{\"count\": 8, \"pois\": [{\"id\": \"ChIJCYgAwiwVrjsR...</td>\n      <td>1706793074</td>\n      <td>{\"companies\": 0.11, \"vibrancy\": 0.16, \"transpo...</td>\n      <td>{\"company_index\": 4.03, \"connectivity_index\": ...</td>\n      <td>{\"clinic\": 1830, \"college\": 293, \"hospital\": 4...</td>\n    </tr>\n    <tr>\n      <th>16</th>\n      <td>281cbce7-56d6-4faa-bf18-6ca15a6cc89e</td>\n      <td>128873_775969</td>\n      <td>Cultfit - Bannerghatta Road, Araka Mico Layout...</td>\n      <td>12.887373</td>\n      <td>77.596901</td>\n      <td>POLYGON ((77.59281280856402 12.8869084692348, ...</td>\n      <td>Bannerghatta Road, Araka Mico Layout,Arekere</td>\n      <td>i500mtb</td>\n      <td>[{\"id\": \"ChIJbbebFSkVrjsRVtf4gVLhicw\", \"name\":...</td>\n      <td>{\"count\": 30, \"avg_number_of_reviews_per_day\":...</td>\n      <td>...</td>\n      <td>{\"age_0_19\": 4107.463355525934, \"age_20_34\": 4...</td>\n      <td>3.240855</td>\n      <td>509.090909</td>\n      <td>NaN</td>\n      <td>[{\"cluster_name\": \"Arekere Mico Layout Main Ro...</td>\n      <td>{\"count\": 2, \"pois\": [{\"id\": \"ChIJO781iPwVrjsR...</td>\n      <td>1706793075</td>\n      <td>{\"companies\": 0.11, \"vibrancy\": 0.16, \"transpo...</td>\n      <td>{}</td>\n      <td>{\"clinic\": 29, \"college\": 9, \"hospital\": 5, \"p...</td>\n    </tr>\n  </tbody>\n</table>\n<p>10 rows × 24 columns</p>\n</div>"
     },
     "execution_count": 12,
     "metadata": {},
     "output_type": "execute_result"
    }
   ],
   "source": [
    "df.shape"
   ],
   "metadata": {
    "collapsed": false,
    "ExecuteTime": {
     "end_time": "2024-02-02T05:34:03.310634879Z",
     "start_time": "2024-02-02T05:34:03.267368011Z"
    }
   },
   "id": "421f4e7cb627e03",
   "execution_count": 12
  },
  {
   "cell_type": "code",
   "outputs": [],
   "source": [
    "import importlib"
   ],
   "metadata": {
    "collapsed": false,
    "ExecuteTime": {
     "end_time": "2024-02-08T08:27:40.005405747Z",
     "start_time": "2024-02-08T08:27:39.920774139Z"
    }
   },
   "id": "69a1160898a515f6",
   "execution_count": 9
  },
  {
   "cell_type": "code",
   "outputs": [
    {
     "data": {
      "text/plain": "<module 'revenue_score' from '/home/jyotiraditya/PycharmProjects/SiteReports/revenue_score.py'>"
     },
     "execution_count": 13,
     "metadata": {},
     "output_type": "execute_result"
    }
   ],
   "source": [
    "import revenue_score as rev\n",
    "importlib.reload(rev)\n"
   ],
   "metadata": {
    "collapsed": false,
    "ExecuteTime": {
     "end_time": "2024-02-08T08:28:53.426148767Z",
     "start_time": "2024-02-08T08:28:53.378082066Z"
    }
   },
   "id": "c2e839d57595924",
   "execution_count": 13
  },
  {
   "cell_type": "code",
   "outputs": [
    {
     "data": {
      "text/plain": "                               report_id             id  \\\n16  f9b43dc5-f8fe-4cb0-b91a-54cbf23de536  129342_777438   \n17  ba9999e5-b9f2-4eb0-8b71-eec0c9af1930  129342_777438   \n18  59237f70-29b4-463c-a869-8323df9f54ca  128050_776996   \n19  df93c3fa-d9ac-46ad-9b8a-d423fb715ae6  128050_776996   \n\n                                            site_name        lat        lng  \\\n16                        Orion Utopia - Sh35,Varthur  12.934247  77.743869   \n17                        Orion Utopia - Sh35,Varthur  12.934247  77.743869   \n18  Orion Valencia - Hosur Road, Keerthi Layout,Su...  12.805019  77.699684   \n19  Orion Valencia - Hosur Road, Keerthi Layout,Su...  12.805019  77.699684   \n\n                                             geometry  \\\n16  POLYGON ((77.751869 12.98133, 77.749635 12.979...   \n17  POLYGON ((77.745869 12.937926, 77.743614 12.93...   \n18  POLYGON ((77.647684 12.877109, 77.646743 12.87...   \n19  POLYGON ((77.698684 12.808065, 77.697772 12.80...   \n\n                                 location catchment_type  \\\n16                           Sh35,Varthur        i15mind   \n17                           Sh35,Varthur        i500mtd   \n18  Hosur Road, Keerthi Layout,Suryanagar        i15mind   \n19  Hosur Road, Keerthi Layout,Suryanagar        i500mtd   \n\n                                           top_brands  \\\n16  [{\"id\": \"ChIJA7wj8BMSrjsROKK4nf2PcCA\", \"name\":...   \n17  [{\"id\": \"ChIJr8OCGv8TrjsRbG5HtKs6Pm8\", \"name\":...   \n18  [{\"id\": \"ChIJba_U8IxsrjsRK4d0fwEn3KA\", \"name\":...   \n19  [{\"id\": \"ChIJ7VcOZjNsrjsR88oQJA5Q2xc\", \"name\":...   \n\n                                                 pois  ... projects_counts  \\\n16  {\"count\": 376, \"avg_number_of_reviews_per_day\"...  ...            None   \n17  {\"count\": 11, \"avg_number_of_reviews_per_day\":...  ...            None   \n18  {\"count\": 318, \"avg_number_of_reviews_per_day\"...  ...            None   \n19  {\"count\": 7, \"avg_number_of_reviews_per_day\": ...  ...            None   \n\n    created_at                             location_score_weights  \\\n16  1707378645  {\"affluence_index\": 0.237, \"apartments_index\":...   \n17  1707378647  {\"affluence_index\": 0.237, \"apartments_index\":...   \n18  1707378648  {\"affluence_index\": 0.237, \"apartments_index\":...   \n19  1707378649  {\"affluence_index\": 0.237, \"apartments_index\":...   \n\n   grouped_indexes                                  demand_generators  \\\n16            None  {\"clinic\": 406, \"college\": 51, \"hospital\": 147...   \n17            None  {\"clinic\": 14, \"hospital\": 5, \"pharmacy\": 3, \"...   \n18            None  {\"clinic\": 504, \"college\": 137, \"hospital\": 28...   \n19            None  {\"clinic\": 5, \"hospital\": 11, \"pharmacy\": 4, \"...   \n\n     city_lat   city_lng  distance_from_city_center  \\\n16  12.976794  77.590082                        NaN   \n17  12.976794  77.590082                        NaN   \n18  12.976794  77.590082                        NaN   \n19  12.976794  77.590082                        NaN   \n\n    orientation_from_city_center competitors_domains  \n16                            SE                  []  \n17                            SE                  []  \n18                            SE                  []  \n19                            SE                  []  \n\n[4 rows x 32 columns]",
      "text/html": "<div>\n<style scoped>\n    .dataframe tbody tr th:only-of-type {\n        vertical-align: middle;\n    }\n\n    .dataframe tbody tr th {\n        vertical-align: top;\n    }\n\n    .dataframe thead th {\n        text-align: right;\n    }\n</style>\n<table border=\"1\" class=\"dataframe\">\n  <thead>\n    <tr style=\"text-align: right;\">\n      <th></th>\n      <th>report_id</th>\n      <th>id</th>\n      <th>site_name</th>\n      <th>lat</th>\n      <th>lng</th>\n      <th>geometry</th>\n      <th>location</th>\n      <th>catchment_type</th>\n      <th>top_brands</th>\n      <th>pois</th>\n      <th>...</th>\n      <th>projects_counts</th>\n      <th>created_at</th>\n      <th>location_score_weights</th>\n      <th>grouped_indexes</th>\n      <th>demand_generators</th>\n      <th>city_lat</th>\n      <th>city_lng</th>\n      <th>distance_from_city_center</th>\n      <th>orientation_from_city_center</th>\n      <th>competitors_domains</th>\n    </tr>\n  </thead>\n  <tbody>\n    <tr>\n      <th>16</th>\n      <td>f9b43dc5-f8fe-4cb0-b91a-54cbf23de536</td>\n      <td>129342_777438</td>\n      <td>Orion Utopia - Sh35,Varthur</td>\n      <td>12.934247</td>\n      <td>77.743869</td>\n      <td>POLYGON ((77.751869 12.98133, 77.749635 12.979...</td>\n      <td>Sh35,Varthur</td>\n      <td>i15mind</td>\n      <td>[{\"id\": \"ChIJA7wj8BMSrjsROKK4nf2PcCA\", \"name\":...</td>\n      <td>{\"count\": 376, \"avg_number_of_reviews_per_day\"...</td>\n      <td>...</td>\n      <td>None</td>\n      <td>1707378645</td>\n      <td>{\"affluence_index\": 0.237, \"apartments_index\":...</td>\n      <td>None</td>\n      <td>{\"clinic\": 406, \"college\": 51, \"hospital\": 147...</td>\n      <td>12.976794</td>\n      <td>77.590082</td>\n      <td>NaN</td>\n      <td>SE</td>\n      <td>[]</td>\n    </tr>\n    <tr>\n      <th>17</th>\n      <td>ba9999e5-b9f2-4eb0-8b71-eec0c9af1930</td>\n      <td>129342_777438</td>\n      <td>Orion Utopia - Sh35,Varthur</td>\n      <td>12.934247</td>\n      <td>77.743869</td>\n      <td>POLYGON ((77.745869 12.937926, 77.743614 12.93...</td>\n      <td>Sh35,Varthur</td>\n      <td>i500mtd</td>\n      <td>[{\"id\": \"ChIJr8OCGv8TrjsRbG5HtKs6Pm8\", \"name\":...</td>\n      <td>{\"count\": 11, \"avg_number_of_reviews_per_day\":...</td>\n      <td>...</td>\n      <td>None</td>\n      <td>1707378647</td>\n      <td>{\"affluence_index\": 0.237, \"apartments_index\":...</td>\n      <td>None</td>\n      <td>{\"clinic\": 14, \"hospital\": 5, \"pharmacy\": 3, \"...</td>\n      <td>12.976794</td>\n      <td>77.590082</td>\n      <td>NaN</td>\n      <td>SE</td>\n      <td>[]</td>\n    </tr>\n    <tr>\n      <th>18</th>\n      <td>59237f70-29b4-463c-a869-8323df9f54ca</td>\n      <td>128050_776996</td>\n      <td>Orion Valencia - Hosur Road, Keerthi Layout,Su...</td>\n      <td>12.805019</td>\n      <td>77.699684</td>\n      <td>POLYGON ((77.647684 12.877109, 77.646743 12.87...</td>\n      <td>Hosur Road, Keerthi Layout,Suryanagar</td>\n      <td>i15mind</td>\n      <td>[{\"id\": \"ChIJba_U8IxsrjsRK4d0fwEn3KA\", \"name\":...</td>\n      <td>{\"count\": 318, \"avg_number_of_reviews_per_day\"...</td>\n      <td>...</td>\n      <td>None</td>\n      <td>1707378648</td>\n      <td>{\"affluence_index\": 0.237, \"apartments_index\":...</td>\n      <td>None</td>\n      <td>{\"clinic\": 504, \"college\": 137, \"hospital\": 28...</td>\n      <td>12.976794</td>\n      <td>77.590082</td>\n      <td>NaN</td>\n      <td>SE</td>\n      <td>[]</td>\n    </tr>\n    <tr>\n      <th>19</th>\n      <td>df93c3fa-d9ac-46ad-9b8a-d423fb715ae6</td>\n      <td>128050_776996</td>\n      <td>Orion Valencia - Hosur Road, Keerthi Layout,Su...</td>\n      <td>12.805019</td>\n      <td>77.699684</td>\n      <td>POLYGON ((77.698684 12.808065, 77.697772 12.80...</td>\n      <td>Hosur Road, Keerthi Layout,Suryanagar</td>\n      <td>i500mtd</td>\n      <td>[{\"id\": \"ChIJ7VcOZjNsrjsR88oQJA5Q2xc\", \"name\":...</td>\n      <td>{\"count\": 7, \"avg_number_of_reviews_per_day\": ...</td>\n      <td>...</td>\n      <td>None</td>\n      <td>1707378649</td>\n      <td>{\"affluence_index\": 0.237, \"apartments_index\":...</td>\n      <td>None</td>\n      <td>{\"clinic\": 5, \"hospital\": 11, \"pharmacy\": 4, \"...</td>\n      <td>12.976794</td>\n      <td>77.590082</td>\n      <td>NaN</td>\n      <td>SE</td>\n      <td>[]</td>\n    </tr>\n  </tbody>\n</table>\n<p>4 rows × 32 columns</p>\n</div>"
     },
     "execution_count": 14,
     "metadata": {},
     "output_type": "execute_result"
    }
   ],
   "source": [
    "all_reports"
   ],
   "metadata": {
    "collapsed": false,
    "ExecuteTime": {
     "end_time": "2024-02-08T08:28:57.507536960Z",
     "start_time": "2024-02-08T08:28:57.484429297Z"
    }
   },
   "id": "bf4ea53e2e4bb9d7",
   "execution_count": 14
  },
  {
   "cell_type": "code",
   "outputs": [
    {
     "name": "stdout",
     "output_type": "stream",
     "text": [
      "i15mind\n",
      "f9b43dc5-f8fe-4cb0-b91a-54cbf23de536 129342_777438 i15mind {'affluence_index': 0.237, 'apartments_index': 0.237, 'fashion_index': 0.237, 'vibrancy': 0.175, 'malls_index': 0.062, 'supermarket_index': 0.05}\n",
      "driving time 15 [] []\n"
     ]
    },
    {
     "data": {
      "text/plain": "<IPython.core.display.Javascript object>",
      "application/javascript": "\n        if (window._pyforest_update_imports_cell) { window._pyforest_update_imports_cell('import os'); }\n    "
     },
     "metadata": {},
     "output_type": "display_data"
    },
    {
     "data": {
      "text/plain": "<IPython.core.display.Javascript object>",
      "application/javascript": "\n        if (window._pyforest_update_imports_cell) { window._pyforest_update_imports_cell('import os'); }\n    "
     },
     "metadata": {},
     "output_type": "display_data"
    },
    {
     "data": {
      "text/plain": "<IPython.core.display.Javascript object>",
      "application/javascript": "\n        if (window._pyforest_update_imports_cell) { window._pyforest_update_imports_cell('import os\\nimport pickle'); }\n    "
     },
     "metadata": {},
     "output_type": "display_data"
    },
    {
     "data": {
      "text/plain": "<IPython.core.display.Javascript object>",
      "application/javascript": "\n        if (window._pyforest_update_imports_cell) { window._pyforest_update_imports_cell('import awswrangler as wr\\nimport os\\nimport pickle'); }\n    "
     },
     "metadata": {},
     "output_type": "display_data"
    },
    {
     "data": {
      "text/plain": "<IPython.core.display.Javascript object>",
      "application/javascript": "\n        if (window._pyforest_update_imports_cell) { window._pyforest_update_imports_cell('import awswrangler as wr\\nimport os\\nimport pickle'); }\n    "
     },
     "metadata": {},
     "output_type": "display_data"
    },
    {
     "data": {
      "text/plain": "<IPython.core.display.Javascript object>",
      "application/javascript": "\n        if (window._pyforest_update_imports_cell) { window._pyforest_update_imports_cell('import awswrangler as wr\\nimport os\\nimport pickle'); }\n    "
     },
     "metadata": {},
     "output_type": "display_data"
    },
    {
     "data": {
      "text/plain": "<IPython.core.display.Javascript object>",
      "application/javascript": "\n        if (window._pyforest_update_imports_cell) { window._pyforest_update_imports_cell('import awswrangler as wr\\nimport os\\nimport pickle'); }\n    "
     },
     "metadata": {},
     "output_type": "display_data"
    },
    {
     "data": {
      "text/plain": "<IPython.core.display.Javascript object>",
      "application/javascript": "\n        if (window._pyforest_update_imports_cell) { window._pyforest_update_imports_cell('import awswrangler as wr\\nimport os\\nimport pickle'); }\n    "
     },
     "metadata": {},
     "output_type": "display_data"
    },
    {
     "data": {
      "text/plain": "<IPython.core.display.Javascript object>",
      "application/javascript": "\n        if (window._pyforest_update_imports_cell) { window._pyforest_update_imports_cell('import awswrangler as wr\\nimport os\\nimport pickle'); }\n    "
     },
     "metadata": {},
     "output_type": "display_data"
    },
    {
     "data": {
      "text/plain": "<IPython.core.display.Javascript object>",
      "application/javascript": "\n        if (window._pyforest_update_imports_cell) { window._pyforest_update_imports_cell('import awswrangler as wr\\nimport os\\nimport pickle\\nimport pandas as pd'); }\n    "
     },
     "metadata": {},
     "output_type": "display_data"
    },
    {
     "data": {
      "text/plain": "<IPython.core.display.Javascript object>",
      "application/javascript": "\n        if (window._pyforest_update_imports_cell) { window._pyforest_update_imports_cell('import awswrangler as wr\\nimport os\\nimport pickle\\nimport pandas as pd'); }\n    "
     },
     "metadata": {},
     "output_type": "display_data"
    },
    {
     "data": {
      "text/plain": "<IPython.core.display.Javascript object>",
      "application/javascript": "\n        if (window._pyforest_update_imports_cell) { window._pyforest_update_imports_cell('import awswrangler as wr\\nimport os\\nimport pickle\\nimport pandas as pd'); }\n    "
     },
     "metadata": {},
     "output_type": "display_data"
    },
    {
     "data": {
      "text/plain": "<IPython.core.display.Javascript object>",
      "application/javascript": "\n        if (window._pyforest_update_imports_cell) { window._pyforest_update_imports_cell('import awswrangler as wr\\nimport os\\nimport pickle\\nimport pandas as pd'); }\n    "
     },
     "metadata": {},
     "output_type": "display_data"
    },
    {
     "data": {
      "text/plain": "<IPython.core.display.Javascript object>",
      "application/javascript": "\n        if (window._pyforest_update_imports_cell) { window._pyforest_update_imports_cell('import awswrangler as wr\\nimport os\\nimport pickle\\nimport pandas as pd'); }\n    "
     },
     "metadata": {},
     "output_type": "display_data"
    },
    {
     "name": "stdout",
     "output_type": "stream",
     "text": [
      "i500mtd\n",
      "ba9999e5-b9f2-4eb0-8b71-eec0c9af1930 129342_777438 i500mtd {'affluence_index': 0.237, 'apartments_index': 0.237, 'fashion_index': 0.237, 'vibrancy': 0.175, 'malls_index': 0.062, 'supermarket_index': 0.05}\n",
      "driving distance 500 [] []\n"
     ]
    },
    {
     "data": {
      "text/plain": "<IPython.core.display.Javascript object>",
      "application/javascript": "\n        if (window._pyforest_update_imports_cell) { window._pyforest_update_imports_cell('import awswrangler as wr\\nimport os\\nimport pickle\\nimport pandas as pd'); }\n    "
     },
     "metadata": {},
     "output_type": "display_data"
    },
    {
     "data": {
      "text/plain": "<IPython.core.display.Javascript object>",
      "application/javascript": "\n        if (window._pyforest_update_imports_cell) { window._pyforest_update_imports_cell('import awswrangler as wr\\nimport os\\nimport pickle\\nimport pandas as pd'); }\n    "
     },
     "metadata": {},
     "output_type": "display_data"
    },
    {
     "data": {
      "text/plain": "<IPython.core.display.Javascript object>",
      "application/javascript": "\n        if (window._pyforest_update_imports_cell) { window._pyforest_update_imports_cell('import awswrangler as wr\\nimport os\\nimport pickle\\nimport pandas as pd'); }\n    "
     },
     "metadata": {},
     "output_type": "display_data"
    },
    {
     "data": {
      "text/plain": "<IPython.core.display.Javascript object>",
      "application/javascript": "\n        if (window._pyforest_update_imports_cell) { window._pyforest_update_imports_cell('import awswrangler as wr\\nimport os\\nimport pickle\\nimport pandas as pd'); }\n    "
     },
     "metadata": {},
     "output_type": "display_data"
    },
    {
     "data": {
      "text/plain": "<IPython.core.display.Javascript object>",
      "application/javascript": "\n        if (window._pyforest_update_imports_cell) { window._pyforest_update_imports_cell('import awswrangler as wr\\nimport os\\nimport pickle\\nimport pandas as pd'); }\n    "
     },
     "metadata": {},
     "output_type": "display_data"
    },
    {
     "data": {
      "text/plain": "<IPython.core.display.Javascript object>",
      "application/javascript": "\n        if (window._pyforest_update_imports_cell) { window._pyforest_update_imports_cell('import awswrangler as wr\\nimport os\\nimport pickle\\nimport pandas as pd'); }\n    "
     },
     "metadata": {},
     "output_type": "display_data"
    },
    {
     "data": {
      "text/plain": "<IPython.core.display.Javascript object>",
      "application/javascript": "\n        if (window._pyforest_update_imports_cell) { window._pyforest_update_imports_cell('import awswrangler as wr\\nimport os\\nimport pickle\\nimport pandas as pd'); }\n    "
     },
     "metadata": {},
     "output_type": "display_data"
    },
    {
     "data": {
      "text/plain": "<IPython.core.display.Javascript object>",
      "application/javascript": "\n        if (window._pyforest_update_imports_cell) { window._pyforest_update_imports_cell('import awswrangler as wr\\nimport os\\nimport pickle\\nimport pandas as pd'); }\n    "
     },
     "metadata": {},
     "output_type": "display_data"
    },
    {
     "data": {
      "text/plain": "<IPython.core.display.Javascript object>",
      "application/javascript": "\n        if (window._pyforest_update_imports_cell) { window._pyforest_update_imports_cell('import awswrangler as wr\\nimport os\\nimport pickle\\nimport pandas as pd'); }\n    "
     },
     "metadata": {},
     "output_type": "display_data"
    },
    {
     "data": {
      "text/plain": "<IPython.core.display.Javascript object>",
      "application/javascript": "\n        if (window._pyforest_update_imports_cell) { window._pyforest_update_imports_cell('import awswrangler as wr\\nimport os\\nimport pickle\\nimport pandas as pd'); }\n    "
     },
     "metadata": {},
     "output_type": "display_data"
    },
    {
     "name": "stdout",
     "output_type": "stream",
     "text": [
      "int() argument must be a string, a bytes-like object or a real number, not 'NoneType'\n",
      "i15mind\n",
      "59237f70-29b4-463c-a869-8323df9f54ca 128050_776996 i15mind {'affluence_index': 0.237, 'apartments_index': 0.237, 'fashion_index': 0.237, 'vibrancy': 0.175, 'malls_index': 0.062, 'supermarket_index': 0.05}\n",
      "driving time 15 [] []\n"
     ]
    },
    {
     "data": {
      "text/plain": "<IPython.core.display.Javascript object>",
      "application/javascript": "\n        if (window._pyforest_update_imports_cell) { window._pyforest_update_imports_cell('import awswrangler as wr\\nimport os\\nimport pickle\\nimport pandas as pd'); }\n    "
     },
     "metadata": {},
     "output_type": "display_data"
    },
    {
     "data": {
      "text/plain": "<IPython.core.display.Javascript object>",
      "application/javascript": "\n        if (window._pyforest_update_imports_cell) { window._pyforest_update_imports_cell('import awswrangler as wr\\nimport os\\nimport pickle\\nimport pandas as pd'); }\n    "
     },
     "metadata": {},
     "output_type": "display_data"
    },
    {
     "data": {
      "text/plain": "<IPython.core.display.Javascript object>",
      "application/javascript": "\n        if (window._pyforest_update_imports_cell) { window._pyforest_update_imports_cell('import awswrangler as wr\\nimport os\\nimport pickle\\nimport pandas as pd'); }\n    "
     },
     "metadata": {},
     "output_type": "display_data"
    },
    {
     "data": {
      "text/plain": "<IPython.core.display.Javascript object>",
      "application/javascript": "\n        if (window._pyforest_update_imports_cell) { window._pyforest_update_imports_cell('import awswrangler as wr\\nimport os\\nimport pickle\\nimport pandas as pd'); }\n    "
     },
     "metadata": {},
     "output_type": "display_data"
    },
    {
     "data": {
      "text/plain": "<IPython.core.display.Javascript object>",
      "application/javascript": "\n        if (window._pyforest_update_imports_cell) { window._pyforest_update_imports_cell('import awswrangler as wr\\nimport os\\nimport pickle\\nimport pandas as pd'); }\n    "
     },
     "metadata": {},
     "output_type": "display_data"
    },
    {
     "data": {
      "text/plain": "<IPython.core.display.Javascript object>",
      "application/javascript": "\n        if (window._pyforest_update_imports_cell) { window._pyforest_update_imports_cell('import awswrangler as wr\\nimport os\\nimport pickle\\nimport pandas as pd'); }\n    "
     },
     "metadata": {},
     "output_type": "display_data"
    },
    {
     "data": {
      "text/plain": "<IPython.core.display.Javascript object>",
      "application/javascript": "\n        if (window._pyforest_update_imports_cell) { window._pyforest_update_imports_cell('import awswrangler as wr\\nimport os\\nimport pickle\\nimport pandas as pd'); }\n    "
     },
     "metadata": {},
     "output_type": "display_data"
    },
    {
     "data": {
      "text/plain": "<IPython.core.display.Javascript object>",
      "application/javascript": "\n        if (window._pyforest_update_imports_cell) { window._pyforest_update_imports_cell('import awswrangler as wr\\nimport os\\nimport pickle\\nimport pandas as pd'); }\n    "
     },
     "metadata": {},
     "output_type": "display_data"
    },
    {
     "data": {
      "text/plain": "<IPython.core.display.Javascript object>",
      "application/javascript": "\n        if (window._pyforest_update_imports_cell) { window._pyforest_update_imports_cell('import awswrangler as wr\\nimport os\\nimport pickle\\nimport pandas as pd'); }\n    "
     },
     "metadata": {},
     "output_type": "display_data"
    },
    {
     "data": {
      "text/plain": "<IPython.core.display.Javascript object>",
      "application/javascript": "\n        if (window._pyforest_update_imports_cell) { window._pyforest_update_imports_cell('import awswrangler as wr\\nimport os\\nimport pickle\\nimport pandas as pd'); }\n    "
     },
     "metadata": {},
     "output_type": "display_data"
    },
    {
     "data": {
      "text/plain": "<IPython.core.display.Javascript object>",
      "application/javascript": "\n        if (window._pyforest_update_imports_cell) { window._pyforest_update_imports_cell('import awswrangler as wr\\nimport os\\nimport pickle\\nimport pandas as pd'); }\n    "
     },
     "metadata": {},
     "output_type": "display_data"
    },
    {
     "data": {
      "text/plain": "<IPython.core.display.Javascript object>",
      "application/javascript": "\n        if (window._pyforest_update_imports_cell) { window._pyforest_update_imports_cell('import awswrangler as wr\\nimport os\\nimport pickle\\nimport pandas as pd'); }\n    "
     },
     "metadata": {},
     "output_type": "display_data"
    },
    {
     "data": {
      "text/plain": "<IPython.core.display.Javascript object>",
      "application/javascript": "\n        if (window._pyforest_update_imports_cell) { window._pyforest_update_imports_cell('import awswrangler as wr\\nimport os\\nimport pickle\\nimport pandas as pd'); }\n    "
     },
     "metadata": {},
     "output_type": "display_data"
    },
    {
     "data": {
      "text/plain": "<IPython.core.display.Javascript object>",
      "application/javascript": "\n        if (window._pyforest_update_imports_cell) { window._pyforest_update_imports_cell('import awswrangler as wr\\nimport os\\nimport pickle\\nimport pandas as pd'); }\n    "
     },
     "metadata": {},
     "output_type": "display_data"
    },
    {
     "name": "stdout",
     "output_type": "stream",
     "text": [
      "i500mtd\n",
      "df93c3fa-d9ac-46ad-9b8a-d423fb715ae6 128050_776996 i500mtd {'affluence_index': 0.237, 'apartments_index': 0.237, 'fashion_index': 0.237, 'vibrancy': 0.175, 'malls_index': 0.062, 'supermarket_index': 0.05}\n",
      "driving distance 500 [] []\n"
     ]
    },
    {
     "data": {
      "text/plain": "<IPython.core.display.Javascript object>",
      "application/javascript": "\n        if (window._pyforest_update_imports_cell) { window._pyforest_update_imports_cell('import awswrangler as wr\\nimport os\\nimport pickle\\nimport pandas as pd'); }\n    "
     },
     "metadata": {},
     "output_type": "display_data"
    },
    {
     "data": {
      "text/plain": "<IPython.core.display.Javascript object>",
      "application/javascript": "\n        if (window._pyforest_update_imports_cell) { window._pyforest_update_imports_cell('import awswrangler as wr\\nimport os\\nimport pickle\\nimport pandas as pd'); }\n    "
     },
     "metadata": {},
     "output_type": "display_data"
    },
    {
     "data": {
      "text/plain": "<IPython.core.display.Javascript object>",
      "application/javascript": "\n        if (window._pyforest_update_imports_cell) { window._pyforest_update_imports_cell('import awswrangler as wr\\nimport os\\nimport pickle\\nimport pandas as pd'); }\n    "
     },
     "metadata": {},
     "output_type": "display_data"
    },
    {
     "data": {
      "text/plain": "<IPython.core.display.Javascript object>",
      "application/javascript": "\n        if (window._pyforest_update_imports_cell) { window._pyforest_update_imports_cell('import awswrangler as wr\\nimport os\\nimport pickle\\nimport pandas as pd'); }\n    "
     },
     "metadata": {},
     "output_type": "display_data"
    },
    {
     "data": {
      "text/plain": "<IPython.core.display.Javascript object>",
      "application/javascript": "\n        if (window._pyforest_update_imports_cell) { window._pyforest_update_imports_cell('import awswrangler as wr\\nimport os\\nimport pickle\\nimport pandas as pd'); }\n    "
     },
     "metadata": {},
     "output_type": "display_data"
    },
    {
     "data": {
      "text/plain": "<IPython.core.display.Javascript object>",
      "application/javascript": "\n        if (window._pyforest_update_imports_cell) { window._pyforest_update_imports_cell('import awswrangler as wr\\nimport os\\nimport pickle\\nimport pandas as pd'); }\n    "
     },
     "metadata": {},
     "output_type": "display_data"
    },
    {
     "data": {
      "text/plain": "<IPython.core.display.Javascript object>",
      "application/javascript": "\n        if (window._pyforest_update_imports_cell) { window._pyforest_update_imports_cell('import awswrangler as wr\\nimport os\\nimport pickle\\nimport pandas as pd'); }\n    "
     },
     "metadata": {},
     "output_type": "display_data"
    },
    {
     "data": {
      "text/plain": "<IPython.core.display.Javascript object>",
      "application/javascript": "\n        if (window._pyforest_update_imports_cell) { window._pyforest_update_imports_cell('import awswrangler as wr\\nimport os\\nimport pickle\\nimport pandas as pd'); }\n    "
     },
     "metadata": {},
     "output_type": "display_data"
    },
    {
     "data": {
      "text/plain": "<IPython.core.display.Javascript object>",
      "application/javascript": "\n        if (window._pyforest_update_imports_cell) { window._pyforest_update_imports_cell('import awswrangler as wr\\nimport os\\nimport pickle\\nimport pandas as pd'); }\n    "
     },
     "metadata": {},
     "output_type": "display_data"
    },
    {
     "data": {
      "text/plain": "<IPython.core.display.Javascript object>",
      "application/javascript": "\n        if (window._pyforest_update_imports_cell) { window._pyforest_update_imports_cell('import awswrangler as wr\\nimport os\\nimport pickle\\nimport pandas as pd'); }\n    "
     },
     "metadata": {},
     "output_type": "display_data"
    },
    {
     "name": "stdout",
     "output_type": "stream",
     "text": [
      "int() argument must be a string, a bytes-like object or a real number, not 'NoneType'\n"
     ]
    }
   ],
   "source": [
    "query = '''UPDATE ind_site_reports_v2\n",
    "SET\n",
    "    revenue_score=:revenue_score,\n",
    "    grouped_indexes=:grouped_indexes,\n",
    "    location_score_weights=:location_score_weights,\n",
    "    affluence=:affluence\n",
    "WHERE  id=:id and report_id=:report_id;\n",
    "'''\n",
    "# weights = json.dumps({\n",
    "#     'affluence_index': 0.19,\n",
    "#     'apartments_index': 0.19,\n",
    "#     'fashion_index': 0.19,\n",
    "#     'vibrancy': 0.14,\n",
    "#     'healthcare_index': 0.10,\n",
    "#     'company_index': 0.10,\n",
    "#     'malls_index': 0.05,\n",
    "#     'supermarket_index': 0.04,\n",
    "# })\n",
    "if __name__ == '__main__':\n",
    "    con, cur = U.connect_to_db()\n",
    "    dd=[]\n",
    "    for proj in all_reports.to_dict('records')[:]:\n",
    "        print(proj['catchment_type'])\n",
    "        pattern = re.compile(\"i(?P<cost>\\d+)(?P<cost_type>[a-z]+)(?P<travel_mode>[d|b])$\")\n",
    "        a=pattern.search(proj['catchment_type']).groupdict()\n",
    "        cost_types = {\"mt\": 'distance', 'min': \"time\"}\n",
    "        travel_modes = {\"d\": 'driving', 'b': \"buffer\"}\n",
    "        competitors=json.loads(proj['competitors_domains'])\n",
    "        primary_comp=list(filter(lambda x:x['competitor_type']=='primary_competitor',competitors))\n",
    "        anchor_comp=list(filter(lambda x:x['competitor_type']=='anchor_competitor',competitors))\n",
    "        \n",
    "        weight_score=json.loads(proj['location_score_weights'])\n",
    "        try:\n",
    "            del weight_score['healthcare_index']\n",
    "            del weight_score['company_index']\n",
    "        except:\n",
    "            pass\n",
    "        weight_score = { k: round(v/sum(weight_score.values()),3) for k,v in weight_score.items()}\n",
    "        if primary_comp:\n",
    "            primary_comp=primary_comp[0]['filter']\n",
    "            primary_comp=list(filter(lambda x:\"'\" not in x,primary_comp))\n",
    "        if anchor_comp:\n",
    "            anchor_comp=anchor_comp[0]['filter']\n",
    "            anchor_comp=list(filter(lambda x:\"'\" not in x,anchor_comp))\n",
    "        cost_type=cost_types[a['cost_type']]\n",
    "        travel_mode=travel_modes[a['travel_mode']]\n",
    "        cost=int(a['cost'])\n",
    "        site_id = proj['id']\n",
    "        report_id=proj['report_id']\n",
    "        lat = proj['lat']\n",
    "        lng = proj['lng']\n",
    "        print(report_id,site_id,proj['catchment_type'],weight_score)\n",
    "        print(travel_mode,cost_type,cost,primary_comp,anchor_comp)\n",
    "        try:\n",
    "            revenue_score, grouped_indexs = rev.generate_revenue_score(lat, lng, travel_mode, cost_type, cost,primary_comp,anchor_comp,weight_score)\n",
    "            affluence=grouped_indexs['affluence_index']\n",
    "            grouped_indexs = json.dumps(grouped_indexs)\n",
    "            query_params = dict(revenue_score=revenue_score, grouped_indexes=grouped_indexs,id=site_id,report_id=report_id,location_score_weights=json.dumps(weight_score),affluence=affluence)\n",
    "            dd.append(query_params)\n",
    "            cur.execute(query, query_params)\n",
    "            con.commit()\n",
    "        except Exception as e:\n",
    "            print(e)\n",
    "    cur.close()\n",
    "    con.close()\n"
   ],
   "metadata": {
    "collapsed": false,
    "ExecuteTime": {
     "end_time": "2024-02-08T08:34:24.918172695Z",
     "start_time": "2024-02-08T08:29:30.463690936Z"
    }
   },
   "id": "29cc7cb39056749",
   "execution_count": 16
  },
  {
   "cell_type": "code",
   "outputs": [],
   "source": [
    "from geopy.distance import geodesic, great_circle"
   ],
   "metadata": {
    "collapsed": false,
    "ExecuteTime": {
     "end_time": "2024-02-08T08:40:31.846704322Z",
     "start_time": "2024-02-08T08:40:31.508217749Z"
    }
   },
   "id": "bd73fbd1fd507fbe",
   "execution_count": 17
  },
  {
   "cell_type": "code",
   "outputs": [],
   "source": [
    "def get_direction_from_angle(angle):\n",
    "    if -10 <= angle <= 10:\n",
    "        return 'East'\n",
    "    elif 10 < angle < 80:\n",
    "        return 'North-East'\n",
    "    elif 80 <= angle <= 110:\n",
    "        return 'North'\n",
    "    elif 110 < angle < 170:\n",
    "        return 'North-West'\n",
    "    elif 170 <= angle <= 180:\n",
    "        return 'West'\n",
    "    elif -10 > angle > -80:\n",
    "        return 'South-East'\n",
    "    elif -80 >= angle == -110:\n",
    "        return 'South'\n",
    "    elif -110 > angle > -170:\n",
    "        return 'South-West'\n",
    "    elif -170 >= angle >= -180:\n",
    "        return 'West'\n",
    "    else:\n",
    "        raise ValueError('Angle Not Valid')\n",
    "\n",
    "\n",
    "def get_relative_direction(x1, y1, x2, y2):\n",
    "    import math\n",
    "    if (x1, y1) == (x2, y2):\n",
    "        return 'Same'\n",
    "    # Calculate the angle between the two points in radians\n",
    "    angle = math.atan2(y2 - y1, x2 - x1)\n",
    "\n",
    "    # Convert the angle from radians to degrees\n",
    "    angle_degrees = math.degrees(angle)\n",
    "    # print(angle_degrees)\n",
    "    # Convert the angle to a positive value between 0 and 360 degrees\n",
    "    return get_direction_from_angle(angle_degrees)"
   ],
   "metadata": {
    "collapsed": false,
    "ExecuteTime": {
     "end_time": "2024-02-08T08:40:33.327648127Z",
     "start_time": "2024-02-08T08:40:33.323366922Z"
    }
   },
   "id": "acee90a375eb3e4d",
   "execution_count": 18
  },
  {
   "cell_type": "code",
   "outputs": [],
   "source": [
    "def direction_lookup(destination_x, destination_y,origin_x, origin_y):\n",
    "    import math\n",
    "    deg2rad = math.pi / 180\n",
    "    destination_x=destination_x/deg2rad\n",
    "    destination_y=destination_y/deg2rad\n",
    "    origin_x=origin_x/deg2rad\n",
    "    origin_y=origin_y/deg2rad\n",
    "    deltaX = destination_x - origin_x\n",
    "    deltaY = destination_y - origin_y\n",
    "    degrees_temp = math.atan2(deltaX, deltaY) / math.pi * 180\n",
    "    if degrees_temp < 0:\n",
    "        degrees_final = 360 + degrees_temp\n",
    "    else:\n",
    "        degrees_final = degrees_temp\n",
    "    compass_brackets = [\"N\", \"NE\", \"E\", \"SE\", \"S\", \"SW\", \"W\", \"NW\", \"N\"]\n",
    "    compass_lookup = round(degrees_final / 45)\n",
    "\n",
    "    return compass_brackets[compass_lookup]"
   ],
   "metadata": {
    "collapsed": false,
    "ExecuteTime": {
     "end_time": "2024-02-08T08:40:37.889375397Z",
     "start_time": "2024-02-08T08:40:37.861109201Z"
    }
   },
   "id": "f511074cf4bbe1c9",
   "execution_count": 19
  },
  {
   "cell_type": "code",
   "outputs": [
    {
     "data": {
      "text/plain": "                               report_id             id  \\\n16  f9b43dc5-f8fe-4cb0-b91a-54cbf23de536  129342_777438   \n17  ba9999e5-b9f2-4eb0-8b71-eec0c9af1930  129342_777438   \n18  59237f70-29b4-463c-a869-8323df9f54ca  128050_776996   \n19  df93c3fa-d9ac-46ad-9b8a-d423fb715ae6  128050_776996   \n\n                                            site_name        lat        lng  \\\n16                        Orion Utopia - Sh35,Varthur  12.934247  77.743869   \n17                        Orion Utopia - Sh35,Varthur  12.934247  77.743869   \n18  Orion Valencia - Hosur Road, Keerthi Layout,Su...  12.805019  77.699684   \n19  Orion Valencia - Hosur Road, Keerthi Layout,Su...  12.805019  77.699684   \n\n                                             geometry  \\\n16  POLYGON ((77.751869 12.98133, 77.749635 12.979...   \n17  POLYGON ((77.745869 12.937926, 77.743614 12.93...   \n18  POLYGON ((77.647684 12.877109, 77.646743 12.87...   \n19  POLYGON ((77.698684 12.808065, 77.697772 12.80...   \n\n                                 location catchment_type  \\\n16                           Sh35,Varthur        i15mind   \n17                           Sh35,Varthur        i500mtd   \n18  Hosur Road, Keerthi Layout,Suryanagar        i15mind   \n19  Hosur Road, Keerthi Layout,Suryanagar        i500mtd   \n\n                                           top_brands  \\\n16  [{\"id\": \"ChIJA7wj8BMSrjsROKK4nf2PcCA\", \"name\":...   \n17  [{\"id\": \"ChIJr8OCGv8TrjsRbG5HtKs6Pm8\", \"name\":...   \n18  [{\"id\": \"ChIJba_U8IxsrjsRK4d0fwEn3KA\", \"name\":...   \n19  [{\"id\": \"ChIJ7VcOZjNsrjsR88oQJA5Q2xc\", \"name\":...   \n\n                                                 pois  ... projects_counts  \\\n16  {\"count\": 376, \"avg_number_of_reviews_per_day\"...  ...            None   \n17  {\"count\": 11, \"avg_number_of_reviews_per_day\":...  ...            None   \n18  {\"count\": 318, \"avg_number_of_reviews_per_day\"...  ...            None   \n19  {\"count\": 7, \"avg_number_of_reviews_per_day\": ...  ...            None   \n\n    created_at                             location_score_weights  \\\n16  1707378645  {\"affluence_index\": 0.237, \"apartments_index\":...   \n17  1707378647  {\"affluence_index\": 0.237, \"apartments_index\":...   \n18  1707378648  {\"affluence_index\": 0.237, \"apartments_index\":...   \n19  1707378649  {\"affluence_index\": 0.237, \"apartments_index\":...   \n\n   grouped_indexes                                  demand_generators  \\\n16            None  {\"clinic\": 406, \"college\": 51, \"hospital\": 147...   \n17            None  {\"clinic\": 14, \"hospital\": 5, \"pharmacy\": 3, \"...   \n18            None  {\"clinic\": 504, \"college\": 137, \"hospital\": 28...   \n19            None  {\"clinic\": 5, \"hospital\": 11, \"pharmacy\": 4, \"...   \n\n     city_lat   city_lng  distance_from_city_center  \\\n16  12.976794  77.590082                        NaN   \n17  12.976794  77.590082                        NaN   \n18  12.976794  77.590082                        NaN   \n19  12.976794  77.590082                        NaN   \n\n    orientation_from_city_center competitors_domains  \n16                            SE                  []  \n17                            SE                  []  \n18                            SE                  []  \n19                            SE                  []  \n\n[4 rows x 32 columns]",
      "text/html": "<div>\n<style scoped>\n    .dataframe tbody tr th:only-of-type {\n        vertical-align: middle;\n    }\n\n    .dataframe tbody tr th {\n        vertical-align: top;\n    }\n\n    .dataframe thead th {\n        text-align: right;\n    }\n</style>\n<table border=\"1\" class=\"dataframe\">\n  <thead>\n    <tr style=\"text-align: right;\">\n      <th></th>\n      <th>report_id</th>\n      <th>id</th>\n      <th>site_name</th>\n      <th>lat</th>\n      <th>lng</th>\n      <th>geometry</th>\n      <th>location</th>\n      <th>catchment_type</th>\n      <th>top_brands</th>\n      <th>pois</th>\n      <th>...</th>\n      <th>projects_counts</th>\n      <th>created_at</th>\n      <th>location_score_weights</th>\n      <th>grouped_indexes</th>\n      <th>demand_generators</th>\n      <th>city_lat</th>\n      <th>city_lng</th>\n      <th>distance_from_city_center</th>\n      <th>orientation_from_city_center</th>\n      <th>competitors_domains</th>\n    </tr>\n  </thead>\n  <tbody>\n    <tr>\n      <th>16</th>\n      <td>f9b43dc5-f8fe-4cb0-b91a-54cbf23de536</td>\n      <td>129342_777438</td>\n      <td>Orion Utopia - Sh35,Varthur</td>\n      <td>12.934247</td>\n      <td>77.743869</td>\n      <td>POLYGON ((77.751869 12.98133, 77.749635 12.979...</td>\n      <td>Sh35,Varthur</td>\n      <td>i15mind</td>\n      <td>[{\"id\": \"ChIJA7wj8BMSrjsROKK4nf2PcCA\", \"name\":...</td>\n      <td>{\"count\": 376, \"avg_number_of_reviews_per_day\"...</td>\n      <td>...</td>\n      <td>None</td>\n      <td>1707378645</td>\n      <td>{\"affluence_index\": 0.237, \"apartments_index\":...</td>\n      <td>None</td>\n      <td>{\"clinic\": 406, \"college\": 51, \"hospital\": 147...</td>\n      <td>12.976794</td>\n      <td>77.590082</td>\n      <td>NaN</td>\n      <td>SE</td>\n      <td>[]</td>\n    </tr>\n    <tr>\n      <th>17</th>\n      <td>ba9999e5-b9f2-4eb0-8b71-eec0c9af1930</td>\n      <td>129342_777438</td>\n      <td>Orion Utopia - Sh35,Varthur</td>\n      <td>12.934247</td>\n      <td>77.743869</td>\n      <td>POLYGON ((77.745869 12.937926, 77.743614 12.93...</td>\n      <td>Sh35,Varthur</td>\n      <td>i500mtd</td>\n      <td>[{\"id\": \"ChIJr8OCGv8TrjsRbG5HtKs6Pm8\", \"name\":...</td>\n      <td>{\"count\": 11, \"avg_number_of_reviews_per_day\":...</td>\n      <td>...</td>\n      <td>None</td>\n      <td>1707378647</td>\n      <td>{\"affluence_index\": 0.237, \"apartments_index\":...</td>\n      <td>None</td>\n      <td>{\"clinic\": 14, \"hospital\": 5, \"pharmacy\": 3, \"...</td>\n      <td>12.976794</td>\n      <td>77.590082</td>\n      <td>NaN</td>\n      <td>SE</td>\n      <td>[]</td>\n    </tr>\n    <tr>\n      <th>18</th>\n      <td>59237f70-29b4-463c-a869-8323df9f54ca</td>\n      <td>128050_776996</td>\n      <td>Orion Valencia - Hosur Road, Keerthi Layout,Su...</td>\n      <td>12.805019</td>\n      <td>77.699684</td>\n      <td>POLYGON ((77.647684 12.877109, 77.646743 12.87...</td>\n      <td>Hosur Road, Keerthi Layout,Suryanagar</td>\n      <td>i15mind</td>\n      <td>[{\"id\": \"ChIJba_U8IxsrjsRK4d0fwEn3KA\", \"name\":...</td>\n      <td>{\"count\": 318, \"avg_number_of_reviews_per_day\"...</td>\n      <td>...</td>\n      <td>None</td>\n      <td>1707378648</td>\n      <td>{\"affluence_index\": 0.237, \"apartments_index\":...</td>\n      <td>None</td>\n      <td>{\"clinic\": 504, \"college\": 137, \"hospital\": 28...</td>\n      <td>12.976794</td>\n      <td>77.590082</td>\n      <td>NaN</td>\n      <td>SE</td>\n      <td>[]</td>\n    </tr>\n    <tr>\n      <th>19</th>\n      <td>df93c3fa-d9ac-46ad-9b8a-d423fb715ae6</td>\n      <td>128050_776996</td>\n      <td>Orion Valencia - Hosur Road, Keerthi Layout,Su...</td>\n      <td>12.805019</td>\n      <td>77.699684</td>\n      <td>POLYGON ((77.698684 12.808065, 77.697772 12.80...</td>\n      <td>Hosur Road, Keerthi Layout,Suryanagar</td>\n      <td>i500mtd</td>\n      <td>[{\"id\": \"ChIJ7VcOZjNsrjsR88oQJA5Q2xc\", \"name\":...</td>\n      <td>{\"count\": 7, \"avg_number_of_reviews_per_day\": ...</td>\n      <td>...</td>\n      <td>None</td>\n      <td>1707378649</td>\n      <td>{\"affluence_index\": 0.237, \"apartments_index\":...</td>\n      <td>None</td>\n      <td>{\"clinic\": 5, \"hospital\": 11, \"pharmacy\": 4, \"...</td>\n      <td>12.976794</td>\n      <td>77.590082</td>\n      <td>NaN</td>\n      <td>SE</td>\n      <td>[]</td>\n    </tr>\n  </tbody>\n</table>\n<p>4 rows × 32 columns</p>\n</div>"
     },
     "execution_count": 20,
     "metadata": {},
     "output_type": "execute_result"
    }
   ],
   "source": [
    "all_reports"
   ],
   "metadata": {
    "collapsed": false,
    "ExecuteTime": {
     "end_time": "2024-02-08T08:40:40.545933063Z",
     "start_time": "2024-02-08T08:40:40.504840853Z"
    }
   },
   "id": "a7e02c78cb054def",
   "execution_count": 20
  },
  {
   "cell_type": "code",
   "outputs": [],
   "source": [
    "query = '''UPDATE ind_site_reports_v2\n",
    "SET\n",
    "    distance_from_city_center=:distance_from_city_center,\n",
    "    orientation_from_city_center=:orientation_from_city_center\n",
    "WHERE  id=:id;\n",
    "'''\n",
    "\n",
    "if __name__ == '__main__':\n",
    "    con, cur = U.connect_to_db()\n",
    "    a=[]\n",
    "    for proj in all_reports.drop_duplicates(subset=['id'])[['id', 'lat', 'lng', 'city_lat', 'city_lng']].to_dict(\n",
    "            'records'):\n",
    "        site_id = proj['id']\n",
    "        lat = proj['lat']\n",
    "        lng = proj['lng']\n",
    "        city_lat = proj['city_lat']\n",
    "        city_lng = proj['city_lng']\n",
    "        dist = geodesic((lat, lng), (city_lat, city_lng)).km\n",
    "        # dir = direction_lookup(city_lat, city_lng,lat, lng)\n",
    "        dir = direction_lookup(lat, lng,city_lat, city_lng,)\n",
    "        query_params = dict(distance_from_city_center=dist, orientation_from_city_center=dir, id=site_id)\n",
    "        cur.execute(query, query_params)\n",
    "        a.append(query_params)\n",
    "        con.commit()\n",
    "    cur.close()\n",
    "    con.close()"
   ],
   "metadata": {
    "collapsed": false,
    "ExecuteTime": {
     "end_time": "2024-02-08T08:41:04.743551930Z",
     "start_time": "2024-02-08T08:41:03.730012180Z"
    }
   },
   "id": "212052c24e0caaa7",
   "execution_count": 21
  },
  {
   "cell_type": "code",
   "outputs": [
    {
     "data": {
      "text/plain": "   distance_from_city_center orientation_from_city_center             id\n0                   5.399600                           NW  130110_775547\n1                   5.330382                           SW  130009_776325\n2                  20.753626                           SW  130552_777638\n3                  10.156619                            W  130631_776205\n4                   9.970600                            E  128873_775969",
      "text/html": "<div>\n<style scoped>\n    .dataframe tbody tr th:only-of-type {\n        vertical-align: middle;\n    }\n\n    .dataframe tbody tr th {\n        vertical-align: top;\n    }\n\n    .dataframe thead th {\n        text-align: right;\n    }\n</style>\n<table border=\"1\" class=\"dataframe\">\n  <thead>\n    <tr style=\"text-align: right;\">\n      <th></th>\n      <th>distance_from_city_center</th>\n      <th>orientation_from_city_center</th>\n      <th>id</th>\n    </tr>\n  </thead>\n  <tbody>\n    <tr>\n      <th>0</th>\n      <td>5.399600</td>\n      <td>NW</td>\n      <td>130110_775547</td>\n    </tr>\n    <tr>\n      <th>1</th>\n      <td>5.330382</td>\n      <td>SW</td>\n      <td>130009_776325</td>\n    </tr>\n    <tr>\n      <th>2</th>\n      <td>20.753626</td>\n      <td>SW</td>\n      <td>130552_777638</td>\n    </tr>\n    <tr>\n      <th>3</th>\n      <td>10.156619</td>\n      <td>W</td>\n      <td>130631_776205</td>\n    </tr>\n    <tr>\n      <th>4</th>\n      <td>9.970600</td>\n      <td>E</td>\n      <td>128873_775969</td>\n    </tr>\n  </tbody>\n</table>\n</div>"
     },
     "execution_count": 47,
     "metadata": {},
     "output_type": "execute_result"
    }
   ],
   "source": [
    "pd.DataFrame(a)"
   ],
   "metadata": {
    "collapsed": false,
    "ExecuteTime": {
     "end_time": "2024-02-04T12:42:34.860846828Z",
     "start_time": "2024-02-04T12:42:34.686609742Z"
    }
   },
   "id": "3d9749078e915408",
   "execution_count": 47
  }
 ],
 "metadata": {
  "kernelspec": {
   "display_name": "Python 3",
   "language": "python",
   "name": "python3"
  },
  "language_info": {
   "codemirror_mode": {
    "name": "ipython",
    "version": 2
   },
   "file_extension": ".py",
   "mimetype": "text/x-python",
   "name": "python",
   "nbconvert_exporter": "python",
   "pygments_lexer": "ipython2",
   "version": "2.7.6"
  }
 },
 "nbformat": 4,
 "nbformat_minor": 5
}
