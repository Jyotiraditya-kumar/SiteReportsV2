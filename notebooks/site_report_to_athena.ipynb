{
 "cells": [
  {
   "cell_type": "code",
   "execution_count": 14,
   "id": "140ee3d581b4bba9",
   "metadata": {
    "collapsed": false,
    "ExecuteTime": {
     "end_time": "2024-02-22T11:30:05.297025510Z",
     "start_time": "2024-02-22T11:30:05.125373851Z"
    }
   },
   "outputs": [],
   "source": [
    "import json\n",
    "import re\n",
    "\n",
    "import requests\n",
    "import pandas as pd\n",
    "import awswrangler as wr\n",
    "import utils as U\n",
    "import time"
   ]
  },
  {
   "cell_type": "code",
   "outputs": [],
   "source": [],
   "metadata": {
    "collapsed": false
   },
   "id": "66dc2fe7b2d99e3d"
  },
  {
   "cell_type": "code",
   "outputs": [],
   "source": [
    "import boto3\n",
    "session=boto3\n",
    "def athena_query(client, params):\n",
    "    \n",
    "    response = client.start_query_execution(\n",
    "        QueryString=params[\"query\"],\n",
    "        QueryExecutionContext={\n",
    "            'Database': params['database']\n",
    "        },\n",
    "        ResultConfiguration={\n",
    "        'OutputLocation': 's3://tuzomldev/athena_results/'\n",
    "    }\n",
    "    )\n",
    "    return response\n",
    "\n",
    "def athena_to_s3(session, params, max_execution = 15):\n",
    "    client = session.client('athena', region_name=params[\"region\"])\n",
    "    execution = athena_query(client, params)\n",
    "    execution_id = execution['QueryExecutionId']\n",
    "    print(execution_id)\n",
    "    state = 'RUNNING'\n",
    "\n",
    "    while (max_execution > 0 and state in ['RUNNING', 'QUEUED']):\n",
    "        max_execution = max_execution - 1\n",
    "        response = client.get_query_execution(QueryExecutionId = execution_id)\n",
    "\n",
    "        if 'QueryExecution' in response and \\\n",
    "                'Status' in response['QueryExecution'] and \\\n",
    "                'State' in response['QueryExecution']['Status']:\n",
    "            state = response['QueryExecution']['Status']['State']\n",
    "            if state == 'FAILED':\n",
    "                return False\n",
    "            elif state == 'SUCCEEDED':\n",
    "                s3_path = response['QueryExecution']['ResultConfiguration']['OutputLocation']\n",
    "                filename = re.findall('.*\\/(.*)', s3_path)[0]\n",
    "                return filename\n",
    "        time.sleep(1)\n",
    "    \n",
    "    return False"
   ],
   "metadata": {
    "collapsed": false,
    "ExecuteTime": {
     "end_time": "2024-02-22T11:44:01.642104550Z",
     "start_time": "2024-02-22T11:44:01.497435933Z"
    }
   },
   "id": "7150b8d7c93106d7",
   "execution_count": 23
  },
  {
   "cell_type": "code",
   "outputs": [
    {
     "name": "stdout",
     "output_type": "stream",
     "text": [
      "b0330f94-991a-4209-b7c0-c138248cad7e\n"
     ]
    },
    {
     "data": {
      "text/plain": "'b0330f94-991a-4209-b7c0-c138248cad7e.csv'"
     },
     "execution_count": 24,
     "metadata": {},
     "output_type": "execute_result"
    }
   ],
   "source": [
    "query=\"select * from ind_poi_data_v2_gold limit 10\"\n",
    "params={'database':'datasets_prep','query':query,\"region\":'us-east-2'}\n",
    "athena_to_s3(session,params)"
   ],
   "metadata": {
    "collapsed": false,
    "ExecuteTime": {
     "end_time": "2024-02-22T11:44:07.834401360Z",
     "start_time": "2024-02-22T11:44:05.253427316Z"
    }
   },
   "id": "7a8cdde8b77ec1e7",
   "execution_count": 24
  },
  {
   "cell_type": "code",
   "outputs": [
    {
     "ename": "UnicodeDecodeError",
     "evalue": "'utf-8' codec can't decode byte 0xff in position 55: invalid start byte",
     "output_type": "error",
     "traceback": [
      "\u001B[0;31m---------------------------------------------------------------------------\u001B[0m",
      "\u001B[0;31mUnicodeDecodeError\u001B[0m                        Traceback (most recent call last)",
      "Cell \u001B[0;32mIn[28], line 1\u001B[0m\n\u001B[0;32m----> 1\u001B[0m \u001B[43mwr\u001B[49m\u001B[38;5;241;43m.\u001B[39;49m\u001B[43ms3\u001B[49m\u001B[38;5;241;43m.\u001B[39;49m\u001B[43mread_csv\u001B[49m\u001B[43m(\u001B[49m\u001B[38;5;124;43m\"\u001B[39;49m\u001B[38;5;124;43ms3://tuzomldev/athena_results/b0330f94-991a-4209-b7c0-c138248cad7e.csv\u001B[39;49m\u001B[38;5;124;43m\"\u001B[39;49m\u001B[43m)\u001B[49m\n",
      "File \u001B[0;32m~/anaconda3/envs/SiteReports/lib/python3.10/site-packages/awswrangler/_utils.py:178\u001B[0m, in \u001B[0;36mvalidate_kwargs.<locals>.decorator.<locals>.inner\u001B[0;34m(*args, **kwargs)\u001B[0m\n\u001B[1;32m    175\u001B[0m \u001B[38;5;28;01mif\u001B[39;00m condition_fn() \u001B[38;5;129;01mand\u001B[39;00m \u001B[38;5;28mlen\u001B[39m(passed_unsupported_kwargs) \u001B[38;5;241m>\u001B[39m \u001B[38;5;241m0\u001B[39m:\n\u001B[1;32m    176\u001B[0m     \u001B[38;5;28;01mraise\u001B[39;00m exceptions\u001B[38;5;241m.\u001B[39mInvalidArgument(\u001B[38;5;124mf\u001B[39m\u001B[38;5;124m\"\u001B[39m\u001B[38;5;132;01m{\u001B[39;00mmessage\u001B[38;5;132;01m}\u001B[39;00m\u001B[38;5;124m `\u001B[39m\u001B[38;5;132;01m{\u001B[39;00m\u001B[38;5;124m'\u001B[39m\u001B[38;5;124m, \u001B[39m\u001B[38;5;124m'\u001B[39m\u001B[38;5;241m.\u001B[39mjoin(passed_unsupported_kwargs)\u001B[38;5;132;01m}\u001B[39;00m\u001B[38;5;124m`.\u001B[39m\u001B[38;5;124m\"\u001B[39m)\n\u001B[0;32m--> 178\u001B[0m \u001B[38;5;28;01mreturn\u001B[39;00m \u001B[43mfunc\u001B[49m\u001B[43m(\u001B[49m\u001B[38;5;241;43m*\u001B[39;49m\u001B[43margs\u001B[49m\u001B[43m,\u001B[49m\u001B[43m \u001B[49m\u001B[38;5;241;43m*\u001B[39;49m\u001B[38;5;241;43m*\u001B[39;49m\u001B[43mkwargs\u001B[49m\u001B[43m)\u001B[49m\n",
      "File \u001B[0;32m~/anaconda3/envs/SiteReports/lib/python3.10/site-packages/awswrangler/s3/_read_text.py:298\u001B[0m, in \u001B[0;36mread_csv\u001B[0;34m(path, path_suffix, path_ignore_suffix, version_id, ignore_empty, use_threads, last_modified_begin, last_modified_end, boto3_session, s3_additional_kwargs, dtype_backend, chunksize, dataset, partition_filter, ray_args, **pandas_kwargs)\u001B[0m\n\u001B[1;32m    296\u001B[0m s3_client \u001B[38;5;241m=\u001B[39m _utils\u001B[38;5;241m.\u001B[39mclient(service_name\u001B[38;5;241m=\u001B[39m\u001B[38;5;124m\"\u001B[39m\u001B[38;5;124ms3\u001B[39m\u001B[38;5;124m\"\u001B[39m, session\u001B[38;5;241m=\u001B[39mboto3_session)\n\u001B[1;32m    297\u001B[0m ignore_index: \u001B[38;5;28mbool\u001B[39m \u001B[38;5;241m=\u001B[39m \u001B[38;5;124m\"\u001B[39m\u001B[38;5;124mindex_col\u001B[39m\u001B[38;5;124m\"\u001B[39m \u001B[38;5;129;01mnot\u001B[39;00m \u001B[38;5;129;01min\u001B[39;00m pandas_kwargs\n\u001B[0;32m--> 298\u001B[0m \u001B[38;5;28;01mreturn\u001B[39;00m \u001B[43m_read_text_format\u001B[49m\u001B[43m(\u001B[49m\n\u001B[1;32m    299\u001B[0m \u001B[43m    \u001B[49m\u001B[43mread_format\u001B[49m\u001B[38;5;241;43m=\u001B[39;49m\u001B[38;5;124;43m\"\u001B[39;49m\u001B[38;5;124;43mcsv\u001B[39;49m\u001B[38;5;124;43m\"\u001B[39;49m\u001B[43m,\u001B[49m\n\u001B[1;32m    300\u001B[0m \u001B[43m    \u001B[49m\u001B[43mpath\u001B[49m\u001B[38;5;241;43m=\u001B[39;49m\u001B[43mpath\u001B[49m\u001B[43m,\u001B[49m\n\u001B[1;32m    301\u001B[0m \u001B[43m    \u001B[49m\u001B[43mpath_suffix\u001B[49m\u001B[38;5;241;43m=\u001B[39;49m\u001B[43mpath_suffix\u001B[49m\u001B[43m,\u001B[49m\n\u001B[1;32m    302\u001B[0m \u001B[43m    \u001B[49m\u001B[43mpath_ignore_suffix\u001B[49m\u001B[38;5;241;43m=\u001B[39;49m\u001B[43mpath_ignore_suffix\u001B[49m\u001B[43m,\u001B[49m\n\u001B[1;32m    303\u001B[0m \u001B[43m    \u001B[49m\u001B[43mversion_id\u001B[49m\u001B[38;5;241;43m=\u001B[39;49m\u001B[43mversion_id\u001B[49m\u001B[43m,\u001B[49m\n\u001B[1;32m    304\u001B[0m \u001B[43m    \u001B[49m\u001B[43mignore_empty\u001B[49m\u001B[38;5;241;43m=\u001B[39;49m\u001B[43mignore_empty\u001B[49m\u001B[43m,\u001B[49m\n\u001B[1;32m    305\u001B[0m \u001B[43m    \u001B[49m\u001B[43muse_threads\u001B[49m\u001B[38;5;241;43m=\u001B[39;49m\u001B[43muse_threads\u001B[49m\u001B[43m,\u001B[49m\n\u001B[1;32m    306\u001B[0m \u001B[43m    \u001B[49m\u001B[43ms3_client\u001B[49m\u001B[38;5;241;43m=\u001B[39;49m\u001B[43ms3_client\u001B[49m\u001B[43m,\u001B[49m\n\u001B[1;32m    307\u001B[0m \u001B[43m    \u001B[49m\u001B[43ms3_additional_kwargs\u001B[49m\u001B[38;5;241;43m=\u001B[39;49m\u001B[43ms3_additional_kwargs\u001B[49m\u001B[43m,\u001B[49m\n\u001B[1;32m    308\u001B[0m \u001B[43m    \u001B[49m\u001B[43mchunksize\u001B[49m\u001B[38;5;241;43m=\u001B[39;49m\u001B[43mchunksize\u001B[49m\u001B[43m,\u001B[49m\n\u001B[1;32m    309\u001B[0m \u001B[43m    \u001B[49m\u001B[43mdataset\u001B[49m\u001B[38;5;241;43m=\u001B[39;49m\u001B[43mdataset\u001B[49m\u001B[43m,\u001B[49m\n\u001B[1;32m    310\u001B[0m \u001B[43m    \u001B[49m\u001B[43mpartition_filter\u001B[49m\u001B[38;5;241;43m=\u001B[39;49m\u001B[43mpartition_filter\u001B[49m\u001B[43m,\u001B[49m\n\u001B[1;32m    311\u001B[0m \u001B[43m    \u001B[49m\u001B[43mlast_modified_begin\u001B[49m\u001B[38;5;241;43m=\u001B[39;49m\u001B[43mlast_modified_begin\u001B[49m\u001B[43m,\u001B[49m\n\u001B[1;32m    312\u001B[0m \u001B[43m    \u001B[49m\u001B[43mlast_modified_end\u001B[49m\u001B[38;5;241;43m=\u001B[39;49m\u001B[43mlast_modified_end\u001B[49m\u001B[43m,\u001B[49m\n\u001B[1;32m    313\u001B[0m \u001B[43m    \u001B[49m\u001B[43mignore_index\u001B[49m\u001B[38;5;241;43m=\u001B[39;49m\u001B[43mignore_index\u001B[49m\u001B[43m,\u001B[49m\n\u001B[1;32m    314\u001B[0m \u001B[43m    \u001B[49m\u001B[43mray_args\u001B[49m\u001B[38;5;241;43m=\u001B[39;49m\u001B[43mray_args\u001B[49m\u001B[43m,\u001B[49m\n\u001B[1;32m    315\u001B[0m \u001B[43m    \u001B[49m\u001B[38;5;241;43m*\u001B[39;49m\u001B[38;5;241;43m*\u001B[39;49m\u001B[43mpandas_kwargs\u001B[49m\u001B[43m,\u001B[49m\n\u001B[1;32m    316\u001B[0m \u001B[43m\u001B[49m\u001B[43m)\u001B[49m\n",
      "File \u001B[0;32m~/anaconda3/envs/SiteReports/lib/python3.10/site-packages/awswrangler/s3/_read_text.py:135\u001B[0m, in \u001B[0;36m_read_text_format\u001B[0;34m(read_format, path, path_suffix, path_ignore_suffix, ignore_empty, use_threads, last_modified_begin, last_modified_end, s3_client, s3_additional_kwargs, chunksize, dataset, partition_filter, ignore_index, ray_args, version_id, **pandas_kwargs)\u001B[0m\n\u001B[1;32m    127\u001B[0m     \u001B[38;5;28;01mreturn\u001B[39;00m _read_text_files_chunked(\n\u001B[1;32m    128\u001B[0m         paths\u001B[38;5;241m=\u001B[39mpaths,\n\u001B[1;32m    129\u001B[0m         version_ids\u001B[38;5;241m=\u001B[39mversion_ids,\n\u001B[1;32m    130\u001B[0m         chunksize\u001B[38;5;241m=\u001B[39mchunksize,\n\u001B[1;32m    131\u001B[0m         \u001B[38;5;241m*\u001B[39m\u001B[38;5;241m*\u001B[39margs,\n\u001B[1;32m    132\u001B[0m     )\n\u001B[1;32m    134\u001B[0m ray_args \u001B[38;5;241m=\u001B[39m ray_args \u001B[38;5;28;01mif\u001B[39;00m ray_args \u001B[38;5;28;01melse\u001B[39;00m {}\n\u001B[0;32m--> 135\u001B[0m \u001B[38;5;28;01mreturn\u001B[39;00m \u001B[43m_read_text\u001B[49m\u001B[43m(\u001B[49m\n\u001B[1;32m    136\u001B[0m \u001B[43m    \u001B[49m\u001B[43mread_format\u001B[49m\u001B[43m,\u001B[49m\n\u001B[1;32m    137\u001B[0m \u001B[43m    \u001B[49m\u001B[43mpaths\u001B[49m\u001B[38;5;241;43m=\u001B[39;49m\u001B[43mpaths\u001B[49m\u001B[43m,\u001B[49m\n\u001B[1;32m    138\u001B[0m \u001B[43m    \u001B[49m\u001B[43mpath_root\u001B[49m\u001B[38;5;241;43m=\u001B[39;49m\u001B[43mpath_root\u001B[49m\u001B[43m,\u001B[49m\n\u001B[1;32m    139\u001B[0m \u001B[43m    \u001B[49m\u001B[43muse_threads\u001B[49m\u001B[38;5;241;43m=\u001B[39;49m\u001B[43muse_threads\u001B[49m\u001B[43m,\u001B[49m\n\u001B[1;32m    140\u001B[0m \u001B[43m    \u001B[49m\u001B[43ms3_client\u001B[49m\u001B[38;5;241;43m=\u001B[39;49m\u001B[43ms3_client\u001B[49m\u001B[43m,\u001B[49m\n\u001B[1;32m    141\u001B[0m \u001B[43m    \u001B[49m\u001B[43ms3_additional_kwargs\u001B[49m\u001B[38;5;241;43m=\u001B[39;49m\u001B[43ms3_additional_kwargs\u001B[49m\u001B[43m,\u001B[49m\n\u001B[1;32m    142\u001B[0m \u001B[43m    \u001B[49m\u001B[43mdataset\u001B[49m\u001B[38;5;241;43m=\u001B[39;49m\u001B[43mdataset\u001B[49m\u001B[43m,\u001B[49m\n\u001B[1;32m    143\u001B[0m \u001B[43m    \u001B[49m\u001B[43mignore_index\u001B[49m\u001B[38;5;241;43m=\u001B[39;49m\u001B[43mignore_index\u001B[49m\u001B[43m,\u001B[49m\n\u001B[1;32m    144\u001B[0m \u001B[43m    \u001B[49m\u001B[43mparallelism\u001B[49m\u001B[38;5;241;43m=\u001B[39;49m\u001B[43mray_args\u001B[49m\u001B[38;5;241;43m.\u001B[39;49m\u001B[43mget\u001B[49m\u001B[43m(\u001B[49m\u001B[38;5;124;43m\"\u001B[39;49m\u001B[38;5;124;43mparallelism\u001B[39;49m\u001B[38;5;124;43m\"\u001B[39;49m\u001B[43m,\u001B[49m\u001B[43m \u001B[49m\u001B[38;5;241;43m-\u001B[39;49m\u001B[38;5;241;43m1\u001B[39;49m\u001B[43m)\u001B[49m\u001B[43m,\u001B[49m\n\u001B[1;32m    145\u001B[0m \u001B[43m    \u001B[49m\u001B[43mversion_ids\u001B[49m\u001B[38;5;241;43m=\u001B[39;49m\u001B[43mversion_ids\u001B[49m\u001B[43m,\u001B[49m\n\u001B[1;32m    146\u001B[0m \u001B[43m    \u001B[49m\u001B[43mpandas_kwargs\u001B[49m\u001B[38;5;241;43m=\u001B[39;49m\u001B[43mpandas_kwargs\u001B[49m\u001B[43m,\u001B[49m\n\u001B[1;32m    147\u001B[0m \u001B[43m\u001B[49m\u001B[43m)\u001B[49m\n",
      "File \u001B[0;32m~/anaconda3/envs/SiteReports/lib/python3.10/site-packages/awswrangler/_distributed.py:104\u001B[0m, in \u001B[0;36mEngine.dispatch_on_engine.<locals>.wrapper\u001B[0;34m(*args, **kw)\u001B[0m\n\u001B[1;32m    101\u001B[0m \u001B[38;5;129m@wraps\u001B[39m(func)\n\u001B[1;32m    102\u001B[0m \u001B[38;5;28;01mdef\u001B[39;00m \u001B[38;5;21mwrapper\u001B[39m(\u001B[38;5;241m*\u001B[39margs: Any, \u001B[38;5;241m*\u001B[39m\u001B[38;5;241m*\u001B[39mkw: \u001B[38;5;28mdict\u001B[39m[\u001B[38;5;28mstr\u001B[39m, Any]) \u001B[38;5;241m-\u001B[39m\u001B[38;5;241m>\u001B[39m Any:\n\u001B[1;32m    103\u001B[0m     \u001B[38;5;28mcls\u001B[39m\u001B[38;5;241m.\u001B[39minitialize(name\u001B[38;5;241m=\u001B[39m\u001B[38;5;28mcls\u001B[39m\u001B[38;5;241m.\u001B[39mget()\u001B[38;5;241m.\u001B[39mvalue)\n\u001B[0;32m--> 104\u001B[0m     \u001B[38;5;28;01mreturn\u001B[39;00m \u001B[38;5;28;43mcls\u001B[39;49m\u001B[38;5;241;43m.\u001B[39;49m\u001B[43mdispatch_func\u001B[49m\u001B[43m(\u001B[49m\u001B[43mfunc\u001B[49m\u001B[43m)\u001B[49m\u001B[43m(\u001B[49m\u001B[38;5;241;43m*\u001B[39;49m\u001B[43margs\u001B[49m\u001B[43m,\u001B[49m\u001B[43m \u001B[49m\u001B[38;5;241;43m*\u001B[39;49m\u001B[38;5;241;43m*\u001B[39;49m\u001B[43mkw\u001B[49m\u001B[43m)\u001B[49m\n",
      "File \u001B[0;32m~/anaconda3/envs/SiteReports/lib/python3.10/site-packages/awswrangler/s3/_read_text.py:61\u001B[0m, in \u001B[0;36m_read_text\u001B[0;34m(read_format, paths, path_root, use_threads, s3_client, s3_additional_kwargs, dataset, ignore_index, parallelism, version_ids, pandas_kwargs)\u001B[0m\n\u001B[1;32m     59\u001B[0m parser_func \u001B[38;5;241m=\u001B[39m _resolve_format(read_format)\n\u001B[1;32m     60\u001B[0m executor: _BaseExecutor \u001B[38;5;241m=\u001B[39m _get_executor(use_threads\u001B[38;5;241m=\u001B[39muse_threads)\n\u001B[0;32m---> 61\u001B[0m tables \u001B[38;5;241m=\u001B[39m \u001B[43mexecutor\u001B[49m\u001B[38;5;241;43m.\u001B[39;49m\u001B[43mmap\u001B[49m\u001B[43m(\u001B[49m\n\u001B[1;32m     62\u001B[0m \u001B[43m    \u001B[49m\u001B[43m_read_text_file\u001B[49m\u001B[43m,\u001B[49m\n\u001B[1;32m     63\u001B[0m \u001B[43m    \u001B[49m\u001B[43ms3_client\u001B[49m\u001B[43m,\u001B[49m\n\u001B[1;32m     64\u001B[0m \u001B[43m    \u001B[49m\u001B[43mpaths\u001B[49m\u001B[43m,\u001B[49m\n\u001B[1;32m     65\u001B[0m \u001B[43m    \u001B[49m\u001B[43m[\u001B[49m\u001B[43mversion_ids\u001B[49m\u001B[38;5;241;43m.\u001B[39;49m\u001B[43mget\u001B[49m\u001B[43m(\u001B[49m\u001B[43mp\u001B[49m\u001B[43m)\u001B[49m\u001B[43m \u001B[49m\u001B[38;5;28;43;01mif\u001B[39;49;00m\u001B[43m \u001B[49m\u001B[38;5;28;43misinstance\u001B[39;49m\u001B[43m(\u001B[49m\u001B[43mversion_ids\u001B[49m\u001B[43m,\u001B[49m\u001B[43m \u001B[49m\u001B[38;5;28;43mdict\u001B[39;49m\u001B[43m)\u001B[49m\u001B[43m \u001B[49m\u001B[38;5;28;43;01melse\u001B[39;49;00m\u001B[43m \u001B[49m\u001B[38;5;28;43;01mNone\u001B[39;49;00m\u001B[43m \u001B[49m\u001B[38;5;28;43;01mfor\u001B[39;49;00m\u001B[43m \u001B[49m\u001B[43mp\u001B[49m\u001B[43m \u001B[49m\u001B[38;5;129;43;01min\u001B[39;49;00m\u001B[43m \u001B[49m\u001B[43mpaths\u001B[49m\u001B[43m]\u001B[49m\u001B[43m,\u001B[49m\n\u001B[1;32m     66\u001B[0m \u001B[43m    \u001B[49m\u001B[43mitertools\u001B[49m\u001B[38;5;241;43m.\u001B[39;49m\u001B[43mrepeat\u001B[49m\u001B[43m(\u001B[49m\u001B[43mparser_func\u001B[49m\u001B[43m)\u001B[49m\u001B[43m,\u001B[49m\n\u001B[1;32m     67\u001B[0m \u001B[43m    \u001B[49m\u001B[43mitertools\u001B[49m\u001B[38;5;241;43m.\u001B[39;49m\u001B[43mrepeat\u001B[49m\u001B[43m(\u001B[49m\u001B[43mpath_root\u001B[49m\u001B[43m)\u001B[49m\u001B[43m,\u001B[49m\n\u001B[1;32m     68\u001B[0m \u001B[43m    \u001B[49m\u001B[43mitertools\u001B[49m\u001B[38;5;241;43m.\u001B[39;49m\u001B[43mrepeat\u001B[49m\u001B[43m(\u001B[49m\u001B[43mpandas_kwargs\u001B[49m\u001B[43m)\u001B[49m\u001B[43m,\u001B[49m\n\u001B[1;32m     69\u001B[0m \u001B[43m    \u001B[49m\u001B[43mitertools\u001B[49m\u001B[38;5;241;43m.\u001B[39;49m\u001B[43mrepeat\u001B[49m\u001B[43m(\u001B[49m\u001B[43ms3_additional_kwargs\u001B[49m\u001B[43m)\u001B[49m\u001B[43m,\u001B[49m\n\u001B[1;32m     70\u001B[0m \u001B[43m    \u001B[49m\u001B[43mitertools\u001B[49m\u001B[38;5;241;43m.\u001B[39;49m\u001B[43mrepeat\u001B[49m\u001B[43m(\u001B[49m\u001B[43mdataset\u001B[49m\u001B[43m)\u001B[49m\u001B[43m,\u001B[49m\n\u001B[1;32m     71\u001B[0m \u001B[43m\u001B[49m\u001B[43m)\u001B[49m\n\u001B[1;32m     72\u001B[0m \u001B[38;5;28;01mreturn\u001B[39;00m _union(dfs\u001B[38;5;241m=\u001B[39mtables, ignore_index\u001B[38;5;241m=\u001B[39mignore_index)\n",
      "File \u001B[0;32m~/anaconda3/envs/SiteReports/lib/python3.10/site-packages/awswrangler/_executor.py:53\u001B[0m, in \u001B[0;36m_ThreadPoolExecutor.map\u001B[0;34m(self, func, boto3_client, *args)\u001B[0m\n\u001B[1;32m     51\u001B[0m \u001B[38;5;28;01mif\u001B[39;00m \u001B[38;5;28mself\u001B[39m\u001B[38;5;241m.\u001B[39m_exec \u001B[38;5;129;01mis\u001B[39;00m \u001B[38;5;129;01mnot\u001B[39;00m \u001B[38;5;28;01mNone\u001B[39;00m:\n\u001B[1;32m     52\u001B[0m     iterables \u001B[38;5;241m=\u001B[39m (itertools\u001B[38;5;241m.\u001B[39mrepeat(boto3_client), \u001B[38;5;241m*\u001B[39margs)\n\u001B[0;32m---> 53\u001B[0m     \u001B[38;5;28;01mreturn\u001B[39;00m \u001B[38;5;28;43mlist\u001B[39;49m\u001B[43m(\u001B[49m\u001B[38;5;28;43mself\u001B[39;49m\u001B[38;5;241;43m.\u001B[39;49m\u001B[43m_exec\u001B[49m\u001B[38;5;241;43m.\u001B[39;49m\u001B[43mmap\u001B[49m\u001B[43m(\u001B[49m\u001B[43mfunc\u001B[49m\u001B[43m,\u001B[49m\u001B[43m \u001B[49m\u001B[38;5;241;43m*\u001B[39;49m\u001B[43miterables\u001B[49m\u001B[43m)\u001B[49m\u001B[43m)\u001B[49m\n\u001B[1;32m     54\u001B[0m \u001B[38;5;66;03m# Single-threaded\u001B[39;00m\n\u001B[1;32m     55\u001B[0m \u001B[38;5;28;01mreturn\u001B[39;00m \u001B[38;5;28mlist\u001B[39m(\u001B[38;5;28mmap\u001B[39m(func, \u001B[38;5;241m*\u001B[39m(itertools\u001B[38;5;241m.\u001B[39mrepeat(boto3_client), \u001B[38;5;241m*\u001B[39margs)))\n",
      "File \u001B[0;32m~/anaconda3/envs/SiteReports/lib/python3.10/concurrent/futures/_base.py:621\u001B[0m, in \u001B[0;36mExecutor.map.<locals>.result_iterator\u001B[0;34m()\u001B[0m\n\u001B[1;32m    618\u001B[0m \u001B[38;5;28;01mwhile\u001B[39;00m fs:\n\u001B[1;32m    619\u001B[0m     \u001B[38;5;66;03m# Careful not to keep a reference to the popped future\u001B[39;00m\n\u001B[1;32m    620\u001B[0m     \u001B[38;5;28;01mif\u001B[39;00m timeout \u001B[38;5;129;01mis\u001B[39;00m \u001B[38;5;28;01mNone\u001B[39;00m:\n\u001B[0;32m--> 621\u001B[0m         \u001B[38;5;28;01myield\u001B[39;00m \u001B[43m_result_or_cancel\u001B[49m\u001B[43m(\u001B[49m\u001B[43mfs\u001B[49m\u001B[38;5;241;43m.\u001B[39;49m\u001B[43mpop\u001B[49m\u001B[43m(\u001B[49m\u001B[43m)\u001B[49m\u001B[43m)\u001B[49m\n\u001B[1;32m    622\u001B[0m     \u001B[38;5;28;01melse\u001B[39;00m:\n\u001B[1;32m    623\u001B[0m         \u001B[38;5;28;01myield\u001B[39;00m _result_or_cancel(fs\u001B[38;5;241m.\u001B[39mpop(), end_time \u001B[38;5;241m-\u001B[39m time\u001B[38;5;241m.\u001B[39mmonotonic())\n",
      "File \u001B[0;32m~/anaconda3/envs/SiteReports/lib/python3.10/concurrent/futures/_base.py:319\u001B[0m, in \u001B[0;36m_result_or_cancel\u001B[0;34m(***failed resolving arguments***)\u001B[0m\n\u001B[1;32m    317\u001B[0m \u001B[38;5;28;01mtry\u001B[39;00m:\n\u001B[1;32m    318\u001B[0m     \u001B[38;5;28;01mtry\u001B[39;00m:\n\u001B[0;32m--> 319\u001B[0m         \u001B[38;5;28;01mreturn\u001B[39;00m \u001B[43mfut\u001B[49m\u001B[38;5;241;43m.\u001B[39;49m\u001B[43mresult\u001B[49m\u001B[43m(\u001B[49m\u001B[43mtimeout\u001B[49m\u001B[43m)\u001B[49m\n\u001B[1;32m    320\u001B[0m     \u001B[38;5;28;01mfinally\u001B[39;00m:\n\u001B[1;32m    321\u001B[0m         fut\u001B[38;5;241m.\u001B[39mcancel()\n",
      "File \u001B[0;32m~/anaconda3/envs/SiteReports/lib/python3.10/concurrent/futures/_base.py:451\u001B[0m, in \u001B[0;36mFuture.result\u001B[0;34m(self, timeout)\u001B[0m\n\u001B[1;32m    449\u001B[0m     \u001B[38;5;28;01mraise\u001B[39;00m CancelledError()\n\u001B[1;32m    450\u001B[0m \u001B[38;5;28;01melif\u001B[39;00m \u001B[38;5;28mself\u001B[39m\u001B[38;5;241m.\u001B[39m_state \u001B[38;5;241m==\u001B[39m FINISHED:\n\u001B[0;32m--> 451\u001B[0m     \u001B[38;5;28;01mreturn\u001B[39;00m \u001B[38;5;28;43mself\u001B[39;49m\u001B[38;5;241;43m.\u001B[39;49m\u001B[43m__get_result\u001B[49m\u001B[43m(\u001B[49m\u001B[43m)\u001B[49m\n\u001B[1;32m    453\u001B[0m \u001B[38;5;28mself\u001B[39m\u001B[38;5;241m.\u001B[39m_condition\u001B[38;5;241m.\u001B[39mwait(timeout)\n\u001B[1;32m    455\u001B[0m \u001B[38;5;28;01mif\u001B[39;00m \u001B[38;5;28mself\u001B[39m\u001B[38;5;241m.\u001B[39m_state \u001B[38;5;129;01min\u001B[39;00m [CANCELLED, CANCELLED_AND_NOTIFIED]:\n",
      "File \u001B[0;32m~/anaconda3/envs/SiteReports/lib/python3.10/concurrent/futures/_base.py:403\u001B[0m, in \u001B[0;36mFuture.__get_result\u001B[0;34m(self)\u001B[0m\n\u001B[1;32m    401\u001B[0m \u001B[38;5;28;01mif\u001B[39;00m \u001B[38;5;28mself\u001B[39m\u001B[38;5;241m.\u001B[39m_exception:\n\u001B[1;32m    402\u001B[0m     \u001B[38;5;28;01mtry\u001B[39;00m:\n\u001B[0;32m--> 403\u001B[0m         \u001B[38;5;28;01mraise\u001B[39;00m \u001B[38;5;28mself\u001B[39m\u001B[38;5;241m.\u001B[39m_exception\n\u001B[1;32m    404\u001B[0m     \u001B[38;5;28;01mfinally\u001B[39;00m:\n\u001B[1;32m    405\u001B[0m         \u001B[38;5;66;03m# Break a reference cycle with the exception in self._exception\u001B[39;00m\n\u001B[1;32m    406\u001B[0m         \u001B[38;5;28mself\u001B[39m \u001B[38;5;241m=\u001B[39m \u001B[38;5;28;01mNone\u001B[39;00m\n",
      "File \u001B[0;32m~/anaconda3/envs/SiteReports/lib/python3.10/concurrent/futures/thread.py:58\u001B[0m, in \u001B[0;36m_WorkItem.run\u001B[0;34m(self)\u001B[0m\n\u001B[1;32m     55\u001B[0m     \u001B[38;5;28;01mreturn\u001B[39;00m\n\u001B[1;32m     57\u001B[0m \u001B[38;5;28;01mtry\u001B[39;00m:\n\u001B[0;32m---> 58\u001B[0m     result \u001B[38;5;241m=\u001B[39m \u001B[38;5;28;43mself\u001B[39;49m\u001B[38;5;241;43m.\u001B[39;49m\u001B[43mfn\u001B[49m\u001B[43m(\u001B[49m\u001B[38;5;241;43m*\u001B[39;49m\u001B[38;5;28;43mself\u001B[39;49m\u001B[38;5;241;43m.\u001B[39;49m\u001B[43margs\u001B[49m\u001B[43m,\u001B[49m\u001B[43m \u001B[49m\u001B[38;5;241;43m*\u001B[39;49m\u001B[38;5;241;43m*\u001B[39;49m\u001B[38;5;28;43mself\u001B[39;49m\u001B[38;5;241;43m.\u001B[39;49m\u001B[43mkwargs\u001B[49m\u001B[43m)\u001B[49m\n\u001B[1;32m     59\u001B[0m \u001B[38;5;28;01mexcept\u001B[39;00m \u001B[38;5;167;01mBaseException\u001B[39;00m \u001B[38;5;28;01mas\u001B[39;00m exc:\n\u001B[1;32m     60\u001B[0m     \u001B[38;5;28mself\u001B[39m\u001B[38;5;241m.\u001B[39mfuture\u001B[38;5;241m.\u001B[39mset_exception(exc)\n",
      "File \u001B[0;32m~/anaconda3/envs/SiteReports/lib/python3.10/site-packages/awswrangler/s3/_read_text_core.py:114\u001B[0m, in \u001B[0;36m_read_text_file\u001B[0;34m(s3_client, path, version_id, parser_func, path_root, pandas_kwargs, s3_additional_kwargs, dataset)\u001B[0m\n\u001B[1;32m    102\u001B[0m \u001B[38;5;28;01mtry\u001B[39;00m:\n\u001B[1;32m    103\u001B[0m     \u001B[38;5;28;01mwith\u001B[39;00m open_s3_object(\n\u001B[1;32m    104\u001B[0m         path\u001B[38;5;241m=\u001B[39mpath,\n\u001B[1;32m    105\u001B[0m         version_id\u001B[38;5;241m=\u001B[39mversion_id,\n\u001B[0;32m   (...)\u001B[0m\n\u001B[1;32m    112\u001B[0m         newline\u001B[38;5;241m=\u001B[39mnewline,\n\u001B[1;32m    113\u001B[0m     ) \u001B[38;5;28;01mas\u001B[39;00m f:\n\u001B[0;32m--> 114\u001B[0m         df: pd\u001B[38;5;241m.\u001B[39mDataFrame \u001B[38;5;241m=\u001B[39m \u001B[43mparser_func\u001B[49m\u001B[43m(\u001B[49m\u001B[43mf\u001B[49m\u001B[43m,\u001B[49m\u001B[43m \u001B[49m\u001B[38;5;241;43m*\u001B[39;49m\u001B[38;5;241;43m*\u001B[39;49m\u001B[43mpandas_kwargs\u001B[49m\u001B[43m)\u001B[49m\n\u001B[1;32m    115\u001B[0m \u001B[38;5;28;01mexcept\u001B[39;00m botocore\u001B[38;5;241m.\u001B[39mexceptions\u001B[38;5;241m.\u001B[39mClientError \u001B[38;5;28;01mas\u001B[39;00m e:\n\u001B[1;32m    116\u001B[0m     \u001B[38;5;28;01mif\u001B[39;00m e\u001B[38;5;241m.\u001B[39mresponse[\u001B[38;5;124m\"\u001B[39m\u001B[38;5;124mError\u001B[39m\u001B[38;5;124m\"\u001B[39m][\u001B[38;5;124m\"\u001B[39m\u001B[38;5;124mCode\u001B[39m\u001B[38;5;124m\"\u001B[39m] \u001B[38;5;241m==\u001B[39m \u001B[38;5;124m\"\u001B[39m\u001B[38;5;124m404\u001B[39m\u001B[38;5;124m\"\u001B[39m:\n",
      "File \u001B[0;32m~/anaconda3/envs/SiteReports/lib/python3.10/site-packages/pandas/io/parsers/readers.py:1024\u001B[0m, in \u001B[0;36mread_csv\u001B[0;34m(filepath_or_buffer, sep, delimiter, header, names, index_col, usecols, dtype, engine, converters, true_values, false_values, skipinitialspace, skiprows, skipfooter, nrows, na_values, keep_default_na, na_filter, verbose, skip_blank_lines, parse_dates, infer_datetime_format, keep_date_col, date_parser, date_format, dayfirst, cache_dates, iterator, chunksize, compression, thousands, decimal, lineterminator, quotechar, quoting, doublequote, escapechar, comment, encoding, encoding_errors, dialect, on_bad_lines, delim_whitespace, low_memory, memory_map, float_precision, storage_options, dtype_backend)\u001B[0m\n\u001B[1;32m   1011\u001B[0m kwds_defaults \u001B[38;5;241m=\u001B[39m _refine_defaults_read(\n\u001B[1;32m   1012\u001B[0m     dialect,\n\u001B[1;32m   1013\u001B[0m     delimiter,\n\u001B[0;32m   (...)\u001B[0m\n\u001B[1;32m   1020\u001B[0m     dtype_backend\u001B[38;5;241m=\u001B[39mdtype_backend,\n\u001B[1;32m   1021\u001B[0m )\n\u001B[1;32m   1022\u001B[0m kwds\u001B[38;5;241m.\u001B[39mupdate(kwds_defaults)\n\u001B[0;32m-> 1024\u001B[0m \u001B[38;5;28;01mreturn\u001B[39;00m \u001B[43m_read\u001B[49m\u001B[43m(\u001B[49m\u001B[43mfilepath_or_buffer\u001B[49m\u001B[43m,\u001B[49m\u001B[43m \u001B[49m\u001B[43mkwds\u001B[49m\u001B[43m)\u001B[49m\n",
      "File \u001B[0;32m~/anaconda3/envs/SiteReports/lib/python3.10/site-packages/pandas/io/parsers/readers.py:618\u001B[0m, in \u001B[0;36m_read\u001B[0;34m(filepath_or_buffer, kwds)\u001B[0m\n\u001B[1;32m    615\u001B[0m _validate_names(kwds\u001B[38;5;241m.\u001B[39mget(\u001B[38;5;124m\"\u001B[39m\u001B[38;5;124mnames\u001B[39m\u001B[38;5;124m\"\u001B[39m, \u001B[38;5;28;01mNone\u001B[39;00m))\n\u001B[1;32m    617\u001B[0m \u001B[38;5;66;03m# Create the parser.\u001B[39;00m\n\u001B[0;32m--> 618\u001B[0m parser \u001B[38;5;241m=\u001B[39m \u001B[43mTextFileReader\u001B[49m\u001B[43m(\u001B[49m\u001B[43mfilepath_or_buffer\u001B[49m\u001B[43m,\u001B[49m\u001B[43m \u001B[49m\u001B[38;5;241;43m*\u001B[39;49m\u001B[38;5;241;43m*\u001B[39;49m\u001B[43mkwds\u001B[49m\u001B[43m)\u001B[49m\n\u001B[1;32m    620\u001B[0m \u001B[38;5;28;01mif\u001B[39;00m chunksize \u001B[38;5;129;01mor\u001B[39;00m iterator:\n\u001B[1;32m    621\u001B[0m     \u001B[38;5;28;01mreturn\u001B[39;00m parser\n",
      "File \u001B[0;32m~/anaconda3/envs/SiteReports/lib/python3.10/site-packages/pandas/io/parsers/readers.py:1618\u001B[0m, in \u001B[0;36mTextFileReader.__init__\u001B[0;34m(self, f, engine, **kwds)\u001B[0m\n\u001B[1;32m   1615\u001B[0m     \u001B[38;5;28mself\u001B[39m\u001B[38;5;241m.\u001B[39moptions[\u001B[38;5;124m\"\u001B[39m\u001B[38;5;124mhas_index_names\u001B[39m\u001B[38;5;124m\"\u001B[39m] \u001B[38;5;241m=\u001B[39m kwds[\u001B[38;5;124m\"\u001B[39m\u001B[38;5;124mhas_index_names\u001B[39m\u001B[38;5;124m\"\u001B[39m]\n\u001B[1;32m   1617\u001B[0m \u001B[38;5;28mself\u001B[39m\u001B[38;5;241m.\u001B[39mhandles: IOHandles \u001B[38;5;241m|\u001B[39m \u001B[38;5;28;01mNone\u001B[39;00m \u001B[38;5;241m=\u001B[39m \u001B[38;5;28;01mNone\u001B[39;00m\n\u001B[0;32m-> 1618\u001B[0m \u001B[38;5;28mself\u001B[39m\u001B[38;5;241m.\u001B[39m_engine \u001B[38;5;241m=\u001B[39m \u001B[38;5;28;43mself\u001B[39;49m\u001B[38;5;241;43m.\u001B[39;49m\u001B[43m_make_engine\u001B[49m\u001B[43m(\u001B[49m\u001B[43mf\u001B[49m\u001B[43m,\u001B[49m\u001B[43m \u001B[49m\u001B[38;5;28;43mself\u001B[39;49m\u001B[38;5;241;43m.\u001B[39;49m\u001B[43mengine\u001B[49m\u001B[43m)\u001B[49m\n",
      "File \u001B[0;32m~/anaconda3/envs/SiteReports/lib/python3.10/site-packages/pandas/io/parsers/readers.py:1896\u001B[0m, in \u001B[0;36mTextFileReader._make_engine\u001B[0;34m(self, f, engine)\u001B[0m\n\u001B[1;32m   1893\u001B[0m     \u001B[38;5;28;01mraise\u001B[39;00m \u001B[38;5;167;01mValueError\u001B[39;00m(msg)\n\u001B[1;32m   1895\u001B[0m \u001B[38;5;28;01mtry\u001B[39;00m:\n\u001B[0;32m-> 1896\u001B[0m     \u001B[38;5;28;01mreturn\u001B[39;00m \u001B[43mmapping\u001B[49m\u001B[43m[\u001B[49m\u001B[43mengine\u001B[49m\u001B[43m]\u001B[49m\u001B[43m(\u001B[49m\u001B[43mf\u001B[49m\u001B[43m,\u001B[49m\u001B[43m \u001B[49m\u001B[38;5;241;43m*\u001B[39;49m\u001B[38;5;241;43m*\u001B[39;49m\u001B[38;5;28;43mself\u001B[39;49m\u001B[38;5;241;43m.\u001B[39;49m\u001B[43moptions\u001B[49m\u001B[43m)\u001B[49m\n\u001B[1;32m   1897\u001B[0m \u001B[38;5;28;01mexcept\u001B[39;00m \u001B[38;5;167;01mException\u001B[39;00m:\n\u001B[1;32m   1898\u001B[0m     \u001B[38;5;28;01mif\u001B[39;00m \u001B[38;5;28mself\u001B[39m\u001B[38;5;241m.\u001B[39mhandles \u001B[38;5;129;01mis\u001B[39;00m \u001B[38;5;129;01mnot\u001B[39;00m \u001B[38;5;28;01mNone\u001B[39;00m:\n",
      "File \u001B[0;32m~/anaconda3/envs/SiteReports/lib/python3.10/site-packages/pandas/io/parsers/c_parser_wrapper.py:93\u001B[0m, in \u001B[0;36mCParserWrapper.__init__\u001B[0;34m(self, src, **kwds)\u001B[0m\n\u001B[1;32m     90\u001B[0m \u001B[38;5;28;01mif\u001B[39;00m kwds[\u001B[38;5;124m\"\u001B[39m\u001B[38;5;124mdtype_backend\u001B[39m\u001B[38;5;124m\"\u001B[39m] \u001B[38;5;241m==\u001B[39m \u001B[38;5;124m\"\u001B[39m\u001B[38;5;124mpyarrow\u001B[39m\u001B[38;5;124m\"\u001B[39m:\n\u001B[1;32m     91\u001B[0m     \u001B[38;5;66;03m# Fail here loudly instead of in cython after reading\u001B[39;00m\n\u001B[1;32m     92\u001B[0m     import_optional_dependency(\u001B[38;5;124m\"\u001B[39m\u001B[38;5;124mpyarrow\u001B[39m\u001B[38;5;124m\"\u001B[39m)\n\u001B[0;32m---> 93\u001B[0m \u001B[38;5;28mself\u001B[39m\u001B[38;5;241m.\u001B[39m_reader \u001B[38;5;241m=\u001B[39m \u001B[43mparsers\u001B[49m\u001B[38;5;241;43m.\u001B[39;49m\u001B[43mTextReader\u001B[49m\u001B[43m(\u001B[49m\u001B[43msrc\u001B[49m\u001B[43m,\u001B[49m\u001B[43m \u001B[49m\u001B[38;5;241;43m*\u001B[39;49m\u001B[38;5;241;43m*\u001B[39;49m\u001B[43mkwds\u001B[49m\u001B[43m)\u001B[49m\n\u001B[1;32m     95\u001B[0m \u001B[38;5;28mself\u001B[39m\u001B[38;5;241m.\u001B[39munnamed_cols \u001B[38;5;241m=\u001B[39m \u001B[38;5;28mself\u001B[39m\u001B[38;5;241m.\u001B[39m_reader\u001B[38;5;241m.\u001B[39munnamed_cols\n\u001B[1;32m     97\u001B[0m \u001B[38;5;66;03m# error: Cannot determine type of 'names'\u001B[39;00m\n",
      "File \u001B[0;32mparsers.pyx:574\u001B[0m, in \u001B[0;36mpandas._libs.parsers.TextReader.__cinit__\u001B[0;34m()\u001B[0m\n",
      "File \u001B[0;32mparsers.pyx:663\u001B[0m, in \u001B[0;36mpandas._libs.parsers.TextReader._get_header\u001B[0;34m()\u001B[0m\n",
      "File \u001B[0;32mparsers.pyx:874\u001B[0m, in \u001B[0;36mpandas._libs.parsers.TextReader._tokenize_rows\u001B[0;34m()\u001B[0m\n",
      "File \u001B[0;32mparsers.pyx:891\u001B[0m, in \u001B[0;36mpandas._libs.parsers.TextReader._check_tokenize_status\u001B[0;34m()\u001B[0m\n",
      "File \u001B[0;32mparsers.pyx:2053\u001B[0m, in \u001B[0;36mpandas._libs.parsers.raise_parser_error\u001B[0;34m()\u001B[0m\n",
      "\u001B[0;31mUnicodeDecodeError\u001B[0m: 'utf-8' codec can't decode byte 0xff in position 55: invalid start byte"
     ]
    }
   ],
   "source": [
    "wr.s3.read_csv(\"s3://tuzomldev/athena_results/b0330f94-991a-4209-b7c0-c138248cad7e.csv\")"
   ],
   "metadata": {
    "collapsed": false,
    "ExecuteTime": {
     "end_time": "2024-02-22T11:47:07.574160373Z",
     "start_time": "2024-02-22T11:47:01.898806752Z"
    }
   },
   "id": "19427498a77394c7",
   "execution_count": 28
  },
  {
   "cell_type": "code",
   "outputs": [
    {
     "name": "stdout",
     "output_type": "stream",
     "text": [
      "Execution ID: 3b2d44f0-5c3f-44bd-903e-260045ec7149\n",
      "RUNNING\n",
      "SUCCEEDED\n",
      "Query \"select * from ind_poi_data_v2_gold limit 10\" finished.\n"
     ]
    }
   ],
   "source": [
    "import io\n",
    "class QueryAthena:\n",
    "    \n",
    "    def __init__(self, query, database):\n",
    "        self.database = database\n",
    "        self.folder = 'athena_results'\n",
    "        self.bucket = 'tuzomldev'\n",
    "        self.s3_input = 's3://' + self.bucket + '/'+self.folder\n",
    "        self.s3_output =  's3://' + self.bucket + '/' + self.folder\n",
    "        self.region_name = 'us-east-2'\n",
    "        self.query = query\n",
    "        \n",
    "    def load_conf(self, q):\n",
    "        try:\n",
    "            self.client = boto3.client('athena', region_name = self.region_name, )\n",
    "            response = self.client.start_query_execution(\n",
    "                QueryString = q,\n",
    "                    QueryExecutionContext={\n",
    "                    'Database': self.database\n",
    "                    },\n",
    "                    ResultConfiguration={\n",
    "                    'OutputLocation': self.s3_output,\n",
    "                    }\n",
    "            )\n",
    "            self.filename = response['QueryExecutionId']\n",
    "            print('Execution ID: ' + response['QueryExecutionId'])\n",
    "            return response\n",
    "\n",
    "        except Exception as e:\n",
    "            print(e)                \n",
    "  \n",
    "    def run_query(self):\n",
    "        queries = [self.query]\n",
    "        for q in queries:\n",
    "            res = self.load_conf(q)\n",
    "        try:              \n",
    "            query_status = None\n",
    "            while query_status == 'QUEUED' or query_status == 'RUNNING' or query_status is None:\n",
    "                query_status = self.client.get_query_execution(QueryExecutionId=res[\"QueryExecutionId\"])['QueryExecution']['Status']['State']\n",
    "                print(query_status)\n",
    "                if query_status == 'FAILED' or query_status == 'CANCELLED':\n",
    "                    raise Exception('Athena query with the string \"{}\" failed or was cancelled'.format(self.query))\n",
    "                time.sleep(1)\n",
    "            print('Query \"{}\" finished.'.format(self.query))\n",
    "            \n",
    "            df = self.obtain_data()\n",
    "            return df\n",
    "            \n",
    "        except Exception as e:\n",
    "            print(e)      \n",
    "            \n",
    "    def obtain_data(self):\n",
    "        try:\n",
    "            self.resource = boto3.resource('s3', region_name = self.region_name, )\n",
    "\n",
    "            response = self.resource \\\n",
    "            .Bucket(self.bucket) \\\n",
    "            .Object(key= self.folder+\"/\"+ self.filename + '.csv') \\\n",
    "            .get()\n",
    "            \n",
    "            return pd.read_csv(io.BytesIO(response['Body'].read()), encoding='utf8')   \n",
    "        except Exception as e:\n",
    "            print(e)  \n",
    "           \n",
    "        \n",
    "if __name__ == \"__main__\":       \n",
    "    query =\"select * from ind_poi_data_v2_gold limit 10\"\n",
    "    qa = QueryAthena(query=query, database='datasets_prep')\n",
    "    dataframe = qa.run_query()"
   ],
   "metadata": {
    "collapsed": false,
    "ExecuteTime": {
     "end_time": "2024-02-22T12:02:31.454192713Z",
     "start_time": "2024-02-22T12:02:26.569397805Z"
    }
   },
   "id": "d90352bb86c44bb3",
   "execution_count": 30
  },
  {
   "cell_type": "code",
   "outputs": [
    {
     "data": {
      "text/plain": "                                     id  \\\n0           ChIJKS5efSIXrjsRPIF2QunVWGE   \n1           ChIJH4U5kZ09rjsRhGfl-KSHyek   \n2           ChIJ2yAODuQRrjsRKEcFTa4ools   \n3           ChIJoUN32uc9rjsRG92NnV3A_dQ   \n4           ChIJ4UmigeoXrjsREF8KBrbyjxI   \n5           ChIJJUgSBcw9rjsRc6D1KLMLfg4   \n6           ChIJzYmg6S4WrjsRYB4NWcbVe8U   \n7           ChIJ0WLkxs89rjsRLWeEpo2SxvM   \n8  8bb5f927-b66c-41e3-b8ce-c44a1791be2a   \n9  6e966d12-af63-4a9c-9f62-c81c19baaf83   \n\n                                              name        lat        lng  \\\n0                        Ram Aviation India Office  13.022662  77.631340   \n1            Sri Prasanna Veeranjaneya Yoga Kendra  13.009082  77.546646   \n2                                  Narain Aviation  13.001672  77.661499   \n3                              Vajra Art Creations  13.003798  77.545784   \n4                                 Ken Pro Learning  13.025278  77.637192   \n5                           Bryan Edu Tech Pvt Ltd  12.997697  77.540154   \n6                 Art for Heart,Drawing n Painting  13.006656  77.569542   \n7  The Creative Institute of Visual Art and Design  13.001902  77.550591   \n8                                           KUNURI  23.916306  87.611518   \n9                   Kendriya Vidyalaya Minambakkam  12.989801  80.185895   \n\n  top_category                                     sub_categories  \\\n0    education                      [Aviation training institute]   \n1    education                                           [School]   \n2    education  [Aviation training institute, Charter school, ...   \n3    education                                       [Art school]   \n4    education  [Software Training Institute, Aviation trainin...   \n5    education                                 [Education center]   \n6    education                                       [Art school]   \n7    education                                       [Art school]   \n8    transport                                              [N_A]   \n9      company       [Institutes - Educational, Training, Edtech]   \n\n              type brand_name brand_id  \\\n0  aviation_school        N_A      N_A   \n1              N_A        N_A      N_A   \n2  aviation_school        N_A      N_A   \n3              N_A        N_A      N_A   \n4  aviation_school        N_A      N_A   \n5              N_A        N_A      N_A   \n6              N_A        N_A      N_A   \n7              N_A        N_A      N_A   \n8              N_A        N_A      N_A   \n9     Industry Top        N_A      N_A   \n\n                                             address  ...  \\\n0  2JFJ+3G8 Ram Aviation India Office, Chanakesha...  ...   \n1  2G5W+JMJ Sri Prasanna Veeranjaneya Yoga Kendra...  ...   \n2  No.2, M, Narain Aviation, 170, 2nd Main Rd, Ea...  ...   \n3  Vajra Art Creations, 362, 4th Main Rd, West of...  ...   \n4  Ken Pro Learning, #402 A, Soorya Plaza, 1 st F...  ...   \n5  Bryan Edu Tech Pvt Ltd, #8 1st floor behind li...  ...   \n6  Art for Heart,Drawing n Painting, 81,3rd main ...  ...   \n7  The Creative Institute of Visual Art and Desig...  ...   \n8                                                NaN  ...   \n9   - Near Palavanthangal Railway Station, Minamb...  ...   \n\n                                     additional_data  geo_filter_1  \\\n0  {country=IN, city=Bengaluru, hexadecimal_cid=0...  123303312031   \n1  {country=IN, city=Bengaluru, hexadecimal_cid=0...  123303312030   \n2  {country=IN, city=Bengaluru, hexadecimal_cid=0...  123303312031   \n3  {country=IN, city=Bengaluru, hexadecimal_cid=0...  123303312030   \n4  {country=IN, city=Bengaluru, hexadecimal_cid=0...  123303312031   \n5  {country=IN, city=Bengaluru, hexadecimal_cid=0...  123303312030   \n6  {country=IN, city=Bengaluru, hexadecimal_cid=0...  123303312030   \n7  {country=IN, city=Bengaluru, hexadecimal_cid=0...  123303312030   \n8  {code=KNRI, state=null, category=railway_stati...  123133300322   \n9  {website=minambakkam.kvs.ac.in, scrape_url=htt...  123312212020   \n\n     geo_filter_2  service_options  oldest_review_timestamp  top_reviews  \\\n0  12330331203121               []                      NaN           []   \n1  12330331203021               []                      NaN           []   \n2  12330331203132               []                      NaN           []   \n3  12330331203023               []                      NaN           []   \n4  12330331203121               []                      NaN           []   \n5  12330331203022               []                      NaN           []   \n6  12330331203030               []                      NaN           []   \n7  12330331203023               []                      NaN           []   \n8  12313330032231               []                      NaN           []   \n9  12331221202023               []                      NaN           []   \n\n   top_review_keywords  price_level  num_reviews_per_day         category  \n0                   []          NaN                  NaN  education_other  \n1                   []          NaN                  NaN  education_other  \n2                   []          NaN                  NaN  education_other  \n3                   []          NaN                  NaN  education_other  \n4                   []          NaN                  NaN  education_other  \n5                   []          NaN                  NaN  education_other  \n6                   []          NaN                  NaN  education_other  \n7                   []          NaN                  NaN  education_other  \n8                   []          NaN                  NaN  railway_station  \n9                   []          NaN                  NaN      Govt Sector  \n\n[10 rows x 29 columns]",
      "text/html": "<div>\n<style scoped>\n    .dataframe tbody tr th:only-of-type {\n        vertical-align: middle;\n    }\n\n    .dataframe tbody tr th {\n        vertical-align: top;\n    }\n\n    .dataframe thead th {\n        text-align: right;\n    }\n</style>\n<table border=\"1\" class=\"dataframe\">\n  <thead>\n    <tr style=\"text-align: right;\">\n      <th></th>\n      <th>id</th>\n      <th>name</th>\n      <th>lat</th>\n      <th>lng</th>\n      <th>top_category</th>\n      <th>sub_categories</th>\n      <th>type</th>\n      <th>brand_name</th>\n      <th>brand_id</th>\n      <th>address</th>\n      <th>...</th>\n      <th>additional_data</th>\n      <th>geo_filter_1</th>\n      <th>geo_filter_2</th>\n      <th>service_options</th>\n      <th>oldest_review_timestamp</th>\n      <th>top_reviews</th>\n      <th>top_review_keywords</th>\n      <th>price_level</th>\n      <th>num_reviews_per_day</th>\n      <th>category</th>\n    </tr>\n  </thead>\n  <tbody>\n    <tr>\n      <th>0</th>\n      <td>ChIJKS5efSIXrjsRPIF2QunVWGE</td>\n      <td>Ram Aviation India Office</td>\n      <td>13.022662</td>\n      <td>77.631340</td>\n      <td>education</td>\n      <td>[Aviation training institute]</td>\n      <td>aviation_school</td>\n      <td>N_A</td>\n      <td>N_A</td>\n      <td>2JFJ+3G8 Ram Aviation India Office, Chanakesha...</td>\n      <td>...</td>\n      <td>{country=IN, city=Bengaluru, hexadecimal_cid=0...</td>\n      <td>123303312031</td>\n      <td>12330331203121</td>\n      <td>[]</td>\n      <td>NaN</td>\n      <td>[]</td>\n      <td>[]</td>\n      <td>NaN</td>\n      <td>NaN</td>\n      <td>education_other</td>\n    </tr>\n    <tr>\n      <th>1</th>\n      <td>ChIJH4U5kZ09rjsRhGfl-KSHyek</td>\n      <td>Sri Prasanna Veeranjaneya Yoga Kendra</td>\n      <td>13.009082</td>\n      <td>77.546646</td>\n      <td>education</td>\n      <td>[School]</td>\n      <td>N_A</td>\n      <td>N_A</td>\n      <td>N_A</td>\n      <td>2G5W+JMJ Sri Prasanna Veeranjaneya Yoga Kendra...</td>\n      <td>...</td>\n      <td>{country=IN, city=Bengaluru, hexadecimal_cid=0...</td>\n      <td>123303312030</td>\n      <td>12330331203021</td>\n      <td>[]</td>\n      <td>NaN</td>\n      <td>[]</td>\n      <td>[]</td>\n      <td>NaN</td>\n      <td>NaN</td>\n      <td>education_other</td>\n    </tr>\n    <tr>\n      <th>2</th>\n      <td>ChIJ2yAODuQRrjsRKEcFTa4ools</td>\n      <td>Narain Aviation</td>\n      <td>13.001672</td>\n      <td>77.661499</td>\n      <td>education</td>\n      <td>[Aviation training institute, Charter school, ...</td>\n      <td>aviation_school</td>\n      <td>N_A</td>\n      <td>N_A</td>\n      <td>No.2, M, Narain Aviation, 170, 2nd Main Rd, Ea...</td>\n      <td>...</td>\n      <td>{country=IN, city=Bengaluru, hexadecimal_cid=0...</td>\n      <td>123303312031</td>\n      <td>12330331203132</td>\n      <td>[]</td>\n      <td>NaN</td>\n      <td>[]</td>\n      <td>[]</td>\n      <td>NaN</td>\n      <td>NaN</td>\n      <td>education_other</td>\n    </tr>\n    <tr>\n      <th>3</th>\n      <td>ChIJoUN32uc9rjsRG92NnV3A_dQ</td>\n      <td>Vajra Art Creations</td>\n      <td>13.003798</td>\n      <td>77.545784</td>\n      <td>education</td>\n      <td>[Art school]</td>\n      <td>N_A</td>\n      <td>N_A</td>\n      <td>N_A</td>\n      <td>Vajra Art Creations, 362, 4th Main Rd, West of...</td>\n      <td>...</td>\n      <td>{country=IN, city=Bengaluru, hexadecimal_cid=0...</td>\n      <td>123303312030</td>\n      <td>12330331203023</td>\n      <td>[]</td>\n      <td>NaN</td>\n      <td>[]</td>\n      <td>[]</td>\n      <td>NaN</td>\n      <td>NaN</td>\n      <td>education_other</td>\n    </tr>\n    <tr>\n      <th>4</th>\n      <td>ChIJ4UmigeoXrjsREF8KBrbyjxI</td>\n      <td>Ken Pro Learning</td>\n      <td>13.025278</td>\n      <td>77.637192</td>\n      <td>education</td>\n      <td>[Software Training Institute, Aviation trainin...</td>\n      <td>aviation_school</td>\n      <td>N_A</td>\n      <td>N_A</td>\n      <td>Ken Pro Learning, #402 A, Soorya Plaza, 1 st F...</td>\n      <td>...</td>\n      <td>{country=IN, city=Bengaluru, hexadecimal_cid=0...</td>\n      <td>123303312031</td>\n      <td>12330331203121</td>\n      <td>[]</td>\n      <td>NaN</td>\n      <td>[]</td>\n      <td>[]</td>\n      <td>NaN</td>\n      <td>NaN</td>\n      <td>education_other</td>\n    </tr>\n    <tr>\n      <th>5</th>\n      <td>ChIJJUgSBcw9rjsRc6D1KLMLfg4</td>\n      <td>Bryan Edu Tech Pvt Ltd</td>\n      <td>12.997697</td>\n      <td>77.540154</td>\n      <td>education</td>\n      <td>[Education center]</td>\n      <td>N_A</td>\n      <td>N_A</td>\n      <td>N_A</td>\n      <td>Bryan Edu Tech Pvt Ltd, #8 1st floor behind li...</td>\n      <td>...</td>\n      <td>{country=IN, city=Bengaluru, hexadecimal_cid=0...</td>\n      <td>123303312030</td>\n      <td>12330331203022</td>\n      <td>[]</td>\n      <td>NaN</td>\n      <td>[]</td>\n      <td>[]</td>\n      <td>NaN</td>\n      <td>NaN</td>\n      <td>education_other</td>\n    </tr>\n    <tr>\n      <th>6</th>\n      <td>ChIJzYmg6S4WrjsRYB4NWcbVe8U</td>\n      <td>Art for Heart,Drawing n Painting</td>\n      <td>13.006656</td>\n      <td>77.569542</td>\n      <td>education</td>\n      <td>[Art school]</td>\n      <td>N_A</td>\n      <td>N_A</td>\n      <td>N_A</td>\n      <td>Art for Heart,Drawing n Painting, 81,3rd main ...</td>\n      <td>...</td>\n      <td>{country=IN, city=Bengaluru, hexadecimal_cid=0...</td>\n      <td>123303312030</td>\n      <td>12330331203030</td>\n      <td>[]</td>\n      <td>NaN</td>\n      <td>[]</td>\n      <td>[]</td>\n      <td>NaN</td>\n      <td>NaN</td>\n      <td>education_other</td>\n    </tr>\n    <tr>\n      <th>7</th>\n      <td>ChIJ0WLkxs89rjsRLWeEpo2SxvM</td>\n      <td>The Creative Institute of Visual Art and Design</td>\n      <td>13.001902</td>\n      <td>77.550591</td>\n      <td>education</td>\n      <td>[Art school]</td>\n      <td>N_A</td>\n      <td>N_A</td>\n      <td>N_A</td>\n      <td>The Creative Institute of Visual Art and Desig...</td>\n      <td>...</td>\n      <td>{country=IN, city=Bengaluru, hexadecimal_cid=0...</td>\n      <td>123303312030</td>\n      <td>12330331203023</td>\n      <td>[]</td>\n      <td>NaN</td>\n      <td>[]</td>\n      <td>[]</td>\n      <td>NaN</td>\n      <td>NaN</td>\n      <td>education_other</td>\n    </tr>\n    <tr>\n      <th>8</th>\n      <td>8bb5f927-b66c-41e3-b8ce-c44a1791be2a</td>\n      <td>KUNURI</td>\n      <td>23.916306</td>\n      <td>87.611518</td>\n      <td>transport</td>\n      <td>[N_A]</td>\n      <td>N_A</td>\n      <td>N_A</td>\n      <td>N_A</td>\n      <td>NaN</td>\n      <td>...</td>\n      <td>{code=KNRI, state=null, category=railway_stati...</td>\n      <td>123133300322</td>\n      <td>12313330032231</td>\n      <td>[]</td>\n      <td>NaN</td>\n      <td>[]</td>\n      <td>[]</td>\n      <td>NaN</td>\n      <td>NaN</td>\n      <td>railway_station</td>\n    </tr>\n    <tr>\n      <th>9</th>\n      <td>6e966d12-af63-4a9c-9f62-c81c19baaf83</td>\n      <td>Kendriya Vidyalaya Minambakkam</td>\n      <td>12.989801</td>\n      <td>80.185895</td>\n      <td>company</td>\n      <td>[Institutes - Educational, Training, Edtech]</td>\n      <td>Industry Top</td>\n      <td>N_A</td>\n      <td>N_A</td>\n      <td>- Near Palavanthangal Railway Station, Minamb...</td>\n      <td>...</td>\n      <td>{website=minambakkam.kvs.ac.in, scrape_url=htt...</td>\n      <td>123312212020</td>\n      <td>12331221202023</td>\n      <td>[]</td>\n      <td>NaN</td>\n      <td>[]</td>\n      <td>[]</td>\n      <td>NaN</td>\n      <td>NaN</td>\n      <td>Govt Sector</td>\n    </tr>\n  </tbody>\n</table>\n<p>10 rows × 29 columns</p>\n</div>"
     },
     "execution_count": 31,
     "metadata": {},
     "output_type": "execute_result"
    }
   ],
   "source": [
    "dataframe"
   ],
   "metadata": {
    "collapsed": false,
    "ExecuteTime": {
     "end_time": "2024-02-22T12:02:38.641487561Z",
     "start_time": "2024-02-22T12:02:38.493283846Z"
    }
   },
   "id": "4b054f30e4c3607d",
   "execution_count": 31
  },
  {
   "cell_type": "code",
   "outputs": [
    {
     "data": {
      "text/plain": "{'UpdateCount': 0,\n 'ResultSet': {'Rows': [{'Data': [{'VarCharValue': 'id'},\n     {'VarCharValue': 'name'},\n     {'VarCharValue': 'lat'},\n     {'VarCharValue': 'lng'},\n     {'VarCharValue': 'top_category'},\n     {'VarCharValue': 'sub_categories'},\n     {'VarCharValue': 'type'},\n     {'VarCharValue': 'brand_name'},\n     {'VarCharValue': 'brand_id'},\n     {'VarCharValue': 'address'},\n     {'VarCharValue': 'pincode'},\n     {'VarCharValue': 'town_name'},\n     {'VarCharValue': 'source'},\n     {'VarCharValue': 'number_of_votes'},\n     {'VarCharValue': 'rating'},\n     {'VarCharValue': 'created_at'},\n     {'VarCharValue': 'verified'},\n     {'VarCharValue': 'last_verification_date'},\n     {'VarCharValue': 'active'},\n     {'VarCharValue': 'additional_data'},\n     {'VarCharValue': 'geo_filter_1'},\n     {'VarCharValue': 'geo_filter_2'},\n     {'VarCharValue': 'service_options'},\n     {'VarCharValue': 'oldest_review_timestamp'},\n     {'VarCharValue': 'top_reviews'},\n     {'VarCharValue': 'top_review_keywords'},\n     {'VarCharValue': 'price_level'},\n     {'VarCharValue': 'num_reviews_per_day'},\n     {'VarCharValue': 'category'}]},\n   {'Data': [{'VarCharValue': 'ChIJE1vlLrEUrjsRJSsPZnZKsg4'},\n     {'VarCharValue': 'Goonj Bengaluru'},\n     {'VarCharValue': '12.886787414550781'},\n     {'VarCharValue': '77.63672637939453'},\n     {'VarCharValue': 'other'},\n     {'VarCharValue': '[Charity]'},\n     {'VarCharValue': 'N_A'},\n     {'VarCharValue': 'goonj'},\n     {'VarCharValue': 'goonj'},\n     {'VarCharValue': 'Goonj Bengaluru, Survey 51/1, chikka begur gate, Near by CPG BPO hosur main road, kudlu gate, Near Agarwal National Hospital, Bengaluru, Karnataka 560068'},\n     {'VarCharValue': '560114'},\n     {'VarCharValue': 'bangalore'},\n     {'VarCharValue': 'gmaps_v2'},\n     {'VarCharValue': '640.0'},\n     {'VarCharValue': '4.599999904632568'},\n     {'VarCharValue': '1687847039'},\n     {'VarCharValue': '3'},\n     {},\n     {'VarCharValue': '1'},\n     {'VarCharValue': '{country=IN, city=Bengaluru, hexadecimal_cid=0x3bae14b12ee55b13:0xeb24a76660f2b25, timezone=Asia/Calcutta, description=nan, poi_locality=Industrial Layout, Begur, language=English, review_link=https://search.google.com/local/reviews?placeid=ChIJE1vlLrEUrjsRJSsPZnZKsg4&q=hospital&authuser=0&hl=en&gl=IN, image_source=photos:gmm_android, domain_name=goonj, gmaps_category=charity, logo=https://lh5.googleusercontent.com/--FyLd5uiCX0/AAAAAAAAAAI/AAAAAAAAAAA/tSfNUe0V7NQ/s44-p-k-no-ns-nd/photo.jpg, state=Karnataka, query_keyword=hospital, owner={\"owner_name\": \"Goonj Bengaluru (Owner)\", \"owner_id\": \"117239951977056661272\", \"owner_link\": \"https://www.google.com/maps/contrib/117239951977056661272\"}, place_url=https://www.google.com/maps/place/?q=place_id:ChIJE1vlLrEUrjsRJSsPZnZKsg4, pincode=560068, website=http://www.goonj.org/, number_of_photos=230, display_image_url=https://lh5.googleusercontent.com/p/AF1QipOgxUsoO33iJ6tX6nbQVJEgvR3lGg-hag2e8JHZ=w163-h92-k-no, contact_number=tel:+919663798026, query_city=bangalore, reviews_per_score={\"1\": 5, \"2\": 8, \"3\": 30, \"4\": 115, \"5\": 443}, reviews_id=1.0589907347643544e+18, working_hours={\"Wednesday\": \"10\\\\u202fam\\\\u20135\\\\u202fpm\", \"Thursday\": \"10\\\\u202fam\\\\u20135\\\\u202fpm\", \"Friday\": \"10\\\\u202fam\\\\u20135\\\\u202fpm\", \"Saturday\": \"10\\\\u202fam\\\\u20135\\\\u202fpm\", \"Sunday\": \"Closed\", \"Monday\": \"10\\\\u202fam\\\\u20135\\\\u202fpm\", \"Tuesday\": \"10\\\\u202fam\\\\u20135\\\\u202fpm\"}, source_image_year=2018.0, facilities=nan}'},\n     {'VarCharValue': '123303312211'},\n     {'VarCharValue': '12330331221101'},\n     {'VarCharValue': '[]'},\n     {'VarCharValue': '1429763377'},\n     {'VarCharValue': '[]'},\n     {'VarCharValue': '[]'},\n     {},\n     {'VarCharValue': '0.1985671827892038'},\n     {'VarCharValue': 'office'}]},\n   {'Data': [{'VarCharValue': 'ChIJmVdYJja4wjsRHBTYLvGFwPs'},\n     {'VarCharValue': 'Kala Group - Corporate Office'},\n     {'VarCharValue': '18.64057159423828'},\n     {'VarCharValue': '73.80276489257812'},\n     {'VarCharValue': 'other'},\n     {'VarCharValue': '[Corporate office]'},\n     {'VarCharValue': 'N_A'},\n     {'VarCharValue': 'kalabiz'},\n     {'VarCharValue': 'kalabiz'},\n     {'VarCharValue': 'JRR3+64C Kala Group - Corporate Office, IBMR College Rd, Anna Sahib Nagar, Chinchwad, Pimpri-Chinchwad, Maharashtra 411019'},\n     {'VarCharValue': '411019'},\n     {'VarCharValue': 'newanle morwadi (n.v.)'},\n     {'VarCharValue': 'gmaps_v2'},\n     {'VarCharValue': '18.0'},\n     {'VarCharValue': '4.199999809265137'},\n     {'VarCharValue': '1687847039'},\n     {'VarCharValue': '3'},\n     {},\n     {'VarCharValue': '1'},\n     {'VarCharValue': '{country=IN, city=Pimpri-Chinchwad, hexadecimal_cid=0x3bc2b83626585799:0xfbc085f12ed8141c, timezone=Asia/Calcutta, description=nan, poi_locality=Anna Sahib Nagar, Chinchwad, language=English, review_link=https://search.google.com/local/reviews?placeid=ChIJmVdYJja4wjsRHBTYLvGFwPs&q=college&authuser=0&hl=en&gl=IN, image_source=photos:local_universal_mobile, domain_name=kalabiz, gmaps_category=corporate_office, logo=nan, state=Maharashtra, query_keyword=college, owner={\"owner_name\": \"Kala Group - Corporate Office (Owner)\", \"owner_id\": null, \"owner_link\": null}, place_url=https://www.google.com/maps/place/?q=place_id:ChIJmVdYJja4wjsRHBTYLvGFwPs, pincode=411019, website=http://www.kalabiz.com/, number_of_photos=7, display_image_url=https://lh5.googleusercontent.com/p/AF1QipODLHq0hf-6USKSEyEutw4DC8OEHsWyhuKYZeYC=w80-h164-k-no, contact_number=nan, query_city=pune, reviews_per_score={\"1\": 1, \"2\": 1, \"3\": 0, \"4\": 7, \"5\": 9}, reviews_id=-3.0609750374166835e+17, working_hours=nan, source_image_year=2019.0, facilities=nan}'},\n     {'VarCharValue': '123301202111'},\n     {'VarCharValue': '12330120211110'},\n     {'VarCharValue': '[]'},\n     {},\n     {'VarCharValue': '[]'},\n     {'VarCharValue': '[]'},\n     {},\n     {},\n     {'VarCharValue': 'office'}]},\n   {'Data': [{'VarCharValue': 'ChIJF3jWTDMYrjsR7yhb_6Zgz1o'},\n     {'VarCharValue': 'Sofia Public School'},\n     {'VarCharValue': '13.07435131072998'},\n     {'VarCharValue': '77.6077651977539'},\n     {'VarCharValue': 'other'},\n     {'VarCharValue': '[Elementary school]'},\n     {'VarCharValue': 'N_A'},\n     {'VarCharValue': 'sofiapublicschool'},\n     {'VarCharValue': 'sofiapublicschool'},\n     {'VarCharValue': 'Sofia Public School, 63/2, Hegde Nagar Main Rd, Chokkanahalli, Bengaluru, Karnataka 560064'},\n     {'VarCharValue': '560064'},\n     {},\n     {'VarCharValue': 'gmaps_v2'},\n     {'VarCharValue': '47.0'},\n     {'VarCharValue': '5.0'},\n     {'VarCharValue': '1687847039'},\n     {'VarCharValue': '3'},\n     {},\n     {'VarCharValue': '1'},\n     {'VarCharValue': '{country=IN, city=Bengaluru, hexadecimal_cid=0x3bae18334cd67817:0x5acf60a6ff5b28ef, timezone=Asia/Calcutta, description=nan, poi_locality=Chokkanahalli, language=English, review_link=https://search.google.com/local/reviews?placeid=ChIJF3jWTDMYrjsR7yhb_6Zgz1o&q=school&authuser=0&hl=en&gl=IN, image_source=photos:gmm_android, domain_name=sofiapublicschool, gmaps_category=elementary_school, logo=nan, state=Karnataka, query_keyword=school, owner={\"owner_name\": \"Sofia Public School (Owner)\", \"owner_id\": null, \"owner_link\": null}, place_url=https://www.google.com/maps/place/?q=place_id:ChIJF3jWTDMYrjsR7yhb_6Zgz1o, pincode=560064.0, website=http://www.sofiapublicschool.edu.in/, number_of_photos=0, display_image_url=https://lh5.googleusercontent.com/p/AF1QipMsy3st115DPHViWxF7VX1Zc29EPS88YTYsQsIs=w80-h106-k-no, contact_number=nan, query_city=bangalore, reviews_per_score={\"1\": 0, \"2\": 0, \"3\": 0, \"4\": 0, \"5\": 1}, reviews_id=6.543555053957622e+18, working_hours=nan, source_image_year=2022.0, facilities=nan}'},\n     {'VarCharValue': '123303312013'},\n     {'VarCharValue': '12330331201322'},\n     {'VarCharValue': '[]'},\n     {'VarCharValue': '1503836577'},\n     {'VarCharValue': '[]'},\n     {'VarCharValue': '[]'},\n     {},\n     {'VarCharValue': '0.0198667507944241'},\n     {'VarCharValue': 'office'}]},\n   {'Data': [{'VarCharValue': 'ChIJ9Y5SYIcWrjsRPfHWCDACAtA'},\n     {'VarCharValue': 'Goodwill Enterprises'},\n     {'VarCharValue': '12.97258186340332'},\n     {'VarCharValue': '77.60706329345703'},\n     {'VarCharValue': 'other'},\n     {'VarCharValue': '[Sportswear store]'},\n     {'VarCharValue': 'N_A'},\n     {'VarCharValue': 'goodwillgroups'},\n     {'VarCharValue': 'goodwillgroups'},\n     {'VarCharValue': 'Goodwill Enterprises, 42, Brigade Rd, Shanthala Nagar, Ashok Nagar, Bengaluru, Karnataka 560001'},\n     {'VarCharValue': '560025'},\n     {'VarCharValue': 'bangalore'},\n     {'VarCharValue': 'gmaps_v2'},\n     {'VarCharValue': '1.0'},\n     {'VarCharValue': '5.0'},\n     {'VarCharValue': '1687847039'},\n     {'VarCharValue': '3'},\n     {},\n     {'VarCharValue': '1'},\n     {'VarCharValue': '{country=IN, city=Bengaluru, hexadecimal_cid=0x3bae168760528ef5:0xd002023008d6f13d, timezone=Asia/Calcutta, description=nan, poi_locality=Shanthala Nagar, Ashok Nagar, language=English, review_link=https://search.google.com/local/reviews?placeid=ChIJ9Y5SYIcWrjsRPfHWCDACAtA&q=sportswear+store&authuser=0&hl=en&gl=IN, image_source=launch, domain_name=goodwillgroups, gmaps_category=sportswear_store, logo=nan, state=Karnataka, query_keyword=sportswear store, owner={\"owner_name\": \"Goodwill Enterprises (Owner)\", \"owner_id\": null, \"owner_link\": null}, place_url=https://www.google.com/maps/place/?q=place_id:ChIJ9Y5SYIcWrjsRPfHWCDACAtA, pincode=560001, website=http://www.goodwillgroups.org/, number_of_photos=0, display_image_url=https://streetviewpixels-pa.googleapis.com/v1/thumbnail?panoid=RO_0-FfctBzeLdQPaWyywg&cb_client=search.gws-prod.gps&w=80&h=92&yaw=333.11435&pitch=0&thumbfov=100, contact_number=tel:+918041124551, query_city=bangalore, reviews_per_score={\"1\": 0, \"2\": 0, \"3\": 0, \"4\": 0, \"5\": 1}, reviews_id=-3.458199158537129e+18, working_hours={\"Wednesday\": \"10:30\\\\u202fam\\\\u20138\\\\u202fpm\", \"Thursday\": \"10:30\\\\u202fam\\\\u20138\\\\u202fpm\", \"Friday\": \"10:30\\\\u202fam\\\\u20138\\\\u202fpm\", \"Saturday\": \"10:30\\\\u202fam\\\\u20138\\\\u202fpm\", \"Sunday\": \"10:30\\\\u202fam\\\\u20131:30\\\\u202fpm\", \"Monday\": \"10:30\\\\u202fam\\\\u20138\\\\u202fpm\", \"Tuesday\": \"10:30\\\\u202fam\\\\u20138\\\\u202fpm\"}, source_image_year=2023.0, facilities=nan}'},\n     {'VarCharValue': '123303312032'},\n     {'VarCharValue': '12330331203211'},\n     {'VarCharValue': '[]'},\n     {'VarCharValue': '1594116788'},\n     {'VarCharValue': '[]'},\n     {'VarCharValue': '[]'},\n     {},\n     {'VarCharValue': '7.570871241141E-4'},\n     {'VarCharValue': 'office'}]},\n   {'Data': [{'VarCharValue': 'ChIJAQAw6FLC5zsRGZjLw4gB4XI'},\n     {'VarCharValue': 'Kala Genset'},\n     {'VarCharValue': '19.018112182617188'},\n     {'VarCharValue': '73.04205322265625'},\n     {'VarCharValue': 'other'},\n     {'VarCharValue': '[Electronics store]'},\n     {'VarCharValue': 'N_A'},\n     {'VarCharValue': 'kalabiz'},\n     {'VarCharValue': 'kalabiz'},\n     {'VarCharValue': 'Kala Genset, 101-105, Sector 11, CBD Belapur, Navi Mumbai, Maharashtra 400614'},\n     {'VarCharValue': '400614'},\n     {'VarCharValue': 'new mumbai'},\n     {'VarCharValue': 'gmaps_v2'},\n     {'VarCharValue': '2.0'},\n     {'VarCharValue': '5.0'},\n     {'VarCharValue': '1695218097'},\n     {'VarCharValue': '0'},\n     {},\n     {'VarCharValue': '1'},\n     {'VarCharValue': '{country=IN, city=Navi Mumbai, hexadecimal_cid=0x3be7c252e8300001:0x72e10188c3cb9819, timezone=Asia/Calcutta, description=null, poi_locality=Sector 11, CBD Belapur, language=English, review_link=https://search.google.com/local/reviews?placeid=ChIJAQAw6FLC5zsRGZjLw4gB4XI&q=electronic+store&authuser=0&hl=en&gl=IN, image_source=photos:gmm_android, domain_name=kalabiz, gmaps_category=electronics_store, logo=https://lh4.googleusercontent.com/-7Mb_Tqc8uU4/AAAAAAAAAAI/AAAAAAAAAAA/bWP-wuxwfRc/s44-p-k-no-ns-nd/photo.jpg, state=Maharashtra, query_keyword=electronic store, owner={\"owner_name\": \"Kala Genset (Owner)\", \"owner_id\": \"108255085222747407966\", \"owner_link\": \"https://www.google.com/maps/contrib/108255085222747407966\"}, place_url=https://www.google.com/maps/place/?q=place_id:ChIJAQAw6FLC5zsRGZjLw4gB4XI, pincode=400614, website=https://www.kalabiz.com/, number_of_photos=2, display_image_url=https://lh5.googleusercontent.com/p/AF1QipO5xMg3C34tcteSCYhv7QEn_JfC0K2qnVTq3Plc=w129-h92-k-no, contact_number=tel:+919545556180, query_city=mumbai, reviews_per_score={\"1\": 0, \"2\": 0, \"3\": 0, \"4\": 0, \"5\": 2}, reviews_id=8.277899276995762e+18, working_hours={\"Tuesday\": \"10\\\\u202fam\\\\u20136\\\\u202fpm\", \"Wednesday\": \"10\\\\u202fam\\\\u20136\\\\u202fpm\", \"Thursday\": \"10\\\\u202fam\\\\u20136\\\\u202fpm\", \"Friday\": \"10\\\\u202fam\\\\u20136\\\\u202fpm\", \"Saturday\": \"10\\\\u202fam\\\\u20136\\\\u202fpm\", \"Sunday\": \"Closed\", \"Monday\": \"10\\\\u202fam\\\\u20136\\\\u202fpm\"}, source_image_year=2019.0, facilities={\"Service options\": {\"Delivery\": true, \"Same-day delivery\": true}}}'},\n     {'VarCharValue': '123300311133'},\n     {'VarCharValue': '12330031113320'},\n     {'VarCharValue': '[]'},\n     {'VarCharValue': '1522406293'},\n     {'VarCharValue': '[]'},\n     {'VarCharValue': '[]'},\n     {},\n     {'VarCharValue': '9.298716271859E-4'},\n     {'VarCharValue': 'office'}]},\n   {'Data': [{'VarCharValue': 'ChIJe-5nWfA_rjsRAh6dy9xIcXE'},\n     {'VarCharValue': 'Abhaya Group of Institutions'},\n     {'VarCharValue': '12.883298873901367'},\n     {'VarCharValue': '77.54802703857422'},\n     {'VarCharValue': 'other'},\n     {'VarCharValue': '[Educational institution]'},\n     {'VarCharValue': 'N_A'},\n     {'VarCharValue': 'abhayagroup'},\n     {'VarCharValue': 'abhayagroup'},\n     {'VarCharValue': 'Abhaya Group of Institutions, Kanakapura Rd, Raghuvanahalli, Bangalore City Municipal Corporation Layout, Bengaluru, Karnataka 560062'},\n     {'VarCharValue': '560062'},\n     {'VarCharValue': 'bangalore'},\n     {'VarCharValue': 'gmaps_v2'},\n     {'VarCharValue': '43.0'},\n     {'VarCharValue': '4.5'},\n     {'VarCharValue': '1687847039'},\n     {'VarCharValue': '3'},\n     {},\n     {'VarCharValue': '1'},\n     {'VarCharValue': '{country=IN, city=Bengaluru, hexadecimal_cid=0x3bae3ff05967ee7b:0x717148dccb9d1e02, timezone=Asia/Calcutta, description=nan, poi_locality=Raghuvanahalli, Bangalore City Municipal Corporation Layout, language=English, review_link=https://search.google.com/local/reviews?placeid=ChIJe-5nWfA_rjsRAh6dy9xIcXE&q=college&authuser=0&hl=en&gl=IN, image_source=photos:local_universal_desktop, domain_name=abhayagroup, gmaps_category=educational_institution, logo=https://lh6.googleusercontent.com/-SK-nXzpN2Aw/AAAAAAAAAAI/AAAAAAAAAAA/UhrkpCmmOq8/s44-p-k-no-ns-nd/photo.jpg, state=Karnataka, query_keyword=college, owner={\"owner_name\": \"Abhaya Group of Institutions (Owner)\", \"owner_id\": \"108606055570247359547\", \"owner_link\": \"https://www.google.com/maps/contrib/108606055570247359547\"}, place_url=https://www.google.com/maps/place/?q=place_id:ChIJe-5nWfA_rjsRAh6dy9xIcXE, pincode=560062.0, website=http://www.abhayagroup.com/, number_of_photos=8, display_image_url=https://lh5.googleusercontent.com/p/AF1QipN28jxhHL-CkEbi0Wj3n9--dJSaAZlUVmRZKRIh=w122-h92-k-no, contact_number=tel:+919035903999, query_city=bangalore, reviews_per_score={\"1\": 4, \"2\": 1, \"3\": 0, \"4\": 4, \"5\": 39}, reviews_id=8.174394911800238e+18, working_hours={\"Wednesday\": \"9\\\\u202fam\\\\u20135\\\\u202fpm\", \"Thursday\": \"9\\\\u202fam\\\\u20135\\\\u202fpm\", \"Friday\": \"9\\\\u202fam\\\\u20135\\\\u202fpm\", \"Saturday\": \"9\\\\u202fam\\\\u20131\\\\u202fpm\", \"Sunday\": \"Closed\", \"Monday\": \"9\\\\u202fam\\\\u20135\\\\u202fpm\", \"Tuesday\": \"9\\\\u202fam\\\\u20135\\\\u202fpm\"}, source_image_year=2020.0, facilities=nan}'},\n     {'VarCharValue': '123303312210'},\n     {'VarCharValue': '12330331221001'},\n     {'VarCharValue': '[]'},\n     {'VarCharValue': '1508757292'},\n     {'VarCharValue': '[]'},\n     {'VarCharValue': '[]'},\n     {},\n     {'VarCharValue': '0.018624320426861'},\n     {'VarCharValue': 'office'}]},\n   {'Data': [{'VarCharValue': 'ChIJtdyNjNUWrjsR5GMjIEDRSZc'},\n     {'VarCharValue': 'Credora Life Sciences'},\n     {'VarCharValue': '13.018193244934082'},\n     {'VarCharValue': '77.65974426269531'},\n     {'VarCharValue': 'service'},\n     {'VarCharValue': '[Biotechnology company, Research and product development, Research institute]'},\n     {'VarCharValue': 'N_A'},\n     {'VarCharValue': 'N_A'},\n     {'VarCharValue': 'N_A'},\n     {'VarCharValue': 'Credora Life Sciences, 176/1, Horamavu Outer Ring Road, Near Maharaja Furnitures, Horamavu, Bengaluru, Karnataka 560043'},\n     {'VarCharValue': '560043'},\n     {'VarCharValue': 'bangalore'},\n     {'VarCharValue': 'gmaps_v2'},\n     {'VarCharValue': '93.0'},\n     {'VarCharValue': '4.800000190734863'},\n     {'VarCharValue': '1687847039'},\n     {'VarCharValue': '1'},\n     {'VarCharValue': '1706681484'},\n     {'VarCharValue': '1'},\n     {'VarCharValue': '{country=IN, city=Bengaluru, hexadecimal_cid=0x3bae16d58c8ddcb5:0x9749d140202363e4, timezone=Asia/Calcutta, description=nan, poi_locality=Kallumantapa, Horamavu, language=English, review_link=https://search.google.com/local/reviews?placeid=ChIJtdyNjNUWrjsR5GMjIEDRSZc&q=university&authuser=0&hl=en&gl=IN, image_source=bizbuilder, domain_name=credora, gmaps_category=biotechnology_company, logo=https://lh3.googleusercontent.com/-VuBzZau7acg/AAAAAAAAAAI/AAAAAAAAAAA/7-B85KQekhM/s44-p-k-no-ns-nd/photo.jpg, state=Karnataka, query_keyword=university, owner={\"owner_name\": \"Credora Life Sciences (Owner)\", \"owner_id\": \"104635294683092112601\", \"owner_link\": \"https://www.google.com/maps/contrib/104635294683092112601\"}, place_url=https://www.google.com/maps/place/?q=place_id:ChIJtdyNjNUWrjsR5GMjIEDRSZc, pincode=560043.0, website=http://www.credora.in/, number_of_photos=13, display_image_url=https://lh5.googleusercontent.com/p/AF1QipOQqwW_3IocuMkNYZP6vnkP6p9e201Jqgpwa4BL=w360-h180-k-no, contact_number=tel:+918048540716, query_city=bangalore, reviews_per_score={\"1\": 1, \"2\": 2, \"3\": 1, \"4\": 11, \"5\": 78}, reviews_id=-7.545269627335253e+18, working_hours={\"Wednesday\": \"10\\\\u202fam\\\\u20136:30\\\\u202fpm\", \"Thursday\": \"10\\\\u202fam\\\\u20136:30\\\\u202fpm\", \"Friday\": \"10\\\\u202fam\\\\u20136:30\\\\u202fpm\", \"Saturday\": \"10\\\\u202fam\\\\u20136:30\\\\u202fpm\", \"Sunday\": \"Closed\", \"Monday\": \"10\\\\u202fam\\\\u20136:30\\\\u202fpm\", \"Tuesday\": \"10\\\\u202fam\\\\u20136:30\\\\u202fpm\"}, source_image_year=2014.0, facilities={\"From the business\": {\"Identifies as women-owned\": true}, \"Accessibility\": {\"Wheelchair-accessible entrance\": false}}}'},\n     {'VarCharValue': '123303312031'},\n     {'VarCharValue': '12330331203130'},\n     {'VarCharValue': '[]'},\n     {},\n     {'VarCharValue': '[]'},\n     {'VarCharValue': '[]'},\n     {},\n     {},\n     {'VarCharValue': 'office'}]},\n   {'Data': [{'VarCharValue': 'ChIJ_eO00K21bTkRXT6h4Hx1r6Q'},\n     {'VarCharValue': 'Aarambh- Pay After Placement Program'},\n     {'VarCharValue': '26.86733055114746'},\n     {'VarCharValue': '75.80305480957031'},\n     {'VarCharValue': 'other'},\n     {'VarCharValue': '[Software Training Institute, Institute of technology]'},\n     {'VarCharValue': 'N_A'},\n     {'VarCharValue': 'grras'},\n     {'VarCharValue': 'grras'},\n     {'VarCharValue': '2nd Floor, B, Aarambh- Pay After Placement Program, 4, near Danik Bhaskar, Vivek Vihar, Bajaj Nagar, Jaipur, Rajasthan 302015'},\n     {'VarCharValue': '302015'},\n     {'VarCharValue': 'jaipur'},\n     {'VarCharValue': 'gmaps_v2'},\n     {'VarCharValue': '49.0'},\n     {'VarCharValue': '5.0'},\n     {'VarCharValue': '1688481001'},\n     {'VarCharValue': '3'},\n     {},\n     {'VarCharValue': '1'},\n     {'VarCharValue': '{country=IN, city=Jaipur, hexadecimal_cid=0x396db5add0b4e3fd:0xa4af757ce0a13e5d, timezone=Asia/Calcutta, description=null, poi_locality=Vivek Vihar, Bajaj Nagar, language=English, review_link=https://search.google.com/local/reviews?placeid=ChIJ_eO00K21bTkRXT6h4Hx1r6Q&q=university&authuser=0&hl=en&gl=IN, image_source=bizbuilder:gmb_web, domain_name=grras, gmaps_category=software_training_institute, logo=https://lh3.googleusercontent.com/-AdVYKD6EGn4/AAAAAAAAAAI/AAAAAAAAAAA/BbXxpMCWhro/s44-p-k-no-ns-nd/photo.jpg, state=Rajasthan, query_keyword=university, owner={\"owner_name\": \"Aarambh- Pay After Placement Program (Owner)\", \"owner_id\": \"117037289986948439903\", \"owner_link\": \"https://www.google.com/maps/contrib/117037289986948439903\"}, place_url=https://www.google.com/maps/place/?q=place_id:ChIJ_eO00K21bTkRXT6h4Hx1r6Q, pincode=302015.0, website=http://aarambh.grras.com/, number_of_photos=11, display_image_url=https://lh5.googleusercontent.com/p/AF1QipO9pcVDaurllWgLaN3sKKsLcb7T7JV2fupeW35_=w80-h106-k-no, contact_number=tel:+919983340133, query_city=jaipur, reviews_per_score={\"1\": 0, \"2\": 0, \"3\": 1, \"4\": 0, \"5\": 48}, reviews_id=-6.579911351359947e+18, working_hours={\"Monday\": \"9\\\\u202fam\\\\u20139\\\\u202fpm\", \"Tuesday\": \"9\\\\u202fam\\\\u20139\\\\u202fpm\", \"Wednesday\": \"9\\\\u202fam\\\\u20139\\\\u202fpm\", \"Thursday\": \"9\\\\u202fam\\\\u20139\\\\u202fpm\", \"Friday\": \"9\\\\u202fam\\\\u20139\\\\u202fpm\", \"Saturday\": \"9\\\\u202fam\\\\u20139\\\\u202fpm\", \"Sunday\": \"Closed\"}, source_image_year=2022.0, facilities={\"Service options\": {\"Online classes\": false, \"On-site services\": false}}}'},\n     {'VarCharValue': '123123011130'},\n     {'VarCharValue': '12312301113003'},\n     {'VarCharValue': '[]'},\n     {},\n     {'VarCharValue': '[]'},\n     {'VarCharValue': '[]'},\n     {},\n     {},\n     {'VarCharValue': 'office'}]},\n   {'Data': [{'VarCharValue': 'ChIJ2zWlsRHP5zsRYIGxoaHVspE'},\n     {'VarCharValue': 'Suryoday Small Finance Bank'},\n     {'VarCharValue': '19.074697494506836'},\n     {'VarCharValue': '72.8342056274414'},\n     {'VarCharValue': 'other'},\n     {'VarCharValue': '[Bank, Savings bank]'},\n     {'VarCharValue': 'N_A'},\n     {'VarCharValue': 'suryodaybank'},\n     {'VarCharValue': 'suryodaybank'},\n     {'VarCharValue': 'Suryoday Small Finance Bank, No 20, Dosti Acres Shopping Center Shaikh Misree Road, Linking Rd, near New Uphill, Antop Hill, Mumbai, Maharashtra 400037'},\n     {'VarCharValue': '400052'},\n     {'VarCharValue': 'mumbai'},\n     {'VarCharValue': 'gmaps_v2'},\n     {'VarCharValue': '0.0'},\n     {'VarCharValue': '0.0'},\n     {'VarCharValue': '1688481015'},\n     {'VarCharValue': '3'},\n     {},\n     {'VarCharValue': '1'},\n     {'VarCharValue': '{country=IN, city=Mumbai, hexadecimal_cid=0x3be7cf11b1a535db:0x91b2d5a1a1b18160, timezone=Asia/Calcutta, description=null, poi_locality=Khar, Antop Hill, language=English, review_link=null, image_source=launch, domain_name=suryodaybank, gmaps_category=bank, logo=https://lh6.googleusercontent.com/-GrarZiWbE4E/AAAAAAAAAAI/AAAAAAAAAAA/DEElWfFcW3M/s44-p-k-no-ns-nd/photo.jpg, state=Maharashtra, query_keyword=shopping center, owner={\"owner_name\": \"Suryoday Small Finance Bank (Owner)\", \"owner_id\": \"101755678333367016298\", \"owner_link\": \"https://www.google.com/maps/contrib/101755678333367016298\"}, place_url=https://www.google.com/maps/place/?q=place_id:ChIJ2zWlsRHP5zsRYIGxoaHVspE, pincode=400037, website=https://branch.suryodaybank.com/suryoday-small-finance-bank-banks-antop-hill-mumbai-266479/Home?utm_source=locator&utm_medium=googleplaces, number_of_photos=0, display_image_url=https://streetviewpixels-pa.googleapis.com/v1/thumbnail?panoid=mUiZBhGwAdXHpH6dVEyi9g&cb_client=search.gws-prod.gps&w=80&h=92&yaw=185.59932&pitch=0&thumbfov=100, contact_number=tel:1800 102 0210, query_city=mumbai, reviews_per_score=null, reviews_id=-7.948055502176289e+18, working_hours={\"Monday\": \"1:30\\\\u20135:30\\\\u202fpm\", \"Tuesday\": \"1:30\\\\u20135:30\\\\u202fpm\", \"Wednesday\": \"1:30\\\\u20135:30\\\\u202fpm\", \"Thursday\": \"1:30\\\\u20135:30\\\\u202fpm\", \"Friday\": \"1:30\\\\u20135:30\\\\u202fpm\", \"Saturday\": \"1:30\\\\u20135:30\\\\u202fpm\", \"Sunday\": \"Closed\"}, source_image_year=2023.0, facilities=null}'},\n     {'VarCharValue': '123300311120'},\n     {'VarCharValue': '12330031112032'},\n     {'VarCharValue': '[]'},\n     {'VarCharValue': '0'},\n     {'VarCharValue': '[]'},\n     {'VarCharValue': '[]'},\n     {},\n     {},\n     {'VarCharValue': 'office'}]},\n   {'Data': [{'VarCharValue': 'ChIJhb_CRfIVrjsRIEhZz_SDlSY'},\n     {'VarCharValue': 'Abhaya Group of Institutions'},\n     {'VarCharValue': '12.947354316711426'},\n     {'VarCharValue': '77.57756805419922'},\n     {'VarCharValue': 'other'},\n     {'VarCharValue': '[Educational institution]'},\n     {'VarCharValue': 'N_A'},\n     {'VarCharValue': 'abhayagroup'},\n     {'VarCharValue': 'abhayagroup'},\n     {'VarCharValue': 'WHWH+W2W Abhaya Group of Institutions, Surveyor St, Kanakapura, Basavanagudi, Bengaluru, Karnataka 560004'},\n     {'VarCharValue': '560004'},\n     {'VarCharValue': 'bangalore'},\n     {'VarCharValue': 'gmaps_v2'},\n     {'VarCharValue': '0.0'},\n     {'VarCharValue': '0.0'},\n     {'VarCharValue': '1687847039'},\n     {'VarCharValue': '3'},\n     {},\n     {'VarCharValue': '1'},\n     {'VarCharValue': '{country=IN, city=Bengaluru, hexadecimal_cid=0x3bae15f245c2bf85:0x269583f4cf594820, timezone=Asia/Calcutta, description=nan, poi_locality=Kanakapura, Basavanagudi, language=English, review_link=nan, image_source=launch, domain_name=abhayagroup, gmaps_category=educational_institution, logo=nan, state=Karnataka, query_keyword=college, owner={\"owner_name\": \"Abhaya Group of Institutions (Owner)\", \"owner_id\": null, \"owner_link\": null}, place_url=https://www.google.com/maps/place/?q=place_id:ChIJhb_CRfIVrjsRIEhZz_SDlSY, pincode=560004, website=https://www.abhayagroup.com/contactus.html, number_of_photos=0, display_image_url=https://streetviewpixels-pa.googleapis.com/v1/thumbnail?panoid=uV6rY5w5BDBa1zT9U8S11A&cb_client=search.gws-prod.gps&w=80&h=92&yaw=57.37721&pitch=0&thumbfov=100, contact_number=tel:+919964535204, query_city=bangalore, reviews_per_score=nan, reviews_id=2.780273432445143e+18, working_hours=nan, source_image_year=2023.0, facilities=nan}'},\n     {'VarCharValue': '123303312032'},\n     {'VarCharValue': '12330331203212'},\n     {'VarCharValue': '[]'},\n     {'VarCharValue': '0'},\n     {'VarCharValue': '[]'},\n     {'VarCharValue': '[]'},\n     {},\n     {},\n     {'VarCharValue': 'office'}]}],\n  'ResultSetMetadata': {'ColumnInfo': [{'CatalogName': 'hive',\n     'SchemaName': '',\n     'TableName': '',\n     'Name': 'id',\n     'Label': 'id',\n     'Type': 'varchar',\n     'Precision': 2147483647,\n     'Scale': 0,\n     'Nullable': 'UNKNOWN',\n     'CaseSensitive': True},\n    {'CatalogName': 'hive',\n     'SchemaName': '',\n     'TableName': '',\n     'Name': 'name',\n     'Label': 'name',\n     'Type': 'varchar',\n     'Precision': 2147483647,\n     'Scale': 0,\n     'Nullable': 'UNKNOWN',\n     'CaseSensitive': True},\n    {'CatalogName': 'hive',\n     'SchemaName': '',\n     'TableName': '',\n     'Name': 'lat',\n     'Label': 'lat',\n     'Type': 'double',\n     'Precision': 17,\n     'Scale': 0,\n     'Nullable': 'UNKNOWN',\n     'CaseSensitive': False},\n    {'CatalogName': 'hive',\n     'SchemaName': '',\n     'TableName': '',\n     'Name': 'lng',\n     'Label': 'lng',\n     'Type': 'double',\n     'Precision': 17,\n     'Scale': 0,\n     'Nullable': 'UNKNOWN',\n     'CaseSensitive': False},\n    {'CatalogName': 'hive',\n     'SchemaName': '',\n     'TableName': '',\n     'Name': 'top_category',\n     'Label': 'top_category',\n     'Type': 'varchar',\n     'Precision': 2147483647,\n     'Scale': 0,\n     'Nullable': 'UNKNOWN',\n     'CaseSensitive': True},\n    {'CatalogName': 'hive',\n     'SchemaName': '',\n     'TableName': '',\n     'Name': 'sub_categories',\n     'Label': 'sub_categories',\n     'Type': 'array',\n     'Precision': 0,\n     'Scale': 0,\n     'Nullable': 'UNKNOWN',\n     'CaseSensitive': False},\n    {'CatalogName': 'hive',\n     'SchemaName': '',\n     'TableName': '',\n     'Name': 'type',\n     'Label': 'type',\n     'Type': 'varchar',\n     'Precision': 2147483647,\n     'Scale': 0,\n     'Nullable': 'UNKNOWN',\n     'CaseSensitive': True},\n    {'CatalogName': 'hive',\n     'SchemaName': '',\n     'TableName': '',\n     'Name': 'brand_name',\n     'Label': 'brand_name',\n     'Type': 'varchar',\n     'Precision': 2147483647,\n     'Scale': 0,\n     'Nullable': 'UNKNOWN',\n     'CaseSensitive': True},\n    {'CatalogName': 'hive',\n     'SchemaName': '',\n     'TableName': '',\n     'Name': 'brand_id',\n     'Label': 'brand_id',\n     'Type': 'varchar',\n     'Precision': 2147483647,\n     'Scale': 0,\n     'Nullable': 'UNKNOWN',\n     'CaseSensitive': True},\n    {'CatalogName': 'hive',\n     'SchemaName': '',\n     'TableName': '',\n     'Name': 'address',\n     'Label': 'address',\n     'Type': 'varchar',\n     'Precision': 2147483647,\n     'Scale': 0,\n     'Nullable': 'UNKNOWN',\n     'CaseSensitive': True},\n    {'CatalogName': 'hive',\n     'SchemaName': '',\n     'TableName': '',\n     'Name': 'pincode',\n     'Label': 'pincode',\n     'Type': 'varchar',\n     'Precision': 2147483647,\n     'Scale': 0,\n     'Nullable': 'UNKNOWN',\n     'CaseSensitive': True},\n    {'CatalogName': 'hive',\n     'SchemaName': '',\n     'TableName': '',\n     'Name': 'town_name',\n     'Label': 'town_name',\n     'Type': 'varchar',\n     'Precision': 2147483647,\n     'Scale': 0,\n     'Nullable': 'UNKNOWN',\n     'CaseSensitive': True},\n    {'CatalogName': 'hive',\n     'SchemaName': '',\n     'TableName': '',\n     'Name': 'source',\n     'Label': 'source',\n     'Type': 'varchar',\n     'Precision': 2147483647,\n     'Scale': 0,\n     'Nullable': 'UNKNOWN',\n     'CaseSensitive': True},\n    {'CatalogName': 'hive',\n     'SchemaName': '',\n     'TableName': '',\n     'Name': 'number_of_votes',\n     'Label': 'number_of_votes',\n     'Type': 'double',\n     'Precision': 17,\n     'Scale': 0,\n     'Nullable': 'UNKNOWN',\n     'CaseSensitive': False},\n    {'CatalogName': 'hive',\n     'SchemaName': '',\n     'TableName': '',\n     'Name': 'rating',\n     'Label': 'rating',\n     'Type': 'double',\n     'Precision': 17,\n     'Scale': 0,\n     'Nullable': 'UNKNOWN',\n     'CaseSensitive': False},\n    {'CatalogName': 'hive',\n     'SchemaName': '',\n     'TableName': '',\n     'Name': 'created_at',\n     'Label': 'created_at',\n     'Type': 'bigint',\n     'Precision': 19,\n     'Scale': 0,\n     'Nullable': 'UNKNOWN',\n     'CaseSensitive': False},\n    {'CatalogName': 'hive',\n     'SchemaName': '',\n     'TableName': '',\n     'Name': 'verified',\n     'Label': 'verified',\n     'Type': 'bigint',\n     'Precision': 19,\n     'Scale': 0,\n     'Nullable': 'UNKNOWN',\n     'CaseSensitive': False},\n    {'CatalogName': 'hive',\n     'SchemaName': '',\n     'TableName': '',\n     'Name': 'last_verification_date',\n     'Label': 'last_verification_date',\n     'Type': 'bigint',\n     'Precision': 19,\n     'Scale': 0,\n     'Nullable': 'UNKNOWN',\n     'CaseSensitive': False},\n    {'CatalogName': 'hive',\n     'SchemaName': '',\n     'TableName': '',\n     'Name': 'active',\n     'Label': 'active',\n     'Type': 'integer',\n     'Precision': 10,\n     'Scale': 0,\n     'Nullable': 'UNKNOWN',\n     'CaseSensitive': False},\n    {'CatalogName': 'hive',\n     'SchemaName': '',\n     'TableName': '',\n     'Name': 'additional_data',\n     'Label': 'additional_data',\n     'Type': 'map',\n     'Precision': 0,\n     'Scale': 0,\n     'Nullable': 'UNKNOWN',\n     'CaseSensitive': False},\n    {'CatalogName': 'hive',\n     'SchemaName': '',\n     'TableName': '',\n     'Name': 'geo_filter_1',\n     'Label': 'geo_filter_1',\n     'Type': 'varchar',\n     'Precision': 2147483647,\n     'Scale': 0,\n     'Nullable': 'UNKNOWN',\n     'CaseSensitive': True},\n    {'CatalogName': 'hive',\n     'SchemaName': '',\n     'TableName': '',\n     'Name': 'geo_filter_2',\n     'Label': 'geo_filter_2',\n     'Type': 'varchar',\n     'Precision': 2147483647,\n     'Scale': 0,\n     'Nullable': 'UNKNOWN',\n     'CaseSensitive': True},\n    {'CatalogName': 'hive',\n     'SchemaName': '',\n     'TableName': '',\n     'Name': 'service_options',\n     'Label': 'service_options',\n     'Type': 'array',\n     'Precision': 0,\n     'Scale': 0,\n     'Nullable': 'UNKNOWN',\n     'CaseSensitive': False},\n    {'CatalogName': 'hive',\n     'SchemaName': '',\n     'TableName': '',\n     'Name': 'oldest_review_timestamp',\n     'Label': 'oldest_review_timestamp',\n     'Type': 'bigint',\n     'Precision': 19,\n     'Scale': 0,\n     'Nullable': 'UNKNOWN',\n     'CaseSensitive': False},\n    {'CatalogName': 'hive',\n     'SchemaName': '',\n     'TableName': '',\n     'Name': 'top_reviews',\n     'Label': 'top_reviews',\n     'Type': 'array',\n     'Precision': 0,\n     'Scale': 0,\n     'Nullable': 'UNKNOWN',\n     'CaseSensitive': False},\n    {'CatalogName': 'hive',\n     'SchemaName': '',\n     'TableName': '',\n     'Name': 'top_review_keywords',\n     'Label': 'top_review_keywords',\n     'Type': 'array',\n     'Precision': 0,\n     'Scale': 0,\n     'Nullable': 'UNKNOWN',\n     'CaseSensitive': False},\n    {'CatalogName': 'hive',\n     'SchemaName': '',\n     'TableName': '',\n     'Name': 'price_level',\n     'Label': 'price_level',\n     'Type': 'varchar',\n     'Precision': 2147483647,\n     'Scale': 0,\n     'Nullable': 'UNKNOWN',\n     'CaseSensitive': True},\n    {'CatalogName': 'hive',\n     'SchemaName': '',\n     'TableName': '',\n     'Name': 'num_reviews_per_day',\n     'Label': 'num_reviews_per_day',\n     'Type': 'double',\n     'Precision': 17,\n     'Scale': 0,\n     'Nullable': 'UNKNOWN',\n     'CaseSensitive': False},\n    {'CatalogName': 'hive',\n     'SchemaName': '',\n     'TableName': '',\n     'Name': 'category',\n     'Label': 'category',\n     'Type': 'varchar',\n     'Precision': 2147483647,\n     'Scale': 0,\n     'Nullable': 'UNKNOWN',\n     'CaseSensitive': True}]}},\n 'ResponseMetadata': {'RequestId': 'fa2be16f-cd10-4e8c-871c-86e856306697',\n  'HTTPStatusCode': 200,\n  'HTTPHeaders': {'date': 'Thu, 22 Feb 2024 11:45:12 GMT',\n   'content-type': 'application/x-amz-json-1.1',\n   'content-length': '53611',\n   'connection': 'keep-alive',\n   'x-amzn-requestid': 'fa2be16f-cd10-4e8c-871c-86e856306697'},\n  'RetryAttempts': 0}}"
     },
     "execution_count": 27,
     "metadata": {},
     "output_type": "execute_result"
    }
   ],
   "source": [
    "session.client('athena').get_query_results(QueryExecutionId=\"b0330f94-991a-4209-b7c0-c138248cad7e\")"
   ],
   "metadata": {
    "collapsed": false,
    "ExecuteTime": {
     "end_time": "2024-02-22T11:45:13.745549884Z",
     "start_time": "2024-02-22T11:45:12.166203685Z"
    }
   },
   "id": "6bed06e6d257d957",
   "execution_count": 27
  },
  {
   "cell_type": "code",
   "outputs": [],
   "source": [
    "df = pd.read_csv(\n",
    "    \"/media/jyotiraditya/Ultra Touch/repos/SiteReports/data/common_data/blr_cluster_geom.csv\")"
   ],
   "metadata": {
    "collapsed": false,
    "ExecuteTime": {
     "end_time": "2024-02-22T09:45:08.125493Z",
     "start_time": "2024-02-22T09:45:07.986920629Z"
    }
   },
   "id": "89e8f7d1d01627c0",
   "execution_count": 10
  },
  {
   "cell_type": "code",
   "outputs": [
    {
     "data": {
      "text/plain": "    micro_market_clusters_id  \\\n0                          0   \n1                          1   \n2                          2   \n3                          3   \n4                          4   \n..                       ...   \n81                       122   \n82                       125   \n83                       129   \n84                       131   \n85                       138   \n\n                                         cluster_name           locality  \\\n0   5th Cross Road, Koramangala 4th Block,Koramangala        Koramangala   \n1       Hosur Road, Koramangala 5th Block,Koramangala        Koramangala   \n2   16th C Main Road, Koramangala 4th Block,Korama...        Koramangala   \n3   2nd Cross Road, Koramangala 5th Block,Koramangala        Koramangala   \n4       Whitefield Main Road, Palm Meadows,Whitefield         Whitefield   \n..                                                ...                ...   \n81    28th Cross Road, 7th Block Jaya Nagar,Jayanagar          Jayanagar   \n82                Slv, Maheswari Nagar,T. Dasarahalli     T. Dasarahalli   \n83        4th Main Road, Sadashiva Nagar,Armane Nagar       Armane Nagar   \n84  Outer Ring Road, Marathahalli village,Marathah...       Marathahalli   \n85  Junnasandra Road, Rainbow Drive,Halanayakanahalli  Halanayakanahalli   \n\n                                              polygon        lat        lng  \\\n0   POLYGON ((77.63591003417969 12.928566932678224...  12.931521  77.632015   \n1   POLYGON ((77.61540985107422 12.931694984436035...  12.933954  77.613044   \n2   POLYGON ((77.62764739990234 12.933077812194824...  12.936409  77.626737   \n3   POLYGON ((77.62259674072266 12.931699752807615...  12.935219  77.619867   \n4   POLYGON ((77.74502563476562 12.95724868774414,...  12.960090  77.746909   \n..                                                ...        ...        ...   \n81  POLYGON ((77.57940673828125 12.928749084472656...  12.930212  77.577578   \n82  POLYGON ((77.5081138 13.0473777, 77.5065078735...  13.049413  77.507893   \n83  POLYGON ((77.5812759399414 13.00473690032959, ...  13.006999  77.579610   \n84  POLYGON ((77.7015151977539 12.949820518493652,...  12.951217  77.699469   \n85  POLYGON ((77.68648529052734 12.908679008483888...  12.910054  77.684715   \n\n                                                 i20w           area  \\\n0   POLYGON ((77.628015 12.948565, 77.626369 12.94...  227159.994854   \n1   POLYGON ((77.605044 12.95356, 77.603412 12.951...  278776.799324   \n2   POLYGON ((77.625737 12.952887, 77.623737 12.95...  320542.145753   \n3   POLYGON ((77.621867 12.952405, 77.618867 12.95...  324589.400644   \n4   POLYGON ((77.750909 12.979203, 77.749324 12.97...  145844.958247   \n..                                                ...            ...   \n81  POLYGON ((77.573578 12.949239, 77.570578 12.94...   77765.785154   \n82  POLYGON ((77.503893 13.069051, 77.501917 13.06...   49325.433149   \n83  POLYGON ((77.58561 13.024219, 77.58461 13.0246...  119406.751266   \n84  POLYGON ((77.702469 12.969373, 77.701079 12.96...   98891.814473   \n85  POLYGON ((77.677715 12.921533, 77.676281 12.92...   83551.194960   \n\n                                      polygon_updated  \\\n0   POLYGON ((77.6363349851269 12.928819110832771,...   \n1   POLYGON ((77.61540985107422 12.931694984436035...   \n2   POLYGON ((77.62764739990234 12.933077812194824...   \n3   POLYGON ((77.62259674072266 12.931699752807615...   \n4   POLYGON ((77.74560560950131 12.956376431776505...   \n..                                                ...   \n81  POLYGON ((77.5807397678116 12.929029007003413,...   \n82  POLYGON ((77.50954184387572 13.047029812806601...   \n83  POLYGON ((77.58243136966716 13.005005807284368...   \n84  POLYGON ((77.70270408382875 12.950281341395117...   \n85  POLYGON ((77.68687597118672 12.907420361935303...   \n\n                                                 i15d  \\\n0   POLYGON ((77.641015 12.970552, 77.639015 12.96...   \n1   POLYGON ((77.619044 12.972156, 77.618314 12.97...   \n2   POLYGON ((77.640737 12.973428, 77.639737 12.97...   \n3   POLYGON ((77.621867 12.973405, 77.619867 12.97...   \n4   POLYGON ((77.757909 13.002159, 77.756909 13.00...   \n..                                                ...   \n81  POLYGON ((77.586578 12.969553, 77.585578 12.96...   \n82  POLYGON ((77.504893 13.086599, 77.504522 13.08...   \n83  POLYGON ((77.59461 13.085288, 77.594603 13.085...   \n84  POLYGON ((77.683469 13.000504, 77.681469 13.00...   \n85  POLYGON ((77.696715 12.935709, 77.696439 12.93...   \n\n                                               i500md  \\\n0   POLYGON ((77.630015 12.935083, 77.629015 12.93...   \n1   POLYGON ((77.615044 12.93511, 77.614488 12.934...   \n2   POLYGON ((77.627737 12.938249, 77.626047 12.93...   \n3   POLYGON ((77.620867 12.93855, 77.618867 12.938...   \n4   POLYGON ((77.748909 12.96431, 77.747909 12.964...   \n..                                                ...   \n81  POLYGON ((77.579578 12.933251, 77.578578 12.93...   \n82  POLYGON ((77.508893 13.051654, 77.50793 13.051...   \n83  POLYGON ((77.58161 13.011006, 77.57861 13.0091...   \n84  POLYGON ((77.700469 12.95603, 77.699499 12.955...   \n85  POLYGON ((77.684715 12.913839, 77.684358 12.91...   \n\n                                                i2kmd  \n0   POLYGON ((77.629015 12.944764, 77.628015 12.94...  \n1   POLYGON ((77.621044 12.944, 77.619306 12.94369...  \n2   POLYGON ((77.620737 12.949375, 77.619737 12.94...  \n3   POLYGON ((77.619867 12.948596, 77.616867 12.94...  \n4   POLYGON ((77.750909 12.97772, 77.749868 12.977...  \n..                                                ...  \n81  POLYGON ((77.579578 12.945902, 77.577578 12.94...  \n82  POLYGON ((77.505893 13.063746, 77.504711 13.06...  \n83  POLYGON ((77.58361 13.021077, 77.58306 13.0209...  \n84  POLYGON ((77.701469 12.96909, 77.700073 12.967...  \n85  POLYGON ((77.669715 12.919066, 77.669192 12.91...  \n\n[86 rows x 12 columns]",
      "text/html": "<div>\n<style scoped>\n    .dataframe tbody tr th:only-of-type {\n        vertical-align: middle;\n    }\n\n    .dataframe tbody tr th {\n        vertical-align: top;\n    }\n\n    .dataframe thead th {\n        text-align: right;\n    }\n</style>\n<table border=\"1\" class=\"dataframe\">\n  <thead>\n    <tr style=\"text-align: right;\">\n      <th></th>\n      <th>micro_market_clusters_id</th>\n      <th>cluster_name</th>\n      <th>locality</th>\n      <th>polygon</th>\n      <th>lat</th>\n      <th>lng</th>\n      <th>i20w</th>\n      <th>area</th>\n      <th>polygon_updated</th>\n      <th>i15d</th>\n      <th>i500md</th>\n      <th>i2kmd</th>\n    </tr>\n  </thead>\n  <tbody>\n    <tr>\n      <th>0</th>\n      <td>0</td>\n      <td>5th Cross Road, Koramangala 4th Block,Koramangala</td>\n      <td>Koramangala</td>\n      <td>POLYGON ((77.63591003417969 12.928566932678224...</td>\n      <td>12.931521</td>\n      <td>77.632015</td>\n      <td>POLYGON ((77.628015 12.948565, 77.626369 12.94...</td>\n      <td>227159.994854</td>\n      <td>POLYGON ((77.6363349851269 12.928819110832771,...</td>\n      <td>POLYGON ((77.641015 12.970552, 77.639015 12.96...</td>\n      <td>POLYGON ((77.630015 12.935083, 77.629015 12.93...</td>\n      <td>POLYGON ((77.629015 12.944764, 77.628015 12.94...</td>\n    </tr>\n    <tr>\n      <th>1</th>\n      <td>1</td>\n      <td>Hosur Road, Koramangala 5th Block,Koramangala</td>\n      <td>Koramangala</td>\n      <td>POLYGON ((77.61540985107422 12.931694984436035...</td>\n      <td>12.933954</td>\n      <td>77.613044</td>\n      <td>POLYGON ((77.605044 12.95356, 77.603412 12.951...</td>\n      <td>278776.799324</td>\n      <td>POLYGON ((77.61540985107422 12.931694984436035...</td>\n      <td>POLYGON ((77.619044 12.972156, 77.618314 12.97...</td>\n      <td>POLYGON ((77.615044 12.93511, 77.614488 12.934...</td>\n      <td>POLYGON ((77.621044 12.944, 77.619306 12.94369...</td>\n    </tr>\n    <tr>\n      <th>2</th>\n      <td>2</td>\n      <td>16th C Main Road, Koramangala 4th Block,Korama...</td>\n      <td>Koramangala</td>\n      <td>POLYGON ((77.62764739990234 12.933077812194824...</td>\n      <td>12.936409</td>\n      <td>77.626737</td>\n      <td>POLYGON ((77.625737 12.952887, 77.623737 12.95...</td>\n      <td>320542.145753</td>\n      <td>POLYGON ((77.62764739990234 12.933077812194824...</td>\n      <td>POLYGON ((77.640737 12.973428, 77.639737 12.97...</td>\n      <td>POLYGON ((77.627737 12.938249, 77.626047 12.93...</td>\n      <td>POLYGON ((77.620737 12.949375, 77.619737 12.94...</td>\n    </tr>\n    <tr>\n      <th>3</th>\n      <td>3</td>\n      <td>2nd Cross Road, Koramangala 5th Block,Koramangala</td>\n      <td>Koramangala</td>\n      <td>POLYGON ((77.62259674072266 12.931699752807615...</td>\n      <td>12.935219</td>\n      <td>77.619867</td>\n      <td>POLYGON ((77.621867 12.952405, 77.618867 12.95...</td>\n      <td>324589.400644</td>\n      <td>POLYGON ((77.62259674072266 12.931699752807615...</td>\n      <td>POLYGON ((77.621867 12.973405, 77.619867 12.97...</td>\n      <td>POLYGON ((77.620867 12.93855, 77.618867 12.938...</td>\n      <td>POLYGON ((77.619867 12.948596, 77.616867 12.94...</td>\n    </tr>\n    <tr>\n      <th>4</th>\n      <td>4</td>\n      <td>Whitefield Main Road, Palm Meadows,Whitefield</td>\n      <td>Whitefield</td>\n      <td>POLYGON ((77.74502563476562 12.95724868774414,...</td>\n      <td>12.960090</td>\n      <td>77.746909</td>\n      <td>POLYGON ((77.750909 12.979203, 77.749324 12.97...</td>\n      <td>145844.958247</td>\n      <td>POLYGON ((77.74560560950131 12.956376431776505...</td>\n      <td>POLYGON ((77.757909 13.002159, 77.756909 13.00...</td>\n      <td>POLYGON ((77.748909 12.96431, 77.747909 12.964...</td>\n      <td>POLYGON ((77.750909 12.97772, 77.749868 12.977...</td>\n    </tr>\n    <tr>\n      <th>...</th>\n      <td>...</td>\n      <td>...</td>\n      <td>...</td>\n      <td>...</td>\n      <td>...</td>\n      <td>...</td>\n      <td>...</td>\n      <td>...</td>\n      <td>...</td>\n      <td>...</td>\n      <td>...</td>\n      <td>...</td>\n    </tr>\n    <tr>\n      <th>81</th>\n      <td>122</td>\n      <td>28th Cross Road, 7th Block Jaya Nagar,Jayanagar</td>\n      <td>Jayanagar</td>\n      <td>POLYGON ((77.57940673828125 12.928749084472656...</td>\n      <td>12.930212</td>\n      <td>77.577578</td>\n      <td>POLYGON ((77.573578 12.949239, 77.570578 12.94...</td>\n      <td>77765.785154</td>\n      <td>POLYGON ((77.5807397678116 12.929029007003413,...</td>\n      <td>POLYGON ((77.586578 12.969553, 77.585578 12.96...</td>\n      <td>POLYGON ((77.579578 12.933251, 77.578578 12.93...</td>\n      <td>POLYGON ((77.579578 12.945902, 77.577578 12.94...</td>\n    </tr>\n    <tr>\n      <th>82</th>\n      <td>125</td>\n      <td>Slv, Maheswari Nagar,T. Dasarahalli</td>\n      <td>T. Dasarahalli</td>\n      <td>POLYGON ((77.5081138 13.0473777, 77.5065078735...</td>\n      <td>13.049413</td>\n      <td>77.507893</td>\n      <td>POLYGON ((77.503893 13.069051, 77.501917 13.06...</td>\n      <td>49325.433149</td>\n      <td>POLYGON ((77.50954184387572 13.047029812806601...</td>\n      <td>POLYGON ((77.504893 13.086599, 77.504522 13.08...</td>\n      <td>POLYGON ((77.508893 13.051654, 77.50793 13.051...</td>\n      <td>POLYGON ((77.505893 13.063746, 77.504711 13.06...</td>\n    </tr>\n    <tr>\n      <th>83</th>\n      <td>129</td>\n      <td>4th Main Road, Sadashiva Nagar,Armane Nagar</td>\n      <td>Armane Nagar</td>\n      <td>POLYGON ((77.5812759399414 13.00473690032959, ...</td>\n      <td>13.006999</td>\n      <td>77.579610</td>\n      <td>POLYGON ((77.58561 13.024219, 77.58461 13.0246...</td>\n      <td>119406.751266</td>\n      <td>POLYGON ((77.58243136966716 13.005005807284368...</td>\n      <td>POLYGON ((77.59461 13.085288, 77.594603 13.085...</td>\n      <td>POLYGON ((77.58161 13.011006, 77.57861 13.0091...</td>\n      <td>POLYGON ((77.58361 13.021077, 77.58306 13.0209...</td>\n    </tr>\n    <tr>\n      <th>84</th>\n      <td>131</td>\n      <td>Outer Ring Road, Marathahalli village,Marathah...</td>\n      <td>Marathahalli</td>\n      <td>POLYGON ((77.7015151977539 12.949820518493652,...</td>\n      <td>12.951217</td>\n      <td>77.699469</td>\n      <td>POLYGON ((77.702469 12.969373, 77.701079 12.96...</td>\n      <td>98891.814473</td>\n      <td>POLYGON ((77.70270408382875 12.950281341395117...</td>\n      <td>POLYGON ((77.683469 13.000504, 77.681469 13.00...</td>\n      <td>POLYGON ((77.700469 12.95603, 77.699499 12.955...</td>\n      <td>POLYGON ((77.701469 12.96909, 77.700073 12.967...</td>\n    </tr>\n    <tr>\n      <th>85</th>\n      <td>138</td>\n      <td>Junnasandra Road, Rainbow Drive,Halanayakanahalli</td>\n      <td>Halanayakanahalli</td>\n      <td>POLYGON ((77.68648529052734 12.908679008483888...</td>\n      <td>12.910054</td>\n      <td>77.684715</td>\n      <td>POLYGON ((77.677715 12.921533, 77.676281 12.92...</td>\n      <td>83551.194960</td>\n      <td>POLYGON ((77.68687597118672 12.907420361935303...</td>\n      <td>POLYGON ((77.696715 12.935709, 77.696439 12.93...</td>\n      <td>POLYGON ((77.684715 12.913839, 77.684358 12.91...</td>\n      <td>POLYGON ((77.669715 12.919066, 77.669192 12.91...</td>\n    </tr>\n  </tbody>\n</table>\n<p>86 rows × 12 columns</p>\n</div>"
     },
     "execution_count": 11,
     "metadata": {},
     "output_type": "execute_result"
    }
   ],
   "source": [
    "df"
   ],
   "metadata": {
    "collapsed": false,
    "ExecuteTime": {
     "end_time": "2024-02-22T09:45:09.813101620Z",
     "start_time": "2024-02-22T09:45:09.755159259Z"
    }
   },
   "id": "4c4b1d43d4bb937",
   "execution_count": 11
  },
  {
   "cell_type": "code",
   "outputs": [
    {
     "data": {
      "text/plain": "{'paths': ['s3://tuzomldev/scraping_data/high_streets_data/bng_high_streets/48bc636302c54b44a0c56c59521a77e2.snappy.parquet'],\n 'partitions_values': {}}"
     },
     "execution_count": 12,
     "metadata": {},
     "output_type": "execute_result"
    }
   ],
   "source": [
    "wr.catalog.delete_table_if_exists(table='bng_high_streets',database='datasets_prep')\n",
    "wr.s3.to_parquet(df, path=\"s3://tuzomldev/scraping_data/high_streets_data/bng_high_streets/\",\n",
    "                 table='bng_high_streets', database='datasets_prep', mode='append',dataset=True)"
   ],
   "metadata": {
    "collapsed": false,
    "ExecuteTime": {
     "end_time": "2024-02-22T09:46:47.882935033Z",
     "start_time": "2024-02-22T09:46:41.478333237Z"
    }
   },
   "id": "a249af852de44004",
   "execution_count": 12
  },
  {
   "cell_type": "code",
   "outputs": [],
   "source": [],
   "metadata": {
    "collapsed": false
   },
   "id": "2526051d79dff2b6"
  },
  {
   "cell_type": "code",
   "outputs": [],
   "source": [
    "\n",
    "\n",
    "class Dashboard:\n",
    "    def __init__(self, report_id, id):\n",
    "        self.report_id = report_id\n",
    "        self.id = id\n",
    "        self.project_info = U.get_project_info(self.report_id, self.id).to_dict(orient='records')[0]\n",
    "        self.data = None\n",
    "        self.data_dict = {}\n",
    "\n",
    "    def update_cft(self):\n",
    "        cft = self.data['data']['cft']['avg_cft']\n",
    "        self.data_dict['avg_cost_for_two'] = cft\n",
    "\n",
    "    def update_affluence(self):\n",
    "        cft = self.data['data']['affluence']['affluence_index']\n",
    "        self.data_dict['affluence'] = cft\n",
    "\n",
    "    def update_location_score_weights_and_grouped_indexes(self):\n",
    "        weights = json.dumps({\n",
    "            'affluence_index': 0.19,\n",
    "            'apartments_index': 0.19,\n",
    "            'fashion_index': 0.19,\n",
    "            'vibrancy': 0.14,\n",
    "            'healthcare_index': 0.10,\n",
    "            'company_index': 0.10,\n",
    "            'malls_index': 0.05,\n",
    "            'supermarket_index': 0.04,\n",
    "        })\n",
    "        self.data_dict['location_score_weights'] = weights\n",
    "        indexes = json.dumps({'company_index': 3.89,\n",
    "                              'connectivity_index': 4.62,\n",
    "                              'education_index': 4.58,\n",
    "                              'electronics_index': 4.78,\n",
    "                              'entertainment_index': 5.0,\n",
    "                              'fashion_index': 4.98,\n",
    "                              'grocery_index': 4.98,\n",
    "                              'healthcare_index': 4.82,\n",
    "                              'home_decor_index': 4.56,\n",
    "                              'leisure_index': 2.75,\n",
    "                              'malls_index': 0.0,\n",
    "                              'parks_index': 0.86,\n",
    "                              'religious_index': 4.5,\n",
    "                              'supermarket_index': 3.58,\n",
    "                              'vibrancy': 4.01})\n",
    "        self.data_dict['grouped_indexes'] = indexes\n",
    "\n",
    "    def generate_report_data(self):\n",
    "        eps = [\"cft\", \"population\", \"companies\", \"demand_generator\", \"projects\", \"affluence\", \"income\", \"competition\",\n",
    "               \"category_count\", \"property_price\", \"high_street\", 'shopping_mall']\n",
    "        all_data = {\"data\": {}}\n",
    "        for ep in eps:\n",
    "            url = f\"http://127.0.0.1:8000/site_report/{self.report_id}/{self.id}/{ep}\"\n",
    "            req = requests.get(url)\n",
    "            try:\n",
    "                resp = req.json()\n",
    "            except Exception as e:\n",
    "                print(url, e)\n",
    "                raise e\n",
    "            data = resp['data']\n",
    "            all_data['data'][ep] = data\n",
    "        self.data = all_data\n",
    "\n",
    "    def populate_single_cells(self):\n",
    "        with open(\"dashboard_copy.json\") as f:\n",
    "            data = json.load(f)\n",
    "        for i in data:\n",
    "            try:\n",
    "                i['values'] = [[self.get_dictionary_value(self.data, i['values'][0][0])]]\n",
    "            except Exception as e:\n",
    "                print(e, i['values'][0][0])\n",
    "        # self.report_worksheet.batch_update(data)\n",
    "\n",
    "    def insert_pois_ranked(self):\n",
    "        a = pd.DataFrame(self.data['data']['category_count']['data'])['top_pois']\n",
    "        from functools import reduce\n",
    "        df = pd.DataFrame(reduce(lambda a, b: a + b, a.values.tolist())).sort_values(by='reviews_per_day',\n",
    "                                                                                     ascending=False)\n",
    "        df_ = df.to_dict(orient='records')[:]\n",
    "        pois = df_\n",
    "        df = df[df['brand_id'] != 'N_A'].to_dict(orient='records')[:]\n",
    "        df = json.dumps(df)\n",
    "        self.data_dict['top_brands'] = df\n",
    "        return pois\n",
    "\n",
    "    def update_category_count(self):\n",
    "        buff = self.data['data']['category_count']\n",
    "        self.data_dict['pois'] = json.dumps(buff)\n",
    "\n",
    "    def update_high_streets(self):\n",
    "        high_streets = self.data['data']['high_street']\n",
    "        high_streets = json.dumps(high_streets)\n",
    "        self.data_dict['high_streets'] = high_streets\n",
    "\n",
    "    def update_competition(self):\n",
    "        comp = self.data['data']['competition']\n",
    "        comp = json.dumps(comp)\n",
    "        self.data_dict['competition'] = comp\n",
    "\n",
    "    def update_malls(self):\n",
    "        comp = self.data['data']['shopping_mall']\n",
    "        comp = json.dumps(comp)\n",
    "        self.data_dict['shopping_malls'] = comp\n",
    "\n",
    "    def update_household_distribution(self):\n",
    "        comp = self.data['data']['income']\n",
    "        comp = json.dumps(comp)\n",
    "        self.data_dict['household_distribution'] = comp\n",
    "\n",
    "    def update_property_price(self):\n",
    "        # comp = self.data['data']['property_price']['price']\n",
    "        # comp = json.dumps(comp)\n",
    "        # self.data_dict['property_prices'] = comp\n",
    "        comp = self.data['data']['property_price']\n",
    "        # comp[0]['top_pois'] = comp[0]['top_pois'][:]\n",
    "        comp = json.dumps(comp)\n",
    "        self.data_dict['apartments'] = comp\n",
    "\n",
    "    def update_projects(self):\n",
    "        p = self.data['data']['projects']\n",
    "        p['projects'] = p['projects'][:]\n",
    "        self.data_dict['projects'] = json.dumps(p)\n",
    "\n",
    "    def update_companies(self):\n",
    "        companies = self.data['data']['companies']\n",
    "        demand_generators = self.data['data']['demand_generator']\n",
    "        demand_generators['companies'] = companies\n",
    "        self.data_dict['demand_generators'] = json.dumps(demand_generators)\n",
    "\n",
    "    def get_revenue_score(self):\n",
    "        self.data_dict['revenue_score'] = 81.95\n",
    "\n",
    "    def population_chart(self):\n",
    "        pop = self.data['data']['population']\n",
    "        pop = json.dumps(pop)\n",
    "        self.data_dict['population'] = pop\n",
    "\n",
    "    @staticmethod\n",
    "    def get_dictionary_value(d, keys):\n",
    "        keys = keys.split(\".\")\n",
    "        for i in keys:\n",
    "            d = d.get(i)\n",
    "        return d\n",
    "\n",
    "    def generate_report(self):\n",
    "        self.generate_report_data()\n",
    "        # self.populate_single_cells()\n",
    "        self.update_cft()\n",
    "        # self.update_location_score_weights_and_grouped_indexes()\n",
    "        self.update_affluence()\n",
    "        self.insert_pois_ranked()\n",
    "        self.update_household_distribution()\n",
    "        self.update_property_price()\n",
    "        self.update_projects()\n",
    "        self.update_malls()\n",
    "        self.population_chart()\n",
    "        self.update_competition()\n",
    "        self.update_category_count()\n",
    "        self.update_high_streets()\n",
    "        # self.get_revenue_score()\n",
    "        self.update_companies()\n"
   ],
   "metadata": {
    "collapsed": false,
    "ExecuteTime": {
     "end_time": "2024-02-08T08:11:54.106775074Z",
     "start_time": "2024-02-08T08:11:52.610690966Z"
    }
   },
   "id": "8a000a37bf30d9d3",
   "execution_count": 1
  },
  {
   "cell_type": "code",
   "outputs": [],
   "source": [
    "import utils as U\n",
    "import importlib\n",
    "\n",
    "importlib.reload(U)\n",
    "all_reports = U.get_project_info().tail(4)"
   ],
   "metadata": {
    "collapsed": false,
    "ExecuteTime": {
     "end_time": "2024-02-08T08:28:20.744076814Z",
     "start_time": "2024-02-08T08:28:20.653040084Z"
    }
   },
   "id": "f2f5aa4ce5bbe2a1",
   "execution_count": 11
  },
  {
   "cell_type": "code",
   "outputs": [
    {
     "data": {
      "text/plain": "                               report_id             id  \\\n16  f9b43dc5-f8fe-4cb0-b91a-54cbf23de536  129342_777438   \n17  ba9999e5-b9f2-4eb0-8b71-eec0c9af1930  129342_777438   \n18  59237f70-29b4-463c-a869-8323df9f54ca  128050_776996   \n19  df93c3fa-d9ac-46ad-9b8a-d423fb715ae6  128050_776996   \n\n                                            site_name        lat        lng  \\\n16                        Orion Utopia - Sh35,Varthur  12.934247  77.743869   \n17                        Orion Utopia - Sh35,Varthur  12.934247  77.743869   \n18  Orion Valencia - Hosur Road, Keerthi Layout,Su...  12.805019  77.699684   \n19  Orion Valencia - Hosur Road, Keerthi Layout,Su...  12.805019  77.699684   \n\n                                             geometry  \\\n16  POLYGON ((77.751869 12.98133, 77.749635 12.979...   \n17  POLYGON ((77.745869 12.937926, 77.743614 12.93...   \n18  POLYGON ((77.647684 12.877109, 77.646743 12.87...   \n19  POLYGON ((77.698684 12.808065, 77.697772 12.80...   \n\n                                 location catchment_type  \\\n16                           Sh35,Varthur        i15mind   \n17                           Sh35,Varthur        i500mtd   \n18  Hosur Road, Keerthi Layout,Suryanagar        i15mind   \n19  Hosur Road, Keerthi Layout,Suryanagar        i500mtd   \n\n                                           top_brands  \\\n16  [{\"id\": \"ChIJA7wj8BMSrjsROKK4nf2PcCA\", \"name\":...   \n17  [{\"id\": \"ChIJr8OCGv8TrjsRbG5HtKs6Pm8\", \"name\":...   \n18  [{\"id\": \"ChIJba_U8IxsrjsRK4d0fwEn3KA\", \"name\":...   \n19  [{\"id\": \"ChIJ7VcOZjNsrjsR88oQJA5Q2xc\", \"name\":...   \n\n                                                 pois  ... projects_counts  \\\n16  {\"count\": 376, \"avg_number_of_reviews_per_day\"...  ...            None   \n17  {\"count\": 11, \"avg_number_of_reviews_per_day\":...  ...            None   \n18  {\"count\": 318, \"avg_number_of_reviews_per_day\"...  ...            None   \n19  {\"count\": 7, \"avg_number_of_reviews_per_day\": ...  ...            None   \n\n    created_at                             location_score_weights  \\\n16  1707378645  {\"affluence_index\": 0.237, \"apartments_index\":...   \n17  1707378647  {\"affluence_index\": 0.237, \"apartments_index\":...   \n18  1707378648  {\"affluence_index\": 0.237, \"apartments_index\":...   \n19  1707378649  {\"affluence_index\": 0.237, \"apartments_index\":...   \n\n   grouped_indexes                                  demand_generators  \\\n16            None  {\"clinic\": 406, \"college\": 51, \"hospital\": 147...   \n17            None  {\"clinic\": 14, \"hospital\": 5, \"pharmacy\": 3, \"...   \n18            None  {\"clinic\": 504, \"college\": 137, \"hospital\": 28...   \n19            None  {\"clinic\": 5, \"hospital\": 11, \"pharmacy\": 4, \"...   \n\n     city_lat   city_lng  distance_from_city_center  \\\n16  12.976794  77.590082                        NaN   \n17  12.976794  77.590082                        NaN   \n18  12.976794  77.590082                        NaN   \n19  12.976794  77.590082                        NaN   \n\n    orientation_from_city_center competitors_domains  \n16                            SE                  []  \n17                            SE                  []  \n18                            SE                  []  \n19                            SE                  []  \n\n[4 rows x 32 columns]",
      "text/html": "<div>\n<style scoped>\n    .dataframe tbody tr th:only-of-type {\n        vertical-align: middle;\n    }\n\n    .dataframe tbody tr th {\n        vertical-align: top;\n    }\n\n    .dataframe thead th {\n        text-align: right;\n    }\n</style>\n<table border=\"1\" class=\"dataframe\">\n  <thead>\n    <tr style=\"text-align: right;\">\n      <th></th>\n      <th>report_id</th>\n      <th>id</th>\n      <th>site_name</th>\n      <th>lat</th>\n      <th>lng</th>\n      <th>geometry</th>\n      <th>location</th>\n      <th>catchment_type</th>\n      <th>top_brands</th>\n      <th>pois</th>\n      <th>...</th>\n      <th>projects_counts</th>\n      <th>created_at</th>\n      <th>location_score_weights</th>\n      <th>grouped_indexes</th>\n      <th>demand_generators</th>\n      <th>city_lat</th>\n      <th>city_lng</th>\n      <th>distance_from_city_center</th>\n      <th>orientation_from_city_center</th>\n      <th>competitors_domains</th>\n    </tr>\n  </thead>\n  <tbody>\n    <tr>\n      <th>16</th>\n      <td>f9b43dc5-f8fe-4cb0-b91a-54cbf23de536</td>\n      <td>129342_777438</td>\n      <td>Orion Utopia - Sh35,Varthur</td>\n      <td>12.934247</td>\n      <td>77.743869</td>\n      <td>POLYGON ((77.751869 12.98133, 77.749635 12.979...</td>\n      <td>Sh35,Varthur</td>\n      <td>i15mind</td>\n      <td>[{\"id\": \"ChIJA7wj8BMSrjsROKK4nf2PcCA\", \"name\":...</td>\n      <td>{\"count\": 376, \"avg_number_of_reviews_per_day\"...</td>\n      <td>...</td>\n      <td>None</td>\n      <td>1707378645</td>\n      <td>{\"affluence_index\": 0.237, \"apartments_index\":...</td>\n      <td>None</td>\n      <td>{\"clinic\": 406, \"college\": 51, \"hospital\": 147...</td>\n      <td>12.976794</td>\n      <td>77.590082</td>\n      <td>NaN</td>\n      <td>SE</td>\n      <td>[]</td>\n    </tr>\n    <tr>\n      <th>17</th>\n      <td>ba9999e5-b9f2-4eb0-8b71-eec0c9af1930</td>\n      <td>129342_777438</td>\n      <td>Orion Utopia - Sh35,Varthur</td>\n      <td>12.934247</td>\n      <td>77.743869</td>\n      <td>POLYGON ((77.745869 12.937926, 77.743614 12.93...</td>\n      <td>Sh35,Varthur</td>\n      <td>i500mtd</td>\n      <td>[{\"id\": \"ChIJr8OCGv8TrjsRbG5HtKs6Pm8\", \"name\":...</td>\n      <td>{\"count\": 11, \"avg_number_of_reviews_per_day\":...</td>\n      <td>...</td>\n      <td>None</td>\n      <td>1707378647</td>\n      <td>{\"affluence_index\": 0.237, \"apartments_index\":...</td>\n      <td>None</td>\n      <td>{\"clinic\": 14, \"hospital\": 5, \"pharmacy\": 3, \"...</td>\n      <td>12.976794</td>\n      <td>77.590082</td>\n      <td>NaN</td>\n      <td>SE</td>\n      <td>[]</td>\n    </tr>\n    <tr>\n      <th>18</th>\n      <td>59237f70-29b4-463c-a869-8323df9f54ca</td>\n      <td>128050_776996</td>\n      <td>Orion Valencia - Hosur Road, Keerthi Layout,Su...</td>\n      <td>12.805019</td>\n      <td>77.699684</td>\n      <td>POLYGON ((77.647684 12.877109, 77.646743 12.87...</td>\n      <td>Hosur Road, Keerthi Layout,Suryanagar</td>\n      <td>i15mind</td>\n      <td>[{\"id\": \"ChIJba_U8IxsrjsRK4d0fwEn3KA\", \"name\":...</td>\n      <td>{\"count\": 318, \"avg_number_of_reviews_per_day\"...</td>\n      <td>...</td>\n      <td>None</td>\n      <td>1707378648</td>\n      <td>{\"affluence_index\": 0.237, \"apartments_index\":...</td>\n      <td>None</td>\n      <td>{\"clinic\": 504, \"college\": 137, \"hospital\": 28...</td>\n      <td>12.976794</td>\n      <td>77.590082</td>\n      <td>NaN</td>\n      <td>SE</td>\n      <td>[]</td>\n    </tr>\n    <tr>\n      <th>19</th>\n      <td>df93c3fa-d9ac-46ad-9b8a-d423fb715ae6</td>\n      <td>128050_776996</td>\n      <td>Orion Valencia - Hosur Road, Keerthi Layout,Su...</td>\n      <td>12.805019</td>\n      <td>77.699684</td>\n      <td>POLYGON ((77.698684 12.808065, 77.697772 12.80...</td>\n      <td>Hosur Road, Keerthi Layout,Suryanagar</td>\n      <td>i500mtd</td>\n      <td>[{\"id\": \"ChIJ7VcOZjNsrjsR88oQJA5Q2xc\", \"name\":...</td>\n      <td>{\"count\": 7, \"avg_number_of_reviews_per_day\": ...</td>\n      <td>...</td>\n      <td>None</td>\n      <td>1707378649</td>\n      <td>{\"affluence_index\": 0.237, \"apartments_index\":...</td>\n      <td>None</td>\n      <td>{\"clinic\": 5, \"hospital\": 11, \"pharmacy\": 4, \"...</td>\n      <td>12.976794</td>\n      <td>77.590082</td>\n      <td>NaN</td>\n      <td>SE</td>\n      <td>[]</td>\n    </tr>\n  </tbody>\n</table>\n<p>4 rows × 32 columns</p>\n</div>"
     },
     "execution_count": 12,
     "metadata": {},
     "output_type": "execute_result"
    }
   ],
   "source": [
    "all_reports"
   ],
   "metadata": {
    "collapsed": false,
    "ExecuteTime": {
     "end_time": "2024-02-08T08:28:22.746960312Z",
     "start_time": "2024-02-08T08:28:22.696062712Z"
    }
   },
   "id": "e2d59abf356a2803",
   "execution_count": 12
  },
  {
   "cell_type": "code",
   "outputs": [],
   "source": [
    "all_reports = all_reports.query('catchment_type!=\"i1000mtb\" and id not in (\"129065_775925\",\"130636_775869\")')  #.tail(4)"
   ],
   "metadata": {
    "collapsed": false,
    "ExecuteTime": {
     "end_time": "2024-02-07T13:21:57.879683411Z",
     "start_time": "2024-02-07T13:21:57.876958033Z"
    }
   },
   "id": "98162caf469e8e81",
   "execution_count": 4
  },
  {
   "cell_type": "code",
   "outputs": [],
   "source": [
    "\n",
    "    "
   ],
   "metadata": {
    "collapsed": false
   },
   "id": "4fd22806c21c1b91"
  },
  {
   "cell_type": "code",
   "outputs": [],
   "source": [
    "query = '''UPDATE ind_site_reports_v2\n",
    "SET\n",
    "    top_brands = :top_brands,\n",
    "    pois = :pois,\n",
    "    projects = :projects,\n",
    "    apartments = :apartments,\n",
    "    household_distribution = :household_distribution,\n",
    "    competition = :competition,\n",
    "    population = :population,\n",
    "    affluence = :affluence,\n",
    "    avg_cost_for_two = :avg_cost_for_two,\n",
    "    high_streets = :high_streets,\n",
    "    shopping_malls = :shopping_malls,\n",
    "    demand_generators = :demand_generators\n",
    "WHERE report_id = :report_id and id=:id;\n",
    "'''"
   ],
   "metadata": {
    "collapsed": false,
    "ExecuteTime": {
     "end_time": "2024-02-08T08:12:35.990417124Z",
     "start_time": "2024-02-08T08:12:35.967829413Z"
    }
   },
   "id": "ed0aa989011d5889",
   "execution_count": 4
  },
  {
   "cell_type": "code",
   "outputs": [],
   "source": [
    "if __name__ == '__main__':\n",
    "    con, cur = U.connect_to_db()\n",
    "\n",
    "    for proj in all_reports.to_dict(orient='records')[:]:\n",
    "        rep = Dashboard(report_id=proj['report_id'], id=proj['id'])\n",
    "        rep.generate_report()\n",
    "        query_params = rep.data_dict\n",
    "        query_params['report_id'] = proj['report_id']\n",
    "        query_params['id'] = proj['id']\n",
    "        cur.execute(query, query_params)\n",
    "        con.commit()\n",
    "    cur.close()\n",
    "    con.close()\n"
   ],
   "metadata": {
    "collapsed": true,
    "ExecuteTime": {
     "end_time": "2024-02-08T08:22:02.878094550Z",
     "start_time": "2024-02-08T08:21:01.973524243Z"
    }
   },
   "id": "initial_id",
   "execution_count": 8
  },
  {
   "cell_type": "code",
   "outputs": [
    {
     "data": {
      "text/plain": "                               report_id             id  \\\n16  f9b43dc5-f8fe-4cb0-b91a-54cbf23de536  129342_777438   \n17  ba9999e5-b9f2-4eb0-8b71-eec0c9af1930  129342_777438   \n18  59237f70-29b4-463c-a869-8323df9f54ca  128050_776996   \n19  df93c3fa-d9ac-46ad-9b8a-d423fb715ae6  128050_776996   \n\n                                            site_name        lat        lng  \\\n16                        Orion Utopia - Sh35,Varthur  12.934247  77.743869   \n17                        Orion Utopia - Sh35,Varthur  12.934247  77.743869   \n18  Orion Valencia - Hosur Road, Keerthi Layout,Su...  12.805019  77.699684   \n19  Orion Valencia - Hosur Road, Keerthi Layout,Su...  12.805019  77.699684   \n\n                                             geometry  \\\n16  POLYGON ((77.751869 12.98133, 77.749635 12.979...   \n17  POLYGON ((77.745869 12.937926, 77.743614 12.93...   \n18  POLYGON ((77.647684 12.877109, 77.646743 12.87...   \n19  POLYGON ((77.698684 12.808065, 77.697772 12.80...   \n\n                                 location catchment_type  \\\n16                           Sh35,Varthur        i15mind   \n17                           Sh35,Varthur        i500mtd   \n18  Hosur Road, Keerthi Layout,Suryanagar        i15mind   \n19  Hosur Road, Keerthi Layout,Suryanagar        i500mtd   \n\n                                           top_brands  \\\n16  [{\"id\": \"ChIJA7wj8BMSrjsROKK4nf2PcCA\", \"name\":...   \n17  [{\"id\": \"ChIJr8OCGv8TrjsRbG5HtKs6Pm8\", \"name\":...   \n18  [{\"id\": \"ChIJba_U8IxsrjsRK4d0fwEn3KA\", \"name\":...   \n19  [{\"id\": \"ChIJ7VcOZjNsrjsR88oQJA5Q2xc\", \"name\":...   \n\n                                                 pois  ... projects_counts  \\\n16  {\"count\": 376, \"avg_number_of_reviews_per_day\"...  ...            None   \n17  {\"count\": 11, \"avg_number_of_reviews_per_day\":...  ...            None   \n18  {\"count\": 318, \"avg_number_of_reviews_per_day\"...  ...            None   \n19  {\"count\": 7, \"avg_number_of_reviews_per_day\": ...  ...            None   \n\n    created_at                             location_score_weights  \\\n16  1707378645  {\"affluence_index\": 0.237, \"apartments_index\":...   \n17  1707378647  {\"affluence_index\": 0.237, \"apartments_index\":...   \n18  1707378648  {\"affluence_index\": 0.237, \"apartments_index\":...   \n19  1707378649  {\"affluence_index\": 0.237, \"apartments_index\":...   \n\n                                      grouped_indexes  \\\n16  {\"affluence_index\": 3.39, \"apartments_index\": ...   \n17  {\"affluence_index\": 3.39, \"apartments_index\": ...   \n18  {\"affluence_index\": 2.67, \"apartments_index\": ...   \n19  {\"affluence_index\": 2.67, \"apartments_index\": ...   \n\n                                    demand_generators   city_lat   city_lng  \\\n16  {\"clinic\": 406, \"college\": 51, \"hospital\": 147...  12.976794  77.590082   \n17  {\"clinic\": 14, \"hospital\": 5, \"pharmacy\": 3, \"...  12.976794  77.590082   \n18  {\"clinic\": 504, \"college\": 137, \"hospital\": 28...  12.976794  77.590082   \n19  {\"clinic\": 5, \"hospital\": 11, \"pharmacy\": 4, \"...  12.976794  77.590082   \n\n    distance_from_city_center  orientation_from_city_center  \\\n16                  17.337685                            SE   \n17                  17.337685                            SE   \n18                  22.419331                            SE   \n19                  22.419331                            SE   \n\n   competitors_domains  \n16                  []  \n17                  []  \n18                  []  \n19                  []  \n\n[4 rows x 32 columns]",
      "text/html": "<div>\n<style scoped>\n    .dataframe tbody tr th:only-of-type {\n        vertical-align: middle;\n    }\n\n    .dataframe tbody tr th {\n        vertical-align: top;\n    }\n\n    .dataframe thead th {\n        text-align: right;\n    }\n</style>\n<table border=\"1\" class=\"dataframe\">\n  <thead>\n    <tr style=\"text-align: right;\">\n      <th></th>\n      <th>report_id</th>\n      <th>id</th>\n      <th>site_name</th>\n      <th>lat</th>\n      <th>lng</th>\n      <th>geometry</th>\n      <th>location</th>\n      <th>catchment_type</th>\n      <th>top_brands</th>\n      <th>pois</th>\n      <th>...</th>\n      <th>projects_counts</th>\n      <th>created_at</th>\n      <th>location_score_weights</th>\n      <th>grouped_indexes</th>\n      <th>demand_generators</th>\n      <th>city_lat</th>\n      <th>city_lng</th>\n      <th>distance_from_city_center</th>\n      <th>orientation_from_city_center</th>\n      <th>competitors_domains</th>\n    </tr>\n  </thead>\n  <tbody>\n    <tr>\n      <th>16</th>\n      <td>f9b43dc5-f8fe-4cb0-b91a-54cbf23de536</td>\n      <td>129342_777438</td>\n      <td>Orion Utopia - Sh35,Varthur</td>\n      <td>12.934247</td>\n      <td>77.743869</td>\n      <td>POLYGON ((77.751869 12.98133, 77.749635 12.979...</td>\n      <td>Sh35,Varthur</td>\n      <td>i15mind</td>\n      <td>[{\"id\": \"ChIJA7wj8BMSrjsROKK4nf2PcCA\", \"name\":...</td>\n      <td>{\"count\": 376, \"avg_number_of_reviews_per_day\"...</td>\n      <td>...</td>\n      <td>None</td>\n      <td>1707378645</td>\n      <td>{\"affluence_index\": 0.237, \"apartments_index\":...</td>\n      <td>{\"affluence_index\": 3.39, \"apartments_index\": ...</td>\n      <td>{\"clinic\": 406, \"college\": 51, \"hospital\": 147...</td>\n      <td>12.976794</td>\n      <td>77.590082</td>\n      <td>17.337685</td>\n      <td>SE</td>\n      <td>[]</td>\n    </tr>\n    <tr>\n      <th>17</th>\n      <td>ba9999e5-b9f2-4eb0-8b71-eec0c9af1930</td>\n      <td>129342_777438</td>\n      <td>Orion Utopia - Sh35,Varthur</td>\n      <td>12.934247</td>\n      <td>77.743869</td>\n      <td>POLYGON ((77.745869 12.937926, 77.743614 12.93...</td>\n      <td>Sh35,Varthur</td>\n      <td>i500mtd</td>\n      <td>[{\"id\": \"ChIJr8OCGv8TrjsRbG5HtKs6Pm8\", \"name\":...</td>\n      <td>{\"count\": 11, \"avg_number_of_reviews_per_day\":...</td>\n      <td>...</td>\n      <td>None</td>\n      <td>1707378647</td>\n      <td>{\"affluence_index\": 0.237, \"apartments_index\":...</td>\n      <td>{\"affluence_index\": 3.39, \"apartments_index\": ...</td>\n      <td>{\"clinic\": 14, \"hospital\": 5, \"pharmacy\": 3, \"...</td>\n      <td>12.976794</td>\n      <td>77.590082</td>\n      <td>17.337685</td>\n      <td>SE</td>\n      <td>[]</td>\n    </tr>\n    <tr>\n      <th>18</th>\n      <td>59237f70-29b4-463c-a869-8323df9f54ca</td>\n      <td>128050_776996</td>\n      <td>Orion Valencia - Hosur Road, Keerthi Layout,Su...</td>\n      <td>12.805019</td>\n      <td>77.699684</td>\n      <td>POLYGON ((77.647684 12.877109, 77.646743 12.87...</td>\n      <td>Hosur Road, Keerthi Layout,Suryanagar</td>\n      <td>i15mind</td>\n      <td>[{\"id\": \"ChIJba_U8IxsrjsRK4d0fwEn3KA\", \"name\":...</td>\n      <td>{\"count\": 318, \"avg_number_of_reviews_per_day\"...</td>\n      <td>...</td>\n      <td>None</td>\n      <td>1707378648</td>\n      <td>{\"affluence_index\": 0.237, \"apartments_index\":...</td>\n      <td>{\"affluence_index\": 2.67, \"apartments_index\": ...</td>\n      <td>{\"clinic\": 504, \"college\": 137, \"hospital\": 28...</td>\n      <td>12.976794</td>\n      <td>77.590082</td>\n      <td>22.419331</td>\n      <td>SE</td>\n      <td>[]</td>\n    </tr>\n    <tr>\n      <th>19</th>\n      <td>df93c3fa-d9ac-46ad-9b8a-d423fb715ae6</td>\n      <td>128050_776996</td>\n      <td>Orion Valencia - Hosur Road, Keerthi Layout,Su...</td>\n      <td>12.805019</td>\n      <td>77.699684</td>\n      <td>POLYGON ((77.698684 12.808065, 77.697772 12.80...</td>\n      <td>Hosur Road, Keerthi Layout,Suryanagar</td>\n      <td>i500mtd</td>\n      <td>[{\"id\": \"ChIJ7VcOZjNsrjsR88oQJA5Q2xc\", \"name\":...</td>\n      <td>{\"count\": 7, \"avg_number_of_reviews_per_day\": ...</td>\n      <td>...</td>\n      <td>None</td>\n      <td>1707378649</td>\n      <td>{\"affluence_index\": 0.237, \"apartments_index\":...</td>\n      <td>{\"affluence_index\": 2.67, \"apartments_index\": ...</td>\n      <td>{\"clinic\": 5, \"hospital\": 11, \"pharmacy\": 4, \"...</td>\n      <td>12.976794</td>\n      <td>77.590082</td>\n      <td>22.419331</td>\n      <td>SE</td>\n      <td>[]</td>\n    </tr>\n  </tbody>\n</table>\n<p>4 rows × 32 columns</p>\n</div>"
     },
     "execution_count": 22,
     "metadata": {},
     "output_type": "execute_result"
    }
   ],
   "source": [
    "df = U.get_all_reports().tail(4)\n",
    "df"
   ],
   "metadata": {
    "collapsed": false,
    "ExecuteTime": {
     "end_time": "2024-02-08T09:00:09.546799787Z",
     "start_time": "2024-02-08T09:00:09.456907022Z"
    }
   },
   "id": "dca2a84aba8abc60",
   "execution_count": 22
  },
  {
   "cell_type": "code",
   "outputs": [],
   "source": [
    "df = df.query('catchment_type!=\"i1000mtb\" and id not in (\"129065_775925\",\"130636_775869\")')"
   ],
   "metadata": {
    "collapsed": false,
    "ExecuteTime": {
     "end_time": "2024-02-07T15:41:58.761628124Z",
     "start_time": "2024-02-07T15:41:58.716450854Z"
    }
   },
   "id": "e6781e00b94794e0",
   "execution_count": 34
  },
  {
   "cell_type": "code",
   "outputs": [],
   "source": [
    "df = df.drop(columns=['poi_counts', 'projects_counts', 'median_price'])"
   ],
   "metadata": {
    "collapsed": false,
    "ExecuteTime": {
     "end_time": "2024-02-08T09:00:22.929941605Z",
     "start_time": "2024-02-08T09:00:22.884326855Z"
    }
   },
   "id": "97b1c239d233c603",
   "execution_count": 23
  },
  {
   "cell_type": "code",
   "outputs": [
    {
     "data": {
      "text/plain": "True"
     },
     "execution_count": 50,
     "metadata": {},
     "output_type": "execute_result"
    }
   ],
   "source": [
    "wr.catalog.delete_table_if_exists(database='datasets_prep', table='ind_site_reports_data_v2')"
   ],
   "metadata": {
    "collapsed": false,
    "ExecuteTime": {
     "end_time": "2024-02-01T15:16:58.344073422Z",
     "start_time": "2024-02-01T15:16:56.264498831Z"
    }
   },
   "id": "53f3e959882cbd8e",
   "execution_count": 50
  },
  {
   "cell_type": "code",
   "outputs": [
    {
     "data": {
      "text/plain": "{'paths': ['s3://tuzomldev/site_reports/69f4e773772e4263886c65d8bec6a45d.snappy.parquet'],\n 'partitions_values': {}}"
     },
     "execution_count": 24,
     "metadata": {},
     "output_type": "execute_result"
    }
   ],
   "source": [
    "wr.s3.to_parquet(df, path=\"s3://tuzomldev/site_reports/\", table=\"ind_site_reports_data_v2\", database='datasets_prep',\n",
    "                 dataset=True, mode='append',\n",
    "                 dtype={'report_id': 'string', 'id': 'string', 'site_name': 'string', 'lat': 'double',\n",
    "                        'lng': 'double', 'catchment_type': 'string', 'top_brands': 'string', 'pois': 'string',\n",
    "                        'projects': 'string', 'apartments': 'string', 'median_price': 'string',\n",
    "                        'household_distribution': 'string', 'competition': 'string', 'population': 'string',\n",
    "                        'affluence': 'double', 'avg_cost_for_two': 'double', 'revenue_score': 'double',\n",
    "                        'high_streets': 'string', 'shopping_malls': 'string', 'poi_counts': 'string',\n",
    "                        'projects_counts': 'string', 'created_at': 'bigint', \"companies\": \"string\"})"
   ],
   "metadata": {
    "collapsed": false,
    "ExecuteTime": {
     "end_time": "2024-02-08T09:00:40.734491571Z",
     "start_time": "2024-02-08T09:00:30.783510626Z"
    }
   },
   "id": "c6a0e3dfbc0753e1",
   "execution_count": 24
  },
  {
   "cell_type": "code",
   "outputs": [
    {
     "data": {
      "text/plain": "                               report_id             id  \\\n0   1f78f3ac-d799-470b-9738-2c4da5053cee  130110_775547   \n1   2f78f3ac-d799-470b-9738-2c4da5053cee  130110_775547   \n2   374c8386-5837-43b8-8409-c456849263e7  130009_776325   \n3   2ef72172-e65c-47df-9f06-2a98c9f1fa94  130009_776325   \n4   5fca8372-db67-4e32-9c34-17818bca7c19  130552_777638   \n5   ed374c4c-6dc3-473b-867e-ff707e347939  130552_777638   \n12  178abc17-71da-457e-a908-e5af283279ec  130631_776205   \n13  40b37f44-ff12-481a-b962-7b7b203026e2  130631_776205   \n15  3feae1e7-1e67-4392-a58a-3e0c80285aba  128873_775969   \n16  281cbce7-56d6-4faa-bf18-6ca15a6cc89e  128873_775969   \n\n                                            site_name        lat        lng  \\\n0   Orion Mall - Dr. Rajkumar Road, Rajaji Nagar I...  13.011027  77.554736   \n1   Orion Mall - Dr. Rajkumar Road, Rajaji Nagar I...  13.011027  77.554736   \n2   Orion Avenue - Second Cross N. Thyagaraju Layo...  13.000957  77.632571   \n3   Orion Avenue - Second Cross N. Thyagaraju Layo...  13.000957  77.632571   \n4   Orion Uptown - Old Madras Road, Kattanallur,Sa...  13.055260  77.763894   \n5   Orion Uptown - Old Madras Road, Kattanallur,Sa...  13.055260  77.763894   \n12           Cultfit - Rachenahalli Main Road,Jakkuru  13.063170  77.620569   \n13           Cultfit - Rachenahalli Main Road,Jakkuru  13.063170  77.620569   \n15  Cultfit - Bannerghatta Road, Araka Mico Layout...  12.887373  77.596901   \n16  Cultfit - Bannerghatta Road, Araka Mico Layout...  12.887373  77.596901   \n\n                                             geometry  \\\n0   POLYGON ((77.494736 13.050067, 77.493202 13.05...   \n1   POLYGON ((77.55064773796063 13.010557348159388...   \n2   POLYGON ((77.62847982126846 13.000488913937247...   \n3   POLYGON ((77.644571 13.032047, 77.643571 13.03...   \n4   POLYGON ((77.773894 13.116797, 77.772949 13.11...   \n5   POLYGON ((77.75979674534983 13.05479248128713,...   \n12  POLYGON ((77.606569 13.115077, 77.606492 13.11...   \n13  POLYGON ((77.61647704294562 13.062699625388513...   \n15  POLYGON ((77.600901 12.933643, 77.600373 12.93...   \n16  POLYGON ((77.59281280856402 12.8869084692348, ...   \n\n                                             location catchment_type  \\\n0   Dr. Rajkumar Road, Rajaji Nagar Industrial Sub...        i15mind   \n1   Dr. Rajkumar Road, Rajaji Nagar Industrial Sub...        i500mtb   \n2   Second Cross N. Thyagaraju Layout, Sathya Naga...        i500mtb   \n3   Second Cross N. Thyagaraju Layout, Sathya Naga...        i15mind   \n4      Old Madras Road, Kattanallur,Sannatammanahalli        i15mind   \n5      Old Madras Road, Kattanallur,Sannatammanahalli        i500mtb   \n12                     Rachenahalli Main Road,Jakkuru        i15mind   \n13                     Rachenahalli Main Road,Jakkuru        i500mtb   \n15       Bannerghatta Road, Araka Mico Layout,Arekere        i15mind   \n16       Bannerghatta Road, Araka Mico Layout,Arekere        i500mtb   \n\n                                           top_brands  \\\n0   [{\"id\": \"ChIJe9qj3xs9rjsRDN6CamLC-Co\", \"name\":...   \n1   [{\"id\": \"ChIJe9qj3xs9rjsRDN6CamLC-Co\", \"name\":...   \n2   [{\"id\": \"ChIJAfIetiRpUjoRKDXrDBoNP-0\", \"name\":...   \n3   [{\"id\": \"18767303\", \"name\": \"Imperio Restauran...   \n4   [{\"id\": \"ChIJdUCMjRcPrjsRjZ7tgReBR3M\", \"name\":...   \n5   [{\"id\": \"ChIJu_szAwoPrjsROOxOyHed4WU\", \"name\":...   \n12  [{\"id\": \"18767303\", \"name\": \"Imperio Restauran...   \n13  [{\"id\": \"ChIJmTNfVukZrjsRVpVEffWMvng\", \"name\":...   \n15  [{\"id\": \"54521\", \"name\": \"Swadista Aahar\", \"la...   \n16  [{\"id\": \"ChIJbbebFSkVrjsRVtf4gVLhicw\", \"name\":...   \n\n                                                 pois  ...  \\\n0   {\"count\": 1083, \"avg_number_of_reviews_per_day...  ...   \n1   {\"count\": 131, \"avg_number_of_reviews_per_day\"...  ...   \n2   {\"count\": 24, \"avg_number_of_reviews_per_day\":...  ...   \n3   {\"count\": 674, \"avg_number_of_reviews_per_day\"...  ...   \n4   {\"count\": 85, \"avg_number_of_reviews_per_day\":...  ...   \n5   {\"count\": 15, \"avg_number_of_reviews_per_day\":...  ...   \n12  {\"count\": 577, \"avg_number_of_reviews_per_day\"...  ...   \n13  {\"count\": 1, \"avg_number_of_reviews_per_day\": ...  ...   \n15  {\"count\": 931, \"avg_number_of_reviews_per_day\"...  ...   \n16  {\"count\": 30, \"avg_number_of_reviews_per_day\":...  ...   \n\n                                           population affluence  \\\n0   {\"age_0_19\": 278764.7038758153, \"age_20_34\": 2...  3.675222   \n1   {\"age_0_19\": 4275.960897406801, \"age_20_34\": 4...  4.127932   \n2   {\"age_0_19\": 4633.231310760981, \"age_20_34\": 4...  3.616629   \n3   {\"age_0_19\": 164433.15741358572, \"age_20_34\": ...  3.506014   \n4   {\"age_0_19\": 37307.81912734546, \"age_20_34\": 3...  3.134148   \n5   {\"age_0_19\": 2850.8699982573035, \"age_20_34\": ...  3.205579   \n12  {\"age_0_19\": 141602.16307128005, \"age_20_34\": ...  3.433270   \n13  {\"age_0_19\": 2192.2593981751565, \"age_20_34\": ...  3.592190   \n15  {\"age_0_19\": 205496.0256217947, \"age_20_34\": 2...  3.399921   \n16  {\"age_0_19\": 4107.463355525934, \"age_20_34\": 4...  3.240855   \n\n   avg_cost_for_two revenue_score  \\\n0        460.911885     81.950000   \n1        838.805970     81.950000   \n2        500.000000     82.470000   \n3        498.559078     82.470000   \n4        535.593220     40.173600   \n5        862.500000     40.173600   \n12       500.103520     78.047525   \n13         0.000000           NaN   \n15       451.675127     88.793684   \n16       509.090909           NaN   \n\n                                         high_streets  \\\n0   [{\"cluster_name\": \"1st Main Club Road Near Foo...   \n1   [{\"cluster_name\": \"Dr. Rajkumar Road, Rajaji N...   \n2                                                  []   \n3   [{\"cluster_name\": \"8th Main 3rd Phase Peenya I...   \n4                                                  []   \n5                                                  []   \n12  [{\"cluster_name\": \"3rd A Main, HRBR Layout,Kal...   \n13                                                 []   \n15  [{\"cluster_name\": \"4th Cross Road, Phase 7,J P...   \n16  [{\"cluster_name\": \"Arekere Mico Layout Main Ro...   \n\n                                       shopping_malls  created_at  \\\n0   {\"count\": 8, \"pois\": [{\"id\": \"ChIJoRKfACMWrjsR...  1706512914   \n1   {\"count\": 1, \"pois\": [{\"id\": \"ChIJCUMusVM9rjsR...  1706512950   \n2                            {\"count\": 0, \"pois\": []}  1706684037   \n3                            {\"count\": 0, \"pois\": []}  1706684064   \n4   {\"count\": 2, \"pois\": [{\"id\": \"ChIJfU4i1c0PrjsR...  1706691413   \n5                            {\"count\": 0, \"pois\": []}  1706691490   \n12  {\"count\": 6, \"pois\": [{\"id\": \"ChIJxTyv4WgXrjsR...  1706792829   \n13                           {\"count\": 0, \"pois\": []}  1706792829   \n15  {\"count\": 8, \"pois\": [{\"id\": \"ChIJCYgAwiwVrjsR...  1706793074   \n16  {\"count\": 2, \"pois\": [{\"id\": \"ChIJO781iPwVrjsR...  1706793075   \n\n                               location_score_weights  \\\n0   {\"companies\": 0.11, \"vibrancy\": 0.16, \"transpo...   \n1   {\"companies\": 0.11, \"vibrancy\": 0.16, \"transpo...   \n2   {\"companies\": 0.11, \"vibrancy\": 0.16, \"transpo...   \n3   {\"companies\": 0.11, \"vibrancy\": 0.16, \"transpo...   \n4   {\"companies\": 0.11, \"vibrancy\": 0.16, \"transpo...   \n5   {\"companies\": 0.11, \"vibrancy\": 0.16, \"transpo...   \n12  {\"companies\": 0.11, \"vibrancy\": 0.16, \"transpo...   \n13  {\"companies\": 0.11, \"vibrancy\": 0.16, \"transpo...   \n15  {\"companies\": 0.11, \"vibrancy\": 0.16, \"transpo...   \n16  {\"companies\": 0.11, \"vibrancy\": 0.16, \"transpo...   \n\n                                      grouped_indexes  \\\n0   {\"company_index\": 3.89, \"connectivity_index\": ...   \n1   {\"company_index\": 3.89, \"connectivity_index\": ...   \n2   {'company_index': 4.01, 'connectivity_index': ...   \n3   {'company_index': 4.01, 'connectivity_index': ...   \n4   {'company_index': 2.15, 'connectivity_index': ...   \n5   {'company_index': 2.15, 'connectivity_index': ...   \n12  {\"company_index\": 3.26, \"connectivity_index\": ...   \n13                                                 {}   \n15  {\"company_index\": 4.03, \"connectivity_index\": ...   \n16                                                 {}   \n\n                                    demand_generators  \n0   {\"clinic\": 2093, \"college\": 413, \"hospital\": 6...  \n1   {\"clinic\": 25, \"college\": 7, \"hospital\": 57, \"...  \n2   {\"clinic\": 27, \"hospital\": 5, \"pharmacy\": 8, \"...  \n3   {\"clinic\": 1313, \"college\": 135, \"hospital\": 3...  \n4   {\"clinic\": 187, \"college\": 67, \"hospital\": 89,...  \n5   {\"clinic\": 5, \"hospital\": 3, \"pharmacy\": 1, \"s...  \n12  {\"clinic\": 878, \"college\": 282, \"hospital\": 32...  \n13  {\"clinic\": 5, \"college\": 2, \"hospital\": 2, \"ph...  \n15  {\"clinic\": 1830, \"college\": 293, \"hospital\": 4...  \n16  {\"clinic\": 29, \"college\": 9, \"hospital\": 5, \"p...  \n\n[10 rows x 24 columns]",
      "text/html": "<div>\n<style scoped>\n    .dataframe tbody tr th:only-of-type {\n        vertical-align: middle;\n    }\n\n    .dataframe tbody tr th {\n        vertical-align: top;\n    }\n\n    .dataframe thead th {\n        text-align: right;\n    }\n</style>\n<table border=\"1\" class=\"dataframe\">\n  <thead>\n    <tr style=\"text-align: right;\">\n      <th></th>\n      <th>report_id</th>\n      <th>id</th>\n      <th>site_name</th>\n      <th>lat</th>\n      <th>lng</th>\n      <th>geometry</th>\n      <th>location</th>\n      <th>catchment_type</th>\n      <th>top_brands</th>\n      <th>pois</th>\n      <th>...</th>\n      <th>population</th>\n      <th>affluence</th>\n      <th>avg_cost_for_two</th>\n      <th>revenue_score</th>\n      <th>high_streets</th>\n      <th>shopping_malls</th>\n      <th>created_at</th>\n      <th>location_score_weights</th>\n      <th>grouped_indexes</th>\n      <th>demand_generators</th>\n    </tr>\n  </thead>\n  <tbody>\n    <tr>\n      <th>0</th>\n      <td>1f78f3ac-d799-470b-9738-2c4da5053cee</td>\n      <td>130110_775547</td>\n      <td>Orion Mall - Dr. Rajkumar Road, Rajaji Nagar I...</td>\n      <td>13.011027</td>\n      <td>77.554736</td>\n      <td>POLYGON ((77.494736 13.050067, 77.493202 13.05...</td>\n      <td>Dr. Rajkumar Road, Rajaji Nagar Industrial Sub...</td>\n      <td>i15mind</td>\n      <td>[{\"id\": \"ChIJe9qj3xs9rjsRDN6CamLC-Co\", \"name\":...</td>\n      <td>{\"count\": 1083, \"avg_number_of_reviews_per_day...</td>\n      <td>...</td>\n      <td>{\"age_0_19\": 278764.7038758153, \"age_20_34\": 2...</td>\n      <td>3.675222</td>\n      <td>460.911885</td>\n      <td>81.950000</td>\n      <td>[{\"cluster_name\": \"1st Main Club Road Near Foo...</td>\n      <td>{\"count\": 8, \"pois\": [{\"id\": \"ChIJoRKfACMWrjsR...</td>\n      <td>1706512914</td>\n      <td>{\"companies\": 0.11, \"vibrancy\": 0.16, \"transpo...</td>\n      <td>{\"company_index\": 3.89, \"connectivity_index\": ...</td>\n      <td>{\"clinic\": 2093, \"college\": 413, \"hospital\": 6...</td>\n    </tr>\n    <tr>\n      <th>1</th>\n      <td>2f78f3ac-d799-470b-9738-2c4da5053cee</td>\n      <td>130110_775547</td>\n      <td>Orion Mall - Dr. Rajkumar Road, Rajaji Nagar I...</td>\n      <td>13.011027</td>\n      <td>77.554736</td>\n      <td>POLYGON ((77.55064773796063 13.010557348159388...</td>\n      <td>Dr. Rajkumar Road, Rajaji Nagar Industrial Sub...</td>\n      <td>i500mtb</td>\n      <td>[{\"id\": \"ChIJe9qj3xs9rjsRDN6CamLC-Co\", \"name\":...</td>\n      <td>{\"count\": 131, \"avg_number_of_reviews_per_day\"...</td>\n      <td>...</td>\n      <td>{\"age_0_19\": 4275.960897406801, \"age_20_34\": 4...</td>\n      <td>4.127932</td>\n      <td>838.805970</td>\n      <td>81.950000</td>\n      <td>[{\"cluster_name\": \"Dr. Rajkumar Road, Rajaji N...</td>\n      <td>{\"count\": 1, \"pois\": [{\"id\": \"ChIJCUMusVM9rjsR...</td>\n      <td>1706512950</td>\n      <td>{\"companies\": 0.11, \"vibrancy\": 0.16, \"transpo...</td>\n      <td>{\"company_index\": 3.89, \"connectivity_index\": ...</td>\n      <td>{\"clinic\": 25, \"college\": 7, \"hospital\": 57, \"...</td>\n    </tr>\n    <tr>\n      <th>2</th>\n      <td>374c8386-5837-43b8-8409-c456849263e7</td>\n      <td>130009_776325</td>\n      <td>Orion Avenue - Second Cross N. Thyagaraju Layo...</td>\n      <td>13.000957</td>\n      <td>77.632571</td>\n      <td>POLYGON ((77.62847982126846 13.000488913937247...</td>\n      <td>Second Cross N. Thyagaraju Layout, Sathya Naga...</td>\n      <td>i500mtb</td>\n      <td>[{\"id\": \"ChIJAfIetiRpUjoRKDXrDBoNP-0\", \"name\":...</td>\n      <td>{\"count\": 24, \"avg_number_of_reviews_per_day\":...</td>\n      <td>...</td>\n      <td>{\"age_0_19\": 4633.231310760981, \"age_20_34\": 4...</td>\n      <td>3.616629</td>\n      <td>500.000000</td>\n      <td>82.470000</td>\n      <td>[]</td>\n      <td>{\"count\": 0, \"pois\": []}</td>\n      <td>1706684037</td>\n      <td>{\"companies\": 0.11, \"vibrancy\": 0.16, \"transpo...</td>\n      <td>{'company_index': 4.01, 'connectivity_index': ...</td>\n      <td>{\"clinic\": 27, \"hospital\": 5, \"pharmacy\": 8, \"...</td>\n    </tr>\n    <tr>\n      <th>3</th>\n      <td>2ef72172-e65c-47df-9f06-2a98c9f1fa94</td>\n      <td>130009_776325</td>\n      <td>Orion Avenue - Second Cross N. Thyagaraju Layo...</td>\n      <td>13.000957</td>\n      <td>77.632571</td>\n      <td>POLYGON ((77.644571 13.032047, 77.643571 13.03...</td>\n      <td>Second Cross N. Thyagaraju Layout, Sathya Naga...</td>\n      <td>i15mind</td>\n      <td>[{\"id\": \"18767303\", \"name\": \"Imperio Restauran...</td>\n      <td>{\"count\": 674, \"avg_number_of_reviews_per_day\"...</td>\n      <td>...</td>\n      <td>{\"age_0_19\": 164433.15741358572, \"age_20_34\": ...</td>\n      <td>3.506014</td>\n      <td>498.559078</td>\n      <td>82.470000</td>\n      <td>[{\"cluster_name\": \"8th Main 3rd Phase Peenya I...</td>\n      <td>{\"count\": 0, \"pois\": []}</td>\n      <td>1706684064</td>\n      <td>{\"companies\": 0.11, \"vibrancy\": 0.16, \"transpo...</td>\n      <td>{'company_index': 4.01, 'connectivity_index': ...</td>\n      <td>{\"clinic\": 1313, \"college\": 135, \"hospital\": 3...</td>\n    </tr>\n    <tr>\n      <th>4</th>\n      <td>5fca8372-db67-4e32-9c34-17818bca7c19</td>\n      <td>130552_777638</td>\n      <td>Orion Uptown - Old Madras Road, Kattanallur,Sa...</td>\n      <td>13.055260</td>\n      <td>77.763894</td>\n      <td>POLYGON ((77.773894 13.116797, 77.772949 13.11...</td>\n      <td>Old Madras Road, Kattanallur,Sannatammanahalli</td>\n      <td>i15mind</td>\n      <td>[{\"id\": \"ChIJdUCMjRcPrjsRjZ7tgReBR3M\", \"name\":...</td>\n      <td>{\"count\": 85, \"avg_number_of_reviews_per_day\":...</td>\n      <td>...</td>\n      <td>{\"age_0_19\": 37307.81912734546, \"age_20_34\": 3...</td>\n      <td>3.134148</td>\n      <td>535.593220</td>\n      <td>40.173600</td>\n      <td>[]</td>\n      <td>{\"count\": 2, \"pois\": [{\"id\": \"ChIJfU4i1c0PrjsR...</td>\n      <td>1706691413</td>\n      <td>{\"companies\": 0.11, \"vibrancy\": 0.16, \"transpo...</td>\n      <td>{'company_index': 2.15, 'connectivity_index': ...</td>\n      <td>{\"clinic\": 187, \"college\": 67, \"hospital\": 89,...</td>\n    </tr>\n    <tr>\n      <th>5</th>\n      <td>ed374c4c-6dc3-473b-867e-ff707e347939</td>\n      <td>130552_777638</td>\n      <td>Orion Uptown - Old Madras Road, Kattanallur,Sa...</td>\n      <td>13.055260</td>\n      <td>77.763894</td>\n      <td>POLYGON ((77.75979674534983 13.05479248128713,...</td>\n      <td>Old Madras Road, Kattanallur,Sannatammanahalli</td>\n      <td>i500mtb</td>\n      <td>[{\"id\": \"ChIJu_szAwoPrjsROOxOyHed4WU\", \"name\":...</td>\n      <td>{\"count\": 15, \"avg_number_of_reviews_per_day\":...</td>\n      <td>...</td>\n      <td>{\"age_0_19\": 2850.8699982573035, \"age_20_34\": ...</td>\n      <td>3.205579</td>\n      <td>862.500000</td>\n      <td>40.173600</td>\n      <td>[]</td>\n      <td>{\"count\": 0, \"pois\": []}</td>\n      <td>1706691490</td>\n      <td>{\"companies\": 0.11, \"vibrancy\": 0.16, \"transpo...</td>\n      <td>{'company_index': 2.15, 'connectivity_index': ...</td>\n      <td>{\"clinic\": 5, \"hospital\": 3, \"pharmacy\": 1, \"s...</td>\n    </tr>\n    <tr>\n      <th>12</th>\n      <td>178abc17-71da-457e-a908-e5af283279ec</td>\n      <td>130631_776205</td>\n      <td>Cultfit - Rachenahalli Main Road,Jakkuru</td>\n      <td>13.063170</td>\n      <td>77.620569</td>\n      <td>POLYGON ((77.606569 13.115077, 77.606492 13.11...</td>\n      <td>Rachenahalli Main Road,Jakkuru</td>\n      <td>i15mind</td>\n      <td>[{\"id\": \"18767303\", \"name\": \"Imperio Restauran...</td>\n      <td>{\"count\": 577, \"avg_number_of_reviews_per_day\"...</td>\n      <td>...</td>\n      <td>{\"age_0_19\": 141602.16307128005, \"age_20_34\": ...</td>\n      <td>3.433270</td>\n      <td>500.103520</td>\n      <td>78.047525</td>\n      <td>[{\"cluster_name\": \"3rd A Main, HRBR Layout,Kal...</td>\n      <td>{\"count\": 6, \"pois\": [{\"id\": \"ChIJxTyv4WgXrjsR...</td>\n      <td>1706792829</td>\n      <td>{\"companies\": 0.11, \"vibrancy\": 0.16, \"transpo...</td>\n      <td>{\"company_index\": 3.26, \"connectivity_index\": ...</td>\n      <td>{\"clinic\": 878, \"college\": 282, \"hospital\": 32...</td>\n    </tr>\n    <tr>\n      <th>13</th>\n      <td>40b37f44-ff12-481a-b962-7b7b203026e2</td>\n      <td>130631_776205</td>\n      <td>Cultfit - Rachenahalli Main Road,Jakkuru</td>\n      <td>13.063170</td>\n      <td>77.620569</td>\n      <td>POLYGON ((77.61647704294562 13.062699625388513...</td>\n      <td>Rachenahalli Main Road,Jakkuru</td>\n      <td>i500mtb</td>\n      <td>[{\"id\": \"ChIJmTNfVukZrjsRVpVEffWMvng\", \"name\":...</td>\n      <td>{\"count\": 1, \"avg_number_of_reviews_per_day\": ...</td>\n      <td>...</td>\n      <td>{\"age_0_19\": 2192.2593981751565, \"age_20_34\": ...</td>\n      <td>3.592190</td>\n      <td>0.000000</td>\n      <td>NaN</td>\n      <td>[]</td>\n      <td>{\"count\": 0, \"pois\": []}</td>\n      <td>1706792829</td>\n      <td>{\"companies\": 0.11, \"vibrancy\": 0.16, \"transpo...</td>\n      <td>{}</td>\n      <td>{\"clinic\": 5, \"college\": 2, \"hospital\": 2, \"ph...</td>\n    </tr>\n    <tr>\n      <th>15</th>\n      <td>3feae1e7-1e67-4392-a58a-3e0c80285aba</td>\n      <td>128873_775969</td>\n      <td>Cultfit - Bannerghatta Road, Araka Mico Layout...</td>\n      <td>12.887373</td>\n      <td>77.596901</td>\n      <td>POLYGON ((77.600901 12.933643, 77.600373 12.93...</td>\n      <td>Bannerghatta Road, Araka Mico Layout,Arekere</td>\n      <td>i15mind</td>\n      <td>[{\"id\": \"54521\", \"name\": \"Swadista Aahar\", \"la...</td>\n      <td>{\"count\": 931, \"avg_number_of_reviews_per_day\"...</td>\n      <td>...</td>\n      <td>{\"age_0_19\": 205496.0256217947, \"age_20_34\": 2...</td>\n      <td>3.399921</td>\n      <td>451.675127</td>\n      <td>88.793684</td>\n      <td>[{\"cluster_name\": \"4th Cross Road, Phase 7,J P...</td>\n      <td>{\"count\": 8, \"pois\": [{\"id\": \"ChIJCYgAwiwVrjsR...</td>\n      <td>1706793074</td>\n      <td>{\"companies\": 0.11, \"vibrancy\": 0.16, \"transpo...</td>\n      <td>{\"company_index\": 4.03, \"connectivity_index\": ...</td>\n      <td>{\"clinic\": 1830, \"college\": 293, \"hospital\": 4...</td>\n    </tr>\n    <tr>\n      <th>16</th>\n      <td>281cbce7-56d6-4faa-bf18-6ca15a6cc89e</td>\n      <td>128873_775969</td>\n      <td>Cultfit - Bannerghatta Road, Araka Mico Layout...</td>\n      <td>12.887373</td>\n      <td>77.596901</td>\n      <td>POLYGON ((77.59281280856402 12.8869084692348, ...</td>\n      <td>Bannerghatta Road, Araka Mico Layout,Arekere</td>\n      <td>i500mtb</td>\n      <td>[{\"id\": \"ChIJbbebFSkVrjsRVtf4gVLhicw\", \"name\":...</td>\n      <td>{\"count\": 30, \"avg_number_of_reviews_per_day\":...</td>\n      <td>...</td>\n      <td>{\"age_0_19\": 4107.463355525934, \"age_20_34\": 4...</td>\n      <td>3.240855</td>\n      <td>509.090909</td>\n      <td>NaN</td>\n      <td>[{\"cluster_name\": \"Arekere Mico Layout Main Ro...</td>\n      <td>{\"count\": 2, \"pois\": [{\"id\": \"ChIJO781iPwVrjsR...</td>\n      <td>1706793075</td>\n      <td>{\"companies\": 0.11, \"vibrancy\": 0.16, \"transpo...</td>\n      <td>{}</td>\n      <td>{\"clinic\": 29, \"college\": 9, \"hospital\": 5, \"p...</td>\n    </tr>\n  </tbody>\n</table>\n<p>10 rows × 24 columns</p>\n</div>"
     },
     "execution_count": 12,
     "metadata": {},
     "output_type": "execute_result"
    }
   ],
   "source": [
    "df.shape"
   ],
   "metadata": {
    "collapsed": false,
    "ExecuteTime": {
     "end_time": "2024-02-02T05:34:03.310634879Z",
     "start_time": "2024-02-02T05:34:03.267368011Z"
    }
   },
   "id": "421f4e7cb627e03",
   "execution_count": 12
  },
  {
   "cell_type": "code",
   "outputs": [],
   "source": [
    "import importlib"
   ],
   "metadata": {
    "collapsed": false,
    "ExecuteTime": {
     "end_time": "2024-02-08T08:27:40.005405747Z",
     "start_time": "2024-02-08T08:27:39.920774139Z"
    }
   },
   "id": "69a1160898a515f6",
   "execution_count": 9
  },
  {
   "cell_type": "code",
   "outputs": [
    {
     "data": {
      "text/plain": "<module 'revenue_score' from '/home/jyotiraditya/PycharmProjects/SiteReports/revenue_score.py'>"
     },
     "execution_count": 13,
     "metadata": {},
     "output_type": "execute_result"
    }
   ],
   "source": [
    "import revenue_score as rev\n",
    "\n",
    "importlib.reload(rev)\n"
   ],
   "metadata": {
    "collapsed": false,
    "ExecuteTime": {
     "end_time": "2024-02-08T08:28:53.426148767Z",
     "start_time": "2024-02-08T08:28:53.378082066Z"
    }
   },
   "id": "c2e839d57595924",
   "execution_count": 13
  },
  {
   "cell_type": "code",
   "outputs": [
    {
     "data": {
      "text/plain": "                               report_id             id  \\\n16  f9b43dc5-f8fe-4cb0-b91a-54cbf23de536  129342_777438   \n17  ba9999e5-b9f2-4eb0-8b71-eec0c9af1930  129342_777438   \n18  59237f70-29b4-463c-a869-8323df9f54ca  128050_776996   \n19  df93c3fa-d9ac-46ad-9b8a-d423fb715ae6  128050_776996   \n\n                                            site_name        lat        lng  \\\n16                        Orion Utopia - Sh35,Varthur  12.934247  77.743869   \n17                        Orion Utopia - Sh35,Varthur  12.934247  77.743869   \n18  Orion Valencia - Hosur Road, Keerthi Layout,Su...  12.805019  77.699684   \n19  Orion Valencia - Hosur Road, Keerthi Layout,Su...  12.805019  77.699684   \n\n                                             geometry  \\\n16  POLYGON ((77.751869 12.98133, 77.749635 12.979...   \n17  POLYGON ((77.745869 12.937926, 77.743614 12.93...   \n18  POLYGON ((77.647684 12.877109, 77.646743 12.87...   \n19  POLYGON ((77.698684 12.808065, 77.697772 12.80...   \n\n                                 location catchment_type  \\\n16                           Sh35,Varthur        i15mind   \n17                           Sh35,Varthur        i500mtd   \n18  Hosur Road, Keerthi Layout,Suryanagar        i15mind   \n19  Hosur Road, Keerthi Layout,Suryanagar        i500mtd   \n\n                                           top_brands  \\\n16  [{\"id\": \"ChIJA7wj8BMSrjsROKK4nf2PcCA\", \"name\":...   \n17  [{\"id\": \"ChIJr8OCGv8TrjsRbG5HtKs6Pm8\", \"name\":...   \n18  [{\"id\": \"ChIJba_U8IxsrjsRK4d0fwEn3KA\", \"name\":...   \n19  [{\"id\": \"ChIJ7VcOZjNsrjsR88oQJA5Q2xc\", \"name\":...   \n\n                                                 pois  ... projects_counts  \\\n16  {\"count\": 376, \"avg_number_of_reviews_per_day\"...  ...            None   \n17  {\"count\": 11, \"avg_number_of_reviews_per_day\":...  ...            None   \n18  {\"count\": 318, \"avg_number_of_reviews_per_day\"...  ...            None   \n19  {\"count\": 7, \"avg_number_of_reviews_per_day\": ...  ...            None   \n\n    created_at                             location_score_weights  \\\n16  1707378645  {\"affluence_index\": 0.237, \"apartments_index\":...   \n17  1707378647  {\"affluence_index\": 0.237, \"apartments_index\":...   \n18  1707378648  {\"affluence_index\": 0.237, \"apartments_index\":...   \n19  1707378649  {\"affluence_index\": 0.237, \"apartments_index\":...   \n\n   grouped_indexes                                  demand_generators  \\\n16            None  {\"clinic\": 406, \"college\": 51, \"hospital\": 147...   \n17            None  {\"clinic\": 14, \"hospital\": 5, \"pharmacy\": 3, \"...   \n18            None  {\"clinic\": 504, \"college\": 137, \"hospital\": 28...   \n19            None  {\"clinic\": 5, \"hospital\": 11, \"pharmacy\": 4, \"...   \n\n     city_lat   city_lng  distance_from_city_center  \\\n16  12.976794  77.590082                        NaN   \n17  12.976794  77.590082                        NaN   \n18  12.976794  77.590082                        NaN   \n19  12.976794  77.590082                        NaN   \n\n    orientation_from_city_center competitors_domains  \n16                            SE                  []  \n17                            SE                  []  \n18                            SE                  []  \n19                            SE                  []  \n\n[4 rows x 32 columns]",
      "text/html": "<div>\n<style scoped>\n    .dataframe tbody tr th:only-of-type {\n        vertical-align: middle;\n    }\n\n    .dataframe tbody tr th {\n        vertical-align: top;\n    }\n\n    .dataframe thead th {\n        text-align: right;\n    }\n</style>\n<table border=\"1\" class=\"dataframe\">\n  <thead>\n    <tr style=\"text-align: right;\">\n      <th></th>\n      <th>report_id</th>\n      <th>id</th>\n      <th>site_name</th>\n      <th>lat</th>\n      <th>lng</th>\n      <th>geometry</th>\n      <th>location</th>\n      <th>catchment_type</th>\n      <th>top_brands</th>\n      <th>pois</th>\n      <th>...</th>\n      <th>projects_counts</th>\n      <th>created_at</th>\n      <th>location_score_weights</th>\n      <th>grouped_indexes</th>\n      <th>demand_generators</th>\n      <th>city_lat</th>\n      <th>city_lng</th>\n      <th>distance_from_city_center</th>\n      <th>orientation_from_city_center</th>\n      <th>competitors_domains</th>\n    </tr>\n  </thead>\n  <tbody>\n    <tr>\n      <th>16</th>\n      <td>f9b43dc5-f8fe-4cb0-b91a-54cbf23de536</td>\n      <td>129342_777438</td>\n      <td>Orion Utopia - Sh35,Varthur</td>\n      <td>12.934247</td>\n      <td>77.743869</td>\n      <td>POLYGON ((77.751869 12.98133, 77.749635 12.979...</td>\n      <td>Sh35,Varthur</td>\n      <td>i15mind</td>\n      <td>[{\"id\": \"ChIJA7wj8BMSrjsROKK4nf2PcCA\", \"name\":...</td>\n      <td>{\"count\": 376, \"avg_number_of_reviews_per_day\"...</td>\n      <td>...</td>\n      <td>None</td>\n      <td>1707378645</td>\n      <td>{\"affluence_index\": 0.237, \"apartments_index\":...</td>\n      <td>None</td>\n      <td>{\"clinic\": 406, \"college\": 51, \"hospital\": 147...</td>\n      <td>12.976794</td>\n      <td>77.590082</td>\n      <td>NaN</td>\n      <td>SE</td>\n      <td>[]</td>\n    </tr>\n    <tr>\n      <th>17</th>\n      <td>ba9999e5-b9f2-4eb0-8b71-eec0c9af1930</td>\n      <td>129342_777438</td>\n      <td>Orion Utopia - Sh35,Varthur</td>\n      <td>12.934247</td>\n      <td>77.743869</td>\n      <td>POLYGON ((77.745869 12.937926, 77.743614 12.93...</td>\n      <td>Sh35,Varthur</td>\n      <td>i500mtd</td>\n      <td>[{\"id\": \"ChIJr8OCGv8TrjsRbG5HtKs6Pm8\", \"name\":...</td>\n      <td>{\"count\": 11, \"avg_number_of_reviews_per_day\":...</td>\n      <td>...</td>\n      <td>None</td>\n      <td>1707378647</td>\n      <td>{\"affluence_index\": 0.237, \"apartments_index\":...</td>\n      <td>None</td>\n      <td>{\"clinic\": 14, \"hospital\": 5, \"pharmacy\": 3, \"...</td>\n      <td>12.976794</td>\n      <td>77.590082</td>\n      <td>NaN</td>\n      <td>SE</td>\n      <td>[]</td>\n    </tr>\n    <tr>\n      <th>18</th>\n      <td>59237f70-29b4-463c-a869-8323df9f54ca</td>\n      <td>128050_776996</td>\n      <td>Orion Valencia - Hosur Road, Keerthi Layout,Su...</td>\n      <td>12.805019</td>\n      <td>77.699684</td>\n      <td>POLYGON ((77.647684 12.877109, 77.646743 12.87...</td>\n      <td>Hosur Road, Keerthi Layout,Suryanagar</td>\n      <td>i15mind</td>\n      <td>[{\"id\": \"ChIJba_U8IxsrjsRK4d0fwEn3KA\", \"name\":...</td>\n      <td>{\"count\": 318, \"avg_number_of_reviews_per_day\"...</td>\n      <td>...</td>\n      <td>None</td>\n      <td>1707378648</td>\n      <td>{\"affluence_index\": 0.237, \"apartments_index\":...</td>\n      <td>None</td>\n      <td>{\"clinic\": 504, \"college\": 137, \"hospital\": 28...</td>\n      <td>12.976794</td>\n      <td>77.590082</td>\n      <td>NaN</td>\n      <td>SE</td>\n      <td>[]</td>\n    </tr>\n    <tr>\n      <th>19</th>\n      <td>df93c3fa-d9ac-46ad-9b8a-d423fb715ae6</td>\n      <td>128050_776996</td>\n      <td>Orion Valencia - Hosur Road, Keerthi Layout,Su...</td>\n      <td>12.805019</td>\n      <td>77.699684</td>\n      <td>POLYGON ((77.698684 12.808065, 77.697772 12.80...</td>\n      <td>Hosur Road, Keerthi Layout,Suryanagar</td>\n      <td>i500mtd</td>\n      <td>[{\"id\": \"ChIJ7VcOZjNsrjsR88oQJA5Q2xc\", \"name\":...</td>\n      <td>{\"count\": 7, \"avg_number_of_reviews_per_day\": ...</td>\n      <td>...</td>\n      <td>None</td>\n      <td>1707378649</td>\n      <td>{\"affluence_index\": 0.237, \"apartments_index\":...</td>\n      <td>None</td>\n      <td>{\"clinic\": 5, \"hospital\": 11, \"pharmacy\": 4, \"...</td>\n      <td>12.976794</td>\n      <td>77.590082</td>\n      <td>NaN</td>\n      <td>SE</td>\n      <td>[]</td>\n    </tr>\n  </tbody>\n</table>\n<p>4 rows × 32 columns</p>\n</div>"
     },
     "execution_count": 14,
     "metadata": {},
     "output_type": "execute_result"
    }
   ],
   "source": [
    "all_reports"
   ],
   "metadata": {
    "collapsed": false,
    "ExecuteTime": {
     "end_time": "2024-02-08T08:28:57.507536960Z",
     "start_time": "2024-02-08T08:28:57.484429297Z"
    }
   },
   "id": "bf4ea53e2e4bb9d7",
   "execution_count": 14
  },
  {
   "cell_type": "code",
   "outputs": [
    {
     "name": "stdout",
     "output_type": "stream",
     "text": [
      "i15mind\n",
      "f9b43dc5-f8fe-4cb0-b91a-54cbf23de536 129342_777438 i15mind {'affluence_index': 0.237, 'apartments_index': 0.237, 'fashion_index': 0.237, 'vibrancy': 0.175, 'malls_index': 0.062, 'supermarket_index': 0.05}\n",
      "driving time 15 [] []\n"
     ]
    },
    {
     "data": {
      "text/plain": "<IPython.core.display.Javascript object>",
      "application/javascript": "\n        if (window._pyforest_update_imports_cell) { window._pyforest_update_imports_cell('import os'); }\n    "
     },
     "metadata": {},
     "output_type": "display_data"
    },
    {
     "data": {
      "text/plain": "<IPython.core.display.Javascript object>",
      "application/javascript": "\n        if (window._pyforest_update_imports_cell) { window._pyforest_update_imports_cell('import os'); }\n    "
     },
     "metadata": {},
     "output_type": "display_data"
    },
    {
     "data": {
      "text/plain": "<IPython.core.display.Javascript object>",
      "application/javascript": "\n        if (window._pyforest_update_imports_cell) { window._pyforest_update_imports_cell('import os\\nimport pickle'); }\n    "
     },
     "metadata": {},
     "output_type": "display_data"
    },
    {
     "data": {
      "text/plain": "<IPython.core.display.Javascript object>",
      "application/javascript": "\n        if (window._pyforest_update_imports_cell) { window._pyforest_update_imports_cell('import awswrangler as wr\\nimport os\\nimport pickle'); }\n    "
     },
     "metadata": {},
     "output_type": "display_data"
    },
    {
     "data": {
      "text/plain": "<IPython.core.display.Javascript object>",
      "application/javascript": "\n        if (window._pyforest_update_imports_cell) { window._pyforest_update_imports_cell('import awswrangler as wr\\nimport os\\nimport pickle'); }\n    "
     },
     "metadata": {},
     "output_type": "display_data"
    },
    {
     "data": {
      "text/plain": "<IPython.core.display.Javascript object>",
      "application/javascript": "\n        if (window._pyforest_update_imports_cell) { window._pyforest_update_imports_cell('import awswrangler as wr\\nimport os\\nimport pickle'); }\n    "
     },
     "metadata": {},
     "output_type": "display_data"
    },
    {
     "data": {
      "text/plain": "<IPython.core.display.Javascript object>",
      "application/javascript": "\n        if (window._pyforest_update_imports_cell) { window._pyforest_update_imports_cell('import awswrangler as wr\\nimport os\\nimport pickle'); }\n    "
     },
     "metadata": {},
     "output_type": "display_data"
    },
    {
     "data": {
      "text/plain": "<IPython.core.display.Javascript object>",
      "application/javascript": "\n        if (window._pyforest_update_imports_cell) { window._pyforest_update_imports_cell('import awswrangler as wr\\nimport os\\nimport pickle'); }\n    "
     },
     "metadata": {},
     "output_type": "display_data"
    },
    {
     "data": {
      "text/plain": "<IPython.core.display.Javascript object>",
      "application/javascript": "\n        if (window._pyforest_update_imports_cell) { window._pyforest_update_imports_cell('import awswrangler as wr\\nimport os\\nimport pickle'); }\n    "
     },
     "metadata": {},
     "output_type": "display_data"
    },
    {
     "data": {
      "text/plain": "<IPython.core.display.Javascript object>",
      "application/javascript": "\n        if (window._pyforest_update_imports_cell) { window._pyforest_update_imports_cell('import awswrangler as wr\\nimport os\\nimport pickle\\nimport pandas as pd'); }\n    "
     },
     "metadata": {},
     "output_type": "display_data"
    },
    {
     "data": {
      "text/plain": "<IPython.core.display.Javascript object>",
      "application/javascript": "\n        if (window._pyforest_update_imports_cell) { window._pyforest_update_imports_cell('import awswrangler as wr\\nimport os\\nimport pickle\\nimport pandas as pd'); }\n    "
     },
     "metadata": {},
     "output_type": "display_data"
    },
    {
     "data": {
      "text/plain": "<IPython.core.display.Javascript object>",
      "application/javascript": "\n        if (window._pyforest_update_imports_cell) { window._pyforest_update_imports_cell('import awswrangler as wr\\nimport os\\nimport pickle\\nimport pandas as pd'); }\n    "
     },
     "metadata": {},
     "output_type": "display_data"
    },
    {
     "data": {
      "text/plain": "<IPython.core.display.Javascript object>",
      "application/javascript": "\n        if (window._pyforest_update_imports_cell) { window._pyforest_update_imports_cell('import awswrangler as wr\\nimport os\\nimport pickle\\nimport pandas as pd'); }\n    "
     },
     "metadata": {},
     "output_type": "display_data"
    },
    {
     "data": {
      "text/plain": "<IPython.core.display.Javascript object>",
      "application/javascript": "\n        if (window._pyforest_update_imports_cell) { window._pyforest_update_imports_cell('import awswrangler as wr\\nimport os\\nimport pickle\\nimport pandas as pd'); }\n    "
     },
     "metadata": {},
     "output_type": "display_data"
    },
    {
     "name": "stdout",
     "output_type": "stream",
     "text": [
      "i500mtd\n",
      "ba9999e5-b9f2-4eb0-8b71-eec0c9af1930 129342_777438 i500mtd {'affluence_index': 0.237, 'apartments_index': 0.237, 'fashion_index': 0.237, 'vibrancy': 0.175, 'malls_index': 0.062, 'supermarket_index': 0.05}\n",
      "driving distance 500 [] []\n"
     ]
    },
    {
     "data": {
      "text/plain": "<IPython.core.display.Javascript object>",
      "application/javascript": "\n        if (window._pyforest_update_imports_cell) { window._pyforest_update_imports_cell('import awswrangler as wr\\nimport os\\nimport pickle\\nimport pandas as pd'); }\n    "
     },
     "metadata": {},
     "output_type": "display_data"
    },
    {
     "data": {
      "text/plain": "<IPython.core.display.Javascript object>",
      "application/javascript": "\n        if (window._pyforest_update_imports_cell) { window._pyforest_update_imports_cell('import awswrangler as wr\\nimport os\\nimport pickle\\nimport pandas as pd'); }\n    "
     },
     "metadata": {},
     "output_type": "display_data"
    },
    {
     "data": {
      "text/plain": "<IPython.core.display.Javascript object>",
      "application/javascript": "\n        if (window._pyforest_update_imports_cell) { window._pyforest_update_imports_cell('import awswrangler as wr\\nimport os\\nimport pickle\\nimport pandas as pd'); }\n    "
     },
     "metadata": {},
     "output_type": "display_data"
    },
    {
     "data": {
      "text/plain": "<IPython.core.display.Javascript object>",
      "application/javascript": "\n        if (window._pyforest_update_imports_cell) { window._pyforest_update_imports_cell('import awswrangler as wr\\nimport os\\nimport pickle\\nimport pandas as pd'); }\n    "
     },
     "metadata": {},
     "output_type": "display_data"
    },
    {
     "data": {
      "text/plain": "<IPython.core.display.Javascript object>",
      "application/javascript": "\n        if (window._pyforest_update_imports_cell) { window._pyforest_update_imports_cell('import awswrangler as wr\\nimport os\\nimport pickle\\nimport pandas as pd'); }\n    "
     },
     "metadata": {},
     "output_type": "display_data"
    },
    {
     "data": {
      "text/plain": "<IPython.core.display.Javascript object>",
      "application/javascript": "\n        if (window._pyforest_update_imports_cell) { window._pyforest_update_imports_cell('import awswrangler as wr\\nimport os\\nimport pickle\\nimport pandas as pd'); }\n    "
     },
     "metadata": {},
     "output_type": "display_data"
    },
    {
     "data": {
      "text/plain": "<IPython.core.display.Javascript object>",
      "application/javascript": "\n        if (window._pyforest_update_imports_cell) { window._pyforest_update_imports_cell('import awswrangler as wr\\nimport os\\nimport pickle\\nimport pandas as pd'); }\n    "
     },
     "metadata": {},
     "output_type": "display_data"
    },
    {
     "data": {
      "text/plain": "<IPython.core.display.Javascript object>",
      "application/javascript": "\n        if (window._pyforest_update_imports_cell) { window._pyforest_update_imports_cell('import awswrangler as wr\\nimport os\\nimport pickle\\nimport pandas as pd'); }\n    "
     },
     "metadata": {},
     "output_type": "display_data"
    },
    {
     "data": {
      "text/plain": "<IPython.core.display.Javascript object>",
      "application/javascript": "\n        if (window._pyforest_update_imports_cell) { window._pyforest_update_imports_cell('import awswrangler as wr\\nimport os\\nimport pickle\\nimport pandas as pd'); }\n    "
     },
     "metadata": {},
     "output_type": "display_data"
    },
    {
     "data": {
      "text/plain": "<IPython.core.display.Javascript object>",
      "application/javascript": "\n        if (window._pyforest_update_imports_cell) { window._pyforest_update_imports_cell('import awswrangler as wr\\nimport os\\nimport pickle\\nimport pandas as pd'); }\n    "
     },
     "metadata": {},
     "output_type": "display_data"
    },
    {
     "name": "stdout",
     "output_type": "stream",
     "text": [
      "int() argument must be a string, a bytes-like object or a real number, not 'NoneType'\n",
      "i15mind\n",
      "59237f70-29b4-463c-a869-8323df9f54ca 128050_776996 i15mind {'affluence_index': 0.237, 'apartments_index': 0.237, 'fashion_index': 0.237, 'vibrancy': 0.175, 'malls_index': 0.062, 'supermarket_index': 0.05}\n",
      "driving time 15 [] []\n"
     ]
    },
    {
     "data": {
      "text/plain": "<IPython.core.display.Javascript object>",
      "application/javascript": "\n        if (window._pyforest_update_imports_cell) { window._pyforest_update_imports_cell('import awswrangler as wr\\nimport os\\nimport pickle\\nimport pandas as pd'); }\n    "
     },
     "metadata": {},
     "output_type": "display_data"
    },
    {
     "data": {
      "text/plain": "<IPython.core.display.Javascript object>",
      "application/javascript": "\n        if (window._pyforest_update_imports_cell) { window._pyforest_update_imports_cell('import awswrangler as wr\\nimport os\\nimport pickle\\nimport pandas as pd'); }\n    "
     },
     "metadata": {},
     "output_type": "display_data"
    },
    {
     "data": {
      "text/plain": "<IPython.core.display.Javascript object>",
      "application/javascript": "\n        if (window._pyforest_update_imports_cell) { window._pyforest_update_imports_cell('import awswrangler as wr\\nimport os\\nimport pickle\\nimport pandas as pd'); }\n    "
     },
     "metadata": {},
     "output_type": "display_data"
    },
    {
     "data": {
      "text/plain": "<IPython.core.display.Javascript object>",
      "application/javascript": "\n        if (window._pyforest_update_imports_cell) { window._pyforest_update_imports_cell('import awswrangler as wr\\nimport os\\nimport pickle\\nimport pandas as pd'); }\n    "
     },
     "metadata": {},
     "output_type": "display_data"
    },
    {
     "data": {
      "text/plain": "<IPython.core.display.Javascript object>",
      "application/javascript": "\n        if (window._pyforest_update_imports_cell) { window._pyforest_update_imports_cell('import awswrangler as wr\\nimport os\\nimport pickle\\nimport pandas as pd'); }\n    "
     },
     "metadata": {},
     "output_type": "display_data"
    },
    {
     "data": {
      "text/plain": "<IPython.core.display.Javascript object>",
      "application/javascript": "\n        if (window._pyforest_update_imports_cell) { window._pyforest_update_imports_cell('import awswrangler as wr\\nimport os\\nimport pickle\\nimport pandas as pd'); }\n    "
     },
     "metadata": {},
     "output_type": "display_data"
    },
    {
     "data": {
      "text/plain": "<IPython.core.display.Javascript object>",
      "application/javascript": "\n        if (window._pyforest_update_imports_cell) { window._pyforest_update_imports_cell('import awswrangler as wr\\nimport os\\nimport pickle\\nimport pandas as pd'); }\n    "
     },
     "metadata": {},
     "output_type": "display_data"
    },
    {
     "data": {
      "text/plain": "<IPython.core.display.Javascript object>",
      "application/javascript": "\n        if (window._pyforest_update_imports_cell) { window._pyforest_update_imports_cell('import awswrangler as wr\\nimport os\\nimport pickle\\nimport pandas as pd'); }\n    "
     },
     "metadata": {},
     "output_type": "display_data"
    },
    {
     "data": {
      "text/plain": "<IPython.core.display.Javascript object>",
      "application/javascript": "\n        if (window._pyforest_update_imports_cell) { window._pyforest_update_imports_cell('import awswrangler as wr\\nimport os\\nimport pickle\\nimport pandas as pd'); }\n    "
     },
     "metadata": {},
     "output_type": "display_data"
    },
    {
     "data": {
      "text/plain": "<IPython.core.display.Javascript object>",
      "application/javascript": "\n        if (window._pyforest_update_imports_cell) { window._pyforest_update_imports_cell('import awswrangler as wr\\nimport os\\nimport pickle\\nimport pandas as pd'); }\n    "
     },
     "metadata": {},
     "output_type": "display_data"
    },
    {
     "data": {
      "text/plain": "<IPython.core.display.Javascript object>",
      "application/javascript": "\n        if (window._pyforest_update_imports_cell) { window._pyforest_update_imports_cell('import awswrangler as wr\\nimport os\\nimport pickle\\nimport pandas as pd'); }\n    "
     },
     "metadata": {},
     "output_type": "display_data"
    },
    {
     "data": {
      "text/plain": "<IPython.core.display.Javascript object>",
      "application/javascript": "\n        if (window._pyforest_update_imports_cell) { window._pyforest_update_imports_cell('import awswrangler as wr\\nimport os\\nimport pickle\\nimport pandas as pd'); }\n    "
     },
     "metadata": {},
     "output_type": "display_data"
    },
    {
     "data": {
      "text/plain": "<IPython.core.display.Javascript object>",
      "application/javascript": "\n        if (window._pyforest_update_imports_cell) { window._pyforest_update_imports_cell('import awswrangler as wr\\nimport os\\nimport pickle\\nimport pandas as pd'); }\n    "
     },
     "metadata": {},
     "output_type": "display_data"
    },
    {
     "data": {
      "text/plain": "<IPython.core.display.Javascript object>",
      "application/javascript": "\n        if (window._pyforest_update_imports_cell) { window._pyforest_update_imports_cell('import awswrangler as wr\\nimport os\\nimport pickle\\nimport pandas as pd'); }\n    "
     },
     "metadata": {},
     "output_type": "display_data"
    },
    {
     "name": "stdout",
     "output_type": "stream",
     "text": [
      "i500mtd\n",
      "df93c3fa-d9ac-46ad-9b8a-d423fb715ae6 128050_776996 i500mtd {'affluence_index': 0.237, 'apartments_index': 0.237, 'fashion_index': 0.237, 'vibrancy': 0.175, 'malls_index': 0.062, 'supermarket_index': 0.05}\n",
      "driving distance 500 [] []\n"
     ]
    },
    {
     "data": {
      "text/plain": "<IPython.core.display.Javascript object>",
      "application/javascript": "\n        if (window._pyforest_update_imports_cell) { window._pyforest_update_imports_cell('import awswrangler as wr\\nimport os\\nimport pickle\\nimport pandas as pd'); }\n    "
     },
     "metadata": {},
     "output_type": "display_data"
    },
    {
     "data": {
      "text/plain": "<IPython.core.display.Javascript object>",
      "application/javascript": "\n        if (window._pyforest_update_imports_cell) { window._pyforest_update_imports_cell('import awswrangler as wr\\nimport os\\nimport pickle\\nimport pandas as pd'); }\n    "
     },
     "metadata": {},
     "output_type": "display_data"
    },
    {
     "data": {
      "text/plain": "<IPython.core.display.Javascript object>",
      "application/javascript": "\n        if (window._pyforest_update_imports_cell) { window._pyforest_update_imports_cell('import awswrangler as wr\\nimport os\\nimport pickle\\nimport pandas as pd'); }\n    "
     },
     "metadata": {},
     "output_type": "display_data"
    },
    {
     "data": {
      "text/plain": "<IPython.core.display.Javascript object>",
      "application/javascript": "\n        if (window._pyforest_update_imports_cell) { window._pyforest_update_imports_cell('import awswrangler as wr\\nimport os\\nimport pickle\\nimport pandas as pd'); }\n    "
     },
     "metadata": {},
     "output_type": "display_data"
    },
    {
     "data": {
      "text/plain": "<IPython.core.display.Javascript object>",
      "application/javascript": "\n        if (window._pyforest_update_imports_cell) { window._pyforest_update_imports_cell('import awswrangler as wr\\nimport os\\nimport pickle\\nimport pandas as pd'); }\n    "
     },
     "metadata": {},
     "output_type": "display_data"
    },
    {
     "data": {
      "text/plain": "<IPython.core.display.Javascript object>",
      "application/javascript": "\n        if (window._pyforest_update_imports_cell) { window._pyforest_update_imports_cell('import awswrangler as wr\\nimport os\\nimport pickle\\nimport pandas as pd'); }\n    "
     },
     "metadata": {},
     "output_type": "display_data"
    },
    {
     "data": {
      "text/plain": "<IPython.core.display.Javascript object>",
      "application/javascript": "\n        if (window._pyforest_update_imports_cell) { window._pyforest_update_imports_cell('import awswrangler as wr\\nimport os\\nimport pickle\\nimport pandas as pd'); }\n    "
     },
     "metadata": {},
     "output_type": "display_data"
    },
    {
     "data": {
      "text/plain": "<IPython.core.display.Javascript object>",
      "application/javascript": "\n        if (window._pyforest_update_imports_cell) { window._pyforest_update_imports_cell('import awswrangler as wr\\nimport os\\nimport pickle\\nimport pandas as pd'); }\n    "
     },
     "metadata": {},
     "output_type": "display_data"
    },
    {
     "data": {
      "text/plain": "<IPython.core.display.Javascript object>",
      "application/javascript": "\n        if (window._pyforest_update_imports_cell) { window._pyforest_update_imports_cell('import awswrangler as wr\\nimport os\\nimport pickle\\nimport pandas as pd'); }\n    "
     },
     "metadata": {},
     "output_type": "display_data"
    },
    {
     "data": {
      "text/plain": "<IPython.core.display.Javascript object>",
      "application/javascript": "\n        if (window._pyforest_update_imports_cell) { window._pyforest_update_imports_cell('import awswrangler as wr\\nimport os\\nimport pickle\\nimport pandas as pd'); }\n    "
     },
     "metadata": {},
     "output_type": "display_data"
    },
    {
     "name": "stdout",
     "output_type": "stream",
     "text": [
      "int() argument must be a string, a bytes-like object or a real number, not 'NoneType'\n"
     ]
    }
   ],
   "source": [
    "query = '''UPDATE ind_site_reports_v2\n",
    "SET\n",
    "    revenue_score=:revenue_score,\n",
    "    grouped_indexes=:grouped_indexes,\n",
    "    location_score_weights=:location_score_weights,\n",
    "    affluence=:affluence\n",
    "WHERE  id=:id and report_id=:report_id;\n",
    "'''\n",
    "# weights = json.dumps({\n",
    "#     'affluence_index': 0.19,\n",
    "#     'apartments_index': 0.19,\n",
    "#     'fashion_index': 0.19,\n",
    "#     'vibrancy': 0.14,\n",
    "#     'healthcare_index': 0.10,\n",
    "#     'company_index': 0.10,\n",
    "#     'malls_index': 0.05,\n",
    "#     'supermarket_index': 0.04,\n",
    "# })\n",
    "if __name__ == '__main__':\n",
    "    con, cur = U.connect_to_db()\n",
    "    dd = []\n",
    "    for proj in all_reports.to_dict('records')[:]:\n",
    "        print(proj['catchment_type'])\n",
    "        pattern = re.compile(\"i(?P<cost>\\d+)(?P<cost_type>[a-z]+)(?P<travel_mode>[d|b])$\")\n",
    "        a = pattern.search(proj['catchment_type']).groupdict()\n",
    "        cost_types = {\"mt\": 'distance', 'min': \"time\"}\n",
    "        travel_modes = {\"d\": 'driving', 'b': \"buffer\"}\n",
    "        competitors = json.loads(proj['competitors_domains'])\n",
    "        primary_comp = list(filter(lambda x: x['competitor_type'] == 'primary_competitor', competitors))\n",
    "        anchor_comp = list(filter(lambda x: x['competitor_type'] == 'anchor_competitor', competitors))\n",
    "\n",
    "        weight_score = json.loads(proj['location_score_weights'])\n",
    "        try:\n",
    "            del weight_score['healthcare_index']\n",
    "            del weight_score['company_index']\n",
    "        except:\n",
    "            pass\n",
    "        weight_score = {k: round(v / sum(weight_score.values()), 3) for k, v in weight_score.items()}\n",
    "        if primary_comp:\n",
    "            primary_comp = primary_comp[0]['filter']\n",
    "            primary_comp = list(filter(lambda x: \"'\" not in x, primary_comp))\n",
    "        if anchor_comp:\n",
    "            anchor_comp = anchor_comp[0]['filter']\n",
    "            anchor_comp = list(filter(lambda x: \"'\" not in x, anchor_comp))\n",
    "        cost_type = cost_types[a['cost_type']]\n",
    "        travel_mode = travel_modes[a['travel_mode']]\n",
    "        cost = int(a['cost'])\n",
    "        site_id = proj['id']\n",
    "        report_id = proj['report_id']\n",
    "        lat = proj['lat']\n",
    "        lng = proj['lng']\n",
    "        print(report_id, site_id, proj['catchment_type'], weight_score)\n",
    "        print(travel_mode, cost_type, cost, primary_comp, anchor_comp)\n",
    "        try:\n",
    "            revenue_score, grouped_indexs = rev.generate_revenue_score(lat, lng, travel_mode, cost_type, cost,\n",
    "                                                                       primary_comp, anchor_comp, weight_score)\n",
    "            affluence = grouped_indexs['affluence_index']\n",
    "            grouped_indexs = json.dumps(grouped_indexs)\n",
    "            query_params = dict(revenue_score=revenue_score, grouped_indexes=grouped_indexs, id=site_id,\n",
    "                                report_id=report_id, location_score_weights=json.dumps(weight_score),\n",
    "                                affluence=affluence)\n",
    "            dd.append(query_params)\n",
    "            cur.execute(query, query_params)\n",
    "            con.commit()\n",
    "        except Exception as e:\n",
    "            print(e)\n",
    "    cur.close()\n",
    "    con.close()\n"
   ],
   "metadata": {
    "collapsed": false,
    "ExecuteTime": {
     "end_time": "2024-02-08T08:34:24.918172695Z",
     "start_time": "2024-02-08T08:29:30.463690936Z"
    }
   },
   "id": "29cc7cb39056749",
   "execution_count": 16
  },
  {
   "cell_type": "code",
   "outputs": [],
   "source": [
    "from geopy.distance import geodesic, great_circle"
   ],
   "metadata": {
    "collapsed": false,
    "ExecuteTime": {
     "end_time": "2024-02-08T08:40:31.846704322Z",
     "start_time": "2024-02-08T08:40:31.508217749Z"
    }
   },
   "id": "bd73fbd1fd507fbe",
   "execution_count": 17
  },
  {
   "cell_type": "code",
   "outputs": [],
   "source": [
    "def get_direction_from_angle(angle):\n",
    "    if -10 <= angle <= 10:\n",
    "        return 'East'\n",
    "    elif 10 < angle < 80:\n",
    "        return 'North-East'\n",
    "    elif 80 <= angle <= 110:\n",
    "        return 'North'\n",
    "    elif 110 < angle < 170:\n",
    "        return 'North-West'\n",
    "    elif 170 <= angle <= 180:\n",
    "        return 'West'\n",
    "    elif -10 > angle > -80:\n",
    "        return 'South-East'\n",
    "    elif -80 >= angle == -110:\n",
    "        return 'South'\n",
    "    elif -110 > angle > -170:\n",
    "        return 'South-West'\n",
    "    elif -170 >= angle >= -180:\n",
    "        return 'West'\n",
    "    else:\n",
    "        raise ValueError('Angle Not Valid')\n",
    "\n",
    "\n",
    "def get_relative_direction(x1, y1, x2, y2):\n",
    "    import math\n",
    "    if (x1, y1) == (x2, y2):\n",
    "        return 'Same'\n",
    "    # Calculate the angle between the two points in radians\n",
    "    angle = math.atan2(y2 - y1, x2 - x1)\n",
    "\n",
    "    # Convert the angle from radians to degrees\n",
    "    angle_degrees = math.degrees(angle)\n",
    "    # print(angle_degrees)\n",
    "    # Convert the angle to a positive value between 0 and 360 degrees\n",
    "    return get_direction_from_angle(angle_degrees)"
   ],
   "metadata": {
    "collapsed": false,
    "ExecuteTime": {
     "end_time": "2024-02-08T08:40:33.327648127Z",
     "start_time": "2024-02-08T08:40:33.323366922Z"
    }
   },
   "id": "acee90a375eb3e4d",
   "execution_count": 18
  },
  {
   "cell_type": "code",
   "outputs": [],
   "source": [
    "def direction_lookup(destination_x, destination_y, origin_x, origin_y):\n",
    "    import math\n",
    "    deg2rad = math.pi / 180\n",
    "    destination_x = destination_x / deg2rad\n",
    "    destination_y = destination_y / deg2rad\n",
    "    origin_x = origin_x / deg2rad\n",
    "    origin_y = origin_y / deg2rad\n",
    "    deltaX = destination_x - origin_x\n",
    "    deltaY = destination_y - origin_y\n",
    "    degrees_temp = math.atan2(deltaX, deltaY) / math.pi * 180\n",
    "    if degrees_temp < 0:\n",
    "        degrees_final = 360 + degrees_temp\n",
    "    else:\n",
    "        degrees_final = degrees_temp\n",
    "    compass_brackets = [\"N\", \"NE\", \"E\", \"SE\", \"S\", \"SW\", \"W\", \"NW\", \"N\"]\n",
    "    compass_lookup = round(degrees_final / 45)\n",
    "\n",
    "    return compass_brackets[compass_lookup]"
   ],
   "metadata": {
    "collapsed": false,
    "ExecuteTime": {
     "end_time": "2024-02-08T08:40:37.889375397Z",
     "start_time": "2024-02-08T08:40:37.861109201Z"
    }
   },
   "id": "f511074cf4bbe1c9",
   "execution_count": 19
  },
  {
   "cell_type": "code",
   "outputs": [
    {
     "data": {
      "text/plain": "                               report_id             id  \\\n16  f9b43dc5-f8fe-4cb0-b91a-54cbf23de536  129342_777438   \n17  ba9999e5-b9f2-4eb0-8b71-eec0c9af1930  129342_777438   \n18  59237f70-29b4-463c-a869-8323df9f54ca  128050_776996   \n19  df93c3fa-d9ac-46ad-9b8a-d423fb715ae6  128050_776996   \n\n                                            site_name        lat        lng  \\\n16                        Orion Utopia - Sh35,Varthur  12.934247  77.743869   \n17                        Orion Utopia - Sh35,Varthur  12.934247  77.743869   \n18  Orion Valencia - Hosur Road, Keerthi Layout,Su...  12.805019  77.699684   \n19  Orion Valencia - Hosur Road, Keerthi Layout,Su...  12.805019  77.699684   \n\n                                             geometry  \\\n16  POLYGON ((77.751869 12.98133, 77.749635 12.979...   \n17  POLYGON ((77.745869 12.937926, 77.743614 12.93...   \n18  POLYGON ((77.647684 12.877109, 77.646743 12.87...   \n19  POLYGON ((77.698684 12.808065, 77.697772 12.80...   \n\n                                 location catchment_type  \\\n16                           Sh35,Varthur        i15mind   \n17                           Sh35,Varthur        i500mtd   \n18  Hosur Road, Keerthi Layout,Suryanagar        i15mind   \n19  Hosur Road, Keerthi Layout,Suryanagar        i500mtd   \n\n                                           top_brands  \\\n16  [{\"id\": \"ChIJA7wj8BMSrjsROKK4nf2PcCA\", \"name\":...   \n17  [{\"id\": \"ChIJr8OCGv8TrjsRbG5HtKs6Pm8\", \"name\":...   \n18  [{\"id\": \"ChIJba_U8IxsrjsRK4d0fwEn3KA\", \"name\":...   \n19  [{\"id\": \"ChIJ7VcOZjNsrjsR88oQJA5Q2xc\", \"name\":...   \n\n                                                 pois  ... projects_counts  \\\n16  {\"count\": 376, \"avg_number_of_reviews_per_day\"...  ...            None   \n17  {\"count\": 11, \"avg_number_of_reviews_per_day\":...  ...            None   \n18  {\"count\": 318, \"avg_number_of_reviews_per_day\"...  ...            None   \n19  {\"count\": 7, \"avg_number_of_reviews_per_day\": ...  ...            None   \n\n    created_at                             location_score_weights  \\\n16  1707378645  {\"affluence_index\": 0.237, \"apartments_index\":...   \n17  1707378647  {\"affluence_index\": 0.237, \"apartments_index\":...   \n18  1707378648  {\"affluence_index\": 0.237, \"apartments_index\":...   \n19  1707378649  {\"affluence_index\": 0.237, \"apartments_index\":...   \n\n   grouped_indexes                                  demand_generators  \\\n16            None  {\"clinic\": 406, \"college\": 51, \"hospital\": 147...   \n17            None  {\"clinic\": 14, \"hospital\": 5, \"pharmacy\": 3, \"...   \n18            None  {\"clinic\": 504, \"college\": 137, \"hospital\": 28...   \n19            None  {\"clinic\": 5, \"hospital\": 11, \"pharmacy\": 4, \"...   \n\n     city_lat   city_lng  distance_from_city_center  \\\n16  12.976794  77.590082                        NaN   \n17  12.976794  77.590082                        NaN   \n18  12.976794  77.590082                        NaN   \n19  12.976794  77.590082                        NaN   \n\n    orientation_from_city_center competitors_domains  \n16                            SE                  []  \n17                            SE                  []  \n18                            SE                  []  \n19                            SE                  []  \n\n[4 rows x 32 columns]",
      "text/html": "<div>\n<style scoped>\n    .dataframe tbody tr th:only-of-type {\n        vertical-align: middle;\n    }\n\n    .dataframe tbody tr th {\n        vertical-align: top;\n    }\n\n    .dataframe thead th {\n        text-align: right;\n    }\n</style>\n<table border=\"1\" class=\"dataframe\">\n  <thead>\n    <tr style=\"text-align: right;\">\n      <th></th>\n      <th>report_id</th>\n      <th>id</th>\n      <th>site_name</th>\n      <th>lat</th>\n      <th>lng</th>\n      <th>geometry</th>\n      <th>location</th>\n      <th>catchment_type</th>\n      <th>top_brands</th>\n      <th>pois</th>\n      <th>...</th>\n      <th>projects_counts</th>\n      <th>created_at</th>\n      <th>location_score_weights</th>\n      <th>grouped_indexes</th>\n      <th>demand_generators</th>\n      <th>city_lat</th>\n      <th>city_lng</th>\n      <th>distance_from_city_center</th>\n      <th>orientation_from_city_center</th>\n      <th>competitors_domains</th>\n    </tr>\n  </thead>\n  <tbody>\n    <tr>\n      <th>16</th>\n      <td>f9b43dc5-f8fe-4cb0-b91a-54cbf23de536</td>\n      <td>129342_777438</td>\n      <td>Orion Utopia - Sh35,Varthur</td>\n      <td>12.934247</td>\n      <td>77.743869</td>\n      <td>POLYGON ((77.751869 12.98133, 77.749635 12.979...</td>\n      <td>Sh35,Varthur</td>\n      <td>i15mind</td>\n      <td>[{\"id\": \"ChIJA7wj8BMSrjsROKK4nf2PcCA\", \"name\":...</td>\n      <td>{\"count\": 376, \"avg_number_of_reviews_per_day\"...</td>\n      <td>...</td>\n      <td>None</td>\n      <td>1707378645</td>\n      <td>{\"affluence_index\": 0.237, \"apartments_index\":...</td>\n      <td>None</td>\n      <td>{\"clinic\": 406, \"college\": 51, \"hospital\": 147...</td>\n      <td>12.976794</td>\n      <td>77.590082</td>\n      <td>NaN</td>\n      <td>SE</td>\n      <td>[]</td>\n    </tr>\n    <tr>\n      <th>17</th>\n      <td>ba9999e5-b9f2-4eb0-8b71-eec0c9af1930</td>\n      <td>129342_777438</td>\n      <td>Orion Utopia - Sh35,Varthur</td>\n      <td>12.934247</td>\n      <td>77.743869</td>\n      <td>POLYGON ((77.745869 12.937926, 77.743614 12.93...</td>\n      <td>Sh35,Varthur</td>\n      <td>i500mtd</td>\n      <td>[{\"id\": \"ChIJr8OCGv8TrjsRbG5HtKs6Pm8\", \"name\":...</td>\n      <td>{\"count\": 11, \"avg_number_of_reviews_per_day\":...</td>\n      <td>...</td>\n      <td>None</td>\n      <td>1707378647</td>\n      <td>{\"affluence_index\": 0.237, \"apartments_index\":...</td>\n      <td>None</td>\n      <td>{\"clinic\": 14, \"hospital\": 5, \"pharmacy\": 3, \"...</td>\n      <td>12.976794</td>\n      <td>77.590082</td>\n      <td>NaN</td>\n      <td>SE</td>\n      <td>[]</td>\n    </tr>\n    <tr>\n      <th>18</th>\n      <td>59237f70-29b4-463c-a869-8323df9f54ca</td>\n      <td>128050_776996</td>\n      <td>Orion Valencia - Hosur Road, Keerthi Layout,Su...</td>\n      <td>12.805019</td>\n      <td>77.699684</td>\n      <td>POLYGON ((77.647684 12.877109, 77.646743 12.87...</td>\n      <td>Hosur Road, Keerthi Layout,Suryanagar</td>\n      <td>i15mind</td>\n      <td>[{\"id\": \"ChIJba_U8IxsrjsRK4d0fwEn3KA\", \"name\":...</td>\n      <td>{\"count\": 318, \"avg_number_of_reviews_per_day\"...</td>\n      <td>...</td>\n      <td>None</td>\n      <td>1707378648</td>\n      <td>{\"affluence_index\": 0.237, \"apartments_index\":...</td>\n      <td>None</td>\n      <td>{\"clinic\": 504, \"college\": 137, \"hospital\": 28...</td>\n      <td>12.976794</td>\n      <td>77.590082</td>\n      <td>NaN</td>\n      <td>SE</td>\n      <td>[]</td>\n    </tr>\n    <tr>\n      <th>19</th>\n      <td>df93c3fa-d9ac-46ad-9b8a-d423fb715ae6</td>\n      <td>128050_776996</td>\n      <td>Orion Valencia - Hosur Road, Keerthi Layout,Su...</td>\n      <td>12.805019</td>\n      <td>77.699684</td>\n      <td>POLYGON ((77.698684 12.808065, 77.697772 12.80...</td>\n      <td>Hosur Road, Keerthi Layout,Suryanagar</td>\n      <td>i500mtd</td>\n      <td>[{\"id\": \"ChIJ7VcOZjNsrjsR88oQJA5Q2xc\", \"name\":...</td>\n      <td>{\"count\": 7, \"avg_number_of_reviews_per_day\": ...</td>\n      <td>...</td>\n      <td>None</td>\n      <td>1707378649</td>\n      <td>{\"affluence_index\": 0.237, \"apartments_index\":...</td>\n      <td>None</td>\n      <td>{\"clinic\": 5, \"hospital\": 11, \"pharmacy\": 4, \"...</td>\n      <td>12.976794</td>\n      <td>77.590082</td>\n      <td>NaN</td>\n      <td>SE</td>\n      <td>[]</td>\n    </tr>\n  </tbody>\n</table>\n<p>4 rows × 32 columns</p>\n</div>"
     },
     "execution_count": 20,
     "metadata": {},
     "output_type": "execute_result"
    }
   ],
   "source": [
    "all_reports"
   ],
   "metadata": {
    "collapsed": false,
    "ExecuteTime": {
     "end_time": "2024-02-08T08:40:40.545933063Z",
     "start_time": "2024-02-08T08:40:40.504840853Z"
    }
   },
   "id": "a7e02c78cb054def",
   "execution_count": 20
  },
  {
   "cell_type": "code",
   "outputs": [],
   "source": [
    "query = '''UPDATE ind_site_reports_v2\n",
    "SET\n",
    "    distance_from_city_center=:distance_from_city_center,\n",
    "    orientation_from_city_center=:orientation_from_city_center\n",
    "WHERE  id=:id;\n",
    "'''\n",
    "\n",
    "if __name__ == '__main__':\n",
    "    con, cur = U.connect_to_db()\n",
    "    a = []\n",
    "    for proj in all_reports.drop_duplicates(subset=['id'])[['id', 'lat', 'lng', 'city_lat', 'city_lng']].to_dict(\n",
    "            'records'):\n",
    "        site_id = proj['id']\n",
    "        lat = proj['lat']\n",
    "        lng = proj['lng']\n",
    "        city_lat = proj['city_lat']\n",
    "        city_lng = proj['city_lng']\n",
    "        dist = geodesic((lat, lng), (city_lat, city_lng)).km\n",
    "        # dir = direction_lookup(city_lat, city_lng,lat, lng)\n",
    "        dir = direction_lookup(lat, lng, city_lat, city_lng, )\n",
    "        query_params = dict(distance_from_city_center=dist, orientation_from_city_center=dir, id=site_id)\n",
    "        cur.execute(query, query_params)\n",
    "        a.append(query_params)\n",
    "        con.commit()\n",
    "    cur.close()\n",
    "    con.close()"
   ],
   "metadata": {
    "collapsed": false,
    "ExecuteTime": {
     "end_time": "2024-02-08T08:41:04.743551930Z",
     "start_time": "2024-02-08T08:41:03.730012180Z"
    }
   },
   "id": "212052c24e0caaa7",
   "execution_count": 21
  },
  {
   "cell_type": "code",
   "outputs": [
    {
     "data": {
      "text/plain": "   distance_from_city_center orientation_from_city_center             id\n0                   5.399600                           NW  130110_775547\n1                   5.330382                           SW  130009_776325\n2                  20.753626                           SW  130552_777638\n3                  10.156619                            W  130631_776205\n4                   9.970600                            E  128873_775969",
      "text/html": "<div>\n<style scoped>\n    .dataframe tbody tr th:only-of-type {\n        vertical-align: middle;\n    }\n\n    .dataframe tbody tr th {\n        vertical-align: top;\n    }\n\n    .dataframe thead th {\n        text-align: right;\n    }\n</style>\n<table border=\"1\" class=\"dataframe\">\n  <thead>\n    <tr style=\"text-align: right;\">\n      <th></th>\n      <th>distance_from_city_center</th>\n      <th>orientation_from_city_center</th>\n      <th>id</th>\n    </tr>\n  </thead>\n  <tbody>\n    <tr>\n      <th>0</th>\n      <td>5.399600</td>\n      <td>NW</td>\n      <td>130110_775547</td>\n    </tr>\n    <tr>\n      <th>1</th>\n      <td>5.330382</td>\n      <td>SW</td>\n      <td>130009_776325</td>\n    </tr>\n    <tr>\n      <th>2</th>\n      <td>20.753626</td>\n      <td>SW</td>\n      <td>130552_777638</td>\n    </tr>\n    <tr>\n      <th>3</th>\n      <td>10.156619</td>\n      <td>W</td>\n      <td>130631_776205</td>\n    </tr>\n    <tr>\n      <th>4</th>\n      <td>9.970600</td>\n      <td>E</td>\n      <td>128873_775969</td>\n    </tr>\n  </tbody>\n</table>\n</div>"
     },
     "execution_count": 47,
     "metadata": {},
     "output_type": "execute_result"
    }
   ],
   "source": [
    "pd.DataFrame(a)"
   ],
   "metadata": {
    "collapsed": false,
    "ExecuteTime": {
     "end_time": "2024-02-04T12:42:34.860846828Z",
     "start_time": "2024-02-04T12:42:34.686609742Z"
    }
   },
   "id": "3d9749078e915408",
   "execution_count": 47
  }
 ],
 "metadata": {
  "kernelspec": {
   "display_name": "Python 3",
   "language": "python",
   "name": "python3"
  },
  "language_info": {
   "codemirror_mode": {
    "name": "ipython",
    "version": 2
   },
   "file_extension": ".py",
   "mimetype": "text/x-python",
   "name": "python",
   "nbconvert_exporter": "python",
   "pygments_lexer": "ipython2",
   "version": "2.7.6"
  }
 },
 "nbformat": 4,
 "nbformat_minor": 5
}
