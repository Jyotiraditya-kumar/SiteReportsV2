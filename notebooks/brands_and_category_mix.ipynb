{
 "cells": [
  {
   "cell_type": "code",
   "execution_count": 4,
   "id": "initial_id",
   "metadata": {
    "ExecuteTime": {
     "end_time": "2024-02-18T06:21:40.325569224Z",
     "start_time": "2024-02-18T06:21:39.800800137Z"
    },
    "collapsed": true
   },
   "outputs": [],
   "source": [
    "import pandas as pd\n",
    "import geopandas as gpd\n",
    "import numpy as np"
   ]
  },
  {
   "cell_type": "code",
   "execution_count": 77,
   "id": "fcd1d83bb860f9a3",
   "metadata": {
    "collapsed": false
   },
   "outputs": [],
   "source": [
    "rev1=pd.read_csv(\"/media/jyotiraditya/Ultra Touch/repos/SiteReports/data/common_data/incompelete_brands_reviews_data_set_1.csv\")\n",
    "rev2=pd.read_csv(\"/media/jyotiraditya/Ultra Touch/repos/SiteReports/notebooks/gmaps_reviews_per_day_remaining.csv\")\n",
    "brands=pd.concat([rev1,rev2]).reset_index()\n",
    "brands=brands.replace({np.Infinity:None})"
   ]
  },
  {
   "cell_type": "code",
   "execution_count": 78,
   "id": "78b3dce8",
   "metadata": {},
   "outputs": [],
   "source": [
    "def avg(arr):\n",
    "    return sum(arr)/len(arr)"
   ]
  },
  {
   "cell_type": "code",
   "execution_count": 79,
   "id": "d77705c7",
   "metadata": {},
   "outputs": [
    {
     "ename": "IndexError",
     "evalue": "single positional indexer is out-of-bounds",
     "output_type": "error",
     "traceback": [
      "\u001b[0;31m---------------------------------------------------------------------------\u001b[0m",
      "\u001b[0;31mIndexError\u001b[0m                                Traceback (most recent call last)",
      "Cell \u001b[0;32mIn[79], line 1\u001b[0m\n\u001b[0;32m----> 1\u001b[0m \u001b[43mbrands\u001b[49m\u001b[43m[\u001b[49m\u001b[43mbrands\u001b[49m\u001b[43m[\u001b[49m\u001b[38;5;124;43m'\u001b[39;49m\u001b[38;5;124;43mnum_reviews_per_day\u001b[39;49m\u001b[38;5;124;43m'\u001b[39;49m\u001b[43m]\u001b[49m\u001b[38;5;241;43m==\u001b[39;49m\u001b[43mnp\u001b[49m\u001b[38;5;241;43m.\u001b[39;49m\u001b[43mInfinity\u001b[49m\u001b[43m]\u001b[49m\u001b[38;5;241;43m.\u001b[39;49m\u001b[43miloc\u001b[49m\u001b[43m[\u001b[49m\u001b[38;5;241;43m0\u001b[39;49m\u001b[43m]\u001b[49m[\u001b[38;5;124m'\u001b[39m\u001b[38;5;124mdata\u001b[39m\u001b[38;5;124m'\u001b[39m]\n",
      "File \u001b[0;32m~/anaconda3/envs/SiteReports/lib/python3.10/site-packages/pandas/core/indexing.py:1192\u001b[0m, in \u001b[0;36m_LocationIndexer.__getitem__\u001b[0;34m(self, key)\u001b[0m\n\u001b[1;32m   1190\u001b[0m maybe_callable \u001b[38;5;241m=\u001b[39m com\u001b[38;5;241m.\u001b[39mapply_if_callable(key, \u001b[38;5;28mself\u001b[39m\u001b[38;5;241m.\u001b[39mobj)\n\u001b[1;32m   1191\u001b[0m maybe_callable \u001b[38;5;241m=\u001b[39m \u001b[38;5;28mself\u001b[39m\u001b[38;5;241m.\u001b[39m_check_deprecated_callable_usage(key, maybe_callable)\n\u001b[0;32m-> 1192\u001b[0m \u001b[38;5;28;01mreturn\u001b[39;00m \u001b[38;5;28;43mself\u001b[39;49m\u001b[38;5;241;43m.\u001b[39;49m\u001b[43m_getitem_axis\u001b[49m\u001b[43m(\u001b[49m\u001b[43mmaybe_callable\u001b[49m\u001b[43m,\u001b[49m\u001b[43m \u001b[49m\u001b[43maxis\u001b[49m\u001b[38;5;241;43m=\u001b[39;49m\u001b[43maxis\u001b[49m\u001b[43m)\u001b[49m\n",
      "File \u001b[0;32m~/anaconda3/envs/SiteReports/lib/python3.10/site-packages/pandas/core/indexing.py:1753\u001b[0m, in \u001b[0;36m_iLocIndexer._getitem_axis\u001b[0;34m(self, key, axis)\u001b[0m\n\u001b[1;32m   1750\u001b[0m     \u001b[38;5;28;01mraise\u001b[39;00m \u001b[38;5;167;01mTypeError\u001b[39;00m(\u001b[38;5;124m\"\u001b[39m\u001b[38;5;124mCannot index by location index with a non-integer key\u001b[39m\u001b[38;5;124m\"\u001b[39m)\n\u001b[1;32m   1752\u001b[0m \u001b[38;5;66;03m# validate the location\u001b[39;00m\n\u001b[0;32m-> 1753\u001b[0m \u001b[38;5;28;43mself\u001b[39;49m\u001b[38;5;241;43m.\u001b[39;49m\u001b[43m_validate_integer\u001b[49m\u001b[43m(\u001b[49m\u001b[43mkey\u001b[49m\u001b[43m,\u001b[49m\u001b[43m \u001b[49m\u001b[43maxis\u001b[49m\u001b[43m)\u001b[49m\n\u001b[1;32m   1755\u001b[0m \u001b[38;5;28;01mreturn\u001b[39;00m \u001b[38;5;28mself\u001b[39m\u001b[38;5;241m.\u001b[39mobj\u001b[38;5;241m.\u001b[39m_ixs(key, axis\u001b[38;5;241m=\u001b[39maxis)\n",
      "File \u001b[0;32m~/anaconda3/envs/SiteReports/lib/python3.10/site-packages/pandas/core/indexing.py:1686\u001b[0m, in \u001b[0;36m_iLocIndexer._validate_integer\u001b[0;34m(self, key, axis)\u001b[0m\n\u001b[1;32m   1684\u001b[0m len_axis \u001b[38;5;241m=\u001b[39m \u001b[38;5;28mlen\u001b[39m(\u001b[38;5;28mself\u001b[39m\u001b[38;5;241m.\u001b[39mobj\u001b[38;5;241m.\u001b[39m_get_axis(axis))\n\u001b[1;32m   1685\u001b[0m \u001b[38;5;28;01mif\u001b[39;00m key \u001b[38;5;241m>\u001b[39m\u001b[38;5;241m=\u001b[39m len_axis \u001b[38;5;129;01mor\u001b[39;00m key \u001b[38;5;241m<\u001b[39m \u001b[38;5;241m-\u001b[39mlen_axis:\n\u001b[0;32m-> 1686\u001b[0m     \u001b[38;5;28;01mraise\u001b[39;00m \u001b[38;5;167;01mIndexError\u001b[39;00m(\u001b[38;5;124m\"\u001b[39m\u001b[38;5;124msingle positional indexer is out-of-bounds\u001b[39m\u001b[38;5;124m\"\u001b[39m)\n",
      "\u001b[0;31mIndexError\u001b[0m: single positional indexer is out-of-bounds"
     ]
    }
   ],
   "source": [
    "brands[brands['num_reviews_per_day']==np.Infinity].iloc[0]['data']"
   ]
  },
  {
   "cell_type": "code",
   "execution_count": 80,
   "id": "3dd99ff0",
   "metadata": {},
   "outputs": [
    {
     "name": "stderr",
     "output_type": "stream",
     "text": [
      "/tmp/ipykernel_359946/992413877.py:1: FutureWarning: Downcasting object dtype arrays on .fillna, .ffill, .bfill is deprecated and will change in a future version. Call result.infer_objects(copy=False) instead. To opt-in to the future behavior, set `pd.set_option('future.no_silent_downcasting', True)`\n",
      "  a=(brands.fillna({\"num_reviews_per_day\":0}).astype({\"num_reviews_per_day\":np.float128}).query(\"brand_id=='lbf'\")['num_reviews_per_day'].values.tolist())\n"
     ]
    },
    {
     "data": {
      "text/plain": [
       "[3.429861174013423497,\n",
       " 0.011284797142187800653,\n",
       " 2.2717654432566809497,\n",
       " 0.71947535790485273033,\n",
       " 4.216533485749458521,\n",
       " 0.25092127202646979933,\n",
       " 0.84018178684494593256,\n",
       " 1.7463542452655793635,\n",
       " 0.003135274351202299841,\n",
       " 2.7460243688580754373,\n",
       " 0.13617687695493199684,\n",
       " 2.9700176338625929873,\n",
       " 0.13229000231362450513,\n",
       " 0.028345909817004598386,\n",
       " 0.74059052589674378986,\n",
       " 1.1655406311923051099,\n",
       " 0.0,\n",
       " 2.095155629477234882,\n",
       " 0.12884662024860418783,\n",
       " 0.22974371973303880923,\n",
       " 1.7295569119428528815,\n",
       " 0.60332024122675964595,\n",
       " 1.6673819081661216401,\n",
       " 0.112946669716647199455,\n",
       " 0.027923265315620098698,\n",
       " 0.035492387686452096796,\n",
       " 0.19584494974342880891,\n",
       " 0.75808043683713122185,\n",
       " 0.01353860830314690053,\n",
       " 0.025024982695108600322,\n",
       " 2.0856683444548864692,\n",
       " 0.074312411707698103336,\n",
       " 0.0010101189720229000572,\n",
       " 0.037973971567474500144,\n",
       " 0.5147982639447034048,\n",
       " 0.124476267690284095324,\n",
       " 1.3440682913733164039,\n",
       " 0.08970800802634880389,\n",
       " 0.2669775398420906054,\n",
       " 0.051821961611001297887,\n",
       " 0.014945457264261899355,\n",
       " 0.20407287328235548807,\n",
       " 0.8412248905677603972,\n",
       " 1.1265034925936814325,\n",
       " 0.07268962859845949642,\n",
       " 0.55396436465991016895,\n",
       " 1.5433556360235016758,\n",
       " 0.070930011589417599205,\n",
       " 1.2292627573172039135,\n",
       " 1.4884406591063306102,\n",
       " 0.14599828752617791117,\n",
       " 1.2046130950018620887,\n",
       " 1.6343505924837364862,\n",
       " 0.03642726858755480218,\n",
       " 0.09971828184020750663,\n",
       " 0.0096184821216907991775,\n",
       " 1.3851530942971057581,\n",
       " 0.9496705492414976302,\n",
       " 1.3757293464055839749,\n",
       " 1.1344412022651397809,\n",
       " 0.0,\n",
       " 0.0,\n",
       " 0.0,\n",
       " 0.0,\n",
       " 0.05163351266515159993,\n",
       " 0.0,\n",
       " 0.0046200669116391998234,\n",
       " 0.0041222264038582000223,\n",
       " 0.0,\n",
       " 0.0,\n",
       " 0.0,\n",
       " 1.7691142328989735155,\n",
       " 0.17408795960419828908]"
      ]
     },
     "execution_count": 80,
     "metadata": {},
     "output_type": "execute_result"
    }
   ],
   "source": [
    "a=(brands.fillna({\"num_reviews_per_day\":0}).astype({\"num_reviews_per_day\":np.float128}).query(\"brand_id=='lbf'\")['num_reviews_per_day'].values.tolist())\n",
    "a"
   ]
  },
  {
   "cell_type": "code",
   "execution_count": 81,
   "id": "3f9da0e5",
   "metadata": {},
   "outputs": [
    {
     "name": "stderr",
     "output_type": "stream",
     "text": [
      "/tmp/ipykernel_359946/3201538897.py:1: FutureWarning: Downcasting object dtype arrays on .fillna, .ffill, .bfill is deprecated and will change in a future version. Call result.infer_objects(copy=False) instead. To opt-in to the future behavior, set `pd.set_option('future.no_silent_downcasting', True)`\n",
      "  brands.fillna({\"num_reviews_per_day\":0}).groupby(\"brand_id\").agg(avg_reviews_per_day_city=(\"num_reviews_per_day\",np.average)).query(\"brand_id=='lbf'\")\n"
     ]
    },
    {
     "data": {
      "text/html": [
       "<div>\n",
       "<style scoped>\n",
       "    .dataframe tbody tr th:only-of-type {\n",
       "        vertical-align: middle;\n",
       "    }\n",
       "\n",
       "    .dataframe tbody tr th {\n",
       "        vertical-align: top;\n",
       "    }\n",
       "\n",
       "    .dataframe thead th {\n",
       "        text-align: right;\n",
       "    }\n",
       "</style>\n",
       "<table border=\"1\" class=\"dataframe\">\n",
       "  <thead>\n",
       "    <tr style=\"text-align: right;\">\n",
       "      <th></th>\n",
       "      <th>avg_reviews_per_day_city</th>\n",
       "    </tr>\n",
       "    <tr>\n",
       "      <th>brand_id</th>\n",
       "      <th></th>\n",
       "    </tr>\n",
       "  </thead>\n",
       "  <tbody>\n",
       "    <tr>\n",
       "      <th>lbf</th>\n",
       "      <td>0.695162</td>\n",
       "    </tr>\n",
       "  </tbody>\n",
       "</table>\n",
       "</div>"
      ],
      "text/plain": [
       "          avg_reviews_per_day_city\n",
       "brand_id                          \n",
       "lbf                       0.695162"
      ]
     },
     "execution_count": 81,
     "metadata": {},
     "output_type": "execute_result"
    }
   ],
   "source": [
    "brands.fillna({\"num_reviews_per_day\":0}).groupby(\"brand_id\").agg(avg_reviews_per_day_city=(\"num_reviews_per_day\",np.average)).query(\"brand_id=='lbf'\")"
   ]
  },
  {
   "cell_type": "code",
   "execution_count": 8,
   "id": "668f6804",
   "metadata": {},
   "outputs": [
    {
     "data": {
      "text/plain": [
       "(27648, 15)"
      ]
     },
     "execution_count": 8,
     "metadata": {},
     "output_type": "execute_result"
    }
   ],
   "source": [
    "brands = pd.read_csv(\n",
    "        \"/media/jyotiraditya/Ultra Touch/repos/SiteReports/data/common_data/bangalore/raw/location_poi_data.csv\")\n",
    "brands = brands.query(\"brand_id!='N_A'\")\n",
    "brands.shape"
   ]
  },
  {
   "cell_type": "code",
   "execution_count": 12,
   "id": "3a325c7b",
   "metadata": {},
   "outputs": [
    {
     "data": {
      "text/plain": [
       "Index(['index', 'id', 'name', 'lat', 'lng', 'top_category', 'sub_categories',\n",
       "       'type', 'brand_name', 'brand_id', 'address', 'pincode', 'town_name',\n",
       "       'source', 'number_of_votes', 'rating', 'created_at', 'verified',\n",
       "       'last_verification_date', 'active', 'additional_data', 'geo_filter_1',\n",
       "       'geo_filter_2', 'service_options', 'oldest_review_timestamp',\n",
       "       'top_reviews', 'top_review_keywords', 'price_level', 'category',\n",
       "       'city_id', 'hex_id', 'lambda_url', 'data', 'updated_num_reviews',\n",
       "       'current_time', 'num_days', 'num_reviews_per_day', 'statusCode',\n",
       "       'request_params', 'error'],\n",
       "      dtype='object')"
      ]
     },
     "execution_count": 12,
     "metadata": {},
     "output_type": "execute_result"
    }
   ],
   "source": [
    "rev.columns"
   ]
  },
  {
   "cell_type": "code",
   "execution_count": 108,
   "id": "124484d04f1f709a",
   "metadata": {
    "ExecuteTime": {
     "end_time": "2024-02-18T07:25:24.785895854Z",
     "start_time": "2024-02-18T07:25:24.696496553Z"
    },
    "collapsed": false
   },
   "outputs": [],
   "source": [
    "def get_top_brands():\n",
    "    # brands = pd.read_csv(\n",
    "    #     \"/media/jyotiraditya/Ultra Touch/repos/SiteReports/data/common_data/bangalore/raw/location_poi_data.csv\")\n",
    "    # brands = brands.query(\"brand_id!='N_A'\")\n",
    "    rev1=pd.read_csv(\"/media/jyotiraditya/Ultra Touch/repos/SiteReports/data/common_data/incompelete_brands_reviews_data_set_1.csv\")\n",
    "    rev2=pd.read_csv(\"/media/jyotiraditya/Ultra Touch/repos/SiteReports/notebooks/gmaps_reviews_per_day_remaining.csv\")\n",
    "    brands=pd.concat([rev1,rev2]).query(\"brand_id!='N_A'\").reset_index().fillna({\"num_reviews_per_day\":0})\n",
    "    brands=brands.replace({np.Infinity:None})\n",
    "    brands_rev=brands.fillna({\"num_reviews_per_day\":0}).groupby(\"brand_id\").agg(avg_reviews_per_day_city=(\"num_reviews_per_day\",np.mean))\n",
    "    brands = gpd.GeoDataFrame(brands, geometry=gpd.points_from_xy(brands['lng'], brands['lat']))\n",
    "    malls = pd.read_csv(\"/media/jyotiraditya/Ultra Touch/repos/SiteReports/data/common_data/bng_malls_ranked.csv\")\n",
    "    malls = gpd.GeoDataFrame(malls, geometry=gpd.GeoSeries.from_wkt(malls['wkt']))[['id','name', 'geometry']]\n",
    "    malls['location_type']='mall'\n",
    "    clusters=pd.read_csv(\"/media/jyotiraditya/Ultra Touch/repos/SiteReports/data/common_data/blr_cluster_geom.csv\")\n",
    "    clusters = gpd.GeoDataFrame(clusters, geometry=gpd.GeoSeries.from_wkt(clusters['polygon_updated']))[['micro_market_clusters_id','cluster_name', 'geometry']]\n",
    "    clusters = clusters.rename(columns={\"micro_market_clusters_id\":\"id\",\"cluster_name\":\"name\"})\n",
    "    clusters['location_type']='market_cluster'\n",
    "    other=pd.read_csv(\"/media/jyotiraditya/Ultra Touch/repos/SiteReports/data/common_data/bangalore/raw/location_pincode_locality_data.csv\")\n",
    "    other = gpd.GeoDataFrame(other, geometry=gpd.GeoSeries.from_wkt(other['geometry']))\n",
    "    stores=pd.concat([malls,clusters,other]).reset_index(drop=True)\n",
    "    joined = gpd.sjoin(stores, brands, how=\"left\", predicate='contains')\n",
    "    joined=joined.merge(brands_rev,how='left',on='brand_id')\n",
    "    joined1 = joined.groupby([\"id_left\",'name_left', \"category\",\"location_type\"]).agg(stores_count=('brand_id', lambda x: np.count_nonzero(x)),\n",
    "                                                         unique_brands_count=('brand_id', lambda x: len(set(list(x)))),\n",
    "                                                         brand_names=('brand_name', lambda x:list(set(x))),\n",
    "                                                         avg_num_reviews_per_day=(\"num_reviews_per_day\",np.mean),\n",
    "                                                         )\n",
    "    joined2 = joined.groupby([\"id_left\",'name_left', 'category',\"brand_name\",\"location_type\",'avg_reviews_per_day_city']).agg(avg_num_reviews_per_day=(\"num_reviews_per_day\",np.mean)).reset_index()\n",
    "    \n",
    "    joined2['avg_rev_per_day_difference']=joined2['avg_reviews_per_day_city']-joined2['avg_num_reviews_per_day']\n",
    "    joined1=joined1.reset_index().rename(columns={\"id_left\":\"id\",\"name_left\":\"name\"})\n",
    "    joined2=joined2.reset_index().rename(columns={\"id_left\":\"id\",\"name_left\":\"name\"})\n",
    "    joined2=joined2.sort_values(by='avg_rev_per_day_difference',ascending=False)\n",
    "    joined2['brand_reviews_per_day']=joined2[['brand_name','avg_rev_per_day_difference']].apply(lambda x:{x[0]:x[1]},axis=1)\n",
    "    joined2=joined2.groupby(['id',\"category\",'location_type']).agg(top_brands=('brand_reviews_per_day',lambda x:list((x)))).reset_index()\n",
    "    joined1=joined1.merge(joined2,how='left',on=['id','location_type','category'])\n",
    "    \n",
    "    return joined1,joined2"
   ]
  },
  {
   "cell_type": "code",
   "execution_count": 107,
   "id": "6ff3370a",
   "metadata": {},
   "outputs": [
    {
     "name": "stderr",
     "output_type": "stream",
     "text": [
      "/tmp/ipykernel_359946/3002362798.py:9: FutureWarning: Downcasting object dtype arrays on .fillna, .ffill, .bfill is deprecated and will change in a future version. Call result.infer_objects(copy=False) instead. To opt-in to the future behavior, set `pd.set_option('future.no_silent_downcasting', True)`\n",
      "  brands_rev=brands.fillna({\"num_reviews_per_day\":0}).groupby(\"brand_id\").agg(avg_reviews_per_day_city=(\"num_reviews_per_day\",np.mean))\n",
      "/tmp/ipykernel_359946/3002362798.py:9: FutureWarning: The provided callable <function mean at 0x7fbcb2baf250> is currently using SeriesGroupBy.mean. In a future version of pandas, the provided callable will be used directly. To keep current behavior pass the string \"mean\" instead.\n",
      "  brands_rev=brands.fillna({\"num_reviews_per_day\":0}).groupby(\"brand_id\").agg(avg_reviews_per_day_city=(\"num_reviews_per_day\",np.mean))\n",
      "/tmp/ipykernel_359946/3002362798.py:23: FutureWarning: The provided callable <function mean at 0x7fbcb2baf250> is currently using SeriesGroupBy.mean. In a future version of pandas, the provided callable will be used directly. To keep current behavior pass the string \"mean\" instead.\n",
      "  joined1 = joined.groupby([\"id_left\",'name_left', \"category\",\"location_type\"]).agg(stores_count=('brand_id', lambda x: np.count_nonzero(x)),\n",
      "/tmp/ipykernel_359946/3002362798.py:28: FutureWarning: The provided callable <function mean at 0x7fbcb2baf250> is currently using SeriesGroupBy.mean. In a future version of pandas, the provided callable will be used directly. To keep current behavior pass the string \"mean\" instead.\n",
      "  joined2 = joined.groupby([\"id_left\",'name_left', 'category',\"brand_name\",\"location_type\",'avg_reviews_per_day_city']).agg(avg_num_reviews_per_day=(\"num_reviews_per_day\",np.mean)).reset_index()\n",
      "/tmp/ipykernel_359946/3002362798.py:34: FutureWarning: Series.__getitem__ treating keys as positions is deprecated. In a future version, integer keys will always be treated as labels (consistent with DataFrame behavior). To access a value by position, use `ser.iloc[pos]`\n",
      "  joined2['brand_reviews_per_day']=joined2[['brand_name','avg_rev_per_day_difference']].apply(lambda x:{x[0]:x[1]},axis=1)\n"
     ]
    },
    {
     "data": {
      "text/html": [
       "<div>\n",
       "<style scoped>\n",
       "    .dataframe tbody tr th:only-of-type {\n",
       "        vertical-align: middle;\n",
       "    }\n",
       "\n",
       "    .dataframe tbody tr th {\n",
       "        vertical-align: top;\n",
       "    }\n",
       "\n",
       "    .dataframe thead th {\n",
       "        text-align: right;\n",
       "    }\n",
       "</style>\n",
       "<table border=\"1\" class=\"dataframe\">\n",
       "  <thead>\n",
       "    <tr style=\"text-align: right;\">\n",
       "      <th></th>\n",
       "      <th></th>\n",
       "      <th></th>\n",
       "      <th>top_brands</th>\n",
       "    </tr>\n",
       "    <tr>\n",
       "      <th>id</th>\n",
       "      <th>category</th>\n",
       "      <th>location_type</th>\n",
       "      <th></th>\n",
       "    </tr>\n",
       "  </thead>\n",
       "  <tbody>\n",
       "    <tr>\n",
       "      <th rowspan=\"5\" valign=\"top\">0</th>\n",
       "      <th>animal</th>\n",
       "      <th>market_cluster</th>\n",
       "      <td>[{'snouters': 0.015451413046746076}, {'Sanchu ...</td>\n",
       "    </tr>\n",
       "    <tr>\n",
       "      <th>bar_pub</th>\n",
       "      <th>market_cluster</th>\n",
       "      <td>[{'thepub1522': 0.9223239079616672}]</td>\n",
       "    </tr>\n",
       "    <tr>\n",
       "      <th>clinic</th>\n",
       "      <th>market_cluster</th>\n",
       "      <td>[{'Lenskart': 0.7615487573784313}, {'Clove Den...</td>\n",
       "    </tr>\n",
       "    <tr>\n",
       "      <th>clothing_store</th>\n",
       "      <th>market_cluster</th>\n",
       "      <td>[{'Levi': 0.008359037491394057}, {'Just Casual...</td>\n",
       "    </tr>\n",
       "    <tr>\n",
       "      <th>coffee_shop</th>\n",
       "      <th>market_cluster</th>\n",
       "      <td>[{'Lassi Shop': 0.11430268807797984}, {'Starbu...</td>\n",
       "    </tr>\n",
       "    <tr>\n",
       "      <th>...</th>\n",
       "      <th>...</th>\n",
       "      <th>...</th>\n",
       "      <td>...</td>\n",
       "    </tr>\n",
       "    <tr>\n",
       "      <th>ffb2cc08b03274e077cc</th>\n",
       "      <th>food_other</th>\n",
       "      <th>neighbourhood</th>\n",
       "      <td>[{'Winni': -0.041875894951886955}]</td>\n",
       "    </tr>\n",
       "    <tr>\n",
       "      <th>ffbf68d1f45c975a4f3a</th>\n",
       "      <th>food_other</th>\n",
       "      <th>neighbourhood</th>\n",
       "      <td>[{'Juice Junction': 0.103963340149974}]</td>\n",
       "    </tr>\n",
       "    <tr>\n",
       "      <th rowspan=\"3\" valign=\"top\">ffd5be412931cbf39028</th>\n",
       "      <th>clinic</th>\n",
       "      <th>neighbourhood</th>\n",
       "      <td>[{'ESIC': 0.025170441957978094}]</td>\n",
       "    </tr>\n",
       "    <tr>\n",
       "      <th>clothing_store</th>\n",
       "      <th>neighbourhood</th>\n",
       "      <td>[{'Reliance Trends': 0.20477224635008134}]</td>\n",
       "    </tr>\n",
       "    <tr>\n",
       "      <th>electronic_store</th>\n",
       "      <th>neighbourhood</th>\n",
       "      <td>[{'Girias': 0.061927720229659686}, {'sbestores...</td>\n",
       "    </tr>\n",
       "  </tbody>\n",
       "</table>\n",
       "<p>17883 rows × 1 columns</p>\n",
       "</div>"
      ],
      "text/plain": [
       "                                                                                             top_brands\n",
       "id                   category         location_type                                                    \n",
       "0                    animal           market_cluster  [{'snouters': 0.015451413046746076}, {'Sanchu ...\n",
       "                     bar_pub          market_cluster               [{'thepub1522': 0.9223239079616672}]\n",
       "                     clinic           market_cluster  [{'Lenskart': 0.7615487573784313}, {'Clove Den...\n",
       "                     clothing_store   market_cluster  [{'Levi': 0.008359037491394057}, {'Just Casual...\n",
       "                     coffee_shop      market_cluster  [{'Lassi Shop': 0.11430268807797984}, {'Starbu...\n",
       "...                                                                                                 ...\n",
       "ffb2cc08b03274e077cc food_other       neighbourhood                  [{'Winni': -0.041875894951886955}]\n",
       "ffbf68d1f45c975a4f3a food_other       neighbourhood             [{'Juice Junction': 0.103963340149974}]\n",
       "ffd5be412931cbf39028 clinic           neighbourhood                    [{'ESIC': 0.025170441957978094}]\n",
       "                     clothing_store   neighbourhood          [{'Reliance Trends': 0.20477224635008134}]\n",
       "                     electronic_store neighbourhood   [{'Girias': 0.061927720229659686}, {'sbestores...\n",
       "\n",
       "[17883 rows x 1 columns]"
      ]
     },
     "execution_count": 107,
     "metadata": {},
     "output_type": "execute_result"
    }
   ],
   "source": [
    "get_top_brands()[1]"
   ]
  },
  {
   "cell_type": "code",
   "execution_count": 110,
   "id": "2b9c2eec4de800b8",
   "metadata": {
    "ExecuteTime": {
     "end_time": "2024-02-18T07:25:30.333902492Z",
     "start_time": "2024-02-18T07:25:26.353788609Z"
    },
    "collapsed": false
   },
   "outputs": [
    {
     "name": "stderr",
     "output_type": "stream",
     "text": [
      "/tmp/ipykernel_359946/3527490874.py:9: FutureWarning: Downcasting object dtype arrays on .fillna, .ffill, .bfill is deprecated and will change in a future version. Call result.infer_objects(copy=False) instead. To opt-in to the future behavior, set `pd.set_option('future.no_silent_downcasting', True)`\n",
      "  brands_rev=brands.fillna({\"num_reviews_per_day\":0}).groupby(\"brand_id\").agg(avg_reviews_per_day_city=(\"num_reviews_per_day\",np.mean))\n",
      "/tmp/ipykernel_359946/3527490874.py:9: FutureWarning: The provided callable <function mean at 0x7fbcb2baf250> is currently using SeriesGroupBy.mean. In a future version of pandas, the provided callable will be used directly. To keep current behavior pass the string \"mean\" instead.\n",
      "  brands_rev=brands.fillna({\"num_reviews_per_day\":0}).groupby(\"brand_id\").agg(avg_reviews_per_day_city=(\"num_reviews_per_day\",np.mean))\n",
      "/tmp/ipykernel_359946/3527490874.py:23: FutureWarning: The provided callable <function mean at 0x7fbcb2baf250> is currently using SeriesGroupBy.mean. In a future version of pandas, the provided callable will be used directly. To keep current behavior pass the string \"mean\" instead.\n",
      "  joined1 = joined.groupby([\"id_left\",'name_left', \"category\",\"location_type\"]).agg(stores_count=('brand_id', lambda x: np.count_nonzero(x)),\n",
      "/tmp/ipykernel_359946/3527490874.py:28: FutureWarning: The provided callable <function mean at 0x7fbcb2baf250> is currently using SeriesGroupBy.mean. In a future version of pandas, the provided callable will be used directly. To keep current behavior pass the string \"mean\" instead.\n",
      "  joined2 = joined.groupby([\"id_left\",'name_left', 'category',\"brand_name\",\"location_type\",'avg_reviews_per_day_city']).agg(avg_num_reviews_per_day=(\"num_reviews_per_day\",np.mean)).reset_index()\n",
      "/tmp/ipykernel_359946/3527490874.py:34: FutureWarning: Series.__getitem__ treating keys as positions is deprecated. In a future version, integer keys will always be treated as labels (consistent with DataFrame behavior). To access a value by position, use `ser.iloc[pos]`\n",
      "  joined2['brand_reviews_per_day']=joined2[['brand_name','avg_rev_per_day_difference']].apply(lambda x:{x[0]:x[1]},axis=1)\n"
     ]
    }
   ],
   "source": [
    "get_top_brands()[0].to_csv(\"brands category mix.csv\",index=False)"
   ]
  }
 ],
 "metadata": {
  "kernelspec": {
   "display_name": "Python 3",
   "language": "python",
   "name": "python3"
  },
  "language_info": {
   "codemirror_mode": {
    "name": "ipython",
    "version": 3
   },
   "file_extension": ".py",
   "mimetype": "text/x-python",
   "name": "python",
   "nbconvert_exporter": "python",
   "pygments_lexer": "ipython3",
   "version": "3.10.13"
  }
 },
 "nbformat": 4,
 "nbformat_minor": 5
}
