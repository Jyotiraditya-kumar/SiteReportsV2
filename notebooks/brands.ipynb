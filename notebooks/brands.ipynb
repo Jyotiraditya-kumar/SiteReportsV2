{
 "cells": [
  {
   "cell_type": "code",
   "execution_count": 1,
   "id": "initial_id",
   "metadata": {
    "collapsed": true,
    "ExecuteTime": {
     "end_time": "2024-02-02T05:50:45.652474446Z",
     "start_time": "2024-02-02T05:50:43.397524471Z"
    }
   },
   "outputs": [],
   "source": [
    "import pandas as pd\n",
    "import duckdb"
   ]
  },
  {
   "cell_type": "code",
   "outputs": [],
   "source": [
    "df=pd.read_csv(\"/home/jyotiraditya/PycharmProjects/SiteReports/data/common_data/bangalore/raw/location_poi_data.csv\")"
   ],
   "metadata": {
    "collapsed": false,
    "ExecuteTime": {
     "end_time": "2024-02-02T05:50:51.358444330Z",
     "start_time": "2024-02-02T05:50:48.184318222Z"
    }
   },
   "id": "66e48169e5dc3687",
   "execution_count": 2
  },
  {
   "cell_type": "code",
   "outputs": [
    {
     "data": {
      "text/plain": "<duckdb.duckdb.DuckDBPyConnection at 0x7f09fc978830>"
     },
     "execution_count": 3,
     "metadata": {},
     "output_type": "execute_result"
    }
   ],
   "source": [
    "all_data = df.copy()\n",
    "con = duckdb.connect(database='duckdb_gmaps.db', read_only=False)\n",
    "con.register('all_unique_gmaps_data', all_data)\n",
    "\n",
    "\n",
    "# create a table from the dataframe so that it persists\n",
    "con.execute(\"drop TABLE if exists gmaps_data_eye  \")\n",
    "\n",
    "con.execute(\"CREATE TABLE gmaps_data_eye AS (SELECT * FROM all_unique_gmaps_data)\")\n",
    "#con.close()\n",
    "\n",
    "\n",
    "con.execute(\"\"\"PRAGMA create_fts_index(gmaps_data_eye, 'id', 'name', stemmer='porter', stopwords='english',\n",
    "                 ignore='(\\\\.|[^a-z])+', strip_accents=1, lower=1, overwrite=1)\n",
    "            \"\"\")\n"
   ],
   "metadata": {
    "collapsed": false,
    "ExecuteTime": {
     "end_time": "2024-02-02T05:51:01.493424639Z",
     "start_time": "2024-02-02T05:50:52.495180191Z"
    }
   },
   "id": "c9a4b29dc8835b05",
   "execution_count": 3
  },
  {
   "cell_type": "code",
   "outputs": [],
   "source": [
    "df2=con.execute(\"\"\"SELECT *,'reliance digital' as brand_name, fts_main_gmaps_data.match_bm25(\n",
    "        place_id, 'Reliance Digital', fields := 'poi_name',conjunctive := 1) AS score FROM gmaps_data\n",
    "    \"\"\").fetch_df()"
   ],
   "metadata": {
    "collapsed": false
   },
   "id": "c5d8cacfa259b92f"
  },
  {
   "cell_type": "code",
   "outputs": [],
   "source": [
    "b=[\"Gold's Gym\",\"Kaizen Fitness\",\"Stayfit Health & Fitness World\",\"The little gym\",\"Zeus Fitness\",\"F45 Training\",\"Cross Fit\",\"Namma Crossfit\",\"Snap Fitness\",\"Fitness planet\", \"Planet fitness\",'iconic fitness' , 'game on fitness'\n",
    "]\n",
    "b=['Dominos Pizza', 'naturals salon', 'Lenskart', 'toni guy', 'plum sugar','Simpli Namdrai','ratnadeep',\"natures basket\", 'dmart' ,'vishal mega mart','more','reliance','zudio','titan eye+','Nail Salon']"
   ],
   "metadata": {
    "collapsed": false,
    "ExecuteTime": {
     "end_time": "2024-02-02T05:57:26.369659815Z",
     "start_time": "2024-02-02T05:57:26.323087831Z"
    }
   },
   "id": "b6ec01c983919953",
   "execution_count": 13
  },
  {
   "cell_type": "code",
   "outputs": [],
   "source": [
    "all_brands=[]\n",
    "for i in b:\n",
    "    df2=con.execute(f\"\"\"select * from(SELECT *, fts_main_gmaps_data_eye.match_bm25(\n",
    "            id, '{i.replace(\"'\",'')}', fields := 'name',conjunctive := 1) AS score FROM gmaps_data_eye) where score>0\n",
    "        \"\"\").fetch_df()\n",
    "    brands=df2['brand_id']\n",
    "    all_brands.append(df2)\n",
    "    "
   ],
   "metadata": {
    "collapsed": false,
    "ExecuteTime": {
     "end_time": "2024-02-02T05:57:29.277961650Z",
     "start_time": "2024-02-02T05:57:27.261820816Z"
    }
   },
   "id": "33b3e0fbd9e17328",
   "execution_count": 14
  },
  {
   "cell_type": "code",
   "outputs": [
    {
     "data": {
      "text/plain": "                              id  \\\n230  ChIJVwKO5iM-rjsRYg3o_5zWaR8   \n\n                                                  name        lat        lng  \\\n230  Poorvika Mobiles Banashankari - Near Reliance ...  12.938217  77.555702   \n\n                                       cid  brand_id brand_name  \\\n230  0x3bae3e23e68e0257:0x1f69d69cffe80d62  poorvika   Poorvika   \n\n     number_of_votes  rating  \\\n230             2494     4.7   \n\n                                             place_url    source  \\\n230  https://www.google.com/maps/place/?q=place_id:...  gmaps_v2   \n\n             category top_category type  created_at     score  \n230  electronic_store       retail  N_A  1695212099  2.398878  ",
      "text/html": "<div>\n<style scoped>\n    .dataframe tbody tr th:only-of-type {\n        vertical-align: middle;\n    }\n\n    .dataframe tbody tr th {\n        vertical-align: top;\n    }\n\n    .dataframe thead th {\n        text-align: right;\n    }\n</style>\n<table border=\"1\" class=\"dataframe\">\n  <thead>\n    <tr style=\"text-align: right;\">\n      <th></th>\n      <th>id</th>\n      <th>name</th>\n      <th>lat</th>\n      <th>lng</th>\n      <th>cid</th>\n      <th>brand_id</th>\n      <th>brand_name</th>\n      <th>number_of_votes</th>\n      <th>rating</th>\n      <th>place_url</th>\n      <th>source</th>\n      <th>category</th>\n      <th>top_category</th>\n      <th>type</th>\n      <th>created_at</th>\n      <th>score</th>\n    </tr>\n  </thead>\n  <tbody>\n    <tr>\n      <th>230</th>\n      <td>ChIJVwKO5iM-rjsRYg3o_5zWaR8</td>\n      <td>Poorvika Mobiles Banashankari - Near Reliance ...</td>\n      <td>12.938217</td>\n      <td>77.555702</td>\n      <td>0x3bae3e23e68e0257:0x1f69d69cffe80d62</td>\n      <td>poorvika</td>\n      <td>Poorvika</td>\n      <td>2494</td>\n      <td>4.7</td>\n      <td>https://www.google.com/maps/place/?q=place_id:...</td>\n      <td>gmaps_v2</td>\n      <td>electronic_store</td>\n      <td>retail</td>\n      <td>N_A</td>\n      <td>1695212099</td>\n      <td>2.398878</td>\n    </tr>\n  </tbody>\n</table>\n</div>"
     },
     "execution_count": 21,
     "metadata": {},
     "output_type": "execute_result"
    }
   ],
   "source": [
    "pd.concat(all_brands).query(\"brand_id=='poorvika'\")"
   ],
   "metadata": {
    "collapsed": false,
    "ExecuteTime": {
     "end_time": "2024-02-02T05:59:42.216893541Z",
     "start_time": "2024-02-02T05:59:42.189765081Z"
    }
   },
   "id": "fa4074148aff4f16",
   "execution_count": 21
  },
  {
   "cell_type": "code",
   "outputs": [
    {
     "data": {
      "text/plain": "['jio',\n 'reliancejewels',\n \"zomato_domino's_pizza\",\n 'ratnadeep',\n 'ril',\n 'dominos',\n 'dmartindia',\n 'reliancedigitalstores',\n 'ajio',\n 'naturesbasket',\n 'marksandspencer',\n 'reliancedigital',\n 'relianceretail',\n 'dmartreadyonline',\n 'naturals',\n 'zudio',\n 'lenskart',\n 'poorvika',\n 'reliancesmartbazaar',\n 'vishalmegamart',\n 'reliancesmartpoint',\n 'toniandguy',\n 'dmart']"
     },
     "execution_count": 16,
     "metadata": {},
     "output_type": "execute_result"
    }
   ],
   "source": [
    "brands=list(set(pd.concat(all_brands)[['id','name','brand_id','brand_name','score']]['brand_id'].tolist()))\n",
    "brands=list(filter(lambda x:x!='N_A',brands))\n",
    "brands"
   ],
   "metadata": {
    "collapsed": false,
    "ExecuteTime": {
     "end_time": "2024-02-02T05:57:33.779253276Z",
     "start_time": "2024-02-02T05:57:33.769253764Z"
    }
   },
   "id": "eb119b3f9c6e39ce",
   "execution_count": 16
  },
  {
   "cell_type": "code",
   "outputs": [],
   "source": [],
   "metadata": {
    "collapsed": false
   },
   "id": "fa4acf142ecb50df"
  }
 ],
 "metadata": {
  "kernelspec": {
   "display_name": "Python 3",
   "language": "python",
   "name": "python3"
  },
  "language_info": {
   "codemirror_mode": {
    "name": "ipython",
    "version": 2
   },
   "file_extension": ".py",
   "mimetype": "text/x-python",
   "name": "python",
   "nbconvert_exporter": "python",
   "pygments_lexer": "ipython2",
   "version": "2.7.6"
  }
 },
 "nbformat": 4,
 "nbformat_minor": 5
}
