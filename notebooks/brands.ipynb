{
 "cells": [
  {
   "cell_type": "code",
   "execution_count": 1,
   "id": "initial_id",
   "metadata": {
    "collapsed": true,
    "ExecuteTime": {
     "end_time": "2024-02-06T05:42:02.900940044Z",
     "start_time": "2024-02-06T05:41:53.999751214Z"
    }
   },
   "outputs": [],
   "source": [
    "import pandas as pd\n",
    "import duckdb"
   ]
  },
  {
   "cell_type": "code",
   "outputs": [],
   "source": [
    "df = pd.read_csv(\"/home/jyotiraditya/PycharmProjects/SiteReports/data/common_data/bangalore/raw/location_poi_data.csv\")"
   ],
   "metadata": {
    "collapsed": false,
    "ExecuteTime": {
     "end_time": "2024-02-06T05:42:06.102112927Z",
     "start_time": "2024-02-06T05:42:02.943051183Z"
    }
   },
   "id": "66e48169e5dc3687",
   "execution_count": 2
  },
  {
   "cell_type": "code",
   "outputs": [
    {
     "data": {
      "text/plain": "<duckdb.duckdb.DuckDBPyConnection at 0x7fa8b89e6270>"
     },
     "execution_count": 3,
     "metadata": {},
     "output_type": "execute_result"
    }
   ],
   "source": [
    "all_data = df.copy()\n",
    "con = duckdb.connect(database='duckdb_gmaps.db', read_only=False)\n",
    "con.register('all_unique_gmaps_data', all_data)\n",
    "\n",
    "# create a table from the dataframe so that it persists\n",
    "con.execute(\"drop TABLE if exists gmaps_data_eye  \")\n",
    "\n",
    "con.execute(\"CREATE TABLE gmaps_data_eye AS (SELECT * FROM all_unique_gmaps_data)\")\n",
    "#con.close()\n",
    "\n",
    "\n",
    "con.execute(\"\"\"PRAGMA create_fts_index(gmaps_data_eye, 'id', 'name', stemmer='porter', stopwords='english',\n",
    "                 ignore='(\\\\.|[^a-z])+', strip_accents=1, lower=1, overwrite=1)\n",
    "            \"\"\")\n"
   ],
   "metadata": {
    "collapsed": false,
    "ExecuteTime": {
     "end_time": "2024-02-06T05:42:14.876773584Z",
     "start_time": "2024-02-06T05:42:06.106273212Z"
    }
   },
   "id": "c9a4b29dc8835b05",
   "execution_count": 3
  },
  {
   "cell_type": "code",
   "outputs": [
    {
     "data": {
      "text/plain": "'{\"competitor_index\": 0.2, \"affluence_index\": 0.19, \"apartments_index\": 0.19, \"fashion_index\": 0.19, \"vibrancy\": 0.14, \"healthcare_index\": 0.1, \"company_index\": 0.1, \"malls_index\": 0.05, \"supermarket_index\": 0.04}'"
     },
     "execution_count": 12,
     "metadata": {},
     "output_type": "execute_result"
    }
   ],
   "source": [
    "import json\n",
    "json.dumps({\n",
    "        'competitor_index': 0.20,\n",
    "        'affluence_index': 0.19,\n",
    "        'apartments_index': 0.19,\n",
    "        'fashion_index': 0.19,\n",
    "        'vibrancy': 0.14,\n",
    "        'healthcare_index': 0.10,\n",
    "        'company_index': 0.10,\n",
    "        'malls_index': 0.05,\n",
    "        'supermarket_index': 0.04,\n",
    "\n",
    "    })"
   ],
   "metadata": {
    "collapsed": false,
    "ExecuteTime": {
     "end_time": "2024-02-06T10:32:15.257615476Z",
     "start_time": "2024-02-06T10:32:15.209966885Z"
    }
   },
   "id": "b20aca3cd8b42cd",
   "execution_count": 12
  },
  {
   "cell_type": "code",
   "outputs": [],
   "source": [
    "\n",
    "b = ['colorbar', 'just herbs',\n",
    "     'lakme',\n",
    "     'biotique',\n",
    "     'maybelline',\n",
    "     'hudabeauty',\n",
    "     'lys beauty',\n",
    "     'beauty bakerie',\n",
    "     'bobbi brown', 'estee lauder', 'mamaearth', 'myglamm', 'mcaffeine', 'Disguise Cosmetics', 'Lotus Botanicals',\n",
    "     'Forest Essentials', 'WOW']"
   ],
   "metadata": {
    "collapsed": false,
    "ExecuteTime": {
     "end_time": "2024-02-05T14:14:41.774543770Z",
     "start_time": "2024-02-05T14:14:41.708188289Z"
    }
   },
   "id": "b6ec01c983919953",
   "execution_count": 27
  },
  {
   "cell_type": "code",
   "outputs": [],
   "source": [
    "b = [\"Sugar cosmetics\",\"Nailbox\", \"Nailashes\", \"Blown\",\"W for Women\", \"Biba\",  \"Aurelia\",\"houseofindya\",\"forever21\",\"FabIndia\",\"Madame\",\n",
    "     \"Only\",\"Lakshita\",\"giniandjony\", \"bornbabies\",\"nykaa\",\"Global Desi\",\"Libas\",\"andindia\",\"Gocolors\",\"Naturals Salon\", \"Bounce\",\"BBlunt\",\"Plum\", ]"
   ],
   "metadata": {
    "collapsed": false,
    "ExecuteTime": {
     "end_time": "2024-02-06T05:50:22.734575931Z",
     "start_time": "2024-02-06T05:50:22.688212307Z"
    }
   },
   "id": "4f51f097217f9ba9",
   "execution_count": 4
  },
  {
   "cell_type": "code",
   "outputs": [],
   "source": [
    "b=['colordust nails','The Palette']"
   ],
   "metadata": {
    "collapsed": false,
    "ExecuteTime": {
     "end_time": "2024-02-06T05:55:13.281145787Z",
     "start_time": "2024-02-06T05:55:13.234412578Z"
    }
   },
   "id": "f0bbd081760ae16f",
   "execution_count": 8
  },
  {
   "cell_type": "code",
   "outputs": [],
   "source": [
    "all_brands = []\n",
    "for i in b:\n",
    "    df2 = con.execute(f\"\"\"select * from(SELECT *, fts_main_gmaps_data_eye.match_bm25(\n",
    "            id, '{i.replace(\"'\", '')}', fields := 'name',conjunctive := 1) AS score FROM gmaps_data_eye) where score>0\n",
    "        \"\"\").fetch_df()\n",
    "    brands = df2['brand_id']\n",
    "    all_brands.append(df2)\n"
   ],
   "metadata": {
    "collapsed": false,
    "ExecuteTime": {
     "end_time": "2024-02-06T05:55:14.881200001Z",
     "start_time": "2024-02-06T05:55:14.606508989Z"
    }
   },
   "id": "33b3e0fbd9e17328",
   "execution_count": 9
  },
  {
   "cell_type": "code",
   "outputs": [
    {
     "data": {
      "text/plain": "                              id        name       lat        lng  \\\n150  ChIJwZBlSSsTrjsRgbgZLQSLetg  WOW SPORTS  12.93601  77.744583   \n\n                                       cid    brand_id  brand_name  \\\n150  0x3bae132b496590c1:0xd87a8b042d19b881  cricheroes  cricheroes   \n\n     number_of_votes  rating  \\\n150              161     4.1   \n\n                                             place_url    source category  \\\n150  https://www.google.com/maps/place/?q=place_id:...  gmaps_v2   school   \n\n    top_category type  created_at     score  \n150    education  N_A  1687847039  3.765694  ",
      "text/html": "<div>\n<style scoped>\n    .dataframe tbody tr th:only-of-type {\n        vertical-align: middle;\n    }\n\n    .dataframe tbody tr th {\n        vertical-align: top;\n    }\n\n    .dataframe thead th {\n        text-align: right;\n    }\n</style>\n<table border=\"1\" class=\"dataframe\">\n  <thead>\n    <tr style=\"text-align: right;\">\n      <th></th>\n      <th>id</th>\n      <th>name</th>\n      <th>lat</th>\n      <th>lng</th>\n      <th>cid</th>\n      <th>brand_id</th>\n      <th>brand_name</th>\n      <th>number_of_votes</th>\n      <th>rating</th>\n      <th>place_url</th>\n      <th>source</th>\n      <th>category</th>\n      <th>top_category</th>\n      <th>type</th>\n      <th>created_at</th>\n      <th>score</th>\n    </tr>\n  </thead>\n  <tbody>\n    <tr>\n      <th>150</th>\n      <td>ChIJwZBlSSsTrjsRgbgZLQSLetg</td>\n      <td>WOW SPORTS</td>\n      <td>12.93601</td>\n      <td>77.744583</td>\n      <td>0x3bae132b496590c1:0xd87a8b042d19b881</td>\n      <td>cricheroes</td>\n      <td>cricheroes</td>\n      <td>161</td>\n      <td>4.1</td>\n      <td>https://www.google.com/maps/place/?q=place_id:...</td>\n      <td>gmaps_v2</td>\n      <td>school</td>\n      <td>education</td>\n      <td>N_A</td>\n      <td>1687847039</td>\n      <td>3.765694</td>\n    </tr>\n  </tbody>\n</table>\n</div>"
     },
     "execution_count": 31,
     "metadata": {},
     "output_type": "execute_result"
    }
   ],
   "source": [
    "pd.concat(all_brands).query(\"brand_id=='cricheroes'\")"
   ],
   "metadata": {
    "collapsed": false,
    "ExecuteTime": {
     "end_time": "2024-02-05T14:16:07.087774578Z",
     "start_time": "2024-02-05T14:16:07.059400116Z"
    }
   },
   "id": "fa4074148aff4f16",
   "execution_count": 31
  },
  {
   "cell_type": "code",
   "outputs": [
    {
     "data": {
      "text/plain": "[]"
     },
     "execution_count": 10,
     "metadata": {},
     "output_type": "execute_result"
    }
   ],
   "source": [
    "brands = list(set(pd.concat(all_brands)[['id', 'name', 'brand_id', 'brand_name', 'score']]['brand_id'].tolist()))\n",
    "brands = list(filter(lambda x: x != 'N_A', brands))\n",
    "brands"
   ],
   "metadata": {
    "collapsed": false,
    "ExecuteTime": {
     "end_time": "2024-02-06T05:55:17.324731225Z",
     "start_time": "2024-02-06T05:55:17.319958357Z"
    }
   },
   "id": "eb119b3f9c6e39ce",
   "execution_count": 10
  },
  {
   "cell_type": "code",
   "outputs": [],
   "source": [],
   "metadata": {
    "collapsed": false
   },
   "id": "fa4acf142ecb50df"
  }
 ],
 "metadata": {
  "kernelspec": {
   "display_name": "Python 3",
   "language": "python",
   "name": "python3"
  },
  "language_info": {
   "codemirror_mode": {
    "name": "ipython",
    "version": 2
   },
   "file_extension": ".py",
   "mimetype": "text/x-python",
   "name": "python",
   "nbconvert_exporter": "python",
   "pygments_lexer": "ipython2",
   "version": "2.7.6"
  }
 },
 "nbformat": 4,
 "nbformat_minor": 5
}
