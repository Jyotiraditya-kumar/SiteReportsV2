{
 "cells": [
  {
   "cell_type": "code",
   "execution_count": 10,
   "id": "initial_id",
   "metadata": {
    "collapsed": true,
    "ExecuteTime": {
     "end_time": "2024-02-02T10:02:51.374366274Z",
     "start_time": "2024-02-02T10:02:50.336167478Z"
    }
   },
   "outputs": [],
   "source": [
    "import numpy as np\n",
    "import pandas as pd\n",
    "import shapely\n",
    "\n",
    "from src import h3_utils\n",
    "import utils as U"
   ]
  },
  {
   "cell_type": "code",
   "outputs": [],
   "source": [
    "df = pd.read_csv(\"/home/jyotiraditya/PycharmProjects/SiteReports/data/common_data/bng_malls_ranked.csv\")"
   ],
   "metadata": {
    "collapsed": false,
    "ExecuteTime": {
     "end_time": "2024-02-02T04:38:04.149884374Z",
     "start_time": "2024-02-02T04:38:04.068302975Z"
    }
   },
   "id": "ee5d4c707ac2f7f2",
   "execution_count": 2
  },
  {
   "cell_type": "code",
   "outputs": [],
   "source": [
    "df['competitor_type'] = 'primary_competitor'"
   ],
   "metadata": {
    "collapsed": false,
    "ExecuteTime": {
     "end_time": "2024-02-02T04:38:50.471778704Z",
     "start_time": "2024-02-02T04:38:50.390261719Z"
    }
   },
   "id": "c40e5198c8b7896e",
   "execution_count": 4
  },
  {
   "cell_type": "code",
   "outputs": [
    {
     "data": {
      "text/plain": "                             id                      name        lat  \\\n0   ChIJZ0FegEs9rjsRZFR-C-hVwqQ                Orion Mall  13.011023   \n1   ChIJuzGXhU0UrjsRCRsq7sQj5Xs    Nexus Mall Koramangala  12.934777   \n2   ChIJoRKfACMWrjsRrWqiP9PBT5Y        Mantri Square Mall  12.991630   \n3   ChIJcToFoO4RrjsRiNp1K-jl9oE  Nexus Shantiniketan Mall  12.989536   \n4   ChIJlb8QkIwXrjsRGUxSwTzIMhQ                 Lulu Mall  12.981820   \n..                          ...                       ...        ...   \n66  ChIJLfcwwb89rjsRuEH5q3deUfQ             Platinum Mall  12.988786   \n67  ChIJoWqmRNwSrjsRESUY1zbg9wo                 Decathlon  12.900932   \n68  ChIJ6wwILYEWrjsR0CRciJIPFy8    Bangalore Central Mall  12.973381   \n69  ChIJez6EsCc9rjsR1OgmK7Vjxvs            Rock Line Mall  13.040773   \n70  ChIJ7d5iSKcXrjsRMdTFYEhPTUo                Sigma Mall  12.987957   \n\n          lng                                    cid  number_of_votes  \\\n0   77.554715  0x3bae3d4b805e4167:0xa4c255e80b7e5464           183294   \n1   77.611778  0x3bae144d859731bb:0x7be523c4ee2a1b09           131493   \n2   77.571172  0x3bae1623009f12a1:0x964fc1d33fa26aad           144046   \n3   77.728101  0x3bae11eea0053a71:0x81f6e5e82b75da88            68276   \n4   77.563117  0x3bae178c9010bf95:0x1432c83cc1524c19            39828   \n..        ...                                    ...              ...   \n66  77.537866  0x3bae3dbfc130f72d:0xf4515e77abf941b8               43   \n67  77.707246   0x3bae12dc44a66aa1:0xaf7e036d7182511                0   \n68  77.611278  0x3bae16812d080ceb:0x2f170f92885c24d0                0   \n69  77.518319  0x3bae3d27b0843e7b:0xfbc663b52b26e8d4                0   \n70  77.594604  0x3bae17a74862deed:0x4a4d4f4860c5d431                0   \n\n    ratings  created_at          date  number_of_reviews  reviews_per_day  \\\n0       4.5  1706081213  1.674391e+09           183294.0       499.728107   \n1       4.4  1706081213  1.660855e+09           131494.0       251.202709   \n2       4.4  1706081213  1.653817e+09           144047.0       238.129740   \n3       4.5  1706081213  1.671622e+09            68277.0       171.190504   \n4       4.4  1706081213  1.680949e+09            39828.0       136.919544   \n..      ...         ...           ...                ...              ...   \n66      4.3  1706081213  1.462089e+09               43.0         0.015227   \n67      0.0  1706081213           NaN                NaN              NaN   \n68      0.0  1706081213           NaN                NaN              NaN   \n69      0.0  1706081213           NaN                NaN              NaN   \n70      0.0  1706081213           NaN                NaN              NaN   \n\n                                                  wkt     competitor_type  \n0   POLYGON ((77.55455350014815 13.012127190197445...  primary_competitor  \n1   POLYGON ((77.61171273612247 12.935463783047162...  primary_competitor  \n2   POLYGON ((77.56961331170093 12.99219738364626,...  primary_competitor  \n3   POLYGON ((77.72763860657926 12.990380990107184...  primary_competitor  \n4   POLYGON ((77.56289552267329 12.982497418607135...  primary_competitor  \n..                                                ...                 ...  \n66  POLYGON ((77.53784923874949 12.98897115145576,...  primary_competitor  \n67  POLYGON ((77.7069074202376 12.901542373078865,...  primary_competitor  \n68  POLYGON ((77.61142393163342 12.973896482295942...  primary_competitor  \n69  POLYGON ((77.51818646390602 13.041153773888459...  primary_competitor  \n70  POLYGON ((77.5943474815432 12.988143606030187,...  primary_competitor  \n\n[71 rows x 13 columns]",
      "text/html": "<div>\n<style scoped>\n    .dataframe tbody tr th:only-of-type {\n        vertical-align: middle;\n    }\n\n    .dataframe tbody tr th {\n        vertical-align: top;\n    }\n\n    .dataframe thead th {\n        text-align: right;\n    }\n</style>\n<table border=\"1\" class=\"dataframe\">\n  <thead>\n    <tr style=\"text-align: right;\">\n      <th></th>\n      <th>id</th>\n      <th>name</th>\n      <th>lat</th>\n      <th>lng</th>\n      <th>cid</th>\n      <th>number_of_votes</th>\n      <th>ratings</th>\n      <th>created_at</th>\n      <th>date</th>\n      <th>number_of_reviews</th>\n      <th>reviews_per_day</th>\n      <th>wkt</th>\n      <th>competitor_type</th>\n    </tr>\n  </thead>\n  <tbody>\n    <tr>\n      <th>0</th>\n      <td>ChIJZ0FegEs9rjsRZFR-C-hVwqQ</td>\n      <td>Orion Mall</td>\n      <td>13.011023</td>\n      <td>77.554715</td>\n      <td>0x3bae3d4b805e4167:0xa4c255e80b7e5464</td>\n      <td>183294</td>\n      <td>4.5</td>\n      <td>1706081213</td>\n      <td>1.674391e+09</td>\n      <td>183294.0</td>\n      <td>499.728107</td>\n      <td>POLYGON ((77.55455350014815 13.012127190197445...</td>\n      <td>primary_competitor</td>\n    </tr>\n    <tr>\n      <th>1</th>\n      <td>ChIJuzGXhU0UrjsRCRsq7sQj5Xs</td>\n      <td>Nexus Mall Koramangala</td>\n      <td>12.934777</td>\n      <td>77.611778</td>\n      <td>0x3bae144d859731bb:0x7be523c4ee2a1b09</td>\n      <td>131493</td>\n      <td>4.4</td>\n      <td>1706081213</td>\n      <td>1.660855e+09</td>\n      <td>131494.0</td>\n      <td>251.202709</td>\n      <td>POLYGON ((77.61171273612247 12.935463783047162...</td>\n      <td>primary_competitor</td>\n    </tr>\n    <tr>\n      <th>2</th>\n      <td>ChIJoRKfACMWrjsRrWqiP9PBT5Y</td>\n      <td>Mantri Square Mall</td>\n      <td>12.991630</td>\n      <td>77.571172</td>\n      <td>0x3bae1623009f12a1:0x964fc1d33fa26aad</td>\n      <td>144046</td>\n      <td>4.4</td>\n      <td>1706081213</td>\n      <td>1.653817e+09</td>\n      <td>144047.0</td>\n      <td>238.129740</td>\n      <td>POLYGON ((77.56961331170093 12.99219738364626,...</td>\n      <td>primary_competitor</td>\n    </tr>\n    <tr>\n      <th>3</th>\n      <td>ChIJcToFoO4RrjsRiNp1K-jl9oE</td>\n      <td>Nexus Shantiniketan Mall</td>\n      <td>12.989536</td>\n      <td>77.728101</td>\n      <td>0x3bae11eea0053a71:0x81f6e5e82b75da88</td>\n      <td>68276</td>\n      <td>4.5</td>\n      <td>1706081213</td>\n      <td>1.671622e+09</td>\n      <td>68277.0</td>\n      <td>171.190504</td>\n      <td>POLYGON ((77.72763860657926 12.990380990107184...</td>\n      <td>primary_competitor</td>\n    </tr>\n    <tr>\n      <th>4</th>\n      <td>ChIJlb8QkIwXrjsRGUxSwTzIMhQ</td>\n      <td>Lulu Mall</td>\n      <td>12.981820</td>\n      <td>77.563117</td>\n      <td>0x3bae178c9010bf95:0x1432c83cc1524c19</td>\n      <td>39828</td>\n      <td>4.4</td>\n      <td>1706081213</td>\n      <td>1.680949e+09</td>\n      <td>39828.0</td>\n      <td>136.919544</td>\n      <td>POLYGON ((77.56289552267329 12.982497418607135...</td>\n      <td>primary_competitor</td>\n    </tr>\n    <tr>\n      <th>...</th>\n      <td>...</td>\n      <td>...</td>\n      <td>...</td>\n      <td>...</td>\n      <td>...</td>\n      <td>...</td>\n      <td>...</td>\n      <td>...</td>\n      <td>...</td>\n      <td>...</td>\n      <td>...</td>\n      <td>...</td>\n      <td>...</td>\n    </tr>\n    <tr>\n      <th>66</th>\n      <td>ChIJLfcwwb89rjsRuEH5q3deUfQ</td>\n      <td>Platinum Mall</td>\n      <td>12.988786</td>\n      <td>77.537866</td>\n      <td>0x3bae3dbfc130f72d:0xf4515e77abf941b8</td>\n      <td>43</td>\n      <td>4.3</td>\n      <td>1706081213</td>\n      <td>1.462089e+09</td>\n      <td>43.0</td>\n      <td>0.015227</td>\n      <td>POLYGON ((77.53784923874949 12.98897115145576,...</td>\n      <td>primary_competitor</td>\n    </tr>\n    <tr>\n      <th>67</th>\n      <td>ChIJoWqmRNwSrjsRESUY1zbg9wo</td>\n      <td>Decathlon</td>\n      <td>12.900932</td>\n      <td>77.707246</td>\n      <td>0x3bae12dc44a66aa1:0xaf7e036d7182511</td>\n      <td>0</td>\n      <td>0.0</td>\n      <td>1706081213</td>\n      <td>NaN</td>\n      <td>NaN</td>\n      <td>NaN</td>\n      <td>POLYGON ((77.7069074202376 12.901542373078865,...</td>\n      <td>primary_competitor</td>\n    </tr>\n    <tr>\n      <th>68</th>\n      <td>ChIJ6wwILYEWrjsR0CRciJIPFy8</td>\n      <td>Bangalore Central Mall</td>\n      <td>12.973381</td>\n      <td>77.611278</td>\n      <td>0x3bae16812d080ceb:0x2f170f92885c24d0</td>\n      <td>0</td>\n      <td>0.0</td>\n      <td>1706081213</td>\n      <td>NaN</td>\n      <td>NaN</td>\n      <td>NaN</td>\n      <td>POLYGON ((77.61142393163342 12.973896482295942...</td>\n      <td>primary_competitor</td>\n    </tr>\n    <tr>\n      <th>69</th>\n      <td>ChIJez6EsCc9rjsR1OgmK7Vjxvs</td>\n      <td>Rock Line Mall</td>\n      <td>13.040773</td>\n      <td>77.518319</td>\n      <td>0x3bae3d27b0843e7b:0xfbc663b52b26e8d4</td>\n      <td>0</td>\n      <td>0.0</td>\n      <td>1706081213</td>\n      <td>NaN</td>\n      <td>NaN</td>\n      <td>NaN</td>\n      <td>POLYGON ((77.51818646390602 13.041153773888459...</td>\n      <td>primary_competitor</td>\n    </tr>\n    <tr>\n      <th>70</th>\n      <td>ChIJ7d5iSKcXrjsRMdTFYEhPTUo</td>\n      <td>Sigma Mall</td>\n      <td>12.987957</td>\n      <td>77.594604</td>\n      <td>0x3bae17a74862deed:0x4a4d4f4860c5d431</td>\n      <td>0</td>\n      <td>0.0</td>\n      <td>1706081213</td>\n      <td>NaN</td>\n      <td>NaN</td>\n      <td>NaN</td>\n      <td>POLYGON ((77.5943474815432 12.988143606030187,...</td>\n      <td>primary_competitor</td>\n    </tr>\n  </tbody>\n</table>\n<p>71 rows × 13 columns</p>\n</div>"
     },
     "execution_count": 6,
     "metadata": {},
     "output_type": "execute_result"
    }
   ],
   "source": [
    "df"
   ],
   "metadata": {
    "collapsed": false,
    "ExecuteTime": {
     "end_time": "2024-02-02T05:19:02.196699331Z",
     "start_time": "2024-02-02T05:19:01.989495790Z"
    }
   },
   "id": "cc8dd3191fd14306",
   "execution_count": 6
  },
  {
   "cell_type": "code",
   "outputs": [],
   "source": [
    "df.to_csv(\"/home/jyotiraditya/PycharmProjects/SiteReports/data/common_data/mall_competitors.csv\", index=False)"
   ],
   "metadata": {
    "collapsed": false,
    "ExecuteTime": {
     "end_time": "2024-02-02T04:39:32.090794089Z",
     "start_time": "2024-02-02T04:39:30.908525020Z"
    }
   },
   "id": "9e234a11a2492378",
   "execution_count": 5
  },
  {
   "cell_type": "code",
   "outputs": [],
   "source": [
    "import geopandas as gpd\n",
    "\n",
    "\n",
    "def get_competitors(site_id):\n",
    "    def get_anchor_brands(site_id):\n",
    "        g = U.get_project_info(id=site_id).query(\"catchment_type=='i1000mtb'\")['geometry'].tolist()[0]\n",
    "        g = shapely.from_wkt(g)\n",
    "        stores_gdf = gpd.GeoDataFrame([{\"store_name\": 1, \"geometry\": g}], geometry='geometry')\n",
    "        coffee_shops = bng_data.query(\"(category=='coffee_shop') and (brand_id!='N_A')\")\n",
    "        coffee_shops_gdf = gpd.GeoDataFrame(coffee_shops,\n",
    "                                            geometry=gpd.points_from_xy(coffee_shops['lng'], coffee_shops['lat']))\n",
    "        coffee_shops_count = coffee_shops.groupby('brand_id').agg(count=(\"id\", np.count_nonzero)).reset_index()\n",
    "        cat_anchor = stores_gdf.sjoin(coffee_shops_gdf, how='inner')[coffee_shops.columns.tolist()]\n",
    "        cat_anchor = cat_anchor.groupby('brand_id').agg(count=(\"id\", np.count_nonzero)).reset_index()\n",
    "        cat_anchor = cat_anchor.merge(coffee_shops_count, how='inner', on='brand_id')\n",
    "        cat_anchor['rank'] = cat_anchor['count_y'] / cat_anchor['count_x']\n",
    "        cat_anchor = cat_anchor.sort_values(by='rank', ascending=False)['brand_id'].values.tolist()[:5]\n",
    "        return cat_anchor\n",
    "\n",
    "    bng_data = pd.read_csv(\n",
    "        '/home/jyotiraditya/PycharmProjects/SiteReports/data/common_data/bangalore/raw/location_poi_data.csv')\n",
    "\n",
    "    primary = bng_data.query(\"brand_id!='N_A' and category=='gym_fitness'\")\n",
    "    primary_brands = primary.groupby('brand_id').agg(count=(\"id\", np.count_nonzero)).reset_index().query(\n",
    "        \"count>5\").sort_values(by='count', ascending=False)['brand_id'].tolist()\n",
    "    df = pd.read_csv(\n",
    "        f\"/home/jyotiraditya/PycharmProjects/SiteReports/data/projects_data/{site_id}/raw/location_poi_data.csv\")\n",
    "    mask1 = df['brand_id'].isin(primary_brands)\n",
    "    df.loc[mask1, 'competitor_type'] = 'primary_competitor'\n",
    "    mask2 = (df['category'] == 'gym_fitness') & (~df['brand_id'].isin(primary_brands)) & (df['number_of_votes'] > 50)\n",
    "    df.loc[mask2, 'competitor_type'] = 'secondary_competitor'\n",
    "    mask3 = df['brand_id'].isin(get_anchor_brands(site_id))\n",
    "    df.loc[mask3, 'competitor_type'] = 'anchor_competitor'\n",
    "    df = df.query(\"~competitor_type.isna()\")\n",
    "    return df\n",
    "\n",
    "\n",
    "\n"
   ],
   "metadata": {
    "collapsed": false,
    "ExecuteTime": {
     "end_time": "2024-02-01T13:21:26.129988405Z",
     "start_time": "2024-02-01T13:21:26.108011344Z"
    }
   },
   "id": "3e5ea797ca1e6f1",
   "execution_count": 7
  },
  {
   "cell_type": "code",
   "outputs": [],
   "source": [
    "def get_competitors(site_id):\n",
    "    primary_brands = ['snapfitnessindia',\n",
    "                      'stayfitindia',\n",
    "                      'vivtaa',\n",
    "                      'planetfitness',\n",
    "                      'goldsgym',\n",
    "                      'nammacrossfit']\n",
    "    anchor_brands = [\n",
    "\n",
    "        \"zomato_domino's_pizza\",\n",
    "        'ratnadeep',\n",
    "        'ril',\n",
    "        'dominos',\n",
    "        'dmartindia',\n",
    "        'naturesbasket',\n",
    "        'marksandspencer',\n",
    "        'relianceretail',\n",
    "        'dmartreadyonline',\n",
    "        'naturals',\n",
    "        'zudio',\n",
    "        'lenskart',\n",
    "        'reliancesmartbazaar',\n",
    "        'vishalmegamart',\n",
    "        'reliancesmartpoint',\n",
    "        'toniandguy',\n",
    "        'dmart']\n",
    "    df = pd.read_csv(\n",
    "        f\"/home/jyotiraditya/PycharmProjects/SiteReports/data/projects_data/{site_id}/raw/location_poi_data.csv\")\n",
    "    mask1 = df['brand_id'].isin(primary_brands)\n",
    "    df.loc[mask1, 'competitor_type'] = 'primary_competitor'\n",
    "    mask2 = (df['category'] == 'gym_fitness') & (~df['brand_id'].isin(primary_brands)) & (df['number_of_votes'] > 20)\n",
    "    df.loc[mask2, 'competitor_type'] = 'secondary_competitor'\n",
    "    mask3 = df['brand_id'].isin(anchor_brands)\n",
    "    df.loc[mask3, 'competitor_type'] = 'anchor_competitor'\n",
    "    df = df.query(\"~competitor_type.isna()\")\n",
    "    return df"
   ],
   "metadata": {
    "collapsed": false,
    "ExecuteTime": {
     "end_time": "2024-02-02T06:03:39.225669349Z",
     "start_time": "2024-02-02T06:03:39.182822548Z"
    }
   },
   "id": "7531a92612016ada",
   "execution_count": 7
  },
  {
   "cell_type": "code",
   "outputs": [],
   "source": [
    "sids = ['130631_776205', '128873_775969']\n",
    "for sid in sids[:]:\n",
    "    df = get_competitors(sid)\n",
    "    df.to_csv(f\"/home/jyotiraditya/PycharmProjects/SiteReports/data/projects_data/{sid}/competitors.csv\")"
   ],
   "metadata": {
    "collapsed": false,
    "ExecuteTime": {
     "end_time": "2024-02-02T06:03:55.545848168Z",
     "start_time": "2024-02-02T06:03:55.328419470Z"
    }
   },
   "id": "89b0da4242c799f",
   "execution_count": 9
  },
  {
   "cell_type": "code",
   "outputs": [
    {
     "data": {
      "text/plain": "competitor_type\nsecondary_competitor    141\nanchor_competitor        53\nName: count, dtype: int64"
     },
     "execution_count": 20,
     "metadata": {},
     "output_type": "execute_result"
    }
   ],
   "source": [
    "df['competitor_type'].value_counts()"
   ],
   "metadata": {
    "collapsed": false,
    "ExecuteTime": {
     "end_time": "2024-02-01T16:34:32.703449017Z",
     "start_time": "2024-02-01T16:34:32.642911484Z"
    }
   },
   "id": "a7598118fe615947",
   "execution_count": 20
  },
  {
   "cell_type": "code",
   "outputs": [],
   "source": [
    "df.to_csv(f\"/home/jyotiraditya/PycharmProjects/SiteReports/data/projects_data/{sid}/competitors.csv\")"
   ],
   "metadata": {
    "collapsed": false,
    "ExecuteTime": {
     "end_time": "2024-02-01T10:26:19.473250571Z",
     "start_time": "2024-02-01T10:26:19.449802987Z"
    }
   },
   "id": "833a330b07cb3df2",
   "execution_count": 69
  },
  {
   "cell_type": "code",
   "outputs": [],
   "source": [
    "bng_data = pd.read_csv(\n",
    "    '/home/jyotiraditya/PycharmProjects/SiteReports/data/common_data/bangalore/raw/location_poi_data.csv')"
   ],
   "metadata": {
    "collapsed": false,
    "ExecuteTime": {
     "end_time": "2024-02-01T08:36:41.894281409Z",
     "start_time": "2024-02-01T08:36:40.484176079Z"
    }
   },
   "id": "734d6b41f1527438",
   "execution_count": 13
  },
  {
   "cell_type": "code",
   "outputs": [],
   "source": [
    "primary = bng_data.query(\"brand_id!='N_A' and category=='gym_fitness'\")\n",
    "primary_brands = primary.groupby('brand_id').agg(count=(\"id\", np.count_nonzero)).reset_index().query(\n",
    "    \"count>5\").sort_values(by='count', ascending=False)\n"
   ],
   "metadata": {
    "collapsed": false,
    "ExecuteTime": {
     "end_time": "2024-02-01T08:36:59.109370190Z",
     "start_time": "2024-02-01T08:36:59.046485331Z"
    }
   },
   "id": "f5287bc341b550cd",
   "execution_count": 14
  },
  {
   "cell_type": "code",
   "outputs": [
    {
     "data": {
      "text/plain": "                                 id  \\\n6       ChIJawgheE0TrjsRjbLaEk_6Euo   \n231     ChIJkdKgmYA9rjsRY-ml6pDMNAI   \n344     ChIJubahgNoXrjsRT5pniThZZjA   \n485     ChIJlbPzOWkRrjsRCol-7vLx-wI   \n593     ChIJs4uw8y0TrjsRlEGp806yPz0   \n...                             ...   \n362156  ChIJDZQzV50VrjsRfh_J06vTLLk   \n362165  ChIJL2Sp-TAVrjsRMl4htzgNf8M   \n362306  ChIJ965kur8NrjsRDfcAzoSTxxY   \n362323  ChIJn5eOvwoXrjsR7U0C4mhV0Kg   \n362495  ChIJYUUWp8g_rjsRhcKluwvgR58   \n\n                                                     name        lat  \\\n6                                      Barbell Cartel Gym  12.957161   \n231                 FEMININE WOMEN'S ONLY GYM Nagarabhavi  12.960160   \n344                              SUPRAD Badminton Academy  13.050083   \n485                          DRDO Phase II Sports Complex  12.986635   \n593     The Professional Fitness Center (Team:TPF) ದಿ ...  12.904058   \n...                                                   ...        ...   \n362156                                      LL PG for MEN  12.953691   \n362165                                  GOLDEN FIZZIK GYM  12.928550   \n362306              GET FIT WITH SHEHI (Personal Trainer)  12.989023   \n362323                              Refuel fitness studio  13.014141   \n362495                                        Power House  12.915695   \n\n              lng                                    cid brand_id brand_name  \\\n6       77.736313  0x3bae134d7821086b:0xea12fa4f12dab28d      N_A        N_A   \n231     77.506882   0x3bae3d8099a0d291:0x234cc90eaa5e963      N_A        N_A   \n344     77.607834  0x3bae17da80a1b6b9:0x3066593889679a4f      N_A        N_A   \n485     77.681442   0x3bae116939f3b395:0x2fbf1f2ee7e890a      N_A        N_A   \n593     77.676003  0x3bae132df3b08bb3:0x3d3fb24ef3a94194      N_A        N_A   \n...           ...                                    ...      ...        ...   \n362156  77.578125  0x3bae159d5733940d:0xb92cd3abd3c91f7e      N_A        N_A   \n362165  77.596794  0x3bae1530f9a9642f:0xc37f0d38b7215e32      N_A        N_A   \n362306  77.754524  0x3bae0dbfba64aef7:0x16c79384ce00f70d      N_A        N_A   \n362323  77.639542  0x3bae170abf8e979f:0xa8d05568e2024ded      N_A        N_A   \n362495  77.500229  0x3bae3fc8a7164561:0x9f47e00bbba5c285      N_A        N_A   \n\n        number_of_votes                                          place_url  \\\n6                   167  https://www.google.com/maps/place/?q=place_id:...   \n231                  62  https://www.google.com/maps/place/?q=place_id:...   \n344                 192  https://www.google.com/maps/place/?q=place_id:...   \n485                 391  https://www.google.com/maps/place/?q=place_id:...   \n593                 264  https://www.google.com/maps/place/?q=place_id:...   \n...                 ...                                                ...   \n362156               53  https://www.google.com/maps/place/?q=place_id:...   \n362165              209  https://www.google.com/maps/place/?q=place_id:...   \n362306              118  https://www.google.com/maps/place/?q=place_id:...   \n362323               63  https://www.google.com/maps/place/?q=place_id:...   \n362495              128  https://www.google.com/maps/place/?q=place_id:...   \n\n          source     category top_category type  created_at  \n6       gmaps_v2  gym_fitness      leisure  N_A  1687847039  \n231     gmaps_v2  gym_fitness      leisure  N_A  1687847039  \n344     gmaps_v2  gym_fitness      leisure  N_A  1687847039  \n485     gmaps_v2  gym_fitness      leisure  N_A  1687847039  \n593     gmaps_v2  gym_fitness      leisure  N_A  1687847039  \n...          ...          ...          ...  ...         ...  \n362156  gmaps_v2  gym_fitness      leisure  N_A  1687847039  \n362165  gmaps_v2  gym_fitness      leisure  N_A  1687847039  \n362306  gmaps_v2  gym_fitness      leisure  N_A  1687847039  \n362323  gmaps_v2  gym_fitness      leisure  N_A  1687847039  \n362495  gmaps_v2  gym_fitness      leisure  N_A  1687847039  \n\n[1858 rows x 14 columns]",
      "text/html": "<div>\n<style scoped>\n    .dataframe tbody tr th:only-of-type {\n        vertical-align: middle;\n    }\n\n    .dataframe tbody tr th {\n        vertical-align: top;\n    }\n\n    .dataframe thead th {\n        text-align: right;\n    }\n</style>\n<table border=\"1\" class=\"dataframe\">\n  <thead>\n    <tr style=\"text-align: right;\">\n      <th></th>\n      <th>id</th>\n      <th>name</th>\n      <th>lat</th>\n      <th>lng</th>\n      <th>cid</th>\n      <th>brand_id</th>\n      <th>brand_name</th>\n      <th>number_of_votes</th>\n      <th>place_url</th>\n      <th>source</th>\n      <th>category</th>\n      <th>top_category</th>\n      <th>type</th>\n      <th>created_at</th>\n    </tr>\n  </thead>\n  <tbody>\n    <tr>\n      <th>6</th>\n      <td>ChIJawgheE0TrjsRjbLaEk_6Euo</td>\n      <td>Barbell Cartel Gym</td>\n      <td>12.957161</td>\n      <td>77.736313</td>\n      <td>0x3bae134d7821086b:0xea12fa4f12dab28d</td>\n      <td>N_A</td>\n      <td>N_A</td>\n      <td>167</td>\n      <td>https://www.google.com/maps/place/?q=place_id:...</td>\n      <td>gmaps_v2</td>\n      <td>gym_fitness</td>\n      <td>leisure</td>\n      <td>N_A</td>\n      <td>1687847039</td>\n    </tr>\n    <tr>\n      <th>231</th>\n      <td>ChIJkdKgmYA9rjsRY-ml6pDMNAI</td>\n      <td>FEMININE WOMEN'S ONLY GYM Nagarabhavi</td>\n      <td>12.960160</td>\n      <td>77.506882</td>\n      <td>0x3bae3d8099a0d291:0x234cc90eaa5e963</td>\n      <td>N_A</td>\n      <td>N_A</td>\n      <td>62</td>\n      <td>https://www.google.com/maps/place/?q=place_id:...</td>\n      <td>gmaps_v2</td>\n      <td>gym_fitness</td>\n      <td>leisure</td>\n      <td>N_A</td>\n      <td>1687847039</td>\n    </tr>\n    <tr>\n      <th>344</th>\n      <td>ChIJubahgNoXrjsRT5pniThZZjA</td>\n      <td>SUPRAD Badminton Academy</td>\n      <td>13.050083</td>\n      <td>77.607834</td>\n      <td>0x3bae17da80a1b6b9:0x3066593889679a4f</td>\n      <td>N_A</td>\n      <td>N_A</td>\n      <td>192</td>\n      <td>https://www.google.com/maps/place/?q=place_id:...</td>\n      <td>gmaps_v2</td>\n      <td>gym_fitness</td>\n      <td>leisure</td>\n      <td>N_A</td>\n      <td>1687847039</td>\n    </tr>\n    <tr>\n      <th>485</th>\n      <td>ChIJlbPzOWkRrjsRCol-7vLx-wI</td>\n      <td>DRDO Phase II Sports Complex</td>\n      <td>12.986635</td>\n      <td>77.681442</td>\n      <td>0x3bae116939f3b395:0x2fbf1f2ee7e890a</td>\n      <td>N_A</td>\n      <td>N_A</td>\n      <td>391</td>\n      <td>https://www.google.com/maps/place/?q=place_id:...</td>\n      <td>gmaps_v2</td>\n      <td>gym_fitness</td>\n      <td>leisure</td>\n      <td>N_A</td>\n      <td>1687847039</td>\n    </tr>\n    <tr>\n      <th>593</th>\n      <td>ChIJs4uw8y0TrjsRlEGp806yPz0</td>\n      <td>The Professional Fitness Center (Team:TPF) ದಿ ...</td>\n      <td>12.904058</td>\n      <td>77.676003</td>\n      <td>0x3bae132df3b08bb3:0x3d3fb24ef3a94194</td>\n      <td>N_A</td>\n      <td>N_A</td>\n      <td>264</td>\n      <td>https://www.google.com/maps/place/?q=place_id:...</td>\n      <td>gmaps_v2</td>\n      <td>gym_fitness</td>\n      <td>leisure</td>\n      <td>N_A</td>\n      <td>1687847039</td>\n    </tr>\n    <tr>\n      <th>...</th>\n      <td>...</td>\n      <td>...</td>\n      <td>...</td>\n      <td>...</td>\n      <td>...</td>\n      <td>...</td>\n      <td>...</td>\n      <td>...</td>\n      <td>...</td>\n      <td>...</td>\n      <td>...</td>\n      <td>...</td>\n      <td>...</td>\n      <td>...</td>\n    </tr>\n    <tr>\n      <th>362156</th>\n      <td>ChIJDZQzV50VrjsRfh_J06vTLLk</td>\n      <td>LL PG for MEN</td>\n      <td>12.953691</td>\n      <td>77.578125</td>\n      <td>0x3bae159d5733940d:0xb92cd3abd3c91f7e</td>\n      <td>N_A</td>\n      <td>N_A</td>\n      <td>53</td>\n      <td>https://www.google.com/maps/place/?q=place_id:...</td>\n      <td>gmaps_v2</td>\n      <td>gym_fitness</td>\n      <td>leisure</td>\n      <td>N_A</td>\n      <td>1687847039</td>\n    </tr>\n    <tr>\n      <th>362165</th>\n      <td>ChIJL2Sp-TAVrjsRMl4htzgNf8M</td>\n      <td>GOLDEN FIZZIK GYM</td>\n      <td>12.928550</td>\n      <td>77.596794</td>\n      <td>0x3bae1530f9a9642f:0xc37f0d38b7215e32</td>\n      <td>N_A</td>\n      <td>N_A</td>\n      <td>209</td>\n      <td>https://www.google.com/maps/place/?q=place_id:...</td>\n      <td>gmaps_v2</td>\n      <td>gym_fitness</td>\n      <td>leisure</td>\n      <td>N_A</td>\n      <td>1687847039</td>\n    </tr>\n    <tr>\n      <th>362306</th>\n      <td>ChIJ965kur8NrjsRDfcAzoSTxxY</td>\n      <td>GET FIT WITH SHEHI (Personal Trainer)</td>\n      <td>12.989023</td>\n      <td>77.754524</td>\n      <td>0x3bae0dbfba64aef7:0x16c79384ce00f70d</td>\n      <td>N_A</td>\n      <td>N_A</td>\n      <td>118</td>\n      <td>https://www.google.com/maps/place/?q=place_id:...</td>\n      <td>gmaps_v2</td>\n      <td>gym_fitness</td>\n      <td>leisure</td>\n      <td>N_A</td>\n      <td>1687847039</td>\n    </tr>\n    <tr>\n      <th>362323</th>\n      <td>ChIJn5eOvwoXrjsR7U0C4mhV0Kg</td>\n      <td>Refuel fitness studio</td>\n      <td>13.014141</td>\n      <td>77.639542</td>\n      <td>0x3bae170abf8e979f:0xa8d05568e2024ded</td>\n      <td>N_A</td>\n      <td>N_A</td>\n      <td>63</td>\n      <td>https://www.google.com/maps/place/?q=place_id:...</td>\n      <td>gmaps_v2</td>\n      <td>gym_fitness</td>\n      <td>leisure</td>\n      <td>N_A</td>\n      <td>1687847039</td>\n    </tr>\n    <tr>\n      <th>362495</th>\n      <td>ChIJYUUWp8g_rjsRhcKluwvgR58</td>\n      <td>Power House</td>\n      <td>12.915695</td>\n      <td>77.500229</td>\n      <td>0x3bae3fc8a7164561:0x9f47e00bbba5c285</td>\n      <td>N_A</td>\n      <td>N_A</td>\n      <td>128</td>\n      <td>https://www.google.com/maps/place/?q=place_id:...</td>\n      <td>gmaps_v2</td>\n      <td>gym_fitness</td>\n      <td>leisure</td>\n      <td>N_A</td>\n      <td>1687847039</td>\n    </tr>\n  </tbody>\n</table>\n<p>1858 rows × 14 columns</p>\n</div>"
     },
     "execution_count": 21,
     "metadata": {},
     "output_type": "execute_result"
    }
   ],
   "source": [
    "secondary_brands = bng_data.query(\n",
    "    \"category=='gym_fitness' and number_of_votes>50 and brand_id not in(@primary_brands['brand_id']) \")\n",
    "secondary_brands"
   ],
   "metadata": {
    "collapsed": false,
    "ExecuteTime": {
     "end_time": "2024-02-01T08:41:58.345625392Z",
     "start_time": "2024-02-01T08:41:58.276155977Z"
    }
   },
   "id": "cd866207d360a3ae",
   "execution_count": 21
  },
  {
   "cell_type": "code",
   "outputs": [
    {
     "data": {
      "text/plain": "             brand_id  count\n0           1by2foods      1\n1             3mangos      3\n2          amrutchaha      1\n3            artscafe      3\n4               avoke      3\n..                ...    ...\n120        tribalbrew      3\n121  vaamanamruttulya      1\n122       vidyacoffee      7\n123              wafl      1\n124    zafrannaturals      3\n\n[125 rows x 2 columns]",
      "text/html": "<div>\n<style scoped>\n    .dataframe tbody tr th:only-of-type {\n        vertical-align: middle;\n    }\n\n    .dataframe tbody tr th {\n        vertical-align: top;\n    }\n\n    .dataframe thead th {\n        text-align: right;\n    }\n</style>\n<table border=\"1\" class=\"dataframe\">\n  <thead>\n    <tr style=\"text-align: right;\">\n      <th></th>\n      <th>brand_id</th>\n      <th>count</th>\n    </tr>\n  </thead>\n  <tbody>\n    <tr>\n      <th>0</th>\n      <td>1by2foods</td>\n      <td>1</td>\n    </tr>\n    <tr>\n      <th>1</th>\n      <td>3mangos</td>\n      <td>3</td>\n    </tr>\n    <tr>\n      <th>2</th>\n      <td>amrutchaha</td>\n      <td>1</td>\n    </tr>\n    <tr>\n      <th>3</th>\n      <td>artscafe</td>\n      <td>3</td>\n    </tr>\n    <tr>\n      <th>4</th>\n      <td>avoke</td>\n      <td>3</td>\n    </tr>\n    <tr>\n      <th>...</th>\n      <td>...</td>\n      <td>...</td>\n    </tr>\n    <tr>\n      <th>120</th>\n      <td>tribalbrew</td>\n      <td>3</td>\n    </tr>\n    <tr>\n      <th>121</th>\n      <td>vaamanamruttulya</td>\n      <td>1</td>\n    </tr>\n    <tr>\n      <th>122</th>\n      <td>vidyacoffee</td>\n      <td>7</td>\n    </tr>\n    <tr>\n      <th>123</th>\n      <td>wafl</td>\n      <td>1</td>\n    </tr>\n    <tr>\n      <th>124</th>\n      <td>zafrannaturals</td>\n      <td>3</td>\n    </tr>\n  </tbody>\n</table>\n<p>125 rows × 2 columns</p>\n</div>"
     },
     "execution_count": 23,
     "metadata": {},
     "output_type": "execute_result"
    }
   ],
   "source": [
    "anchor = bng_data.query(\"(category=='coffee_shop') and (brand_id!='N_A')\").groupby('brand_id').agg(\n",
    "    count=(\"id\", np.count_nonzero)).reset_index()\n",
    "anchor"
   ],
   "metadata": {
    "collapsed": false,
    "ExecuteTime": {
     "end_time": "2024-02-01T08:45:54.793423827Z",
     "start_time": "2024-02-01T08:45:54.741970386Z"
    }
   },
   "id": "5f3d9f3a41db53ce",
   "execution_count": 23
  },
  {
   "cell_type": "code",
   "outputs": [],
   "source": [
    "site_id = '129065_775925'\n",
    "df = pd.read_csv(\n",
    "    f\"/home/jyotiraditya/PycharmProjects/SiteReports/data/projects_data/{site_id}/raw/location_poi_data.csv\")"
   ],
   "metadata": {
    "collapsed": false,
    "ExecuteTime": {
     "end_time": "2024-02-01T08:52:42.561345604Z",
     "start_time": "2024-02-01T08:52:42.423601151Z"
    }
   },
   "id": "bd9582737865315a",
   "execution_count": 26
  },
  {
   "cell_type": "code",
   "outputs": [
    {
     "data": {
      "text/plain": "                   brand_id  count_x  count_y       rank\n18               hattikaapi        2       29  14.500000\n36                     slay        1       12  12.000000\n24                lassishop        3       31  10.333333\n37                    smoor        1       10  10.000000\n1           bluetokaicoffee        1       10  10.000000\n6                   chaayos        3       29   9.666667\n22              lassicorner        4       38   9.500000\n3             cafecoffeeday       14      129   9.214286\n10                chaipoint       10       83   8.300000\n42                teabarind        1        8   8.000000\n39                starbucks        4       32   8.000000\n19            heritagefoods        2       15   7.500000\n46         thecoffeebrewery        1        7   7.000000\n40                   sufyan        1        6   6.000000\n27           mdpcoffeehouse        1        6   6.000000\n23                lassighar        1        6   6.000000\n48          thirdwavecoffee        7       42   6.000000\n43            teadaycompany        8       43   5.375000\n28                mitticafe        1        5   5.000000\n8                  chaidays        1        5   5.000000\n20            hunkalheights        1        5   5.000000\n0              bayarscoffee        6       27   4.500000\n14                   cothas        4       17   4.250000\n32         puneriamruttulya        1        4   4.000000\n49  thirdwavecoffeeroasters        1        4   4.000000\n26           magnoliabakery        1        4   4.000000\n35              sahukarchai        3       11   3.666667\n50              vidyacoffee        2        7   3.500000\n45             thechaiwalah        1        3   3.000000\n30        nammafiltercoffee        1        3   3.000000\n33                     qmin        2        6   3.000000\n34            ramjichaiwale        1        3   3.000000\n4               cafevishala        1        3   3.000000\n47                  thepaan        1        3   3.000000\n5                 cane-o-la        1        3   3.000000\n41          sumacoffeehouse        1        3   3.000000\n9                 chaigalli        1        3   3.000000\n21         icebergicecreams        2        4   2.000000\n31           newlassicorner        1        2   2.000000\n17           firangifalooda        1        2   2.000000\n13         coffeepointindia        1        2   2.000000\n38         standardteaindia        2        4   2.000000\n29               mumbaichai        1        2   2.000000\n12                coffeeday        2        3   1.500000\n15                 dairyday        2        3   1.500000\n44                 teavilla        1        1   1.000000\n7                chaiamruth        1        1   1.000000\n11                chaivenue        3        3   1.000000\n16            dessicuppahyd        1        1   1.000000\n2                      cafe        1        1   1.000000\n25                leocoffee        1        1   1.000000",
      "text/html": "<div>\n<style scoped>\n    .dataframe tbody tr th:only-of-type {\n        vertical-align: middle;\n    }\n\n    .dataframe tbody tr th {\n        vertical-align: top;\n    }\n\n    .dataframe thead th {\n        text-align: right;\n    }\n</style>\n<table border=\"1\" class=\"dataframe\">\n  <thead>\n    <tr style=\"text-align: right;\">\n      <th></th>\n      <th>brand_id</th>\n      <th>count_x</th>\n      <th>count_y</th>\n      <th>rank</th>\n    </tr>\n  </thead>\n  <tbody>\n    <tr>\n      <th>18</th>\n      <td>hattikaapi</td>\n      <td>2</td>\n      <td>29</td>\n      <td>14.500000</td>\n    </tr>\n    <tr>\n      <th>36</th>\n      <td>slay</td>\n      <td>1</td>\n      <td>12</td>\n      <td>12.000000</td>\n    </tr>\n    <tr>\n      <th>24</th>\n      <td>lassishop</td>\n      <td>3</td>\n      <td>31</td>\n      <td>10.333333</td>\n    </tr>\n    <tr>\n      <th>37</th>\n      <td>smoor</td>\n      <td>1</td>\n      <td>10</td>\n      <td>10.000000</td>\n    </tr>\n    <tr>\n      <th>1</th>\n      <td>bluetokaicoffee</td>\n      <td>1</td>\n      <td>10</td>\n      <td>10.000000</td>\n    </tr>\n    <tr>\n      <th>6</th>\n      <td>chaayos</td>\n      <td>3</td>\n      <td>29</td>\n      <td>9.666667</td>\n    </tr>\n    <tr>\n      <th>22</th>\n      <td>lassicorner</td>\n      <td>4</td>\n      <td>38</td>\n      <td>9.500000</td>\n    </tr>\n    <tr>\n      <th>3</th>\n      <td>cafecoffeeday</td>\n      <td>14</td>\n      <td>129</td>\n      <td>9.214286</td>\n    </tr>\n    <tr>\n      <th>10</th>\n      <td>chaipoint</td>\n      <td>10</td>\n      <td>83</td>\n      <td>8.300000</td>\n    </tr>\n    <tr>\n      <th>42</th>\n      <td>teabarind</td>\n      <td>1</td>\n      <td>8</td>\n      <td>8.000000</td>\n    </tr>\n    <tr>\n      <th>39</th>\n      <td>starbucks</td>\n      <td>4</td>\n      <td>32</td>\n      <td>8.000000</td>\n    </tr>\n    <tr>\n      <th>19</th>\n      <td>heritagefoods</td>\n      <td>2</td>\n      <td>15</td>\n      <td>7.500000</td>\n    </tr>\n    <tr>\n      <th>46</th>\n      <td>thecoffeebrewery</td>\n      <td>1</td>\n      <td>7</td>\n      <td>7.000000</td>\n    </tr>\n    <tr>\n      <th>40</th>\n      <td>sufyan</td>\n      <td>1</td>\n      <td>6</td>\n      <td>6.000000</td>\n    </tr>\n    <tr>\n      <th>27</th>\n      <td>mdpcoffeehouse</td>\n      <td>1</td>\n      <td>6</td>\n      <td>6.000000</td>\n    </tr>\n    <tr>\n      <th>23</th>\n      <td>lassighar</td>\n      <td>1</td>\n      <td>6</td>\n      <td>6.000000</td>\n    </tr>\n    <tr>\n      <th>48</th>\n      <td>thirdwavecoffee</td>\n      <td>7</td>\n      <td>42</td>\n      <td>6.000000</td>\n    </tr>\n    <tr>\n      <th>43</th>\n      <td>teadaycompany</td>\n      <td>8</td>\n      <td>43</td>\n      <td>5.375000</td>\n    </tr>\n    <tr>\n      <th>28</th>\n      <td>mitticafe</td>\n      <td>1</td>\n      <td>5</td>\n      <td>5.000000</td>\n    </tr>\n    <tr>\n      <th>8</th>\n      <td>chaidays</td>\n      <td>1</td>\n      <td>5</td>\n      <td>5.000000</td>\n    </tr>\n    <tr>\n      <th>20</th>\n      <td>hunkalheights</td>\n      <td>1</td>\n      <td>5</td>\n      <td>5.000000</td>\n    </tr>\n    <tr>\n      <th>0</th>\n      <td>bayarscoffee</td>\n      <td>6</td>\n      <td>27</td>\n      <td>4.500000</td>\n    </tr>\n    <tr>\n      <th>14</th>\n      <td>cothas</td>\n      <td>4</td>\n      <td>17</td>\n      <td>4.250000</td>\n    </tr>\n    <tr>\n      <th>32</th>\n      <td>puneriamruttulya</td>\n      <td>1</td>\n      <td>4</td>\n      <td>4.000000</td>\n    </tr>\n    <tr>\n      <th>49</th>\n      <td>thirdwavecoffeeroasters</td>\n      <td>1</td>\n      <td>4</td>\n      <td>4.000000</td>\n    </tr>\n    <tr>\n      <th>26</th>\n      <td>magnoliabakery</td>\n      <td>1</td>\n      <td>4</td>\n      <td>4.000000</td>\n    </tr>\n    <tr>\n      <th>35</th>\n      <td>sahukarchai</td>\n      <td>3</td>\n      <td>11</td>\n      <td>3.666667</td>\n    </tr>\n    <tr>\n      <th>50</th>\n      <td>vidyacoffee</td>\n      <td>2</td>\n      <td>7</td>\n      <td>3.500000</td>\n    </tr>\n    <tr>\n      <th>45</th>\n      <td>thechaiwalah</td>\n      <td>1</td>\n      <td>3</td>\n      <td>3.000000</td>\n    </tr>\n    <tr>\n      <th>30</th>\n      <td>nammafiltercoffee</td>\n      <td>1</td>\n      <td>3</td>\n      <td>3.000000</td>\n    </tr>\n    <tr>\n      <th>33</th>\n      <td>qmin</td>\n      <td>2</td>\n      <td>6</td>\n      <td>3.000000</td>\n    </tr>\n    <tr>\n      <th>34</th>\n      <td>ramjichaiwale</td>\n      <td>1</td>\n      <td>3</td>\n      <td>3.000000</td>\n    </tr>\n    <tr>\n      <th>4</th>\n      <td>cafevishala</td>\n      <td>1</td>\n      <td>3</td>\n      <td>3.000000</td>\n    </tr>\n    <tr>\n      <th>47</th>\n      <td>thepaan</td>\n      <td>1</td>\n      <td>3</td>\n      <td>3.000000</td>\n    </tr>\n    <tr>\n      <th>5</th>\n      <td>cane-o-la</td>\n      <td>1</td>\n      <td>3</td>\n      <td>3.000000</td>\n    </tr>\n    <tr>\n      <th>41</th>\n      <td>sumacoffeehouse</td>\n      <td>1</td>\n      <td>3</td>\n      <td>3.000000</td>\n    </tr>\n    <tr>\n      <th>9</th>\n      <td>chaigalli</td>\n      <td>1</td>\n      <td>3</td>\n      <td>3.000000</td>\n    </tr>\n    <tr>\n      <th>21</th>\n      <td>icebergicecreams</td>\n      <td>2</td>\n      <td>4</td>\n      <td>2.000000</td>\n    </tr>\n    <tr>\n      <th>31</th>\n      <td>newlassicorner</td>\n      <td>1</td>\n      <td>2</td>\n      <td>2.000000</td>\n    </tr>\n    <tr>\n      <th>17</th>\n      <td>firangifalooda</td>\n      <td>1</td>\n      <td>2</td>\n      <td>2.000000</td>\n    </tr>\n    <tr>\n      <th>13</th>\n      <td>coffeepointindia</td>\n      <td>1</td>\n      <td>2</td>\n      <td>2.000000</td>\n    </tr>\n    <tr>\n      <th>38</th>\n      <td>standardteaindia</td>\n      <td>2</td>\n      <td>4</td>\n      <td>2.000000</td>\n    </tr>\n    <tr>\n      <th>29</th>\n      <td>mumbaichai</td>\n      <td>1</td>\n      <td>2</td>\n      <td>2.000000</td>\n    </tr>\n    <tr>\n      <th>12</th>\n      <td>coffeeday</td>\n      <td>2</td>\n      <td>3</td>\n      <td>1.500000</td>\n    </tr>\n    <tr>\n      <th>15</th>\n      <td>dairyday</td>\n      <td>2</td>\n      <td>3</td>\n      <td>1.500000</td>\n    </tr>\n    <tr>\n      <th>44</th>\n      <td>teavilla</td>\n      <td>1</td>\n      <td>1</td>\n      <td>1.000000</td>\n    </tr>\n    <tr>\n      <th>7</th>\n      <td>chaiamruth</td>\n      <td>1</td>\n      <td>1</td>\n      <td>1.000000</td>\n    </tr>\n    <tr>\n      <th>11</th>\n      <td>chaivenue</td>\n      <td>3</td>\n      <td>3</td>\n      <td>1.000000</td>\n    </tr>\n    <tr>\n      <th>16</th>\n      <td>dessicuppahyd</td>\n      <td>1</td>\n      <td>1</td>\n      <td>1.000000</td>\n    </tr>\n    <tr>\n      <th>2</th>\n      <td>cafe</td>\n      <td>1</td>\n      <td>1</td>\n      <td>1.000000</td>\n    </tr>\n    <tr>\n      <th>25</th>\n      <td>leocoffee</td>\n      <td>1</td>\n      <td>1</td>\n      <td>1.000000</td>\n    </tr>\n  </tbody>\n</table>\n</div>"
     },
     "execution_count": 30,
     "metadata": {},
     "output_type": "execute_result"
    }
   ],
   "source": [
    "cat_anchor = df.query(\"(category=='coffee_shop') and (brand_id!='N_A')\").groupby('brand_id').agg(\n",
    "    count=(\"id\", np.count_nonzero)).reset_index()\n",
    "cat_anchor = cat_anchor.merge(anchor, how='inner', on='brand_id')\n",
    "cat_anchor['rank'] = cat_anchor['count_y'] / cat_anchor['count_x']\n",
    "cat_anchor = cat_anchor.sort_values(by='rank', ascending=False)\n",
    "cat_anchor\n"
   ],
   "metadata": {
    "collapsed": false,
    "ExecuteTime": {
     "end_time": "2024-02-01T08:53:57.098402994Z",
     "start_time": "2024-02-01T08:53:57.051842745Z"
    }
   },
   "id": "b90c85a5338c147a",
   "execution_count": 30
  }
 ],
 "metadata": {
  "kernelspec": {
   "display_name": "Python 3",
   "language": "python",
   "name": "python3"
  },
  "language_info": {
   "codemirror_mode": {
    "name": "ipython",
    "version": 2
   },
   "file_extension": ".py",
   "mimetype": "text/x-python",
   "name": "python",
   "nbconvert_exporter": "python",
   "pygments_lexer": "ipython2",
   "version": "2.7.6"
  }
 },
 "nbformat": 4,
 "nbformat_minor": 5
}
