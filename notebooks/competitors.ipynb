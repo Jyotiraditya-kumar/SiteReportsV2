{
 "cells": [
  {
   "cell_type": "code",
   "execution_count": 1,
   "id": "initial_id",
   "metadata": {
    "collapsed": true,
    "ExecuteTime": {
     "end_time": "2024-02-08T08:13:50.480788209Z",
     "start_time": "2024-02-08T08:13:44.826113235Z"
    }
   },
   "outputs": [],
   "source": [
    "import numpy as np\n",
    "import pandas as pd\n",
    "import shapely\n",
    "\n",
    "from src import h3_utils\n",
    "import utils as U"
   ]
  },
  {
   "cell_type": "code",
   "outputs": [],
   "source": [
    "df = pd.read_csv(\"/home/jyotiraditya/PycharmProjects/SiteReports/data/common_data/bng_malls_ranked.csv\")"
   ],
   "metadata": {
    "collapsed": false,
    "ExecuteTime": {
     "end_time": "2024-02-08T08:13:52.955789148Z",
     "start_time": "2024-02-08T08:13:52.817024987Z"
    }
   },
   "id": "ee5d4c707ac2f7f2",
   "execution_count": 2
  },
  {
   "cell_type": "code",
   "outputs": [],
   "source": [
    "df['competitor_type'] = 'primary_competitor'"
   ],
   "metadata": {
    "collapsed": false,
    "ExecuteTime": {
     "end_time": "2024-02-08T08:14:04.313301312Z",
     "start_time": "2024-02-08T08:14:04.293452289Z"
    }
   },
   "id": "c40e5198c8b7896e",
   "execution_count": 4
  },
  {
   "cell_type": "code",
   "outputs": [],
   "source": [
    "for pid in ['129342_777438', '128050_776996']:\n",
    "    df.to_csv(f\"/home/jyotiraditya/PycharmProjects/SiteReports/data/projects_data/{pid}/competitors_ranked.csv\",\n",
    "              index=False)"
   ],
   "metadata": {
    "collapsed": false,
    "ExecuteTime": {
     "end_time": "2024-02-08T08:14:55.401009915Z",
     "start_time": "2024-02-08T08:14:55.080834126Z"
    }
   },
   "id": "cc8dd3191fd14306",
   "execution_count": 5
  },
  {
   "cell_type": "code",
   "outputs": [],
   "source": [
    "df.to_csv(\"/home/jyotiraditya/PycharmProjects/SiteReports/data/common_data/mall_competitors.csv\", index=False)"
   ],
   "metadata": {
    "collapsed": false,
    "ExecuteTime": {
     "end_time": "2024-02-02T04:39:32.090794089Z",
     "start_time": "2024-02-02T04:39:30.908525020Z"
    }
   },
   "id": "9e234a11a2492378",
   "execution_count": 5
  },
  {
   "cell_type": "code",
   "outputs": [],
   "source": [
    "import geopandas as gpd\n",
    "\n",
    "\n",
    "def get_competitors(site_id):\n",
    "    def get_anchor_brands(site_id):\n",
    "        g = U.get_project_info(id=site_id).query(\"catchment_type=='i1000mtb'\")['geometry'].tolist()[0]\n",
    "        g = shapely.from_wkt(g)\n",
    "        stores_gdf = gpd.GeoDataFrame([{\"store_name\": 1, \"geometry\": g}], geometry='geometry')\n",
    "        coffee_shops = bng_data.query(\"(category=='coffee_shop') and (brand_id!='N_A')\")\n",
    "        coffee_shops_gdf = gpd.GeoDataFrame(coffee_shops,\n",
    "                                            geometry=gpd.points_from_xy(coffee_shops['lng'], coffee_shops['lat']))\n",
    "        coffee_shops_count = coffee_shops.groupby('brand_id').agg(count=(\"id\", np.count_nonzero)).reset_index()\n",
    "        cat_anchor = stores_gdf.sjoin(coffee_shops_gdf, how='inner')[coffee_shops.columns.tolist()]\n",
    "        cat_anchor = cat_anchor.groupby('brand_id').agg(count=(\"id\", np.count_nonzero)).reset_index()\n",
    "        cat_anchor = cat_anchor.merge(coffee_shops_count, how='inner', on='brand_id')\n",
    "        cat_anchor['rank'] = cat_anchor['count_y'] / cat_anchor['count_x']\n",
    "        cat_anchor = cat_anchor.sort_values(by='rank', ascending=False)['brand_id'].values.tolist()[:5]\n",
    "        return cat_anchor\n",
    "\n",
    "    bng_data = pd.read_csv(\n",
    "        '/home/jyotiraditya/PycharmProjects/SiteReports/data/common_data/bangalore/raw/location_poi_data.csv')\n",
    "\n",
    "    primary = bng_data.query(\"brand_id!='N_A' and category=='gym_fitness'\")\n",
    "    primary_brands = primary.groupby('brand_id').agg(count=(\"id\", np.count_nonzero)).reset_index().query(\n",
    "        \"count>5\").sort_values(by='count', ascending=False)['brand_id'].tolist()\n",
    "    df = pd.read_csv(\n",
    "        f\"/home/jyotiraditya/PycharmProjects/SiteReports/data/projects_data/{site_id}/raw/location_poi_data.csv\")\n",
    "    mask1 = df['brand_id'].isin(primary_brands)\n",
    "    df.loc[mask1, 'competitor_type'] = 'primary_competitor'\n",
    "    mask2 = (df['category'] == 'gym_fitness') & (~df['brand_id'].isin(primary_brands)) & (df['number_of_votes'] > 50)\n",
    "    df.loc[mask2, 'competitor_type'] = 'secondary_competitor'\n",
    "    mask3 = df['brand_id'].isin(get_anchor_brands(site_id))\n",
    "    df.loc[mask3, 'competitor_type'] = 'anchor_competitor'\n",
    "    df = df.query(\"~competitor_type.isna()\")\n",
    "    return df\n",
    "\n",
    "\n",
    "\n"
   ],
   "metadata": {
    "collapsed": false,
    "ExecuteTime": {
     "end_time": "2024-02-01T13:21:26.129988405Z",
     "start_time": "2024-02-01T13:21:26.108011344Z"
    }
   },
   "id": "3e5ea797ca1e6f1",
   "execution_count": 7
  },
  {
   "cell_type": "code",
   "outputs": [],
   "source": [
    "import json"
   ],
   "metadata": {
    "collapsed": false,
    "ExecuteTime": {
     "end_time": "2024-02-07T10:02:43.759263700Z",
     "start_time": "2024-02-07T10:02:43.746116504Z"
    }
   },
   "id": "29e70047cbf4cca1",
   "execution_count": 3
  },
  {
   "cell_type": "code",
   "outputs": [],
   "source": [
    "c=[{\"competitor_type\": \"primary_competitor\", \"type\":\"brands\",\"filter\":['snapfitnessindia','stayfitindia','vivtaa','planetfitness','goldsgym','nammacrossfit']},\n",
    " {\"competitor_type\": \"anchor_competitor\",\"type\":\"brands\",\"filter\":[\"zomato_domino's_pizza\", 'ratnadeep', 'ril', 'dominos', 'dmartindia', 'naturesbasket',\n",
    "                             'marksandspencer', 'relianceretail', 'dmartreadyonline', 'naturals', 'zudio', 'lenskart', 'reliancesmartbazaar',\n",
    "                             'vishalmegamart','reliancesmartpoint','toniandguy','dmart']},\n",
    " {\"competitor_type\": \"secondary_competitor\",\"type\":\"query\",\"filter\":\"category.isin('gym_fitness') and number_of_votes>20 \"}\n",
    " ]"
   ],
   "metadata": {
    "collapsed": false,
    "ExecuteTime": {
     "end_time": "2024-02-07T10:02:43.874110704Z",
     "start_time": "2024-02-07T10:02:43.751617058Z"
    }
   },
   "id": "49cb926dedb75428",
   "execution_count": 4
  },
  {
   "cell_type": "code",
   "outputs": [
    {
     "name": "stdout",
     "output_type": "stream",
     "text": [
      "[{\"competitor_type\": \"anchor_competitor\", \"type\": \"brands\", \"filter\": [\"blown\", \"bouncehere\", \"bblunt\", \"nailashes\", \"nykdbynykaa\", \"sugarcosmetics\", \"globaldesi\", \"naturals\", \"shopforaurelia\", \"biba\", \"yesmadam\", \"rangriti\", \"nykaa\", \"nailbox\", \"bibaindia\", \"fabindia\"]}, {\"competitor_type\": \"secondary_competitor\", \"type\": \"brands\", \"filter\": [\"forestessentialsindia\", \"colorbarcosmetics\", \"lakmeindia\", \"lakmesalon\"]}, {\"competitor_type\": \"secondary_competitor\", \"type\": \"query\", \"filter\": \"category.isin(['cosmetic']) \"}, {\"competitor_type\": \"primary_competitor\", \"type\": \"brands\", \"filter\": [\"jockeyindia\", \"zivame\", \"nykdbynykaa\", \"enamor\", \"adityabirla\", \"vanheusenindia\", \"jockey\"]}]\n"
     ]
    }
   ],
   "source": [
    "\n",
    "print(json.dumps(c))"
   ],
   "metadata": {
    "collapsed": false,
    "ExecuteTime": {
     "end_time": "2024-02-07T10:03:33.846568557Z",
     "start_time": "2024-02-07T10:03:33.818383549Z"
    }
   },
   "id": "7d4a3ddaf066a943",
   "execution_count": 7
  },
  {
   "cell_type": "code",
   "outputs": [],
   "source": [
    "c = [{'competitor_type': \"anchor_competitor\", \"type\": 'brands',\n",
    "      \"filter\": ['blown', 'bouncehere', 'bblunt', 'nailashes', 'nykdbynykaa', 'sugarcosmetics', 'globaldesi',\n",
    "                 'naturals', 'shopforaurelia', 'biba', 'yesmadam', 'rangriti', 'nykaa', 'nailbox',\n",
    "                 'bibaindia', 'fabindia']},\n",
    "     {\"competitor_type\": \"secondary_competitor\", \"type\": \"brands\",\n",
    "      \"filter\": ['forestessentialsindia', 'colorbarcosmetics', 'lakmeindia', 'lakmesalon', ]},\n",
    "     {\"competitor_type\": \"secondary_competitor\", \"type\": \"query\",\n",
    "      \"filter\": \"category.isin(['cosmetic']) \"},\n",
    "     {\"competitor_type\": \"primary_competitor\", \"type\": \"brands\",\n",
    "      \"filter\": ['jockeyindia', 'zivame', 'nykdbynykaa', 'enamor', 'adityabirla', 'vanheusenindia',\n",
    "                 'jockey']}]"
   ],
   "metadata": {
    "collapsed": false,
    "ExecuteTime": {
     "end_time": "2024-02-07T10:03:31.149829496Z",
     "start_time": "2024-02-07T10:03:31.109416571Z"
    }
   },
   "id": "8a3aafb3ccd26ed9",
   "execution_count": 6
  },
  {
   "cell_type": "code",
   "outputs": [],
   "source": [
    "def get_competitors(site_id):\n",
    "    df = pd.read_csv(\n",
    "        f\"/home/jyotiraditya/PycharmProjects/SiteReports/data/projects_data/{site_id}/raw/location_poi_data.csv\")\n",
    "    c = [{'competitor_type': \"anchor_competitor\", \"type\": 'brands',\n",
    "      \"filter\": ['blown', 'bouncehere', 'bblunt', 'nailashes', 'nykdbynykaa', 'sugarcosmetics', 'globaldesi',\n",
    "                 'naturals', 'shopforaurelia', 'biba', 'yesmadam', 'rangriti', 'nykaa', 'nailbox',\n",
    "                 'bibaindia', 'fabindia']},\n",
    "     {\"competitor_type\": \"secondary_competitor\", \"type\": \"brands\",\n",
    "      \"filter\": ['forestessentialsindia', 'colorbarcosmetics', 'lakmeindia', 'lakmesalon', ]},\n",
    "     {\"competitor_type\": \"secondary_competitor\", \"type\": \"query\",\n",
    "      \"filter\": \"category.isin(['cosmetic']) \"},\n",
    "     {\"competitor_type\": \"primary_competitor\", \"type\": \"brands\",\n",
    "      \"filter\": ['jockeyindia', 'zivame', 'nykdbynykaa', 'enamor', 'adityabirla', 'vanheusenindia',\n",
    "                 'jockey']}]\n",
    "    for f in c:\n",
    "        if f['type'] == \"brands\":\n",
    "            mask=df.query(\"brand_id.isin(@f['filter'])\")\n",
    "        elif f['type'] == \"query\":\n",
    "            mask = df.query(f['filter'])\n",
    "        else:\n",
    "            raise ValueError(\"Filter Not Supported\")\n",
    "        df.loc[mask.index, 'competitor_type'] = f['competitor_type']\n",
    "    df = df.query(\"~competitor_type.isna()\")\n",
    "    return df"
   ],
   "metadata": {
    "collapsed": false,
    "ExecuteTime": {
     "end_time": "2024-02-06T06:21:12.243255271Z",
     "start_time": "2024-02-06T06:21:12.200681171Z"
    }
   },
   "id": "7531a92612016ada",
   "execution_count": 7
  },
  {
   "cell_type": "code",
   "outputs": [
    {
     "data": {
      "text/plain": "<IPython.core.display.Javascript object>",
      "application/javascript": "\n        if (window._pyforest_update_imports_cell) { window._pyforest_update_imports_cell('import pandas as pd'); }\n    "
     },
     "metadata": {},
     "output_type": "display_data"
    },
    {
     "data": {
      "text/plain": "<IPython.core.display.Javascript object>",
      "application/javascript": "\n        if (window._pyforest_update_imports_cell) { window._pyforest_update_imports_cell('import pandas as pd'); }\n    "
     },
     "metadata": {},
     "output_type": "display_data"
    }
   ],
   "source": [
    "sids = ['129696_776307', '130959_775791']\n",
    "for sid in sids[:]:\n",
    "    df = get_competitors(sid)\n",
    "    df.to_csv(f\"/home/jyotiraditya/PycharmProjects/SiteReports/data/projects_data/{sid}/competitors.csv\")"
   ],
   "metadata": {
    "collapsed": false,
    "ExecuteTime": {
     "end_time": "2024-02-06T06:21:14.025617870Z",
     "start_time": "2024-02-06T06:21:13.897726549Z"
    }
   },
   "id": "89b0da4242c799f",
   "execution_count": 8
  },
  {
   "cell_type": "code",
   "outputs": [
    {
     "data": {
      "text/plain": "<IPython.core.display.Javascript object>",
      "application/javascript": "\n        if (window._pyforest_update_imports_cell) { window._pyforest_update_imports_cell('import pandas as pd'); }\n    "
     },
     "metadata": {},
     "output_type": "display_data"
    },
    {
     "data": {
      "text/plain": "                               id  \\\n33    ChIJjUSe76YXrjsRlxcXfVzhzGk   \n149   ChIJEUrGz6kWrjsRDK-d0hNuV-I   \n175   ChIJAXEwvk8XrjsRBSLNe4xcIOE   \n177   ChIJHRA8W0AXrjsRSD2KU7VgJEE   \n260   ChIJG5KZppwWrjsRHV4uw1LKHNk   \n432   ChIJBU-fnRwUrjsRpLXLQIWSRec   \n899   ChIJm6AoPagWrjsRwZvz-tNPvQk   \n1030  ChIJr86vo5wWrjsR0NPjtfjBHtU   \n1237  ChIJG6Xc-acWrjsR1-Tq2jF0Zjw   \n1325  ChIJXfklb34XrjsRfdaa2Zhp5Dk   \n1331  ChIJkyXAPNAXrjsR6cCVPbzGGl4   \n1743  ChIJG7qNshgXrjsRjzGZgKqr3YA   \n1767  ChIJMWFRU74WrjsRVg0QF_yA-c0   \n1832  ChIJh03PdE0VrjsROV9wLyZHbuU   \n1918  ChIJwffmz3sVrjsRLMN2Xd9tdpo   \n2197  ChIJ1dDNM-MXrjsRUEy0IErGw3w   \n2717  ChIJo1iL8acWrjsRFKZY7uO-bU8   \n3728  ChIJv2WdmKUWrjsR3wOt2TKjdLc   \n3819  ChIJvdLYm_A-rjsRmd_pSKurAYQ   \n4308  ChIJU3TYKhEXrjsR7BIej_7Y2yU   \n4450  ChIJySRT1_AVrjsRKOTQv7lvgUg   \n4765  ChIJzxp1VTIXrjsRf5C9C15Gr0w   \n4838  ChIJIQshFaYWrjsRDbGeHPlkoRI   \n5171  ChIJg34L9qcWrjsRhALf1ozkQQQ   \n5386  ChIJRajn0kUXrjsRBpT5WjY8Mv0   \n5649  ChIJW8GJLx4XrjsRY_SZGRh_lfA   \n6388  ChIJ56DLZKMWrjsRMVohmXlKk64   \n6449  ChIJuR0foApZrjsR27ItMZlf3m4   \n6640  ChIJgSEkJh0UrjsRo32uUPJTkXY   \n6774  ChIJvz6mfaUWrjsRWCKd_sYosrc   \n6829  ChIJc-RWrj4XrjsR4zwROFR_wpw   \n7206  ChIJQXxpMJcWrjsR-WzbAJrT22c   \n7337  ChIJsR0mrBwUrjsRBCMRkNNTjKg   \n7369  ChIJC9_WzakWrjsRWniI9DoGfjk   \n\n                                                   name        lat        lng  \\\n33                                Nailashes Indiranagar  12.970464  77.643417   \n149               BBLUNT Salon - Indiranagar, Bangalore  12.970244  77.638924   \n175                              Jockey Exclusive Store  12.978196  77.637688   \n177             Fabindia Store (Indiranagar, Bangalore)  12.969950  77.639053   \n260                                            Clinique  12.973547  77.620438   \n432                                         lakme salon  12.963832  77.640205   \n899                                               Lakme  12.970327  77.639702   \n1030                                           Fabindia  12.973771  77.623001   \n1237                                            Aurelia  12.969621  77.641487   \n1325                                           Fabindia  12.972281  77.618675   \n1331                                             Jockey  12.972626  77.648834   \n1743  Yes Madam - Salon at Home, Beauty Parlour, Bea...  12.977210  77.640404   \n1767                                        Global Desi  12.973331  77.620453   \n1832                                          Yes Madam  12.981133  77.634026   \n1918              Health & Glow Indiranagar 80feet Road  12.971156  77.647156   \n2197                    Milastar Retail Private Limited  12.979134  77.646873   \n2717                                      The Body Shop  12.970283  77.641350   \n3728                                               Biba  12.977365  77.640671   \n3819                         M.A.C Stores 1MG-Lido Mall  12.973511  77.620422   \n4308                                      The Body Shop  12.970910  77.632561   \n4450                                       Jockey store  12.962652  77.642418   \n4765                             Jockey Exclusive Store  12.972400  77.650299   \n4838                                        Global Desi  12.968115  77.641121   \n5171                             Jockey Exclusive Store  12.969517  77.641083   \n5386                                           Fab Home  12.970274  77.639763   \n5649  Enamor - Exclusive Brand Store - Women's Linge...  12.969677  77.641479   \n6388                                      The Body Shop  12.978375  77.635963   \n6449              Van Heusen - 100ft Road - Indiranagar  12.971676  77.640999   \n6640                                             Zivame  12.966851  77.641418   \n6774                                        Lakme Salon  12.978540  77.641220   \n6829                                              Blown  12.969998  77.639374   \n7206                                      The Body Shop  12.973465  77.620422   \n7337                   Zivame (Indira Nagar, Bengaluru)  12.969626  77.641586   \n7369                                             Bounce  12.970512  77.645287   \n\n                                        cid        brand_id     brand_name  \\\n33    0x3bae17a6ef9e448d:0x69cce15c7d171797       nailashes      Nailashes   \n149   0x3bae16a9cfc64a11:0xe2576e13d29daf0c          bblunt         BBlunt   \n175   0x3bae174fbe307101:0xe1205c8c7bcd2205          jockey         Jockey   \n177   0x3bae17405b3c101d:0x412460b5538a3d48        fabindia       Fabindia   \n260   0x3bae169ca699921b:0xd91cca52c32e5e1d        clinique       Clinique   \n432   0x3bae141c9d9f4f05:0xe745928540cbb5a4      lakmeindia          Lakme   \n899    0x3bae16a83d28a09b:0x9bd4fd3faf39bc1      lakmeindia          Lakme   \n1030  0x3bae169ca3afceaf:0xd51ec1f8b5e3d3d0        fabindia       Fabindia   \n1237  0x3bae16a7f9dca51b:0x3c667431daeae4d7  shopforaurelia        Aurelia   \n1325  0x3bae177e6f25f95d:0x39e46998d99ad67d        fabindia       Fabindia   \n1331  0x3bae17d03cc02593:0x5e1ac6bc3d95c0e9          jockey         Jockey   \n1743  0x3bae1718b28dba1b:0x80ddabaa8099318f        yesmadam      Yes Madam   \n1767  0x3bae16be53516131:0xcdf980fc17100d56      globaldesi    Global Desi   \n1832  0x3bae154d74cf4d87:0xe56e47262f705f39        yesmadam      Yes Madam   \n1918  0x3bae157bcfe6f7c1:0x9a766ddf5d76c32c   healthandglow  Health & Glow   \n2197  0x3bae17e333cdd0d5:0x7cc3c64a20b44c50          zivame         Zivame   \n2717  0x3bae16a7f18b58a3:0x4f6dbee3ee58a614     thebodyshop  The Body Shop   \n3728  0x3bae16a5989d65bf:0xb774a332d9ad03df            biba           Biba   \n3819  0x3bae3ef09bd8d2bd:0x8401abab48e9df99    maccosmetics  MAC Cosmetics   \n4308  0x3bae17112ad87453:0x25dbd8fe8f1e12ec     thebodyshop  The Body Shop   \n4450  0x3bae15f0d75324c9:0x48816fb9bfd0e428          jockey         Jockey   \n4765  0x3bae173255751acf:0x4caf465e0bbd907f          jockey         Jockey   \n4838  0x3bae16a615210b21:0x12a164f91c9eb10d      globaldesi    Global Desi   \n5171   0x3bae16a7f60b7e83:0x441e48cd6df0284          jockey         Jockey   \n5386  0x3bae1745d2e7a845:0xfd323c365af99406        fabindia       Fabindia   \n5649  0x3bae171e2f89c15b:0xf0957f181999f463          enamor         Enamor   \n6388  0x3bae16a364cba0e7:0xae934a7999215a31     thebodyshop  The Body Shop   \n6449  0x3bae590aa01f1db9:0x6ede5f99312db2db  vanheusenindia     Van Heusen   \n6640  0x3bae141d26242181:0x769153f250ae7da3          zivame         Zivame   \n6774  0x3bae16a57da63ebf:0xb7b228c6fe9d2258      lakmeindia          Lakme   \n6829  0x3bae173eae56e473:0x9cc27f5438113ce3           blown          blown   \n7206  0x3bae169730697c41:0x67dbd39a00db6cf9     thebodyshop  The Body Shop   \n7337  0x3bae141cac261db1:0xa88c53d390112304          zivame         Zivame   \n7369  0x3bae16a9cdd6df0b:0x397e063af488785a      bouncehere         Bounce   \n\n      number_of_votes  rating  \\\n33                126     4.8   \n149              1193     4.6   \n175               190     4.8   \n177               277     4.3   \n260                 5     3.6   \n432              1437     4.6   \n899              1714     4.7   \n1030               96     4.3   \n1237               48     3.6   \n1325              206     4.3   \n1331               25     4.4   \n1743                2     5.0   \n1767               19     4.3   \n1832              280     4.1   \n1918              160     4.2   \n2197                2     3.0   \n2717              517     4.3   \n3728              301     3.8   \n3819               98     4.0   \n4308                4     3.5   \n4450                4     3.3   \n4765              254     4.9   \n4838              286     4.1   \n5171              313     4.6   \n5386                5     4.8   \n5649               33     3.6   \n6388                1     5.0   \n6449             1308     4.3   \n6640                0     0.0   \n6774              414     4.3   \n6829              209     4.5   \n7206               70     4.1   \n7337              421     3.9   \n7369             2324     4.5   \n\n                                              place_url    source  \\\n33    https://www.google.com/maps/place/?q=place_id:...  gmaps_v2   \n149   https://www.google.com/maps/place/?q=place_id:...  gmaps_v2   \n175   https://www.google.com/maps/place/?q=place_id:...  gmaps_v2   \n177   https://www.google.com/maps/place/?q=place_id:...  gmaps_v2   \n260   https://www.google.com/maps/place/?q=place_id:...  gmaps_v2   \n432   https://www.google.com/maps/place/?q=place_id:...  gmaps_v2   \n899   https://www.google.com/maps/place/?q=place_id:...  gmaps_v2   \n1030  https://www.google.com/maps/place/?q=place_id:...  gmaps_v2   \n1237  https://www.google.com/maps/place/?q=place_id:...  gmaps_v2   \n1325  https://www.google.com/maps/place/?q=place_id:...  gmaps_v2   \n1331  https://www.google.com/maps/place/?q=place_id:...  gmaps_v2   \n1743  https://www.google.com/maps/place/?q=place_id:...  gmaps_v2   \n1767  https://www.google.com/maps/place/?q=place_id:...  gmaps_v2   \n1832  https://www.google.com/maps/place/?q=place_id:...  gmaps_v2   \n1918  https://www.google.com/maps/place/?q=place_id:...  gmaps_v2   \n2197  https://www.google.com/maps/place/?q=place_id:...  gmaps_v2   \n2717  https://www.google.com/maps/place/?q=place_id:...  gmaps_v2   \n3728  https://www.google.com/maps/place/?q=place_id:...  gmaps_v2   \n3819  https://www.google.com/maps/place/?q=place_id:...  gmaps_v2   \n4308  https://www.google.com/maps/place/?q=place_id:...  gmaps_v2   \n4450  https://www.google.com/maps/place/?q=place_id:...  gmaps_v2   \n4765  https://www.google.com/maps/place/?q=place_id:...  gmaps_v2   \n4838  https://www.google.com/maps/place/?q=place_id:...  gmaps_v2   \n5171  https://www.google.com/maps/place/?q=place_id:...  gmaps_v2   \n5386  https://www.google.com/maps/place/?q=place_id:...  gmaps_v2   \n5649  https://www.google.com/maps/place/?q=place_id:...  gmaps_v2   \n6388  https://www.google.com/maps/place/?q=place_id:...  gmaps_v2   \n6449  https://www.google.com/maps/place/?q=place_id:...  gmaps_v2   \n6640  https://www.google.com/maps/place/?q=place_id:...  gmaps_v2   \n6774  https://www.google.com/maps/place/?q=place_id:...  gmaps_v2   \n6829  https://www.google.com/maps/place/?q=place_id:...  gmaps_v2   \n7206  https://www.google.com/maps/place/?q=place_id:...  gmaps_v2   \n7337  https://www.google.com/maps/place/?q=place_id:...  gmaps_v2   \n7369  https://www.google.com/maps/place/?q=place_id:...  gmaps_v2   \n\n            category top_category            type  created_at  \\\n33             salon      service             N_A  1699615207   \n149            salon      service             N_A  1699615207   \n175   clothing_store       retail             N_A  1687847039   \n177   clothing_store       retail             N_A  1695212099   \n260         cosmetic       retail             N_A  1687847039   \n432            salon      service             N_A  1699615207   \n899            salon      service             N_A  1699615207   \n1030  clothing_store       retail             N_A  1695212099   \n1237  clothing_store       retail             N_A  1687847039   \n1325  clothing_store       retail             N_A  1695212099   \n1331  clothing_store       retail             N_A  1687847039   \n1743           salon      service             N_A  1699615207   \n1767  clothing_store       retail             N_A  1687847039   \n1832           salon      service             N_A  1699615207   \n1918        cosmetic       retail  beauty_product  1699615207   \n2197  clothing_store       retail             N_A  1687847039   \n2717        cosmetic       retail  beauty_product  1695212099   \n3728  clothing_store       retail             N_A  1687847039   \n3819        cosmetic       retail  beauty_product  1687847039   \n4308        cosmetic       retail  beauty_product  1687847039   \n4450  clothing_store       retail             N_A  1687847039   \n4765  clothing_store       retail             N_A  1687847039   \n4838  clothing_store       retail             N_A  1687847039   \n5171  clothing_store       retail             N_A  1687847039   \n5386  clothing_store       retail             N_A  1695212099   \n5649  clothing_store       retail             N_A  1687847039   \n6388        cosmetic       retail  beauty_product  1699615207   \n6449  clothing_store       retail             N_A  1687847039   \n6640  clothing_store       retail             N_A  1687847039   \n6774           salon      service             N_A  1699615207   \n6829           salon      service             N_A  1699615207   \n7206        cosmetic       retail  beauty_product  1687847039   \n7337  clothing_store       retail             N_A  1687847039   \n7369           salon      service             N_A  1699615207   \n\n           competitor_type  \n33       anchor_competitor  \n149      anchor_competitor  \n175     primary_competitor  \n177      anchor_competitor  \n260   secondary_competitor  \n432   secondary_competitor  \n899   secondary_competitor  \n1030     anchor_competitor  \n1237     anchor_competitor  \n1325     anchor_competitor  \n1331    primary_competitor  \n1743     anchor_competitor  \n1767     anchor_competitor  \n1832     anchor_competitor  \n1918  secondary_competitor  \n2197    primary_competitor  \n2717  secondary_competitor  \n3728     anchor_competitor  \n3819  secondary_competitor  \n4308  secondary_competitor  \n4450    primary_competitor  \n4765    primary_competitor  \n4838     anchor_competitor  \n5171    primary_competitor  \n5386     anchor_competitor  \n5649    primary_competitor  \n6388  secondary_competitor  \n6449    primary_competitor  \n6640    primary_competitor  \n6774  secondary_competitor  \n6829     anchor_competitor  \n7206  secondary_competitor  \n7337    primary_competitor  \n7369     anchor_competitor  ",
      "text/html": "<div>\n<style scoped>\n    .dataframe tbody tr th:only-of-type {\n        vertical-align: middle;\n    }\n\n    .dataframe tbody tr th {\n        vertical-align: top;\n    }\n\n    .dataframe thead th {\n        text-align: right;\n    }\n</style>\n<table border=\"1\" class=\"dataframe\">\n  <thead>\n    <tr style=\"text-align: right;\">\n      <th></th>\n      <th>id</th>\n      <th>name</th>\n      <th>lat</th>\n      <th>lng</th>\n      <th>cid</th>\n      <th>brand_id</th>\n      <th>brand_name</th>\n      <th>number_of_votes</th>\n      <th>rating</th>\n      <th>place_url</th>\n      <th>source</th>\n      <th>category</th>\n      <th>top_category</th>\n      <th>type</th>\n      <th>created_at</th>\n      <th>competitor_type</th>\n    </tr>\n  </thead>\n  <tbody>\n    <tr>\n      <th>33</th>\n      <td>ChIJjUSe76YXrjsRlxcXfVzhzGk</td>\n      <td>Nailashes Indiranagar</td>\n      <td>12.970464</td>\n      <td>77.643417</td>\n      <td>0x3bae17a6ef9e448d:0x69cce15c7d171797</td>\n      <td>nailashes</td>\n      <td>Nailashes</td>\n      <td>126</td>\n      <td>4.8</td>\n      <td>https://www.google.com/maps/place/?q=place_id:...</td>\n      <td>gmaps_v2</td>\n      <td>salon</td>\n      <td>service</td>\n      <td>N_A</td>\n      <td>1699615207</td>\n      <td>anchor_competitor</td>\n    </tr>\n    <tr>\n      <th>149</th>\n      <td>ChIJEUrGz6kWrjsRDK-d0hNuV-I</td>\n      <td>BBLUNT Salon - Indiranagar, Bangalore</td>\n      <td>12.970244</td>\n      <td>77.638924</td>\n      <td>0x3bae16a9cfc64a11:0xe2576e13d29daf0c</td>\n      <td>bblunt</td>\n      <td>BBlunt</td>\n      <td>1193</td>\n      <td>4.6</td>\n      <td>https://www.google.com/maps/place/?q=place_id:...</td>\n      <td>gmaps_v2</td>\n      <td>salon</td>\n      <td>service</td>\n      <td>N_A</td>\n      <td>1699615207</td>\n      <td>anchor_competitor</td>\n    </tr>\n    <tr>\n      <th>175</th>\n      <td>ChIJAXEwvk8XrjsRBSLNe4xcIOE</td>\n      <td>Jockey Exclusive Store</td>\n      <td>12.978196</td>\n      <td>77.637688</td>\n      <td>0x3bae174fbe307101:0xe1205c8c7bcd2205</td>\n      <td>jockey</td>\n      <td>Jockey</td>\n      <td>190</td>\n      <td>4.8</td>\n      <td>https://www.google.com/maps/place/?q=place_id:...</td>\n      <td>gmaps_v2</td>\n      <td>clothing_store</td>\n      <td>retail</td>\n      <td>N_A</td>\n      <td>1687847039</td>\n      <td>primary_competitor</td>\n    </tr>\n    <tr>\n      <th>177</th>\n      <td>ChIJHRA8W0AXrjsRSD2KU7VgJEE</td>\n      <td>Fabindia Store (Indiranagar, Bangalore)</td>\n      <td>12.969950</td>\n      <td>77.639053</td>\n      <td>0x3bae17405b3c101d:0x412460b5538a3d48</td>\n      <td>fabindia</td>\n      <td>Fabindia</td>\n      <td>277</td>\n      <td>4.3</td>\n      <td>https://www.google.com/maps/place/?q=place_id:...</td>\n      <td>gmaps_v2</td>\n      <td>clothing_store</td>\n      <td>retail</td>\n      <td>N_A</td>\n      <td>1695212099</td>\n      <td>anchor_competitor</td>\n    </tr>\n    <tr>\n      <th>260</th>\n      <td>ChIJG5KZppwWrjsRHV4uw1LKHNk</td>\n      <td>Clinique</td>\n      <td>12.973547</td>\n      <td>77.620438</td>\n      <td>0x3bae169ca699921b:0xd91cca52c32e5e1d</td>\n      <td>clinique</td>\n      <td>Clinique</td>\n      <td>5</td>\n      <td>3.6</td>\n      <td>https://www.google.com/maps/place/?q=place_id:...</td>\n      <td>gmaps_v2</td>\n      <td>cosmetic</td>\n      <td>retail</td>\n      <td>N_A</td>\n      <td>1687847039</td>\n      <td>secondary_competitor</td>\n    </tr>\n    <tr>\n      <th>432</th>\n      <td>ChIJBU-fnRwUrjsRpLXLQIWSRec</td>\n      <td>lakme salon</td>\n      <td>12.963832</td>\n      <td>77.640205</td>\n      <td>0x3bae141c9d9f4f05:0xe745928540cbb5a4</td>\n      <td>lakmeindia</td>\n      <td>Lakme</td>\n      <td>1437</td>\n      <td>4.6</td>\n      <td>https://www.google.com/maps/place/?q=place_id:...</td>\n      <td>gmaps_v2</td>\n      <td>salon</td>\n      <td>service</td>\n      <td>N_A</td>\n      <td>1699615207</td>\n      <td>secondary_competitor</td>\n    </tr>\n    <tr>\n      <th>899</th>\n      <td>ChIJm6AoPagWrjsRwZvz-tNPvQk</td>\n      <td>Lakme</td>\n      <td>12.970327</td>\n      <td>77.639702</td>\n      <td>0x3bae16a83d28a09b:0x9bd4fd3faf39bc1</td>\n      <td>lakmeindia</td>\n      <td>Lakme</td>\n      <td>1714</td>\n      <td>4.7</td>\n      <td>https://www.google.com/maps/place/?q=place_id:...</td>\n      <td>gmaps_v2</td>\n      <td>salon</td>\n      <td>service</td>\n      <td>N_A</td>\n      <td>1699615207</td>\n      <td>secondary_competitor</td>\n    </tr>\n    <tr>\n      <th>1030</th>\n      <td>ChIJr86vo5wWrjsR0NPjtfjBHtU</td>\n      <td>Fabindia</td>\n      <td>12.973771</td>\n      <td>77.623001</td>\n      <td>0x3bae169ca3afceaf:0xd51ec1f8b5e3d3d0</td>\n      <td>fabindia</td>\n      <td>Fabindia</td>\n      <td>96</td>\n      <td>4.3</td>\n      <td>https://www.google.com/maps/place/?q=place_id:...</td>\n      <td>gmaps_v2</td>\n      <td>clothing_store</td>\n      <td>retail</td>\n      <td>N_A</td>\n      <td>1695212099</td>\n      <td>anchor_competitor</td>\n    </tr>\n    <tr>\n      <th>1237</th>\n      <td>ChIJG6Xc-acWrjsR1-Tq2jF0Zjw</td>\n      <td>Aurelia</td>\n      <td>12.969621</td>\n      <td>77.641487</td>\n      <td>0x3bae16a7f9dca51b:0x3c667431daeae4d7</td>\n      <td>shopforaurelia</td>\n      <td>Aurelia</td>\n      <td>48</td>\n      <td>3.6</td>\n      <td>https://www.google.com/maps/place/?q=place_id:...</td>\n      <td>gmaps_v2</td>\n      <td>clothing_store</td>\n      <td>retail</td>\n      <td>N_A</td>\n      <td>1687847039</td>\n      <td>anchor_competitor</td>\n    </tr>\n    <tr>\n      <th>1325</th>\n      <td>ChIJXfklb34XrjsRfdaa2Zhp5Dk</td>\n      <td>Fabindia</td>\n      <td>12.972281</td>\n      <td>77.618675</td>\n      <td>0x3bae177e6f25f95d:0x39e46998d99ad67d</td>\n      <td>fabindia</td>\n      <td>Fabindia</td>\n      <td>206</td>\n      <td>4.3</td>\n      <td>https://www.google.com/maps/place/?q=place_id:...</td>\n      <td>gmaps_v2</td>\n      <td>clothing_store</td>\n      <td>retail</td>\n      <td>N_A</td>\n      <td>1695212099</td>\n      <td>anchor_competitor</td>\n    </tr>\n    <tr>\n      <th>1331</th>\n      <td>ChIJkyXAPNAXrjsR6cCVPbzGGl4</td>\n      <td>Jockey</td>\n      <td>12.972626</td>\n      <td>77.648834</td>\n      <td>0x3bae17d03cc02593:0x5e1ac6bc3d95c0e9</td>\n      <td>jockey</td>\n      <td>Jockey</td>\n      <td>25</td>\n      <td>4.4</td>\n      <td>https://www.google.com/maps/place/?q=place_id:...</td>\n      <td>gmaps_v2</td>\n      <td>clothing_store</td>\n      <td>retail</td>\n      <td>N_A</td>\n      <td>1687847039</td>\n      <td>primary_competitor</td>\n    </tr>\n    <tr>\n      <th>1743</th>\n      <td>ChIJG7qNshgXrjsRjzGZgKqr3YA</td>\n      <td>Yes Madam - Salon at Home, Beauty Parlour, Bea...</td>\n      <td>12.977210</td>\n      <td>77.640404</td>\n      <td>0x3bae1718b28dba1b:0x80ddabaa8099318f</td>\n      <td>yesmadam</td>\n      <td>Yes Madam</td>\n      <td>2</td>\n      <td>5.0</td>\n      <td>https://www.google.com/maps/place/?q=place_id:...</td>\n      <td>gmaps_v2</td>\n      <td>salon</td>\n      <td>service</td>\n      <td>N_A</td>\n      <td>1699615207</td>\n      <td>anchor_competitor</td>\n    </tr>\n    <tr>\n      <th>1767</th>\n      <td>ChIJMWFRU74WrjsRVg0QF_yA-c0</td>\n      <td>Global Desi</td>\n      <td>12.973331</td>\n      <td>77.620453</td>\n      <td>0x3bae16be53516131:0xcdf980fc17100d56</td>\n      <td>globaldesi</td>\n      <td>Global Desi</td>\n      <td>19</td>\n      <td>4.3</td>\n      <td>https://www.google.com/maps/place/?q=place_id:...</td>\n      <td>gmaps_v2</td>\n      <td>clothing_store</td>\n      <td>retail</td>\n      <td>N_A</td>\n      <td>1687847039</td>\n      <td>anchor_competitor</td>\n    </tr>\n    <tr>\n      <th>1832</th>\n      <td>ChIJh03PdE0VrjsROV9wLyZHbuU</td>\n      <td>Yes Madam</td>\n      <td>12.981133</td>\n      <td>77.634026</td>\n      <td>0x3bae154d74cf4d87:0xe56e47262f705f39</td>\n      <td>yesmadam</td>\n      <td>Yes Madam</td>\n      <td>280</td>\n      <td>4.1</td>\n      <td>https://www.google.com/maps/place/?q=place_id:...</td>\n      <td>gmaps_v2</td>\n      <td>salon</td>\n      <td>service</td>\n      <td>N_A</td>\n      <td>1699615207</td>\n      <td>anchor_competitor</td>\n    </tr>\n    <tr>\n      <th>1918</th>\n      <td>ChIJwffmz3sVrjsRLMN2Xd9tdpo</td>\n      <td>Health &amp; Glow Indiranagar 80feet Road</td>\n      <td>12.971156</td>\n      <td>77.647156</td>\n      <td>0x3bae157bcfe6f7c1:0x9a766ddf5d76c32c</td>\n      <td>healthandglow</td>\n      <td>Health &amp; Glow</td>\n      <td>160</td>\n      <td>4.2</td>\n      <td>https://www.google.com/maps/place/?q=place_id:...</td>\n      <td>gmaps_v2</td>\n      <td>cosmetic</td>\n      <td>retail</td>\n      <td>beauty_product</td>\n      <td>1699615207</td>\n      <td>secondary_competitor</td>\n    </tr>\n    <tr>\n      <th>2197</th>\n      <td>ChIJ1dDNM-MXrjsRUEy0IErGw3w</td>\n      <td>Milastar Retail Private Limited</td>\n      <td>12.979134</td>\n      <td>77.646873</td>\n      <td>0x3bae17e333cdd0d5:0x7cc3c64a20b44c50</td>\n      <td>zivame</td>\n      <td>Zivame</td>\n      <td>2</td>\n      <td>3.0</td>\n      <td>https://www.google.com/maps/place/?q=place_id:...</td>\n      <td>gmaps_v2</td>\n      <td>clothing_store</td>\n      <td>retail</td>\n      <td>N_A</td>\n      <td>1687847039</td>\n      <td>primary_competitor</td>\n    </tr>\n    <tr>\n      <th>2717</th>\n      <td>ChIJo1iL8acWrjsRFKZY7uO-bU8</td>\n      <td>The Body Shop</td>\n      <td>12.970283</td>\n      <td>77.641350</td>\n      <td>0x3bae16a7f18b58a3:0x4f6dbee3ee58a614</td>\n      <td>thebodyshop</td>\n      <td>The Body Shop</td>\n      <td>517</td>\n      <td>4.3</td>\n      <td>https://www.google.com/maps/place/?q=place_id:...</td>\n      <td>gmaps_v2</td>\n      <td>cosmetic</td>\n      <td>retail</td>\n      <td>beauty_product</td>\n      <td>1695212099</td>\n      <td>secondary_competitor</td>\n    </tr>\n    <tr>\n      <th>3728</th>\n      <td>ChIJv2WdmKUWrjsR3wOt2TKjdLc</td>\n      <td>Biba</td>\n      <td>12.977365</td>\n      <td>77.640671</td>\n      <td>0x3bae16a5989d65bf:0xb774a332d9ad03df</td>\n      <td>biba</td>\n      <td>Biba</td>\n      <td>301</td>\n      <td>3.8</td>\n      <td>https://www.google.com/maps/place/?q=place_id:...</td>\n      <td>gmaps_v2</td>\n      <td>clothing_store</td>\n      <td>retail</td>\n      <td>N_A</td>\n      <td>1687847039</td>\n      <td>anchor_competitor</td>\n    </tr>\n    <tr>\n      <th>3819</th>\n      <td>ChIJvdLYm_A-rjsRmd_pSKurAYQ</td>\n      <td>M.A.C Stores 1MG-Lido Mall</td>\n      <td>12.973511</td>\n      <td>77.620422</td>\n      <td>0x3bae3ef09bd8d2bd:0x8401abab48e9df99</td>\n      <td>maccosmetics</td>\n      <td>MAC Cosmetics</td>\n      <td>98</td>\n      <td>4.0</td>\n      <td>https://www.google.com/maps/place/?q=place_id:...</td>\n      <td>gmaps_v2</td>\n      <td>cosmetic</td>\n      <td>retail</td>\n      <td>beauty_product</td>\n      <td>1687847039</td>\n      <td>secondary_competitor</td>\n    </tr>\n    <tr>\n      <th>4308</th>\n      <td>ChIJU3TYKhEXrjsR7BIej_7Y2yU</td>\n      <td>The Body Shop</td>\n      <td>12.970910</td>\n      <td>77.632561</td>\n      <td>0x3bae17112ad87453:0x25dbd8fe8f1e12ec</td>\n      <td>thebodyshop</td>\n      <td>The Body Shop</td>\n      <td>4</td>\n      <td>3.5</td>\n      <td>https://www.google.com/maps/place/?q=place_id:...</td>\n      <td>gmaps_v2</td>\n      <td>cosmetic</td>\n      <td>retail</td>\n      <td>beauty_product</td>\n      <td>1687847039</td>\n      <td>secondary_competitor</td>\n    </tr>\n    <tr>\n      <th>4450</th>\n      <td>ChIJySRT1_AVrjsRKOTQv7lvgUg</td>\n      <td>Jockey store</td>\n      <td>12.962652</td>\n      <td>77.642418</td>\n      <td>0x3bae15f0d75324c9:0x48816fb9bfd0e428</td>\n      <td>jockey</td>\n      <td>Jockey</td>\n      <td>4</td>\n      <td>3.3</td>\n      <td>https://www.google.com/maps/place/?q=place_id:...</td>\n      <td>gmaps_v2</td>\n      <td>clothing_store</td>\n      <td>retail</td>\n      <td>N_A</td>\n      <td>1687847039</td>\n      <td>primary_competitor</td>\n    </tr>\n    <tr>\n      <th>4765</th>\n      <td>ChIJzxp1VTIXrjsRf5C9C15Gr0w</td>\n      <td>Jockey Exclusive Store</td>\n      <td>12.972400</td>\n      <td>77.650299</td>\n      <td>0x3bae173255751acf:0x4caf465e0bbd907f</td>\n      <td>jockey</td>\n      <td>Jockey</td>\n      <td>254</td>\n      <td>4.9</td>\n      <td>https://www.google.com/maps/place/?q=place_id:...</td>\n      <td>gmaps_v2</td>\n      <td>clothing_store</td>\n      <td>retail</td>\n      <td>N_A</td>\n      <td>1687847039</td>\n      <td>primary_competitor</td>\n    </tr>\n    <tr>\n      <th>4838</th>\n      <td>ChIJIQshFaYWrjsRDbGeHPlkoRI</td>\n      <td>Global Desi</td>\n      <td>12.968115</td>\n      <td>77.641121</td>\n      <td>0x3bae16a615210b21:0x12a164f91c9eb10d</td>\n      <td>globaldesi</td>\n      <td>Global Desi</td>\n      <td>286</td>\n      <td>4.1</td>\n      <td>https://www.google.com/maps/place/?q=place_id:...</td>\n      <td>gmaps_v2</td>\n      <td>clothing_store</td>\n      <td>retail</td>\n      <td>N_A</td>\n      <td>1687847039</td>\n      <td>anchor_competitor</td>\n    </tr>\n    <tr>\n      <th>5171</th>\n      <td>ChIJg34L9qcWrjsRhALf1ozkQQQ</td>\n      <td>Jockey Exclusive Store</td>\n      <td>12.969517</td>\n      <td>77.641083</td>\n      <td>0x3bae16a7f60b7e83:0x441e48cd6df0284</td>\n      <td>jockey</td>\n      <td>Jockey</td>\n      <td>313</td>\n      <td>4.6</td>\n      <td>https://www.google.com/maps/place/?q=place_id:...</td>\n      <td>gmaps_v2</td>\n      <td>clothing_store</td>\n      <td>retail</td>\n      <td>N_A</td>\n      <td>1687847039</td>\n      <td>primary_competitor</td>\n    </tr>\n    <tr>\n      <th>5386</th>\n      <td>ChIJRajn0kUXrjsRBpT5WjY8Mv0</td>\n      <td>Fab Home</td>\n      <td>12.970274</td>\n      <td>77.639763</td>\n      <td>0x3bae1745d2e7a845:0xfd323c365af99406</td>\n      <td>fabindia</td>\n      <td>Fabindia</td>\n      <td>5</td>\n      <td>4.8</td>\n      <td>https://www.google.com/maps/place/?q=place_id:...</td>\n      <td>gmaps_v2</td>\n      <td>clothing_store</td>\n      <td>retail</td>\n      <td>N_A</td>\n      <td>1695212099</td>\n      <td>anchor_competitor</td>\n    </tr>\n    <tr>\n      <th>5649</th>\n      <td>ChIJW8GJLx4XrjsRY_SZGRh_lfA</td>\n      <td>Enamor - Exclusive Brand Store - Women's Linge...</td>\n      <td>12.969677</td>\n      <td>77.641479</td>\n      <td>0x3bae171e2f89c15b:0xf0957f181999f463</td>\n      <td>enamor</td>\n      <td>Enamor</td>\n      <td>33</td>\n      <td>3.6</td>\n      <td>https://www.google.com/maps/place/?q=place_id:...</td>\n      <td>gmaps_v2</td>\n      <td>clothing_store</td>\n      <td>retail</td>\n      <td>N_A</td>\n      <td>1687847039</td>\n      <td>primary_competitor</td>\n    </tr>\n    <tr>\n      <th>6388</th>\n      <td>ChIJ56DLZKMWrjsRMVohmXlKk64</td>\n      <td>The Body Shop</td>\n      <td>12.978375</td>\n      <td>77.635963</td>\n      <td>0x3bae16a364cba0e7:0xae934a7999215a31</td>\n      <td>thebodyshop</td>\n      <td>The Body Shop</td>\n      <td>1</td>\n      <td>5.0</td>\n      <td>https://www.google.com/maps/place/?q=place_id:...</td>\n      <td>gmaps_v2</td>\n      <td>cosmetic</td>\n      <td>retail</td>\n      <td>beauty_product</td>\n      <td>1699615207</td>\n      <td>secondary_competitor</td>\n    </tr>\n    <tr>\n      <th>6449</th>\n      <td>ChIJuR0foApZrjsR27ItMZlf3m4</td>\n      <td>Van Heusen - 100ft Road - Indiranagar</td>\n      <td>12.971676</td>\n      <td>77.640999</td>\n      <td>0x3bae590aa01f1db9:0x6ede5f99312db2db</td>\n      <td>vanheusenindia</td>\n      <td>Van Heusen</td>\n      <td>1308</td>\n      <td>4.3</td>\n      <td>https://www.google.com/maps/place/?q=place_id:...</td>\n      <td>gmaps_v2</td>\n      <td>clothing_store</td>\n      <td>retail</td>\n      <td>N_A</td>\n      <td>1687847039</td>\n      <td>primary_competitor</td>\n    </tr>\n    <tr>\n      <th>6640</th>\n      <td>ChIJgSEkJh0UrjsRo32uUPJTkXY</td>\n      <td>Zivame</td>\n      <td>12.966851</td>\n      <td>77.641418</td>\n      <td>0x3bae141d26242181:0x769153f250ae7da3</td>\n      <td>zivame</td>\n      <td>Zivame</td>\n      <td>0</td>\n      <td>0.0</td>\n      <td>https://www.google.com/maps/place/?q=place_id:...</td>\n      <td>gmaps_v2</td>\n      <td>clothing_store</td>\n      <td>retail</td>\n      <td>N_A</td>\n      <td>1687847039</td>\n      <td>primary_competitor</td>\n    </tr>\n    <tr>\n      <th>6774</th>\n      <td>ChIJvz6mfaUWrjsRWCKd_sYosrc</td>\n      <td>Lakme Salon</td>\n      <td>12.978540</td>\n      <td>77.641220</td>\n      <td>0x3bae16a57da63ebf:0xb7b228c6fe9d2258</td>\n      <td>lakmeindia</td>\n      <td>Lakme</td>\n      <td>414</td>\n      <td>4.3</td>\n      <td>https://www.google.com/maps/place/?q=place_id:...</td>\n      <td>gmaps_v2</td>\n      <td>salon</td>\n      <td>service</td>\n      <td>N_A</td>\n      <td>1699615207</td>\n      <td>secondary_competitor</td>\n    </tr>\n    <tr>\n      <th>6829</th>\n      <td>ChIJc-RWrj4XrjsR4zwROFR_wpw</td>\n      <td>Blown</td>\n      <td>12.969998</td>\n      <td>77.639374</td>\n      <td>0x3bae173eae56e473:0x9cc27f5438113ce3</td>\n      <td>blown</td>\n      <td>blown</td>\n      <td>209</td>\n      <td>4.5</td>\n      <td>https://www.google.com/maps/place/?q=place_id:...</td>\n      <td>gmaps_v2</td>\n      <td>salon</td>\n      <td>service</td>\n      <td>N_A</td>\n      <td>1699615207</td>\n      <td>anchor_competitor</td>\n    </tr>\n    <tr>\n      <th>7206</th>\n      <td>ChIJQXxpMJcWrjsR-WzbAJrT22c</td>\n      <td>The Body Shop</td>\n      <td>12.973465</td>\n      <td>77.620422</td>\n      <td>0x3bae169730697c41:0x67dbd39a00db6cf9</td>\n      <td>thebodyshop</td>\n      <td>The Body Shop</td>\n      <td>70</td>\n      <td>4.1</td>\n      <td>https://www.google.com/maps/place/?q=place_id:...</td>\n      <td>gmaps_v2</td>\n      <td>cosmetic</td>\n      <td>retail</td>\n      <td>beauty_product</td>\n      <td>1687847039</td>\n      <td>secondary_competitor</td>\n    </tr>\n    <tr>\n      <th>7337</th>\n      <td>ChIJsR0mrBwUrjsRBCMRkNNTjKg</td>\n      <td>Zivame (Indira Nagar, Bengaluru)</td>\n      <td>12.969626</td>\n      <td>77.641586</td>\n      <td>0x3bae141cac261db1:0xa88c53d390112304</td>\n      <td>zivame</td>\n      <td>Zivame</td>\n      <td>421</td>\n      <td>3.9</td>\n      <td>https://www.google.com/maps/place/?q=place_id:...</td>\n      <td>gmaps_v2</td>\n      <td>clothing_store</td>\n      <td>retail</td>\n      <td>N_A</td>\n      <td>1687847039</td>\n      <td>primary_competitor</td>\n    </tr>\n    <tr>\n      <th>7369</th>\n      <td>ChIJC9_WzakWrjsRWniI9DoGfjk</td>\n      <td>Bounce</td>\n      <td>12.970512</td>\n      <td>77.645287</td>\n      <td>0x3bae16a9cdd6df0b:0x397e063af488785a</td>\n      <td>bouncehere</td>\n      <td>Bounce</td>\n      <td>2324</td>\n      <td>4.5</td>\n      <td>https://www.google.com/maps/place/?q=place_id:...</td>\n      <td>gmaps_v2</td>\n      <td>salon</td>\n      <td>service</td>\n      <td>N_A</td>\n      <td>1699615207</td>\n      <td>anchor_competitor</td>\n    </tr>\n  </tbody>\n</table>\n</div>"
     },
     "execution_count": 5,
     "metadata": {},
     "output_type": "execute_result"
    }
   ],
   "source": [
    "get_competitors(sids[0])"
   ],
   "metadata": {
    "collapsed": false,
    "ExecuteTime": {
     "end_time": "2024-02-06T06:14:06.426763876Z",
     "start_time": "2024-02-06T06:14:04.122706196Z"
    }
   },
   "id": "a7598118fe615947",
   "execution_count": 5
  },
  {
   "cell_type": "code",
   "outputs": [],
   "source": [
    "df.to_csv(f\"/home/jyotiraditya/PycharmProjects/SiteReports/data/projects_data/{sid}/competitors.csv\")"
   ],
   "metadata": {
    "collapsed": false,
    "ExecuteTime": {
     "end_time": "2024-02-01T10:26:19.473250571Z",
     "start_time": "2024-02-01T10:26:19.449802987Z"
    }
   },
   "id": "833a330b07cb3df2",
   "execution_count": 69
  },
  {
   "cell_type": "code",
   "outputs": [],
   "source": [
    "bng_data = pd.read_csv(\n",
    "    '/home/jyotiraditya/PycharmProjects/SiteReports/data/common_data/bangalore/raw/location_poi_data.csv')"
   ],
   "metadata": {
    "collapsed": false,
    "ExecuteTime": {
     "end_time": "2024-02-01T08:36:41.894281409Z",
     "start_time": "2024-02-01T08:36:40.484176079Z"
    }
   },
   "id": "734d6b41f1527438",
   "execution_count": 13
  },
  {
   "cell_type": "code",
   "outputs": [],
   "source": [
    "primary = bng_data.query(\"brand_id!='N_A' and category=='gym_fitness'\")\n",
    "primary_brands = primary.groupby('brand_id').agg(count=(\"id\", np.count_nonzero)).reset_index().query(\n",
    "    \"count>5\").sort_values(by='count', ascending=False)\n"
   ],
   "metadata": {
    "collapsed": false,
    "ExecuteTime": {
     "end_time": "2024-02-01T08:36:59.109370190Z",
     "start_time": "2024-02-01T08:36:59.046485331Z"
    }
   },
   "id": "f5287bc341b550cd",
   "execution_count": 14
  },
  {
   "cell_type": "code",
   "outputs": [
    {
     "data": {
      "text/plain": "                                 id  \\\n6       ChIJawgheE0TrjsRjbLaEk_6Euo   \n231     ChIJkdKgmYA9rjsRY-ml6pDMNAI   \n344     ChIJubahgNoXrjsRT5pniThZZjA   \n485     ChIJlbPzOWkRrjsRCol-7vLx-wI   \n593     ChIJs4uw8y0TrjsRlEGp806yPz0   \n...                             ...   \n362156  ChIJDZQzV50VrjsRfh_J06vTLLk   \n362165  ChIJL2Sp-TAVrjsRMl4htzgNf8M   \n362306  ChIJ965kur8NrjsRDfcAzoSTxxY   \n362323  ChIJn5eOvwoXrjsR7U0C4mhV0Kg   \n362495  ChIJYUUWp8g_rjsRhcKluwvgR58   \n\n                                                     name        lat  \\\n6                                      Barbell Cartel Gym  12.957161   \n231                 FEMININE WOMEN'S ONLY GYM Nagarabhavi  12.960160   \n344                              SUPRAD Badminton Academy  13.050083   \n485                          DRDO Phase II Sports Complex  12.986635   \n593     The Professional Fitness Center (Team:TPF) ದಿ ...  12.904058   \n...                                                   ...        ...   \n362156                                      LL PG for MEN  12.953691   \n362165                                  GOLDEN FIZZIK GYM  12.928550   \n362306              GET FIT WITH SHEHI (Personal Trainer)  12.989023   \n362323                              Refuel fitness studio  13.014141   \n362495                                        Power House  12.915695   \n\n              lng                                    cid brand_id brand_name  \\\n6       77.736313  0x3bae134d7821086b:0xea12fa4f12dab28d      N_A        N_A   \n231     77.506882   0x3bae3d8099a0d291:0x234cc90eaa5e963      N_A        N_A   \n344     77.607834  0x3bae17da80a1b6b9:0x3066593889679a4f      N_A        N_A   \n485     77.681442   0x3bae116939f3b395:0x2fbf1f2ee7e890a      N_A        N_A   \n593     77.676003  0x3bae132df3b08bb3:0x3d3fb24ef3a94194      N_A        N_A   \n...           ...                                    ...      ...        ...   \n362156  77.578125  0x3bae159d5733940d:0xb92cd3abd3c91f7e      N_A        N_A   \n362165  77.596794  0x3bae1530f9a9642f:0xc37f0d38b7215e32      N_A        N_A   \n362306  77.754524  0x3bae0dbfba64aef7:0x16c79384ce00f70d      N_A        N_A   \n362323  77.639542  0x3bae170abf8e979f:0xa8d05568e2024ded      N_A        N_A   \n362495  77.500229  0x3bae3fc8a7164561:0x9f47e00bbba5c285      N_A        N_A   \n\n        number_of_votes                                          place_url  \\\n6                   167  https://www.google.com/maps/place/?q=place_id:...   \n231                  62  https://www.google.com/maps/place/?q=place_id:...   \n344                 192  https://www.google.com/maps/place/?q=place_id:...   \n485                 391  https://www.google.com/maps/place/?q=place_id:...   \n593                 264  https://www.google.com/maps/place/?q=place_id:...   \n...                 ...                                                ...   \n362156               53  https://www.google.com/maps/place/?q=place_id:...   \n362165              209  https://www.google.com/maps/place/?q=place_id:...   \n362306              118  https://www.google.com/maps/place/?q=place_id:...   \n362323               63  https://www.google.com/maps/place/?q=place_id:...   \n362495              128  https://www.google.com/maps/place/?q=place_id:...   \n\n          source     category top_category type  created_at  \n6       gmaps_v2  gym_fitness      leisure  N_A  1687847039  \n231     gmaps_v2  gym_fitness      leisure  N_A  1687847039  \n344     gmaps_v2  gym_fitness      leisure  N_A  1687847039  \n485     gmaps_v2  gym_fitness      leisure  N_A  1687847039  \n593     gmaps_v2  gym_fitness      leisure  N_A  1687847039  \n...          ...          ...          ...  ...         ...  \n362156  gmaps_v2  gym_fitness      leisure  N_A  1687847039  \n362165  gmaps_v2  gym_fitness      leisure  N_A  1687847039  \n362306  gmaps_v2  gym_fitness      leisure  N_A  1687847039  \n362323  gmaps_v2  gym_fitness      leisure  N_A  1687847039  \n362495  gmaps_v2  gym_fitness      leisure  N_A  1687847039  \n\n[1858 rows x 14 columns]",
      "text/html": "<div>\n<style scoped>\n    .dataframe tbody tr th:only-of-type {\n        vertical-align: middle;\n    }\n\n    .dataframe tbody tr th {\n        vertical-align: top;\n    }\n\n    .dataframe thead th {\n        text-align: right;\n    }\n</style>\n<table border=\"1\" class=\"dataframe\">\n  <thead>\n    <tr style=\"text-align: right;\">\n      <th></th>\n      <th>id</th>\n      <th>name</th>\n      <th>lat</th>\n      <th>lng</th>\n      <th>cid</th>\n      <th>brand_id</th>\n      <th>brand_name</th>\n      <th>number_of_votes</th>\n      <th>place_url</th>\n      <th>source</th>\n      <th>category</th>\n      <th>top_category</th>\n      <th>type</th>\n      <th>created_at</th>\n    </tr>\n  </thead>\n  <tbody>\n    <tr>\n      <th>6</th>\n      <td>ChIJawgheE0TrjsRjbLaEk_6Euo</td>\n      <td>Barbell Cartel Gym</td>\n      <td>12.957161</td>\n      <td>77.736313</td>\n      <td>0x3bae134d7821086b:0xea12fa4f12dab28d</td>\n      <td>N_A</td>\n      <td>N_A</td>\n      <td>167</td>\n      <td>https://www.google.com/maps/place/?q=place_id:...</td>\n      <td>gmaps_v2</td>\n      <td>gym_fitness</td>\n      <td>leisure</td>\n      <td>N_A</td>\n      <td>1687847039</td>\n    </tr>\n    <tr>\n      <th>231</th>\n      <td>ChIJkdKgmYA9rjsRY-ml6pDMNAI</td>\n      <td>FEMININE WOMEN'S ONLY GYM Nagarabhavi</td>\n      <td>12.960160</td>\n      <td>77.506882</td>\n      <td>0x3bae3d8099a0d291:0x234cc90eaa5e963</td>\n      <td>N_A</td>\n      <td>N_A</td>\n      <td>62</td>\n      <td>https://www.google.com/maps/place/?q=place_id:...</td>\n      <td>gmaps_v2</td>\n      <td>gym_fitness</td>\n      <td>leisure</td>\n      <td>N_A</td>\n      <td>1687847039</td>\n    </tr>\n    <tr>\n      <th>344</th>\n      <td>ChIJubahgNoXrjsRT5pniThZZjA</td>\n      <td>SUPRAD Badminton Academy</td>\n      <td>13.050083</td>\n      <td>77.607834</td>\n      <td>0x3bae17da80a1b6b9:0x3066593889679a4f</td>\n      <td>N_A</td>\n      <td>N_A</td>\n      <td>192</td>\n      <td>https://www.google.com/maps/place/?q=place_id:...</td>\n      <td>gmaps_v2</td>\n      <td>gym_fitness</td>\n      <td>leisure</td>\n      <td>N_A</td>\n      <td>1687847039</td>\n    </tr>\n    <tr>\n      <th>485</th>\n      <td>ChIJlbPzOWkRrjsRCol-7vLx-wI</td>\n      <td>DRDO Phase II Sports Complex</td>\n      <td>12.986635</td>\n      <td>77.681442</td>\n      <td>0x3bae116939f3b395:0x2fbf1f2ee7e890a</td>\n      <td>N_A</td>\n      <td>N_A</td>\n      <td>391</td>\n      <td>https://www.google.com/maps/place/?q=place_id:...</td>\n      <td>gmaps_v2</td>\n      <td>gym_fitness</td>\n      <td>leisure</td>\n      <td>N_A</td>\n      <td>1687847039</td>\n    </tr>\n    <tr>\n      <th>593</th>\n      <td>ChIJs4uw8y0TrjsRlEGp806yPz0</td>\n      <td>The Professional Fitness Center (Team:TPF) ದಿ ...</td>\n      <td>12.904058</td>\n      <td>77.676003</td>\n      <td>0x3bae132df3b08bb3:0x3d3fb24ef3a94194</td>\n      <td>N_A</td>\n      <td>N_A</td>\n      <td>264</td>\n      <td>https://www.google.com/maps/place/?q=place_id:...</td>\n      <td>gmaps_v2</td>\n      <td>gym_fitness</td>\n      <td>leisure</td>\n      <td>N_A</td>\n      <td>1687847039</td>\n    </tr>\n    <tr>\n      <th>...</th>\n      <td>...</td>\n      <td>...</td>\n      <td>...</td>\n      <td>...</td>\n      <td>...</td>\n      <td>...</td>\n      <td>...</td>\n      <td>...</td>\n      <td>...</td>\n      <td>...</td>\n      <td>...</td>\n      <td>...</td>\n      <td>...</td>\n      <td>...</td>\n    </tr>\n    <tr>\n      <th>362156</th>\n      <td>ChIJDZQzV50VrjsRfh_J06vTLLk</td>\n      <td>LL PG for MEN</td>\n      <td>12.953691</td>\n      <td>77.578125</td>\n      <td>0x3bae159d5733940d:0xb92cd3abd3c91f7e</td>\n      <td>N_A</td>\n      <td>N_A</td>\n      <td>53</td>\n      <td>https://www.google.com/maps/place/?q=place_id:...</td>\n      <td>gmaps_v2</td>\n      <td>gym_fitness</td>\n      <td>leisure</td>\n      <td>N_A</td>\n      <td>1687847039</td>\n    </tr>\n    <tr>\n      <th>362165</th>\n      <td>ChIJL2Sp-TAVrjsRMl4htzgNf8M</td>\n      <td>GOLDEN FIZZIK GYM</td>\n      <td>12.928550</td>\n      <td>77.596794</td>\n      <td>0x3bae1530f9a9642f:0xc37f0d38b7215e32</td>\n      <td>N_A</td>\n      <td>N_A</td>\n      <td>209</td>\n      <td>https://www.google.com/maps/place/?q=place_id:...</td>\n      <td>gmaps_v2</td>\n      <td>gym_fitness</td>\n      <td>leisure</td>\n      <td>N_A</td>\n      <td>1687847039</td>\n    </tr>\n    <tr>\n      <th>362306</th>\n      <td>ChIJ965kur8NrjsRDfcAzoSTxxY</td>\n      <td>GET FIT WITH SHEHI (Personal Trainer)</td>\n      <td>12.989023</td>\n      <td>77.754524</td>\n      <td>0x3bae0dbfba64aef7:0x16c79384ce00f70d</td>\n      <td>N_A</td>\n      <td>N_A</td>\n      <td>118</td>\n      <td>https://www.google.com/maps/place/?q=place_id:...</td>\n      <td>gmaps_v2</td>\n      <td>gym_fitness</td>\n      <td>leisure</td>\n      <td>N_A</td>\n      <td>1687847039</td>\n    </tr>\n    <tr>\n      <th>362323</th>\n      <td>ChIJn5eOvwoXrjsR7U0C4mhV0Kg</td>\n      <td>Refuel fitness studio</td>\n      <td>13.014141</td>\n      <td>77.639542</td>\n      <td>0x3bae170abf8e979f:0xa8d05568e2024ded</td>\n      <td>N_A</td>\n      <td>N_A</td>\n      <td>63</td>\n      <td>https://www.google.com/maps/place/?q=place_id:...</td>\n      <td>gmaps_v2</td>\n      <td>gym_fitness</td>\n      <td>leisure</td>\n      <td>N_A</td>\n      <td>1687847039</td>\n    </tr>\n    <tr>\n      <th>362495</th>\n      <td>ChIJYUUWp8g_rjsRhcKluwvgR58</td>\n      <td>Power House</td>\n      <td>12.915695</td>\n      <td>77.500229</td>\n      <td>0x3bae3fc8a7164561:0x9f47e00bbba5c285</td>\n      <td>N_A</td>\n      <td>N_A</td>\n      <td>128</td>\n      <td>https://www.google.com/maps/place/?q=place_id:...</td>\n      <td>gmaps_v2</td>\n      <td>gym_fitness</td>\n      <td>leisure</td>\n      <td>N_A</td>\n      <td>1687847039</td>\n    </tr>\n  </tbody>\n</table>\n<p>1858 rows × 14 columns</p>\n</div>"
     },
     "execution_count": 21,
     "metadata": {},
     "output_type": "execute_result"
    }
   ],
   "source": [
    "secondary_brands = bng_data.query(\n",
    "    \"category=='gym_fitness' and number_of_votes>50 and brand_id not in(@primary_brands['brand_id']) \")\n",
    "secondary_brands"
   ],
   "metadata": {
    "collapsed": false,
    "ExecuteTime": {
     "end_time": "2024-02-01T08:41:58.345625392Z",
     "start_time": "2024-02-01T08:41:58.276155977Z"
    }
   },
   "id": "cd866207d360a3ae",
   "execution_count": 21
  },
  {
   "cell_type": "code",
   "outputs": [
    {
     "data": {
      "text/plain": "             brand_id  count\n0           1by2foods      1\n1             3mangos      3\n2          amrutchaha      1\n3            artscafe      3\n4               avoke      3\n..                ...    ...\n120        tribalbrew      3\n121  vaamanamruttulya      1\n122       vidyacoffee      7\n123              wafl      1\n124    zafrannaturals      3\n\n[125 rows x 2 columns]",
      "text/html": "<div>\n<style scoped>\n    .dataframe tbody tr th:only-of-type {\n        vertical-align: middle;\n    }\n\n    .dataframe tbody tr th {\n        vertical-align: top;\n    }\n\n    .dataframe thead th {\n        text-align: right;\n    }\n</style>\n<table border=\"1\" class=\"dataframe\">\n  <thead>\n    <tr style=\"text-align: right;\">\n      <th></th>\n      <th>brand_id</th>\n      <th>count</th>\n    </tr>\n  </thead>\n  <tbody>\n    <tr>\n      <th>0</th>\n      <td>1by2foods</td>\n      <td>1</td>\n    </tr>\n    <tr>\n      <th>1</th>\n      <td>3mangos</td>\n      <td>3</td>\n    </tr>\n    <tr>\n      <th>2</th>\n      <td>amrutchaha</td>\n      <td>1</td>\n    </tr>\n    <tr>\n      <th>3</th>\n      <td>artscafe</td>\n      <td>3</td>\n    </tr>\n    <tr>\n      <th>4</th>\n      <td>avoke</td>\n      <td>3</td>\n    </tr>\n    <tr>\n      <th>...</th>\n      <td>...</td>\n      <td>...</td>\n    </tr>\n    <tr>\n      <th>120</th>\n      <td>tribalbrew</td>\n      <td>3</td>\n    </tr>\n    <tr>\n      <th>121</th>\n      <td>vaamanamruttulya</td>\n      <td>1</td>\n    </tr>\n    <tr>\n      <th>122</th>\n      <td>vidyacoffee</td>\n      <td>7</td>\n    </tr>\n    <tr>\n      <th>123</th>\n      <td>wafl</td>\n      <td>1</td>\n    </tr>\n    <tr>\n      <th>124</th>\n      <td>zafrannaturals</td>\n      <td>3</td>\n    </tr>\n  </tbody>\n</table>\n<p>125 rows × 2 columns</p>\n</div>"
     },
     "execution_count": 23,
     "metadata": {},
     "output_type": "execute_result"
    }
   ],
   "source": [
    "anchor = bng_data.query(\"(category=='coffee_shop') and (brand_id!='N_A')\").groupby('brand_id').agg(\n",
    "    count=(\"id\", np.count_nonzero)).reset_index()\n",
    "anchor"
   ],
   "metadata": {
    "collapsed": false,
    "ExecuteTime": {
     "end_time": "2024-02-01T08:45:54.793423827Z",
     "start_time": "2024-02-01T08:45:54.741970386Z"
    }
   },
   "id": "5f3d9f3a41db53ce",
   "execution_count": 23
  },
  {
   "cell_type": "code",
   "outputs": [],
   "source": [
    "site_id = '129065_775925'\n",
    "df = pd.read_csv(\n",
    "    f\"/home/jyotiraditya/PycharmProjects/SiteReports/data/projects_data/{site_id}/raw/location_poi_data.csv\")"
   ],
   "metadata": {
    "collapsed": false,
    "ExecuteTime": {
     "end_time": "2024-02-01T08:52:42.561345604Z",
     "start_time": "2024-02-01T08:52:42.423601151Z"
    }
   },
   "id": "bd9582737865315a",
   "execution_count": 26
  },
  {
   "cell_type": "code",
   "outputs": [
    {
     "data": {
      "text/plain": "                   brand_id  count_x  count_y       rank\n18               hattikaapi        2       29  14.500000\n36                     slay        1       12  12.000000\n24                lassishop        3       31  10.333333\n37                    smoor        1       10  10.000000\n1           bluetokaicoffee        1       10  10.000000\n6                   chaayos        3       29   9.666667\n22              lassicorner        4       38   9.500000\n3             cafecoffeeday       14      129   9.214286\n10                chaipoint       10       83   8.300000\n42                teabarind        1        8   8.000000\n39                starbucks        4       32   8.000000\n19            heritagefoods        2       15   7.500000\n46         thecoffeebrewery        1        7   7.000000\n40                   sufyan        1        6   6.000000\n27           mdpcoffeehouse        1        6   6.000000\n23                lassighar        1        6   6.000000\n48          thirdwavecoffee        7       42   6.000000\n43            teadaycompany        8       43   5.375000\n28                mitticafe        1        5   5.000000\n8                  chaidays        1        5   5.000000\n20            hunkalheights        1        5   5.000000\n0              bayarscoffee        6       27   4.500000\n14                   cothas        4       17   4.250000\n32         puneriamruttulya        1        4   4.000000\n49  thirdwavecoffeeroasters        1        4   4.000000\n26           magnoliabakery        1        4   4.000000\n35              sahukarchai        3       11   3.666667\n50              vidyacoffee        2        7   3.500000\n45             thechaiwalah        1        3   3.000000\n30        nammafiltercoffee        1        3   3.000000\n33                     qmin        2        6   3.000000\n34            ramjichaiwale        1        3   3.000000\n4               cafevishala        1        3   3.000000\n47                  thepaan        1        3   3.000000\n5                 cane-o-la        1        3   3.000000\n41          sumacoffeehouse        1        3   3.000000\n9                 chaigalli        1        3   3.000000\n21         icebergicecreams        2        4   2.000000\n31           newlassicorner        1        2   2.000000\n17           firangifalooda        1        2   2.000000\n13         coffeepointindia        1        2   2.000000\n38         standardteaindia        2        4   2.000000\n29               mumbaichai        1        2   2.000000\n12                coffeeday        2        3   1.500000\n15                 dairyday        2        3   1.500000\n44                 teavilla        1        1   1.000000\n7                chaiamruth        1        1   1.000000\n11                chaivenue        3        3   1.000000\n16            dessicuppahyd        1        1   1.000000\n2                      cafe        1        1   1.000000\n25                leocoffee        1        1   1.000000",
      "text/html": "<div>\n<style scoped>\n    .dataframe tbody tr th:only-of-type {\n        vertical-align: middle;\n    }\n\n    .dataframe tbody tr th {\n        vertical-align: top;\n    }\n\n    .dataframe thead th {\n        text-align: right;\n    }\n</style>\n<table border=\"1\" class=\"dataframe\">\n  <thead>\n    <tr style=\"text-align: right;\">\n      <th></th>\n      <th>brand_id</th>\n      <th>count_x</th>\n      <th>count_y</th>\n      <th>rank</th>\n    </tr>\n  </thead>\n  <tbody>\n    <tr>\n      <th>18</th>\n      <td>hattikaapi</td>\n      <td>2</td>\n      <td>29</td>\n      <td>14.500000</td>\n    </tr>\n    <tr>\n      <th>36</th>\n      <td>slay</td>\n      <td>1</td>\n      <td>12</td>\n      <td>12.000000</td>\n    </tr>\n    <tr>\n      <th>24</th>\n      <td>lassishop</td>\n      <td>3</td>\n      <td>31</td>\n      <td>10.333333</td>\n    </tr>\n    <tr>\n      <th>37</th>\n      <td>smoor</td>\n      <td>1</td>\n      <td>10</td>\n      <td>10.000000</td>\n    </tr>\n    <tr>\n      <th>1</th>\n      <td>bluetokaicoffee</td>\n      <td>1</td>\n      <td>10</td>\n      <td>10.000000</td>\n    </tr>\n    <tr>\n      <th>6</th>\n      <td>chaayos</td>\n      <td>3</td>\n      <td>29</td>\n      <td>9.666667</td>\n    </tr>\n    <tr>\n      <th>22</th>\n      <td>lassicorner</td>\n      <td>4</td>\n      <td>38</td>\n      <td>9.500000</td>\n    </tr>\n    <tr>\n      <th>3</th>\n      <td>cafecoffeeday</td>\n      <td>14</td>\n      <td>129</td>\n      <td>9.214286</td>\n    </tr>\n    <tr>\n      <th>10</th>\n      <td>chaipoint</td>\n      <td>10</td>\n      <td>83</td>\n      <td>8.300000</td>\n    </tr>\n    <tr>\n      <th>42</th>\n      <td>teabarind</td>\n      <td>1</td>\n      <td>8</td>\n      <td>8.000000</td>\n    </tr>\n    <tr>\n      <th>39</th>\n      <td>starbucks</td>\n      <td>4</td>\n      <td>32</td>\n      <td>8.000000</td>\n    </tr>\n    <tr>\n      <th>19</th>\n      <td>heritagefoods</td>\n      <td>2</td>\n      <td>15</td>\n      <td>7.500000</td>\n    </tr>\n    <tr>\n      <th>46</th>\n      <td>thecoffeebrewery</td>\n      <td>1</td>\n      <td>7</td>\n      <td>7.000000</td>\n    </tr>\n    <tr>\n      <th>40</th>\n      <td>sufyan</td>\n      <td>1</td>\n      <td>6</td>\n      <td>6.000000</td>\n    </tr>\n    <tr>\n      <th>27</th>\n      <td>mdpcoffeehouse</td>\n      <td>1</td>\n      <td>6</td>\n      <td>6.000000</td>\n    </tr>\n    <tr>\n      <th>23</th>\n      <td>lassighar</td>\n      <td>1</td>\n      <td>6</td>\n      <td>6.000000</td>\n    </tr>\n    <tr>\n      <th>48</th>\n      <td>thirdwavecoffee</td>\n      <td>7</td>\n      <td>42</td>\n      <td>6.000000</td>\n    </tr>\n    <tr>\n      <th>43</th>\n      <td>teadaycompany</td>\n      <td>8</td>\n      <td>43</td>\n      <td>5.375000</td>\n    </tr>\n    <tr>\n      <th>28</th>\n      <td>mitticafe</td>\n      <td>1</td>\n      <td>5</td>\n      <td>5.000000</td>\n    </tr>\n    <tr>\n      <th>8</th>\n      <td>chaidays</td>\n      <td>1</td>\n      <td>5</td>\n      <td>5.000000</td>\n    </tr>\n    <tr>\n      <th>20</th>\n      <td>hunkalheights</td>\n      <td>1</td>\n      <td>5</td>\n      <td>5.000000</td>\n    </tr>\n    <tr>\n      <th>0</th>\n      <td>bayarscoffee</td>\n      <td>6</td>\n      <td>27</td>\n      <td>4.500000</td>\n    </tr>\n    <tr>\n      <th>14</th>\n      <td>cothas</td>\n      <td>4</td>\n      <td>17</td>\n      <td>4.250000</td>\n    </tr>\n    <tr>\n      <th>32</th>\n      <td>puneriamruttulya</td>\n      <td>1</td>\n      <td>4</td>\n      <td>4.000000</td>\n    </tr>\n    <tr>\n      <th>49</th>\n      <td>thirdwavecoffeeroasters</td>\n      <td>1</td>\n      <td>4</td>\n      <td>4.000000</td>\n    </tr>\n    <tr>\n      <th>26</th>\n      <td>magnoliabakery</td>\n      <td>1</td>\n      <td>4</td>\n      <td>4.000000</td>\n    </tr>\n    <tr>\n      <th>35</th>\n      <td>sahukarchai</td>\n      <td>3</td>\n      <td>11</td>\n      <td>3.666667</td>\n    </tr>\n    <tr>\n      <th>50</th>\n      <td>vidyacoffee</td>\n      <td>2</td>\n      <td>7</td>\n      <td>3.500000</td>\n    </tr>\n    <tr>\n      <th>45</th>\n      <td>thechaiwalah</td>\n      <td>1</td>\n      <td>3</td>\n      <td>3.000000</td>\n    </tr>\n    <tr>\n      <th>30</th>\n      <td>nammafiltercoffee</td>\n      <td>1</td>\n      <td>3</td>\n      <td>3.000000</td>\n    </tr>\n    <tr>\n      <th>33</th>\n      <td>qmin</td>\n      <td>2</td>\n      <td>6</td>\n      <td>3.000000</td>\n    </tr>\n    <tr>\n      <th>34</th>\n      <td>ramjichaiwale</td>\n      <td>1</td>\n      <td>3</td>\n      <td>3.000000</td>\n    </tr>\n    <tr>\n      <th>4</th>\n      <td>cafevishala</td>\n      <td>1</td>\n      <td>3</td>\n      <td>3.000000</td>\n    </tr>\n    <tr>\n      <th>47</th>\n      <td>thepaan</td>\n      <td>1</td>\n      <td>3</td>\n      <td>3.000000</td>\n    </tr>\n    <tr>\n      <th>5</th>\n      <td>cane-o-la</td>\n      <td>1</td>\n      <td>3</td>\n      <td>3.000000</td>\n    </tr>\n    <tr>\n      <th>41</th>\n      <td>sumacoffeehouse</td>\n      <td>1</td>\n      <td>3</td>\n      <td>3.000000</td>\n    </tr>\n    <tr>\n      <th>9</th>\n      <td>chaigalli</td>\n      <td>1</td>\n      <td>3</td>\n      <td>3.000000</td>\n    </tr>\n    <tr>\n      <th>21</th>\n      <td>icebergicecreams</td>\n      <td>2</td>\n      <td>4</td>\n      <td>2.000000</td>\n    </tr>\n    <tr>\n      <th>31</th>\n      <td>newlassicorner</td>\n      <td>1</td>\n      <td>2</td>\n      <td>2.000000</td>\n    </tr>\n    <tr>\n      <th>17</th>\n      <td>firangifalooda</td>\n      <td>1</td>\n      <td>2</td>\n      <td>2.000000</td>\n    </tr>\n    <tr>\n      <th>13</th>\n      <td>coffeepointindia</td>\n      <td>1</td>\n      <td>2</td>\n      <td>2.000000</td>\n    </tr>\n    <tr>\n      <th>38</th>\n      <td>standardteaindia</td>\n      <td>2</td>\n      <td>4</td>\n      <td>2.000000</td>\n    </tr>\n    <tr>\n      <th>29</th>\n      <td>mumbaichai</td>\n      <td>1</td>\n      <td>2</td>\n      <td>2.000000</td>\n    </tr>\n    <tr>\n      <th>12</th>\n      <td>coffeeday</td>\n      <td>2</td>\n      <td>3</td>\n      <td>1.500000</td>\n    </tr>\n    <tr>\n      <th>15</th>\n      <td>dairyday</td>\n      <td>2</td>\n      <td>3</td>\n      <td>1.500000</td>\n    </tr>\n    <tr>\n      <th>44</th>\n      <td>teavilla</td>\n      <td>1</td>\n      <td>1</td>\n      <td>1.000000</td>\n    </tr>\n    <tr>\n      <th>7</th>\n      <td>chaiamruth</td>\n      <td>1</td>\n      <td>1</td>\n      <td>1.000000</td>\n    </tr>\n    <tr>\n      <th>11</th>\n      <td>chaivenue</td>\n      <td>3</td>\n      <td>3</td>\n      <td>1.000000</td>\n    </tr>\n    <tr>\n      <th>16</th>\n      <td>dessicuppahyd</td>\n      <td>1</td>\n      <td>1</td>\n      <td>1.000000</td>\n    </tr>\n    <tr>\n      <th>2</th>\n      <td>cafe</td>\n      <td>1</td>\n      <td>1</td>\n      <td>1.000000</td>\n    </tr>\n    <tr>\n      <th>25</th>\n      <td>leocoffee</td>\n      <td>1</td>\n      <td>1</td>\n      <td>1.000000</td>\n    </tr>\n  </tbody>\n</table>\n</div>"
     },
     "execution_count": 30,
     "metadata": {},
     "output_type": "execute_result"
    }
   ],
   "source": [
    "cat_anchor = df.query(\"(category=='coffee_shop') and (brand_id!='N_A')\").groupby('brand_id').agg(\n",
    "    count=(\"id\", np.count_nonzero)).reset_index()\n",
    "cat_anchor = cat_anchor.merge(anchor, how='inner', on='brand_id')\n",
    "cat_anchor['rank'] = cat_anchor['count_y'] / cat_anchor['count_x']\n",
    "cat_anchor = cat_anchor.sort_values(by='rank', ascending=False)\n",
    "cat_anchor\n"
   ],
   "metadata": {
    "collapsed": false,
    "ExecuteTime": {
     "end_time": "2024-02-01T08:53:57.098402994Z",
     "start_time": "2024-02-01T08:53:57.051842745Z"
    }
   },
   "id": "b90c85a5338c147a",
   "execution_count": 30
  }
 ],
 "metadata": {
  "kernelspec": {
   "display_name": "Python 3",
   "language": "python",
   "name": "python3"
  },
  "language_info": {
   "codemirror_mode": {
    "name": "ipython",
    "version": 2
   },
   "file_extension": ".py",
   "mimetype": "text/x-python",
   "name": "python",
   "nbconvert_exporter": "python",
   "pygments_lexer": "ipython2",
   "version": "2.7.6"
  }
 },
 "nbformat": 4,
 "nbformat_minor": 5
}
