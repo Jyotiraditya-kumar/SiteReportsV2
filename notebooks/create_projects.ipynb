{
 "cells": [
  {
   "cell_type": "code",
   "execution_count": 1,
   "id": "initial_id",
   "metadata": {
    "collapsed": true,
    "ExecuteTime": {
     "end_time": "2024-02-16T14:10:39.593825636Z",
     "start_time": "2024-02-16T14:10:30.135557962Z"
    }
   },
   "outputs": [
    {
     "data": {
      "text/plain": "<module 'awswrangler' from '/home/jyotiraditya/anaconda3/envs/SiteReports/lib/python3.10/site-packages/awswrangler/__init__.py'>"
     },
     "execution_count": 1,
     "metadata": {},
     "output_type": "execute_result"
    }
   ],
   "source": [
    "import pandas as pd\n",
    "import utils as U\n",
    "import requests\n",
    "import awswrangler as wr\n",
    "import importlib\n",
    "importlib.reload(wr)"
   ]
  },
  {
   "cell_type": "code",
   "execution_count": 2,
   "id": "5cfe38330f562df5",
   "metadata": {
    "ExecuteTime": {
     "end_time": "2024-02-08T07:50:49.535843792Z",
     "start_time": "2024-02-08T07:50:19.723648028Z"
    },
    "collapsed": false
   },
   "outputs": [
    {
     "name": "stdout",
     "output_type": "stream",
     "text": [
      "{\"project_id\":{\"report_id\":\"f9b43dc5-f8fe-4cb0-b91a-54cbf23de536\",\"id\":\"129342_777438\"}}\n",
      "{\"project_id\":{\"report_id\":\"ba9999e5-b9f2-4eb0-8b71-eec0c9af1930\",\"id\":\"129342_777438\"}}\n",
      "{\"project_id\":{\"report_id\":\"59237f70-29b4-463c-a869-8323df9f54ca\",\"id\":\"128050_776996\"}}\n",
      "{\"project_id\":{\"report_id\":\"df93c3fa-d9ac-46ad-9b8a-d423fb715ae6\",\"id\":\"128050_776996\"}}\n"
     ]
    }
   ],
   "source": [
    "# def create_project(lat,lng,name,travel_mode,cost_type,cost):\n",
    "#     url=f\"http://127.0.0.1:8000/site_report/create/?lat={lat}&lng={lng}&name={name}&travel_mode={travel_mode}&cost_type={cost_type}&cost={cost}\"\n",
    "#     r = requests.get(url)\n",
    "#     print(r.text)\n",
    "# \n",
    "# locations=[(12.934247287987455, 77.7438690876081, 'Orion Utopia'),\n",
    "#               (12.805019480136755, 77.69968439147448, 'Orion Valencia')]\n",
    "# for location in locations:\n",
    "#     lat,lng,name=location\n",
    "#     for cf in [('driving','time','15'),('driving','distance','500')]:\n",
    "#         travel_mode,cost_type,cost=cf\n",
    "#         create_project(lat=lat,lng=lng,name=name,travel_mode=travel_mode,cost_type=cost_type,cost=cost)\n",
    "\n"
   ]
  },
  {
   "cell_type": "code",
   "execution_count": 3,
   "id": "4ffd2cb2ba8c22c9",
   "metadata": {
    "ExecuteTime": {
     "end_time": "2024-02-07T11:17:59.389909087Z",
     "start_time": "2024-02-07T11:17:59.356824542Z"
    },
    "collapsed": false
   },
   "outputs": [
    {
     "data": {
      "text/plain": [
       "<pandas.core.groupby.generic.DataFrameGroupBy object at 0x7f3584febd90>"
      ]
     },
     "execution_count": 3,
     "metadata": {},
     "output_type": "execute_result"
    }
   ],
   "source": [
    "df = pd.DataFrame(columns=['a', 'b'])\n",
    "df.groupby(['a', 'b'])"
   ]
  },
  {
   "cell_type": "code",
   "execution_count": 3,
   "id": "904fff3517d9913f",
   "metadata": {
    "ExecuteTime": {
     "end_time": "2024-02-07T09:14:54.078048691Z",
     "start_time": "2024-02-07T09:14:54.039018119Z"
    },
    "collapsed": false
   },
   "outputs": [],
   "source": [
    "all_reports = U.get_all_reports().query(\"catchment_type=='i500mtb'\")\n"
   ]
  },
  {
   "cell_type": "code",
   "execution_count": 6,
   "id": "c69cd9dc6b2d9d31",
   "metadata": {
    "ExecuteTime": {
     "end_time": "2024-02-07T09:31:31.885203767Z",
     "start_time": "2024-02-07T09:31:26.930503711Z"
    },
    "collapsed": false
   },
   "outputs": [
    {
     "name": "stdout",
     "output_type": "stream",
     "text": [
      "13.011026921074786 77.55473637957641 driving distance 500 pk.eyJ1IjoibGFpcjA4MjYiLCJhIjoiY2tkcGoxcnRzMDZvODJxbXk0MWhlcWN2aSJ9.5-yjt_SUq4w5JII7CvD4cA\n",
      "13.0009569 77.6325712 driving distance 500 pk.eyJ1IjoibGFpcjA4MjYiLCJhIjoiY2tkcGoxcnRzMDZvODJxbXk0MWhlcWN2aSJ9.5-yjt_SUq4w5JII7CvD4cA\n",
      "13.0552603 77.7638939 driving distance 500 pk.eyJ1IjoibGFpcjA4MjYiLCJhIjoiY2tkcGoxcnRzMDZvODJxbXk0MWhlcWN2aSJ9.5-yjt_SUq4w5JII7CvD4cA\n",
      "13.06317 77.620569 driving distance 500 pk.eyJ1IjoibGFpcjA4MjYiLCJhIjoiY2tkcGoxcnRzMDZvODJxbXk0MWhlcWN2aSJ9.5-yjt_SUq4w5JII7CvD4cA\n",
      "12.887373 77.596901 driving distance 500 pk.eyJ1IjoibGFpcjA4MjYiLCJhIjoiY2tkcGoxcnRzMDZvODJxbXk0MWhlcWN2aSJ9.5-yjt_SUq4w5JII7CvD4cA\n"
     ]
    }
   ],
   "source": [
    "query = '''UPDATE ind_site_reports_v2\n",
    "SET\n",
    "    geometry=:geometry,\n",
    "    catchment_type=:catchment_type\n",
    "WHERE  id=:id and report_id=:report_id;\n",
    "'''\n",
    "con, cur = U.connect_to_db()\n",
    "for report in all_reports.to_dict('records'):\n",
    "    id = report['id']\n",
    "    report_id = report['report_id']\n",
    "    lat = report['lat']\n",
    "    lng = report['lng']\n",
    "    travel_mode = 'driving'\n",
    "    cost_type = 'distance'\n",
    "    cost = 500\n",
    "    isochrone_polygon, isochrone_id = U.get_isochrone(lat, lng, travel_mode=travel_mode, cost_type=cost_type,\n",
    "                                                      cost=cost)\n",
    "    query_params = dict(geometry=isochrone_polygon.wkt, catchment_type=isochrone_id, id=id, report_id=report_id)\n",
    "    cur.execute(query, query_params)\n",
    "    con.commit()\n",
    "con.close()\n"
   ]
  },
  {
   "cell_type": "code",
   "outputs": [
    {
     "name": "stderr",
     "output_type": "stream",
     "text": [
      "/home/jyotiraditya/anaconda3/envs/SiteReports/lib/python3.10/site-packages/awswrangler/_distributed.py:104: FutureWarning: promote has been superseded by promote_options='default'.\n",
      "  return cls.dispatch_func(func)(*args, **kw)\n"
     ]
    }
   ],
   "source": [
    "site_reports = wr.athena.read_sql_query(\"select * from datasets_prep.ind_site_reports_data_v2\",\n",
    "                                        database='datasets_prep')"
   ],
   "metadata": {
    "collapsed": false,
    "ExecuteTime": {
     "end_time": "2024-02-16T14:15:50.414504193Z",
     "start_time": "2024-02-16T14:15:16.229153426Z"
    }
   },
   "id": "ca6341a66eac62c7",
   "execution_count": 2
  },
  {
   "cell_type": "code",
   "outputs": [
    {
     "data": {
      "text/plain": "(9, 29)"
     },
     "execution_count": 3,
     "metadata": {},
     "output_type": "execute_result"
    }
   ],
   "source": [
    "all_reports = site_reports.copy()\n",
    "mask = all_reports['catchment_type'].isin(('i15mind', 'i2500mtd'))\n",
    "all_reports[mask].shape"
   ],
   "metadata": {
    "collapsed": false,
    "ExecuteTime": {
     "end_time": "2024-02-16T14:16:32.188402442Z",
     "start_time": "2024-02-16T14:16:31.354862166Z"
    }
   },
   "id": "c99279320a5a4dd2",
   "execution_count": 3
  },
  {
   "cell_type": "code",
   "outputs": [
    {
     "data": {
      "text/plain": "Index(['report_id', 'id', 'site_name', 'lat', 'lng', 'geometry', 'location',\n       'catchment_type', 'top_brands', 'pois', 'projects', 'apartments',\n       'household_distribution', 'competition', 'population', 'affluence',\n       'avg_cost_for_two', 'revenue_score', 'high_streets', 'shopping_malls',\n       'created_at', 'location_score_weights', 'grouped_indexes',\n       'demand_generators', 'city_lat', 'city_lng',\n       'distance_from_city_center', 'orientation_from_city_center',\n       'competitors_domains'],\n      dtype='object')"
     },
     "execution_count": 15,
     "metadata": {},
     "output_type": "execute_result"
    }
   ],
   "source": [
    "all_reports.columns"
   ],
   "metadata": {
    "collapsed": false,
    "ExecuteTime": {
     "end_time": "2024-02-16T07:54:42.974667478Z",
     "start_time": "2024-02-16T07:54:42.726020296Z"
    }
   },
   "id": "59affbe07cfb233b",
   "execution_count": 15
  },
  {
   "cell_type": "code",
   "outputs": [
    {
     "name": "stdout",
     "output_type": "stream",
     "text": [
      "INFO: Pandarallel will run on 5 workers.\n",
      "INFO: Pandarallel will use Memory file system to transfer data between the main process and workers.\n"
     ]
    }
   ],
   "source": [
    "import json\n",
    "import re\n",
    "import revenue_score as rev\n",
    "from pandarallel import pandarallel\n",
    "pandarallel.initialize(nb_workers=5,progress_bar=True)"
   ],
   "metadata": {
    "collapsed": false,
    "ExecuteTime": {
     "end_time": "2024-02-16T14:16:43.583687035Z",
     "start_time": "2024-02-16T14:16:43.114114114Z"
    }
   },
   "id": "5fee074b045326d0",
   "execution_count": 4
  },
  {
   "cell_type": "code",
   "outputs": [],
   "source": [
    "def get_catchment_info(row):\n",
    "    pattern = re.compile(\"i(?P<cost>\\d+)(?P<cost_type>[a-z]+)(?P<travel_mode>[d|b])$\")\n",
    "    catchment_type = row['catchment_type']\n",
    "    a = pattern.search(catchment_type).groupdict()\n",
    "    cost_types = {\"mt\": 'distance', 'min': \"time\"}\n",
    "    travel_modes = {\"d\": 'driving', 'b': \"buffer\"}\n",
    "    cost_type = cost_types[a['cost_type']]\n",
    "    travel_mode = travel_modes[a['travel_mode']]\n",
    "    cost = int(a['cost'])\n",
    "    return travel_mode, cost_type, cost, catchment_type\n",
    "\n",
    "\n",
    "def get_competitors(row):\n",
    "    competitors = json.loads(row['competitors_domains'])\n",
    "    primary_comp = list(filter(lambda x: x['competitor_type'] == 'primary_competitor', competitors))\n",
    "    anchor_comp = list(filter(lambda x: x['competitor_type'] == 'anchor_competitor', competitors))\n",
    "    if primary_comp:\n",
    "        primary_comp = primary_comp[0]['filter']\n",
    "        primary_comp = list(filter(lambda x: \"'\" not in x, primary_comp))\n",
    "    if anchor_comp:\n",
    "        anchor_comp = anchor_comp[0]['filter']\n",
    "        anchor_comp = list(filter(lambda x: \"'\" not in x, anchor_comp))\n",
    "    return primary_comp, anchor_comp\n",
    "\n",
    "\n",
    "def get_revenue_score_and_grouped_indexes(row):\n",
    "    if row['catchment_type'] not in ('i15mind','i2500mtd'):\n",
    "        return row['revenue_score'],row['affluence'],row['grouped_indexes']\n",
    "    weights_score = json.loads(row['location_score_weights'])\n",
    "    lat, lng = row['lat'], row['lng']\n",
    "    travel_mode, cost_type, cost, catchment_type = get_catchment_info(row)\n",
    "    primary_comp, anchor_comp = get_competitors(row)\n",
    "    revenue_score, grouped_indexs = rev.generate_revenue_score(lat, lng, travel_mode, cost_type, cost, catchment_type,\n",
    "                                                               primary_comp,\n",
    "                                                               anchor_comp, weights_score)\n",
    "    affluence_score=grouped_indexs['affluence_index']\n",
    "    return revenue_score, affluence_score,json.dumps(grouped_indexs)\n",
    "\n"
   ],
   "metadata": {
    "collapsed": false,
    "ExecuteTime": {
     "end_time": "2024-02-16T14:17:26.381034043Z",
     "start_time": "2024-02-16T14:17:26.330752220Z"
    }
   },
   "id": "823c26e9d178d747",
   "execution_count": 6
  },
  {
   "cell_type": "code",
   "outputs": [
    {
     "data": {
      "text/plain": "VBox(children=(HBox(children=(IntProgress(value=0, description='0.00%', max=4), Label(value='0 / 4'))), HBox(c…",
      "application/vnd.jupyter.widget-view+json": {
       "version_major": 2,
       "version_minor": 0,
       "model_id": "f0c2be6634fc4c54925c881f00647137"
      }
     },
     "metadata": {},
     "output_type": "display_data"
    },
    {
     "name": "stderr",
     "output_type": "stream",
     "text": [
      "/media/jyotiraditya/Ultra Touch/repos/SiteReports/revenue_score.py:743: FutureWarning: The behavior of DataFrame concatenation with empty or all-NA entries is deprecated. In a future version, this will no longer exclude empty or all-NA columns when determining the result dtypes. To retain the old behavior, exclude the relevant entries before the concat operation.\n",
      "  \n",
      "/media/jyotiraditya/Ultra Touch/repos/SiteReports/revenue_score.py:743: FutureWarning: The behavior of DataFrame concatenation with empty or all-NA entries is deprecated. In a future version, this will no longer exclude empty or all-NA columns when determining the result dtypes. To retain the old behavior, exclude the relevant entries before the concat operation.\n",
      "  \n",
      "/media/jyotiraditya/Ultra Touch/repos/SiteReports/revenue_score.py:743: FutureWarning: The behavior of DataFrame concatenation with empty or all-NA entries is deprecated. In a future version, this will no longer exclude empty or all-NA columns when determining the result dtypes. To retain the old behavior, exclude the relevant entries before the concat operation.\n",
      "  \n",
      "/media/jyotiraditya/Ultra Touch/repos/SiteReports/revenue_score.py:743: FutureWarning: The behavior of DataFrame concatenation with empty or all-NA entries is deprecated. In a future version, this will no longer exclude empty or all-NA columns when determining the result dtypes. To retain the old behavior, exclude the relevant entries before the concat operation.\n",
      "  \n",
      "/media/jyotiraditya/Ultra Touch/repos/SiteReports/revenue_score.py:743: FutureWarning: The behavior of DataFrame concatenation with empty or all-NA entries is deprecated. In a future version, this will no longer exclude empty or all-NA columns when determining the result dtypes. To retain the old behavior, exclude the relevant entries before the concat operation.\n",
      "  \n"
     ]
    }
   ],
   "source": [
    "all_reports[['revenue_score','affluence','grouped_indexes']]=all_reports.parallel_apply(get_revenue_score_and_grouped_indexes,axis=1,result_type='expand')"
   ],
   "metadata": {
    "collapsed": false,
    "ExecuteTime": {
     "end_time": "2024-02-16T14:23:11.278704936Z",
     "start_time": "2024-02-16T14:17:32.812272174Z"
    }
   },
   "id": "b127ca6965e427b8",
   "execution_count": 7
  },
  {
   "cell_type": "code",
   "outputs": [
    {
     "data": {
      "text/plain": "               id catchment_type  revenue_score  affluence  \\\n0   129342_777438        i15mind      70.547094       3.11   \n1   128050_776996        i500mtd      65.019439       2.67   \n2   129342_777438        i500mtd      71.910621       3.39   \n3   130110_775547        i500mtd      71.938076       4.83   \n4   130009_776325        i500mtd      63.958918       4.15   \n5   130552_777638        i500mtd      49.996000       3.13   \n6   130631_776205        i500mtd      81.386000       3.76   \n7   130552_777638        i15mind      49.760922       1.59   \n8   128050_776996        i15mind      65.147295       2.56   \n9   130110_775547        i15mind      89.403407       3.64   \n10  130009_776325        i15mind      82.213627       3.51   \n11  128873_775969        i500mtd      86.684000       3.71   \n12  130959_775791        i500mtd      64.944000       3.88   \n13  130959_775791       i2500mtd      66.220000       3.34   \n14  129696_776307        i500mtd      28.066000       3.65   \n15  129696_776307       i2500mtd      89.764000       3.33   \n16  130631_776205        i15mind      77.288000       3.43   \n17  128873_775969        i15mind      88.578000       3.39   \n\n                                      grouped_indexes catchment_type  \n0   {\"affluence_index\": 3.11, \"apartments_index\": ...        i15mind  \n1   {\"affluence_index\": 2.67, \"apartments_index\": ...        i500mtd  \n2   {\"affluence_index\": 3.39, \"apartments_index\": ...        i500mtd  \n3   {\"affluence_index\": 4.83, \"apartments_index\": ...        i500mtd  \n4   {\"affluence_index\": 4.15, \"apartments_index\": ...        i500mtd  \n5   {\"affluence_index\": 3.13, \"apartments_index\": ...        i500mtd  \n6   {\"affluence_index\": 3.76, \"apartments_index\": ...        i500mtd  \n7   {\"affluence_index\": 1.59, \"apartments_index\": ...        i15mind  \n8   {\"affluence_index\": 2.56, \"apartments_index\": ...        i15mind  \n9   {\"affluence_index\": 3.64, \"apartments_index\": ...        i15mind  \n10  {\"affluence_index\": 3.51, \"apartments_index\": ...        i15mind  \n11  {\"affluence_index\": 3.71, \"apartments_index\": ...        i500mtd  \n12  {\"affluence_index\": 3.88, \"apartments_index\": ...        i500mtd  \n13  {\"affluence_index\": 3.34, \"apartments_index\": ...       i2500mtd  \n14  {\"affluence_index\": 3.65, \"apartments_index\": ...        i500mtd  \n15  {\"affluence_index\": 3.33, \"apartments_index\": ...       i2500mtd  \n16  {\"affluence_index\": 3.43, \"apartments_index\": ...        i15mind  \n17  {\"affluence_index\": 3.39, \"apartments_index\": ...        i15mind  ",
      "text/html": "<div>\n<style scoped>\n    .dataframe tbody tr th:only-of-type {\n        vertical-align: middle;\n    }\n\n    .dataframe tbody tr th {\n        vertical-align: top;\n    }\n\n    .dataframe thead th {\n        text-align: right;\n    }\n</style>\n<table border=\"1\" class=\"dataframe\">\n  <thead>\n    <tr style=\"text-align: right;\">\n      <th></th>\n      <th>id</th>\n      <th>catchment_type</th>\n      <th>revenue_score</th>\n      <th>affluence</th>\n      <th>grouped_indexes</th>\n      <th>catchment_type</th>\n    </tr>\n  </thead>\n  <tbody>\n    <tr>\n      <th>0</th>\n      <td>129342_777438</td>\n      <td>i15mind</td>\n      <td>70.547094</td>\n      <td>3.11</td>\n      <td>{\"affluence_index\": 3.11, \"apartments_index\": ...</td>\n      <td>i15mind</td>\n    </tr>\n    <tr>\n      <th>1</th>\n      <td>128050_776996</td>\n      <td>i500mtd</td>\n      <td>65.019439</td>\n      <td>2.67</td>\n      <td>{\"affluence_index\": 2.67, \"apartments_index\": ...</td>\n      <td>i500mtd</td>\n    </tr>\n    <tr>\n      <th>2</th>\n      <td>129342_777438</td>\n      <td>i500mtd</td>\n      <td>71.910621</td>\n      <td>3.39</td>\n      <td>{\"affluence_index\": 3.39, \"apartments_index\": ...</td>\n      <td>i500mtd</td>\n    </tr>\n    <tr>\n      <th>3</th>\n      <td>130110_775547</td>\n      <td>i500mtd</td>\n      <td>71.938076</td>\n      <td>4.83</td>\n      <td>{\"affluence_index\": 4.83, \"apartments_index\": ...</td>\n      <td>i500mtd</td>\n    </tr>\n    <tr>\n      <th>4</th>\n      <td>130009_776325</td>\n      <td>i500mtd</td>\n      <td>63.958918</td>\n      <td>4.15</td>\n      <td>{\"affluence_index\": 4.15, \"apartments_index\": ...</td>\n      <td>i500mtd</td>\n    </tr>\n    <tr>\n      <th>5</th>\n      <td>130552_777638</td>\n      <td>i500mtd</td>\n      <td>49.996000</td>\n      <td>3.13</td>\n      <td>{\"affluence_index\": 3.13, \"apartments_index\": ...</td>\n      <td>i500mtd</td>\n    </tr>\n    <tr>\n      <th>6</th>\n      <td>130631_776205</td>\n      <td>i500mtd</td>\n      <td>81.386000</td>\n      <td>3.76</td>\n      <td>{\"affluence_index\": 3.76, \"apartments_index\": ...</td>\n      <td>i500mtd</td>\n    </tr>\n    <tr>\n      <th>7</th>\n      <td>130552_777638</td>\n      <td>i15mind</td>\n      <td>49.760922</td>\n      <td>1.59</td>\n      <td>{\"affluence_index\": 1.59, \"apartments_index\": ...</td>\n      <td>i15mind</td>\n    </tr>\n    <tr>\n      <th>8</th>\n      <td>128050_776996</td>\n      <td>i15mind</td>\n      <td>65.147295</td>\n      <td>2.56</td>\n      <td>{\"affluence_index\": 2.56, \"apartments_index\": ...</td>\n      <td>i15mind</td>\n    </tr>\n    <tr>\n      <th>9</th>\n      <td>130110_775547</td>\n      <td>i15mind</td>\n      <td>89.403407</td>\n      <td>3.64</td>\n      <td>{\"affluence_index\": 3.64, \"apartments_index\": ...</td>\n      <td>i15mind</td>\n    </tr>\n    <tr>\n      <th>10</th>\n      <td>130009_776325</td>\n      <td>i15mind</td>\n      <td>82.213627</td>\n      <td>3.51</td>\n      <td>{\"affluence_index\": 3.51, \"apartments_index\": ...</td>\n      <td>i15mind</td>\n    </tr>\n    <tr>\n      <th>11</th>\n      <td>128873_775969</td>\n      <td>i500mtd</td>\n      <td>86.684000</td>\n      <td>3.71</td>\n      <td>{\"affluence_index\": 3.71, \"apartments_index\": ...</td>\n      <td>i500mtd</td>\n    </tr>\n    <tr>\n      <th>12</th>\n      <td>130959_775791</td>\n      <td>i500mtd</td>\n      <td>64.944000</td>\n      <td>3.88</td>\n      <td>{\"affluence_index\": 3.88, \"apartments_index\": ...</td>\n      <td>i500mtd</td>\n    </tr>\n    <tr>\n      <th>13</th>\n      <td>130959_775791</td>\n      <td>i2500mtd</td>\n      <td>66.220000</td>\n      <td>3.34</td>\n      <td>{\"affluence_index\": 3.34, \"apartments_index\": ...</td>\n      <td>i2500mtd</td>\n    </tr>\n    <tr>\n      <th>14</th>\n      <td>129696_776307</td>\n      <td>i500mtd</td>\n      <td>28.066000</td>\n      <td>3.65</td>\n      <td>{\"affluence_index\": 3.65, \"apartments_index\": ...</td>\n      <td>i500mtd</td>\n    </tr>\n    <tr>\n      <th>15</th>\n      <td>129696_776307</td>\n      <td>i2500mtd</td>\n      <td>89.764000</td>\n      <td>3.33</td>\n      <td>{\"affluence_index\": 3.33, \"apartments_index\": ...</td>\n      <td>i2500mtd</td>\n    </tr>\n    <tr>\n      <th>16</th>\n      <td>130631_776205</td>\n      <td>i15mind</td>\n      <td>77.288000</td>\n      <td>3.43</td>\n      <td>{\"affluence_index\": 3.43, \"apartments_index\": ...</td>\n      <td>i15mind</td>\n    </tr>\n    <tr>\n      <th>17</th>\n      <td>128873_775969</td>\n      <td>i15mind</td>\n      <td>88.578000</td>\n      <td>3.39</td>\n      <td>{\"affluence_index\": 3.39, \"apartments_index\": ...</td>\n      <td>i15mind</td>\n    </tr>\n  </tbody>\n</table>\n</div>"
     },
     "execution_count": 10,
     "metadata": {},
     "output_type": "execute_result"
    }
   ],
   "source": [
    "all_reports[['id','catchment_type','revenue_score','affluence','grouped_indexes','catchment_type']]"
   ],
   "metadata": {
    "collapsed": false,
    "ExecuteTime": {
     "end_time": "2024-02-16T14:28:40.596961282Z",
     "start_time": "2024-02-16T14:28:40.520885269Z"
    }
   },
   "id": "5be9640cf3b8820c",
   "execution_count": 10
  },
  {
   "cell_type": "code",
   "outputs": [],
   "source": [
    "all_reports.to_parquet(\"site_reports.parquet\",index=False)"
   ],
   "metadata": {
    "collapsed": false,
    "ExecuteTime": {
     "end_time": "2024-02-16T08:17:45.563790984Z",
     "start_time": "2024-02-16T08:17:45.180369479Z"
    }
   },
   "id": "2d5fd10b2a1dee23",
   "execution_count": 29
  },
  {
   "cell_type": "code",
   "outputs": [],
   "source": [
    "all_reports=pd.read_parquet(\"site_reports.parquet\")"
   ],
   "metadata": {
    "collapsed": false,
    "ExecuteTime": {
     "end_time": "2024-02-16T08:19:13.647062812Z",
     "start_time": "2024-02-16T08:19:12.574840567Z"
    }
   },
   "id": "48044271d10b93f3",
   "execution_count": 2
  },
  {
   "cell_type": "code",
   "outputs": [
    {
     "data": {
      "text/plain": "(18, 29)"
     },
     "execution_count": 4,
     "metadata": {},
     "output_type": "execute_result"
    }
   ],
   "source": [
    "all_reports.shape"
   ],
   "metadata": {
    "collapsed": false,
    "ExecuteTime": {
     "end_time": "2024-02-16T08:19:29.843476003Z",
     "start_time": "2024-02-16T08:19:29.705753822Z"
    }
   },
   "id": "c05c8bf00681b915",
   "execution_count": 4
  },
  {
   "cell_type": "code",
   "outputs": [
    {
     "data": {
      "text/plain": "{'paths': ['s3://tuzomldev/site_reports/724537ad52654d5d93e9e79056e6b7d8.snappy.parquet'],\n 'partitions_values': {}}"
     },
     "execution_count": 11,
     "metadata": {},
     "output_type": "execute_result"
    }
   ],
   "source": [
    "wr.s3.to_parquet(all_reports, path=\"s3://tuzomldev/site_reports/\", table=\"ind_site_reports_data_v2\", database='datasets_prep',\n",
    "                 dataset=True, mode='overwrite',\n",
    "                 dtype={'report_id': 'string', 'id': 'string', 'site_name': 'string', 'lat': 'double',\n",
    "                        'lng': 'double', 'catchment_type': 'string', 'top_brands': 'string', 'pois': 'string',\n",
    "                        'projects': 'string', 'apartments': 'string', 'median_price': 'string',\n",
    "                        'household_distribution': 'string', 'competition': 'string', 'population': 'string',\n",
    "                        'affluence': 'double', 'avg_cost_for_two': 'double', 'revenue_score': 'double',\n",
    "                        'high_streets': 'string', 'shopping_malls': 'string', 'poi_counts': 'string',\n",
    "                        'projects_counts': 'string', 'created_at': 'bigint', \"companies\": \"string\"})"
   ],
   "metadata": {
    "collapsed": false,
    "ExecuteTime": {
     "end_time": "2024-02-16T14:32:29.834998104Z",
     "start_time": "2024-02-16T14:32:11.714688423Z"
    }
   },
   "id": "2d2884d7b9e23cdd",
   "execution_count": 11
  }
 ],
 "metadata": {
  "kernelspec": {
   "display_name": "Python 3",
   "language": "python",
   "name": "python3"
  },
  "language_info": {
   "codemirror_mode": {
    "name": "ipython",
    "version": 2
   },
   "file_extension": ".py",
   "mimetype": "text/x-python",
   "name": "python",
   "nbconvert_exporter": "python",
   "pygments_lexer": "ipython2",
   "version": "2.7.6"
  }
 },
 "nbformat": 4,
 "nbformat_minor": 5
}
