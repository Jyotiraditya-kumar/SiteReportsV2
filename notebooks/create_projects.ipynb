{
 "cells": [
  {
   "cell_type": "code",
   "execution_count": 1,
   "id": "initial_id",
   "metadata": {
    "ExecuteTime": {
     "end_time": "2024-02-08T07:34:43.415890949Z",
     "start_time": "2024-02-08T07:34:08.130362146Z"
    },
    "collapsed": true
   },
   "outputs": [],
   "source": [
    "import pandas as pd\n",
    "import utils as U\n",
    "import requests"
   ]
  },
  {
   "cell_type": "code",
   "execution_count": 2,
   "id": "5cfe38330f562df5",
   "metadata": {
    "ExecuteTime": {
     "end_time": "2024-02-08T07:50:49.535843792Z",
     "start_time": "2024-02-08T07:50:19.723648028Z"
    },
    "collapsed": false
   },
   "outputs": [
    {
     "name": "stdout",
     "output_type": "stream",
     "text": [
      "{\"project_id\":{\"report_id\":\"f9b43dc5-f8fe-4cb0-b91a-54cbf23de536\",\"id\":\"129342_777438\"}}\n",
      "{\"project_id\":{\"report_id\":\"ba9999e5-b9f2-4eb0-8b71-eec0c9af1930\",\"id\":\"129342_777438\"}}\n",
      "{\"project_id\":{\"report_id\":\"59237f70-29b4-463c-a869-8323df9f54ca\",\"id\":\"128050_776996\"}}\n",
      "{\"project_id\":{\"report_id\":\"df93c3fa-d9ac-46ad-9b8a-d423fb715ae6\",\"id\":\"128050_776996\"}}\n"
     ]
    }
   ],
   "source": [
    "def create_project(lat,lng,name,travel_mode,cost_type,cost):\n",
    "    url=f\"http://127.0.0.1:8000/site_report/create/?lat={lat}&lng={lng}&name={name}&travel_mode={travel_mode}&cost_type={cost_type}&cost={cost}\"\n",
    "    r = requests.get(url)\n",
    "    print(r.text)\n",
    "\n",
    "locations=[(12.934247287987455, 77.7438690876081, 'Orion Utopia'),\n",
    "              (12.805019480136755, 77.69968439147448, 'Orion Valencia')]\n",
    "for location in locations:\n",
    "    lat,lng,name=location\n",
    "    for cf in [('driving','time','15'),('driving','distance','500')]:\n",
    "        travel_mode,cost_type,cost=cf\n",
    "        create_project(lat=lat,lng=lng,name=name,travel_mode=travel_mode,cost_type=cost_type,cost=cost)\n",
    "\n"
   ]
  },
  {
   "cell_type": "code",
   "execution_count": 3,
   "id": "4ffd2cb2ba8c22c9",
   "metadata": {
    "ExecuteTime": {
     "end_time": "2024-02-07T11:17:59.389909087Z",
     "start_time": "2024-02-07T11:17:59.356824542Z"
    },
    "collapsed": false
   },
   "outputs": [
    {
     "data": {
      "text/plain": [
       "<pandas.core.groupby.generic.DataFrameGroupBy object at 0x7f3584febd90>"
      ]
     },
     "execution_count": 3,
     "metadata": {},
     "output_type": "execute_result"
    }
   ],
   "source": [
    "df=pd.DataFrame(columns=['a','b'])\n",
    "df.groupby(['a','b'])"
   ]
  },
  {
   "cell_type": "code",
   "execution_count": 3,
   "id": "904fff3517d9913f",
   "metadata": {
    "ExecuteTime": {
     "end_time": "2024-02-07T09:14:54.078048691Z",
     "start_time": "2024-02-07T09:14:54.039018119Z"
    },
    "collapsed": false
   },
   "outputs": [],
   "source": [
    "all_reports=U.get_all_reports().query(\"catchment_type=='i500mtb'\")\n"
   ]
  },
  {
   "cell_type": "code",
   "execution_count": 6,
   "id": "c69cd9dc6b2d9d31",
   "metadata": {
    "ExecuteTime": {
     "end_time": "2024-02-07T09:31:31.885203767Z",
     "start_time": "2024-02-07T09:31:26.930503711Z"
    },
    "collapsed": false
   },
   "outputs": [
    {
     "name": "stdout",
     "output_type": "stream",
     "text": [
      "13.011026921074786 77.55473637957641 driving distance 500 pk.eyJ1IjoibGFpcjA4MjYiLCJhIjoiY2tkcGoxcnRzMDZvODJxbXk0MWhlcWN2aSJ9.5-yjt_SUq4w5JII7CvD4cA\n",
      "13.0009569 77.6325712 driving distance 500 pk.eyJ1IjoibGFpcjA4MjYiLCJhIjoiY2tkcGoxcnRzMDZvODJxbXk0MWhlcWN2aSJ9.5-yjt_SUq4w5JII7CvD4cA\n",
      "13.0552603 77.7638939 driving distance 500 pk.eyJ1IjoibGFpcjA4MjYiLCJhIjoiY2tkcGoxcnRzMDZvODJxbXk0MWhlcWN2aSJ9.5-yjt_SUq4w5JII7CvD4cA\n",
      "13.06317 77.620569 driving distance 500 pk.eyJ1IjoibGFpcjA4MjYiLCJhIjoiY2tkcGoxcnRzMDZvODJxbXk0MWhlcWN2aSJ9.5-yjt_SUq4w5JII7CvD4cA\n",
      "12.887373 77.596901 driving distance 500 pk.eyJ1IjoibGFpcjA4MjYiLCJhIjoiY2tkcGoxcnRzMDZvODJxbXk0MWhlcWN2aSJ9.5-yjt_SUq4w5JII7CvD4cA\n"
     ]
    }
   ],
   "source": [
    "query = '''UPDATE ind_site_reports_v2\n",
    "SET\n",
    "    geometry=:geometry,\n",
    "    catchment_type=:catchment_type\n",
    "WHERE  id=:id and report_id=:report_id;\n",
    "'''\n",
    "con,cur=U.connect_to_db()\n",
    "for report in all_reports.to_dict('records'):\n",
    "    id=report['id']\n",
    "    report_id=report['report_id']\n",
    "    lat=report['lat']\n",
    "    lng=report['lng']\n",
    "    travel_mode='driving'\n",
    "    cost_type='distance'\n",
    "    cost=500\n",
    "    isochrone_polygon, isochrone_id = U.get_isochrone(lat, lng, travel_mode=travel_mode, cost_type=cost_type,\n",
    "                                                        cost=cost)\n",
    "    query_params=dict(geometry=isochrone_polygon.wkt,catchment_type=isochrone_id,id=id,report_id=report_id)\n",
    "    cur.execute(query,query_params)\n",
    "    con.commit()\n",
    "con.close()\n",
    "    "
   ]
  }
 ],
 "metadata": {
  "kernelspec": {
   "display_name": "Python 3",
   "language": "python",
   "name": "python3"
  },
  "language_info": {
   "codemirror_mode": {
    "name": "ipython",
    "version": 2
   },
   "file_extension": ".py",
   "mimetype": "text/x-python",
   "name": "python",
   "nbconvert_exporter": "python",
   "pygments_lexer": "ipython2",
   "version": "2.7.6"
  }
 },
 "nbformat": 4,
 "nbformat_minor": 5
}
